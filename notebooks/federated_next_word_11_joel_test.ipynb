{
 "cells": [
  {
   "cell_type": "markdown",
   "metadata": {},
   "source": [
    "# Word Level Federated Text Generation with Stack Overflow with Randomly Initialized or Pretrained Word Embeddings\n",
    "- 03-05-20\n",
    "- Runs on GCP and local Ubuntu 16.04\n",
    "\n",
    "**About:**\n",
    "\n",
    "This notebook loads the Stack Overflow data available through `tff.simulation.datasets` and trains an LSTM model with Federared Averaging by following the Federated Learning for Text Generation [example notebook](https://github.com/tensorflow/federated/blob/master/docs/tutorials/federated_learning_for_text_generation.ipynb).  The embedding layer is initialized with one of the following options by setting the `EMBEDDING_LAYER` parameter:\n",
    "- [GloVe](https://nlp.stanford.edu/projects/glove/) ([license here](https://www.opendatacommons.org/licenses/pddl/1.0/))\n",
    "- [FastText](https://fasttext.cc/docs/en/english-vectors.html) ([license here](https://creativecommons.org/licenses/by-sa/3.0/))\n",
    "- [GPT-2](https://openai.com/blog/better-language-models/) ([license here](https://github.com/huggingface/transformers/blob/master/LICENSE))\n",
    "- [Randomly initialized embeddings](https://www.tensorflow.org/api_docs/python/tf/random_uniform_initializer)  \n",
    "\n",
    "After downloading the GloVe or FastText embeddings, place the embedding files at the top level of the repository in directories called `word_embedding/glove` and `word_embedding/fasttext` respectively.  GPT-2 embeddings are downloaded by running the notebook which makes a call to `src/embeddings.py` to download the embeddings from [huggingface](https://github.com/huggingface/transformers).  \n",
    "\n",
    "**Code from Tensorflow Federated:**\n",
    "\n",
    "- This notebook prepares the Stack Overflow dataset for word level language modeling using this [module](https://github.com/tensorflow/federated/blob/master/tensorflow_federated/python/research/baselines/stackoverflow/dataset.py\n",
    ").\n",
    "- The metrics for model training come from this [module](https://github.com/tensorflow/federated/blob/master/tensorflow_federated/python/research/baselines/stackoverflow/metrics.py). \n",
    "\n",
    "\n",
    "**Data and Model References:**\n",
    "- [TFF Stack Overflow `load_data`](https://www.tensorflow.org/federated/api_docs/python/tff/simulation/datasets/stackoverflow/load_data)\n",
    "- [TFF text generation tutorial](https://github.com/tensorflow/federated/blob/master/docs/tutorials/federated_learning_for_text_generation.ipynb)\n",
    "- [Google TFF team research baselines for Stack Overflow](https://github.com/tensorflow/federated/tree/master/tensorflow_federated/python/research/baselines/stackoverflow)\n",
    "- [Tensorflow text generation tutorial](https://www.tensorflow.org/tutorials/text/text_generation)\n",
    "\n",
    "**Environment Setup References:**\n",
    "- [Installing Tensorflow for GPU](https://www.tensorflow.org/install/gpu)\n",
    "- [Install CUDA 10.0 and cuDNN v7.4.2 on Ubuntu 16.04](https://gist.github.com/matheustguimaraes/43e0b65aa534db4df2918f835b9b361d)\n",
    "- [Tensorflow build configs](https://www.tensorflow.org/install/source#tested_build_configurations)\n",
    "- [Using jupyter notebooks with a virtual environment](https://anbasile.github.io/programming/2017/06/25/jupyter-venv/)"
   ]
  },
  {
   "cell_type": "markdown",
   "metadata": {},
   "source": [
    "### Imports"
   ]
  },
  {
   "cell_type": "code",
   "execution_count": 1,
   "metadata": {},
   "outputs": [],
   "source": [
    "import nest_asyncio\n",
    "nest_asyncio.apply()"
   ]
  },
  {
   "cell_type": "code",
   "execution_count": 2,
   "metadata": {},
   "outputs": [],
   "source": [
    "import os, sys, io\n",
    "sys.path.append(os.path.dirname(os.getcwd()))"
   ]
  },
  {
   "cell_type": "code",
   "execution_count": 3,
   "metadata": {},
   "outputs": [],
   "source": [
    "import collections\n",
    "import functools\n",
    "import six\n",
    "import time\n",
    "import string\n",
    "from tqdm import tqdm\n",
    "\n",
    "import numpy as np\n",
    "import matplotlib.pyplot as plt\n",
    "\n",
    "import tensorflow as tf\n",
    "import tensorflow_federated as tff"
   ]
  },
  {
   "cell_type": "code",
   "execution_count": 4,
   "metadata": {},
   "outputs": [],
   "source": [
    "from src import dataset, metrics, embeddings, model, validation, federated, generate_text, transfer_learning"
   ]
  },
  {
   "cell_type": "markdown",
   "metadata": {},
   "source": [
    "### Set Some Parameters for Preprocessing the Data and Training the Model"
   ]
  },
  {
   "cell_type": "code",
   "execution_count": 5,
   "metadata": {},
   "outputs": [],
   "source": [
    "VOCAB_SIZE = 10000\n",
    "BATCH_SIZE = 16\n",
    "CLIENTS_EPOCHS_PER_ROUND = 1\n",
    "MAX_SEQ_LENGTH = 20\n",
    "MAX_ELEMENTS_PER_USER = 5000\n",
    "CENTRALIZED_TRAIN = False\n",
    "SHUFFLE_BUFFER_SIZE = 1000\n",
    "NUM_VALIDATION_EXAMPLES = 20000\n",
    "NUM_TEST_EXAMPLES = 100\n",
    "\n",
    "PRETRAINING_ROUNDS = 30\n",
    "NUM_ROUNDS = 100\n",
    "NUM_TRAIN_CLIENTS = 10\n",
    "\n",
    "EMBEDDING_DIM = 50\n",
    "RNN_UNITS = 128\n",
    "\n",
    "EMBEDDING_LAYER = 'pp_pca_pp_gpt2'\n",
    "SAV = 'embedding_layer_results/pretrainedNet_{}_{}_{}_{}/'.format(EMBEDDING_LAYER, \n",
    "                                                    EMBEDDING_DIM, \n",
    "                                                    RNN_UNITS, \n",
    "                                                    EMBEDDING_DIM)"
   ]
  },
  {
   "cell_type": "markdown",
   "metadata": {},
   "source": [
    "### Create the Output Directory if Nonexistent"
   ]
  },
  {
   "cell_type": "code",
   "execution_count": 6,
   "metadata": {},
   "outputs": [],
   "source": [
    "if not os.path.exists(SAV):\n",
    "    os.makedirs(SAV)"
   ]
  },
  {
   "cell_type": "markdown",
   "metadata": {},
   "source": [
    "### Load and Preprocess Word Level Datasets"
   ]
  },
  {
   "cell_type": "code",
   "execution_count": 7,
   "metadata": {},
   "outputs": [
    {
     "name": "stderr",
     "output_type": "stream",
     "text": [
      "/home/joel_stremmel/anaconda3/envs/tff/lib/python3.7/site-packages/tensorflow_federated/python/simulation/hdf5_client_data.py:64: H5pyDeprecationWarning: dataset.value has been deprecated. Use dataset[()] instead.\n",
      "  collections.OrderedDict((name, ds.value) for name, ds in sorted(\n"
     ]
    }
   ],
   "source": [
    "train_data, val_data, test_data = dataset.construct_word_level_datasets(\n",
    "    vocab_size=VOCAB_SIZE,\n",
    "    batch_size=BATCH_SIZE,\n",
    "    client_epochs_per_round=CLIENTS_EPOCHS_PER_ROUND,\n",
    "    max_seq_len=MAX_SEQ_LENGTH,\n",
    "    max_elements_per_user=MAX_ELEMENTS_PER_USER,\n",
    "    centralized_train=CENTRALIZED_TRAIN,\n",
    "    shuffle_buffer_size=SHUFFLE_BUFFER_SIZE,\n",
    "    num_validation_examples=NUM_VALIDATION_EXAMPLES,\n",
    "    num_test_examples=NUM_TEST_EXAMPLES)"
   ]
  },
  {
   "cell_type": "markdown",
   "metadata": {},
   "source": [
    "### Retrieve the Fine Tunining Dataset Vocab"
   ]
  },
  {
   "cell_type": "code",
   "execution_count": 8,
   "metadata": {},
   "outputs": [],
   "source": [
    "vocab = dataset.get_vocab(vocab_size=VOCAB_SIZE)"
   ]
  },
  {
   "cell_type": "markdown",
   "metadata": {},
   "source": [
    "### Pretrain with a Different Text Corpus by First Reading in the Text Data"
   ]
  },
  {
   "cell_type": "code",
   "execution_count": 9,
   "metadata": {},
   "outputs": [],
   "source": [
    "with open('../../raw_shakespeare_data.txt') as f:\n",
    "    data = f.read()"
   ]
  },
  {
   "cell_type": "markdown",
   "metadata": {},
   "source": [
    "### Create the Pretraining Dataset Vocab"
   ]
  },
  {
   "cell_type": "code",
   "execution_count": 10,
   "metadata": {},
   "outputs": [],
   "source": [
    "word_counts_sp = {}\n",
    "for word in data.split():\n",
    "    word_counts_sp[word] = word_counts_sp.get(word, 0) + 1"
   ]
  },
  {
   "cell_type": "code",
   "execution_count": 11,
   "metadata": {},
   "outputs": [],
   "source": [
    "sorted_word_counts_sp = {k: v for k, v in sorted(word_counts_sp.items(),\n",
    "                         key=lambda item: item[1], reverse=True)}"
   ]
  },
  {
   "cell_type": "code",
   "execution_count": 12,
   "metadata": {},
   "outputs": [],
   "source": [
    "vocab_sp = list(sorted_word_counts_sp.keys())[:VOCAB_SIZE]"
   ]
  },
  {
   "cell_type": "code",
   "execution_count": 13,
   "metadata": {},
   "outputs": [],
   "source": [
    "pad, oov, bos, eos = dataset.get_special_token_words()\n",
    "extended_vocab = [pad] + vocab_sp + [oov, bos, eos]\n",
    "word2idx = {word: i for i, word in enumerate(extended_vocab)}"
   ]
  },
  {
   "cell_type": "code",
   "execution_count": 14,
   "metadata": {},
   "outputs": [],
   "source": [
    "extended_vocab_size = len(extended_vocab)"
   ]
  },
  {
   "cell_type": "markdown",
   "metadata": {},
   "source": [
    "### Encode Words in the Training Dataset"
   ]
  },
  {
   "cell_type": "code",
   "execution_count": 15,
   "metadata": {},
   "outputs": [],
   "source": [
    "encoded = []\n",
    "for word in data.split():\n",
    "    if not word2idx.get(word, None): # return None if not found\n",
    "        encoded.append(0) # 0 is the pad token\n",
    "    else:\n",
    "        encoded.append(word2idx[word])"
   ]
  },
  {
   "cell_type": "code",
   "execution_count": 16,
   "metadata": {},
   "outputs": [],
   "source": [
    "X, Y = [], []\n",
    "for i in range(len(encoded)-1):\n",
    "    X.append(encoded[i])\n",
    "    Y.append(encoded[i + 1])"
   ]
  },
  {
   "cell_type": "code",
   "execution_count": 17,
   "metadata": {},
   "outputs": [],
   "source": [
    "X = np.expand_dims(X, 1)\n",
    "Y = np.expand_dims(Y, 1)"
   ]
  },
  {
   "cell_type": "markdown",
   "metadata": {},
   "source": [
    "### Build the Embedding Matrix"
   ]
  },
  {
   "cell_type": "code",
   "execution_count": 18,
   "metadata": {},
   "outputs": [
    {
     "name": "stderr",
     "output_type": "stream",
     "text": [
      "/home/joel_stremmel/Documents/dev_gear/git/fl-text-models/src/embeddings.py:80: missing_words_warning: 4 words set to default random initialization\n",
      "  .format(missing), missing_words_warning)\n"
     ]
    }
   ],
   "source": [
    "word2embedding = embeddings.create_gpt_embeddings(vocab_sp)\n",
    "word2embedding = embeddings.to_pp_pca_pp_projections(word2embedding, vocab_sp, EMBEDDING_DIM)\n",
    "embedding_matrix = embeddings.create_matrix_from_pretrained_embeddings(\n",
    "        word2embedding=word2embedding,\n",
    "        embedding_dim=EMBEDDING_DIM,\n",
    "        vocab=vocab_sp)"
   ]
  },
  {
   "cell_type": "markdown",
   "metadata": {},
   "source": [
    "### Build the Model"
   ]
  },
  {
   "cell_type": "code",
   "execution_count": 19,
   "metadata": {},
   "outputs": [],
   "source": [
    "keras_model_sp = model.build_model(extended_vocab_size=extended_vocab_size,\n",
    "                                   embedding_dim=EMBEDDING_DIM,\n",
    "                                   embedding_matrix=embedding_matrix,\n",
    "                                   rnn_units=RNN_UNITS)"
   ]
  },
  {
   "cell_type": "markdown",
   "metadata": {},
   "source": [
    "### Compile the Model"
   ]
  },
  {
   "cell_type": "code",
   "execution_count": 20,
   "metadata": {},
   "outputs": [
    {
     "data": {
      "text/plain": [
       "<tensorflow.python.keras.engine.training.Model at 0x7fadf8365410>"
      ]
     },
     "execution_count": 20,
     "metadata": {},
     "output_type": "execute_result"
    }
   ],
   "source": [
    "evaluation_metrics_sp = validation.get_metrics(VOCAB_SIZE)\n",
    "model.compile_model(keras_model_sp, evaluation_metrics_sp)"
   ]
  },
  {
   "cell_type": "code",
   "execution_count": 21,
   "metadata": {},
   "outputs": [
    {
     "name": "stdout",
     "output_type": "stream",
     "text": [
      "Model: \"model\"\n",
      "_________________________________________________________________\n",
      "Layer (type)                 Output Shape              Param #   \n",
      "=================================================================\n",
      "model1_input (InputLayer)    [(None, None)]            0         \n",
      "_________________________________________________________________\n",
      "model1_embedding (Embedding) (None, None, 50)          500200    \n",
      "_________________________________________________________________\n",
      "model1_lstm (LSTM)           (None, None, 128)         91648     \n",
      "_________________________________________________________________\n",
      "dense (Dense)                (None, None, 50)          6450      \n",
      "_________________________________________________________________\n",
      "dense_1 (Dense)              (None, None, 10004)       510204    \n",
      "=================================================================\n",
      "Total params: 1,108,502\n",
      "Trainable params: 1,108,502\n",
      "Non-trainable params: 0\n",
      "_________________________________________________________________\n"
     ]
    }
   ],
   "source": [
    "keras_model_sp.summary()"
   ]
  },
  {
   "cell_type": "markdown",
   "metadata": {},
   "source": [
    "### Train the Model"
   ]
  },
  {
   "cell_type": "code",
   "execution_count": 22,
   "metadata": {},
   "outputs": [
    {
     "name": "stdout",
     "output_type": "stream",
     "text": [
      "Train on 904064 samples\n",
      "Epoch 1/30\n",
      "904064/904064 [==============================] - 202s 223us/sample - loss: 5.1688 - num_tokens: 705808.0000 - num_tokens_no_oov: 705808.0000 - num_batches: 28252.0000 - num_examples: 904064.0000 - accuracy: 0.0632 - accuracy_no_oov: 0.0632 - accuracy_no_oov_no_eos: 0.0632\n",
      "Epoch 2/30\n",
      "904064/904064 [==============================] - 200s 221us/sample - loss: 4.8208 - num_tokens: 705808.0000 - num_tokens_no_oov: 705808.0000 - num_batches: 28252.0000 - num_examples: 904064.0000 - accuracy: 0.0878 - accuracy_no_oov: 0.0878 - accuracy_no_oov_no_eos: 0.0878\n",
      "Epoch 3/30\n",
      "904064/904064 [==============================] - 200s 221us/sample - loss: 4.7419 - num_tokens: 705808.0000 - num_tokens_no_oov: 705808.0000 - num_batches: 28252.0000 - num_examples: 904064.0000 - accuracy: 0.0916 - accuracy_no_oov: 0.0916 - accuracy_no_oov_no_eos: 0.0916\n",
      "Epoch 4/30\n",
      "904064/904064 [==============================] - 200s 221us/sample - loss: 4.6923 - num_tokens: 705808.0000 - num_tokens_no_oov: 705808.0000 - num_batches: 28252.0000 - num_examples: 904064.0000 - accuracy: 0.0932 - accuracy_no_oov: 0.0932 - accuracy_no_oov_no_eos: 0.0932\n",
      "Epoch 5/30\n",
      "904064/904064 [==============================] - 200s 221us/sample - loss: 4.6570 - num_tokens: 705808.0000 - num_tokens_no_oov: 705808.0000 - num_batches: 28252.0000 - num_examples: 904064.0000 - accuracy: 0.0938 - accuracy_no_oov: 0.0938 - accuracy_no_oov_no_eos: 0.0938\n",
      "Epoch 6/30\n",
      "904064/904064 [==============================] - 200s 221us/sample - loss: 4.6302 - num_tokens: 705808.0000 - num_tokens_no_oov: 705808.0000 - num_batches: 28252.0000 - num_examples: 904064.0000 - accuracy: 0.0947 - accuracy_no_oov: 0.0947 - accuracy_no_oov_no_eos: 0.0947\n",
      "Epoch 7/30\n",
      "904064/904064 [==============================] - 200s 221us/sample - loss: 4.6089 - num_tokens: 705808.0000 - num_tokens_no_oov: 705808.0000 - num_batches: 28252.0000 - num_examples: 904064.0000 - accuracy: 0.0945 - accuracy_no_oov: 0.0945 - accuracy_no_oov_no_eos: 0.0945\n",
      "Epoch 8/30\n",
      "904064/904064 [==============================] - 200s 221us/sample - loss: 4.5895 - num_tokens: 705808.0000 - num_tokens_no_oov: 705808.0000 - num_batches: 28252.0000 - num_examples: 904064.0000 - accuracy: 0.0945 - accuracy_no_oov: 0.0945 - accuracy_no_oov_no_eos: 0.0945\n",
      "Epoch 9/30\n",
      "904064/904064 [==============================] - 206s 227us/sample - loss: 4.5714 - num_tokens: 705808.0000 - num_tokens_no_oov: 705808.0000 - num_batches: 28252.0000 - num_examples: 904064.0000 - accuracy: 0.0946 - accuracy_no_oov: 0.0946 - accuracy_no_oov_no_eos: 0.0946\n",
      "Epoch 10/30\n",
      "904064/904064 [==============================] - 208s 230us/sample - loss: 4.5508 - num_tokens: 705808.0000 - num_tokens_no_oov: 705808.0000 - num_batches: 28252.0000 - num_examples: 904064.0000 - accuracy: 0.0950 - accuracy_no_oov: 0.0950 - accuracy_no_oov_no_eos: 0.0950\n",
      "Epoch 11/30\n",
      "904064/904064 [==============================] - 208s 230us/sample - loss: 4.5322 - num_tokens: 705808.0000 - num_tokens_no_oov: 705808.0000 - num_batches: 28252.0000 - num_examples: 904064.0000 - accuracy: 0.0952 - accuracy_no_oov: 0.0952 - accuracy_no_oov_no_eos: 0.0952\n",
      "Epoch 12/30\n",
      "904064/904064 [==============================] - 208s 230us/sample - loss: 4.5209 - num_tokens: 705808.0000 - num_tokens_no_oov: 705808.0000 - num_batches: 28252.0000 - num_examples: 904064.0000 - accuracy: 0.0949 - accuracy_no_oov: 0.0949 - accuracy_no_oov_no_eos: 0.0949\n",
      "Epoch 13/30\n",
      "904064/904064 [==============================] - 208s 230us/sample - loss: 4.5141 - num_tokens: 705808.0000 - num_tokens_no_oov: 705808.0000 - num_batches: 28252.0000 - num_examples: 904064.0000 - accuracy: 0.0951 - accuracy_no_oov: 0.0951 - accuracy_no_oov_no_eos: 0.0951\n",
      "Epoch 14/30\n",
      "904064/904064 [==============================] - 208s 230us/sample - loss: 4.5080 - num_tokens: 705808.0000 - num_tokens_no_oov: 705808.0000 - num_batches: 28252.0000 - num_examples: 904064.0000 - accuracy: 0.0950 - accuracy_no_oov: 0.0950 - accuracy_no_oov_no_eos: 0.0950\n",
      "Epoch 15/30\n",
      "904064/904064 [==============================] - 208s 230us/sample - loss: 4.5043 - num_tokens: 705808.0000 - num_tokens_no_oov: 705808.0000 - num_batches: 28252.0000 - num_examples: 904064.0000 - accuracy: 0.0950 - accuracy_no_oov: 0.0950 - accuracy_no_oov_no_eos: 0.0950\n",
      "Epoch 16/30\n",
      "904064/904064 [==============================] - 208s 230us/sample - loss: 4.5004 - num_tokens: 705808.0000 - num_tokens_no_oov: 705808.0000 - num_batches: 28252.0000 - num_examples: 904064.0000 - accuracy: 0.0949 - accuracy_no_oov: 0.0949 - accuracy_no_oov_no_eos: 0.0949\n",
      "Epoch 17/30\n",
      "904064/904064 [==============================] - 208s 230us/sample - loss: 4.5002 - num_tokens: 705808.0000 - num_tokens_no_oov: 705808.0000 - num_batches: 28252.0000 - num_examples: 904064.0000 - accuracy: 0.0952 - accuracy_no_oov: 0.0952 - accuracy_no_oov_no_eos: 0.0952\n",
      "Epoch 18/30\n",
      "904064/904064 [==============================] - 208s 230us/sample - loss: 4.4993 - num_tokens: 705808.0000 - num_tokens_no_oov: 705808.0000 - num_batches: 28252.0000 - num_examples: 904064.0000 - accuracy: 0.0950 - accuracy_no_oov: 0.0950 - accuracy_no_oov_no_eos: 0.0950\n",
      "Epoch 19/30\n",
      "904064/904064 [==============================] - 208s 230us/sample - loss: 4.4992 - num_tokens: 705808.0000 - num_tokens_no_oov: 705808.0000 - num_batches: 28252.0000 - num_examples: 904064.0000 - accuracy: 0.0946 - accuracy_no_oov: 0.0946 - accuracy_no_oov_no_eos: 0.0946\n",
      "Epoch 20/30\n",
      "904064/904064 [==============================] - 208s 230us/sample - loss: 4.4991 - num_tokens: 705808.0000 - num_tokens_no_oov: 705808.0000 - num_batches: 28252.0000 - num_examples: 904064.0000 - accuracy: 0.0950 - accuracy_no_oov: 0.0950 - accuracy_no_oov_no_eos: 0.0950\n",
      "Epoch 21/30\n",
      "904064/904064 [==============================] - 209s 231us/sample - loss: 4.4990 - num_tokens: 705808.0000 - num_tokens_no_oov: 705808.0000 - num_batches: 28252.0000 - num_examples: 904064.0000 - accuracy: 0.0949 - accuracy_no_oov: 0.0949 - accuracy_no_oov_no_eos: 0.0949\n",
      "Epoch 22/30\n",
      "904064/904064 [==============================] - 209s 231us/sample - loss: 4.4982 - num_tokens: 705808.0000 - num_tokens_no_oov: 705808.0000 - num_batches: 28252.0000 - num_examples: 904064.0000 - accuracy: 0.0950 - accuracy_no_oov: 0.0950 - accuracy_no_oov_no_eos: 0.0950\n",
      "Epoch 23/30\n",
      "904064/904064 [==============================] - 208s 231us/sample - loss: 4.4973 - num_tokens: 705808.0000 - num_tokens_no_oov: 705808.0000 - num_batches: 28252.0000 - num_examples: 904064.0000 - accuracy: 0.0948 - accuracy_no_oov: 0.0948 - accuracy_no_oov_no_eos: 0.0948\n",
      "Epoch 24/30\n",
      "904064/904064 [==============================] - 208s 231us/sample - loss: 4.4962 - num_tokens: 705808.0000 - num_tokens_no_oov: 705808.0000 - num_batches: 28252.0000 - num_examples: 904064.0000 - accuracy: 0.0948 - accuracy_no_oov: 0.0948 - accuracy_no_oov_no_eos: 0.0948\n",
      "Epoch 25/30\n",
      "904064/904064 [==============================] - 209s 231us/sample - loss: 4.4954 - num_tokens: 705808.0000 - num_tokens_no_oov: 705808.0000 - num_batches: 28252.0000 - num_examples: 904064.0000 - accuracy: 0.0949 - accuracy_no_oov: 0.0949 - accuracy_no_oov_no_eos: 0.0949\n",
      "Epoch 26/30\n",
      "904064/904064 [==============================] - 209s 231us/sample - loss: 4.4948 - num_tokens: 705808.0000 - num_tokens_no_oov: 705808.0000 - num_batches: 28252.0000 - num_examples: 904064.0000 - accuracy: 0.0949 - accuracy_no_oov: 0.0949 - accuracy_no_oov_no_eos: 0.0949\n",
      "Epoch 27/30\n",
      "904064/904064 [==============================] - 207s 229us/sample - loss: 4.4942 - num_tokens: 705808.0000 - num_tokens_no_oov: 705808.0000 - num_batches: 28252.0000 - num_examples: 904064.0000 - accuracy: 0.0950 - accuracy_no_oov: 0.0950 - accuracy_no_oov_no_eos: 0.0950\n",
      "Epoch 28/30\n",
      "904064/904064 [==============================] - 200s 221us/sample - loss: 4.4930 - num_tokens: 705808.0000 - num_tokens_no_oov: 705808.0000 - num_batches: 28252.0000 - num_examples: 904064.0000 - accuracy: 0.0951 - accuracy_no_oov: 0.0951 - accuracy_no_oov_no_eos: 0.0951\n",
      "Epoch 29/30\n"
     ]
    },
    {
     "name": "stdout",
     "output_type": "stream",
     "text": [
      "904064/904064 [==============================] - 199s 220us/sample - loss: 4.4943 - num_tokens: 705808.0000 - num_tokens_no_oov: 705808.0000 - num_batches: 28252.0000 - num_examples: 904064.0000 - accuracy: 0.0954 - accuracy_no_oov: 0.0954 - accuracy_no_oov_no_eos: 0.0954\n",
      "Epoch 30/30\n",
      "904064/904064 [==============================] - 199s 220us/sample - loss: 4.4928 - num_tokens: 705808.0000 - num_tokens_no_oov: 705808.0000 - num_batches: 28252.0000 - num_examples: 904064.0000 - accuracy: 0.0955 - accuracy_no_oov: 0.0955 - accuracy_no_oov_no_eos: 0.0955\n"
     ]
    }
   ],
   "source": [
    "history = keras_model_sp.fit(X, Y, epochs=PRETRAINING_ROUNDS)"
   ]
  },
  {
   "cell_type": "markdown",
   "metadata": {},
   "source": [
    "### Create Embedding Matrix from Words in Word Index and Word Embeddings\n",
    "If the `EMBEDDING_LAYER` option is set to 'random', the embedding matrix in the embedding layer is initialized according to the random uniform distribution used by the tf.keras embedding layer by passing the 'uniform' string as an argument to the `embedding_initializer` in the `build_model` function.  Otherwise, an embedding index called `word2embedding` is created from pretrained embeddings either loaded from the 'word_embeddings' directory or created from a pretrained model."
   ]
  },
  {
   "cell_type": "code",
   "execution_count": 23,
   "metadata": {},
   "outputs": [],
   "source": [
    "if EMBEDDING_LAYER == 'random':\n",
    "    pass\n",
    "\n",
    "elif EMBEDDING_LAYER == 'glove':\n",
    "    embedding_path = '../word_embeddings/glove/glove.6B.{}d.txt'.format(EMBEDDING_DIM)\n",
    "    word2embedding = embeddings.load_embeddings(embedding_path)\n",
    "    \n",
    "elif EMBEDDING_LAYER == 'fasttext':\n",
    "    embedding_path = '../word_embeddings/fasttext/wiki-news-300d-1M.vec'\n",
    "    word2embedding = embeddings.load_embeddings(embedding_path)\n",
    "    \n",
    "elif EMBEDDING_LAYER == 'pca_fasttext':\n",
    "    embedding_path = '../word_embeddings/fasttext/wiki-news-300d-1M.vec'\n",
    "    word2embedding = embeddings.load_embeddings(embedding_path)\n",
    "    word2embedding = embeddings.to_pca_projections(word2embedding, vocab, EMBEDDING_DIM)\n",
    "\n",
    "elif EMBEDDING_LAYER == 'pp_pca_pp_fasttext':\n",
    "    embedding_path = '../word_embeddings/fasttext/wiki-news-300d-1M.vec'\n",
    "    word2embedding = embeddings.load_embeddings(embedding_path)\n",
    "    word2embedding = embeddings.to_pp_pca_pp_projections(word2embedding, vocab, EMBEDDING_DIM)\n",
    "    \n",
    "elif EMBEDDING_LAYER == 'gpt2':\n",
    "    word2embedding = embeddings.create_gpt_embeddings(vocab)\n",
    "    word2embedding = embeddings.to_pca_projections(word2embedding, vocab, EMBEDDING_DIM)\n",
    "\n",
    "elif EMBEDDING_LAYER == 'pca_gpt2':\n",
    "    word2embedding = embeddings.create_gpt_embeddings(vocab)\n",
    "    word2embedding = embeddings.to_pca_projections(word2embedding, vocab, EMBEDDING_DIM)\n",
    "\n",
    "elif EMBEDDING_LAYER == 'pp_pca_pp_gpt2':\n",
    "    word2embedding = embeddings.create_gpt_embeddings(vocab)\n",
    "    word2embedding = embeddings.to_pp_pca_pp_projections(word2embedding, vocab, EMBEDDING_DIM)\n",
    "    \n",
    "else:\n",
    "    layer_opts = ['random', 'glove',\n",
    "                  'fasttext', 'pca_fasttext', 'pp_pca_pp_fasttext', \n",
    "                  'gpt2', 'pca_gpt2', 'pp_pca_pp_gpt2']\n",
    "    \n",
    "    raise ValueError(\"EMBEDDING LAYER must be in {}.\".format(layer_opts))"
   ]
  },
  {
   "cell_type": "code",
   "execution_count": 24,
   "metadata": {},
   "outputs": [
    {
     "name": "stderr",
     "output_type": "stream",
     "text": [
      "/home/joel_stremmel/Documents/dev_gear/git/fl-text-models/src/embeddings.py:80: missing_words_warning: 5 words set to default random initialization\n",
      "  .format(missing), missing_words_warning)\n"
     ]
    }
   ],
   "source": [
    "if EMBEDDING_LAYER == 'random':\n",
    "    embedding_matrix = 'uniform'\n",
    "else:\n",
    "    embedding_matrix = embeddings.create_matrix_from_pretrained_embeddings(\n",
    "        word2embedding=word2embedding,\n",
    "        embedding_dim=EMBEDDING_DIM,\n",
    "        vocab=vocab)"
   ]
  },
  {
   "cell_type": "markdown",
   "metadata": {},
   "source": [
    "### Create TFF Version of the Model to be Trained with Federated Averaging\n",
    "- TFF uses a sample batch so it knows the types and shapes that your model expects.\n",
    "- The model function then builds and compiles the model and creates a TFF version to be trained."
   ]
  },
  {
   "cell_type": "code",
   "execution_count": 25,
   "metadata": {},
   "outputs": [
    {
     "name": "stderr",
     "output_type": "stream",
     "text": [
      "/home/joel_stremmel/anaconda3/envs/tff/lib/python3.7/site-packages/tensorflow_federated/python/simulation/hdf5_client_data.py:64: H5pyDeprecationWarning: dataset.value has been deprecated. Use dataset[()] instead.\n",
      "  collections.OrderedDict((name, ds.value) for name, ds in sorted(\n"
     ]
    }
   ],
   "source": [
    "sample_batch = tf.nest.map_structure(lambda x: x.numpy(), next(iter(val_data)))"
   ]
  },
  {
   "cell_type": "markdown",
   "metadata": {},
   "source": [
    "### Initialize Train and Validation Model Trackers to be Used Below"
   ]
  },
  {
   "cell_type": "code",
   "execution_count": 26,
   "metadata": {},
   "outputs": [],
   "source": [
    "PRETRAINING_ROUNDSevaluation_metric_names = ['loss',\n",
    "                           'num_tokens',\n",
    "                           'num_tokens_no_oov',\n",
    "                           'num_batches',\n",
    "                           'num_examples',\n",
    "                           'accuracy',\n",
    "                           'accuracy_no_oov',\n",
    "                           'accuracy_no_oov_no_oes']\n",
    "\n",
    "train_metrics_tracker = validation.model_history_tracker(metric_names=evaluation_metric_names)\n",
    "val_metrics_tracker = validation.model_history_tracker(metric_names=evaluation_metric_names)"
   ]
  },
  {
   "cell_type": "markdown",
   "metadata": {},
   "source": [
    "### Create an Iterative Process"
   ]
  },
  {
   "cell_type": "code",
   "execution_count": 27,
   "metadata": {},
   "outputs": [
    {
     "name": "stdout",
     "output_type": "stream",
     "text": [
      "WARNING:tensorflow:From /home/joel_stremmel/anaconda3/envs/tff/lib/python3.7/site-packages/tensorflow_core/python/ops/resource_variable_ops.py:1635: calling BaseResourceVariable.__init__ (from tensorflow.python.ops.resource_variable_ops) with constraint is deprecated and will be removed in a future version.\n",
      "Instructions for updating:\n",
      "If using Keras pass *_constraint arguments to layers.\n"
     ]
    },
    {
     "name": "stderr",
     "output_type": "stream",
     "text": [
      "/home/joel_stremmel/anaconda3/envs/tff/lib/python3.7/site-packages/tensorflow_federated/python/learning/federated_averaging.py:242: UserWarning: tff.learning.build_federated_averaging_process will start requiring a new argument 'client_optimizer_fn'. Specify the local client optimizer here rather than building a ttf.learning.TrainableModel\n",
      "  warnings.warn('tff.learning.build_federated_averaging_process will start '\n"
     ]
    }
   ],
   "source": [
    "iterative_process = (\n",
    "      tff.learning.federated_averaging.build_federated_averaging_process(\n",
    "          model_fn=lambda : model.model_fn(extended_vocab_size=extended_vocab_size,\n",
    "                                           embedding_dim=EMBEDDING_DIM,\n",
    "                                           embedding_matrix=embedding_matrix,\n",
    "                                           rnn_units=RNN_UNITS,\n",
    "                                           vocab_size=VOCAB_SIZE,\n",
    "                                           sample_batch=sample_batch),\n",
    "          server_optimizer_fn=federated.server_optimizer_fn,\n",
    "          client_weight_fn=federated.client_weight_fn))"
   ]
  },
  {
   "cell_type": "markdown",
   "metadata": {},
   "source": [
    "### Following is the step where the transfer learning actually takes place"
   ]
  },
  {
   "cell_type": "code",
   "execution_count": 28,
   "metadata": {},
   "outputs": [],
   "source": [
    "server_state = transfer_learning.learn_from_pretrained_model(iterative_process, keras_model_sp)"
   ]
  },
  {
   "cell_type": "markdown",
   "metadata": {},
   "source": [
    "### Train Model Across Many Randomly Sampled Clients with Federated Averaging"
   ]
  },
  {
   "cell_type": "code",
   "execution_count": 29,
   "metadata": {
    "scrolled": false
   },
   "outputs": [
    {
     "name": "stderr",
     "output_type": "stream",
     "text": [
      "\r",
      "  0%|          | 0/100 [00:00<?, ?it/s]"
     ]
    },
    {
     "name": "stdout",
     "output_type": "stream",
     "text": [
      "Evaluating before round #0 on 20000 examples.\n"
     ]
    },
    {
     "name": "stderr",
     "output_type": "stream",
     "text": [
      "/home/joel_stremmel/anaconda3/envs/tff/lib/python3.7/site-packages/tensorflow_federated/python/simulation/hdf5_client_data.py:64: H5pyDeprecationWarning: dataset.value has been deprecated. Use dataset[()] instead.\n",
      "  collections.OrderedDict((name, ds.value) for name, ds in sorted(\n"
     ]
    },
    {
     "name": "stdout",
     "output_type": "stream",
     "text": [
      "    200/Unknown - 21s 105ms/step - loss: 6.7645 - num_tokens: 259111.0000 - num_tokens_no_oov: 251670.0000 - num_batches: 200.0000 - num_examples: 20000.0000 - accuracy: 0.0091 - accuracy_no_oov: 0.0094 - accuracy_no_oov_no_eos: 0.0100\n",
      "Saving model weights at iteration: 0\n",
      "\n",
      "Sampling 10 new clients.\n"
     ]
    },
    {
     "name": "stderr",
     "output_type": "stream",
     "text": [
      "\r",
      "  1%|          | 1/100 [00:38<1:03:31, 38.49s/it]"
     ]
    },
    {
     "name": "stdout",
     "output_type": "stream",
     "text": [
      "Round: 0\n",
      "   Loss: 7.15256023\n",
      "   num_batches: 114\n",
      "   num_examples: 1741\n",
      "   num_tokens: 22178\n",
      "   num_tokens_no_oov: 21641\n",
      "   accuracy: 0.00785\n",
      "   accuracy_no_oov: 0.00804\n",
      "Evaluating before round #1 on 20000 examples.\n"
     ]
    },
    {
     "name": "stderr",
     "output_type": "stream",
     "text": [
      "/home/joel_stremmel/anaconda3/envs/tff/lib/python3.7/site-packages/tensorflow_federated/python/simulation/hdf5_client_data.py:64: H5pyDeprecationWarning: dataset.value has been deprecated. Use dataset[()] instead.\n",
      "  collections.OrderedDict((name, ds.value) for name, ds in sorted(\n"
     ]
    },
    {
     "name": "stdout",
     "output_type": "stream",
     "text": [
      "    200/Unknown - 21s 104ms/step - loss: 7.0083 - num_tokens: 269582.0000 - num_tokens_no_oov: 260515.0000 - num_batches: 200.0000 - num_examples: 20000.0000 - accuracy: 0.0117 - accuracy_no_oov: 0.0121 - accuracy_no_oov_no_eos: 0.0128\n",
      "Saving model weights at iteration: 1\n",
      "\n",
      "Sampling 10 new clients.\n"
     ]
    },
    {
     "name": "stderr",
     "output_type": "stream",
     "text": [
      "\r",
      "  2%|▏         | 2/100 [01:19<1:04:01, 39.19s/it]"
     ]
    },
    {
     "name": "stdout",
     "output_type": "stream",
     "text": [
      "Round: 1\n",
      "   Loss: 6.52711296\n",
      "   num_batches: 247\n",
      "   num_examples: 3877\n",
      "   num_tokens: 49845\n",
      "   num_tokens_no_oov: 48362\n",
      "   accuracy: 0.00662\n",
      "   accuracy_no_oov: 0.00682\n",
      "Evaluating before round #2 on 20000 examples.\n"
     ]
    },
    {
     "name": "stderr",
     "output_type": "stream",
     "text": [
      "/home/joel_stremmel/anaconda3/envs/tff/lib/python3.7/site-packages/tensorflow_federated/python/simulation/hdf5_client_data.py:64: H5pyDeprecationWarning: dataset.value has been deprecated. Use dataset[()] instead.\n",
      "  collections.OrderedDict((name, ds.value) for name, ds in sorted(\n"
     ]
    },
    {
     "name": "stdout",
     "output_type": "stream",
     "text": [
      "    200/Unknown - 21s 107ms/step - loss: 6.7871 - num_tokens: 265322.0000 - num_tokens_no_oov: 256916.0000 - num_batches: 200.0000 - num_examples: 20000.0000 - accuracy: 0.0096 - accuracy_no_oov: 0.0099 - accuracy_no_oov_no_eos: 0.0105\n",
      "Sampling 10 new clients.\n"
     ]
    },
    {
     "name": "stderr",
     "output_type": "stream",
     "text": [
      "\r",
      "  3%|▎         | 3/100 [02:01<1:04:51, 40.12s/it]"
     ]
    },
    {
     "name": "stdout",
     "output_type": "stream",
     "text": [
      "Round: 2\n",
      "   Loss: 6.19001675\n",
      "   num_batches: 262\n",
      "   num_examples: 4109\n",
      "   num_tokens: 50445\n",
      "   num_tokens_no_oov: 48953\n",
      "   accuracy: 0.00624\n",
      "   accuracy_no_oov: 0.00643\n",
      "Evaluating before round #3 on 20000 examples.\n"
     ]
    },
    {
     "name": "stderr",
     "output_type": "stream",
     "text": [
      "/home/joel_stremmel/anaconda3/envs/tff/lib/python3.7/site-packages/tensorflow_federated/python/simulation/hdf5_client_data.py:64: H5pyDeprecationWarning: dataset.value has been deprecated. Use dataset[()] instead.\n",
      "  collections.OrderedDict((name, ds.value) for name, ds in sorted(\n"
     ]
    },
    {
     "name": "stdout",
     "output_type": "stream",
     "text": [
      "    200/Unknown - 21s 106ms/step - loss: 6.8128 - num_tokens: 269299.0000 - num_tokens_no_oov: 260399.0000 - num_batches: 200.0000 - num_examples: 20000.0000 - accuracy: 0.0100 - accuracy_no_oov: 0.0103 - accuracy_no_oov_no_eos: 0.0110\n",
      "Sampling 10 new clients.\n"
     ]
    },
    {
     "name": "stderr",
     "output_type": "stream",
     "text": [
      "\r",
      "  4%|▍         | 4/100 [02:43<1:05:14, 40.78s/it]"
     ]
    },
    {
     "name": "stdout",
     "output_type": "stream",
     "text": [
      "Round: 3\n",
      "   Loss: 6.38998747\n",
      "   num_batches: 229\n",
      "   num_examples: 3628\n",
      "   num_tokens: 51195\n",
      "   num_tokens_no_oov: 50041\n",
      "   accuracy: 0.01768\n",
      "   accuracy_no_oov: 0.01809\n",
      "Evaluating before round #4 on 20000 examples.\n"
     ]
    },
    {
     "name": "stderr",
     "output_type": "stream",
     "text": [
      "/home/joel_stremmel/anaconda3/envs/tff/lib/python3.7/site-packages/tensorflow_federated/python/simulation/hdf5_client_data.py:64: H5pyDeprecationWarning: dataset.value has been deprecated. Use dataset[()] instead.\n",
      "  collections.OrderedDict((name, ds.value) for name, ds in sorted(\n"
     ]
    },
    {
     "name": "stdout",
     "output_type": "stream",
     "text": [
      "    200/Unknown - 22s 111ms/step - loss: 6.4975 - num_tokens: 259046.0000 - num_tokens_no_oov: 251498.0000 - num_batches: 200.0000 - num_examples: 20000.0000 - accuracy: 0.0098 - accuracy_no_oov: 0.0101 - accuracy_no_oov_no_eos: 0.0107\n",
      "Sampling 10 new clients.\n"
     ]
    },
    {
     "name": "stderr",
     "output_type": "stream",
     "text": [
      "\r",
      "  5%|▌         | 5/100 [03:26<1:05:25, 41.32s/it]"
     ]
    },
    {
     "name": "stdout",
     "output_type": "stream",
     "text": [
      "Round: 4\n",
      "   Loss: 5.95452166\n",
      "   num_batches: 243\n",
      "   num_examples: 3792\n",
      "   num_tokens: 49267\n",
      "   num_tokens_no_oov: 47864\n",
      "   accuracy: 0.02172\n",
      "   accuracy_no_oov: 0.02236\n",
      "Evaluating before round #5 on 20000 examples.\n"
     ]
    },
    {
     "name": "stderr",
     "output_type": "stream",
     "text": [
      "/home/joel_stremmel/anaconda3/envs/tff/lib/python3.7/site-packages/tensorflow_federated/python/simulation/hdf5_client_data.py:64: H5pyDeprecationWarning: dataset.value has been deprecated. Use dataset[()] instead.\n",
      "  collections.OrderedDict((name, ds.value) for name, ds in sorted(\n"
     ]
    },
    {
     "name": "stdout",
     "output_type": "stream",
     "text": [
      "    200/Unknown - 21s 104ms/step - loss: 7.0192 - num_tokens: 289238.0000 - num_tokens_no_oov: 280821.0000 - num_batches: 200.0000 - num_examples: 20000.0000 - accuracy: 0.0103 - accuracy_no_oov: 0.0106 - accuracy_no_oov_no_eos: 0.0111\n",
      "Sampling 10 new clients.\n"
     ]
    },
    {
     "name": "stderr",
     "output_type": "stream",
     "text": [
      "\r",
      "  6%|▌         | 6/100 [04:03<1:02:40, 40.01s/it]"
     ]
    },
    {
     "name": "stdout",
     "output_type": "stream",
     "text": [
      "Round: 5\n",
      "   Loss: 6.94250202\n",
      "   num_batches: 79\n",
      "   num_examples: 1195\n",
      "   num_tokens: 15727\n",
      "   num_tokens_no_oov: 15335\n",
      "   accuracy: 0.00744\n",
      "   accuracy_no_oov: 0.00763\n",
      "Evaluating before round #6 on 20000 examples.\n"
     ]
    },
    {
     "name": "stderr",
     "output_type": "stream",
     "text": [
      "/home/joel_stremmel/anaconda3/envs/tff/lib/python3.7/site-packages/tensorflow_federated/python/simulation/hdf5_client_data.py:64: H5pyDeprecationWarning: dataset.value has been deprecated. Use dataset[()] instead.\n",
      "  collections.OrderedDict((name, ds.value) for name, ds in sorted(\n"
     ]
    },
    {
     "name": "stdout",
     "output_type": "stream",
     "text": [
      "    200/Unknown - 23s 113ms/step - loss: 6.5934 - num_tokens: 266662.0000 - num_tokens_no_oov: 257783.0000 - num_batches: 200.0000 - num_examples: 20000.0000 - accuracy: 0.0096 - accuracy_no_oov: 0.0099 - accuracy_no_oov_no_eos: 0.0105\n",
      "Sampling 10 new clients.\n"
     ]
    },
    {
     "name": "stderr",
     "output_type": "stream",
     "text": [
      "\r",
      "  7%|▋         | 7/100 [04:46<1:03:13, 40.79s/it]"
     ]
    },
    {
     "name": "stdout",
     "output_type": "stream",
     "text": [
      "Round: 6\n",
      "   Loss: 6.11757183\n",
      "   num_batches: 259\n",
      "   num_examples: 4071\n",
      "   num_tokens: 52517\n",
      "   num_tokens_no_oov: 51180\n",
      "   accuracy: 0.00697\n",
      "   accuracy_no_oov: 0.00715\n",
      "Evaluating before round #7 on 20000 examples.\n"
     ]
    },
    {
     "name": "stderr",
     "output_type": "stream",
     "text": [
      "/home/joel_stremmel/anaconda3/envs/tff/lib/python3.7/site-packages/tensorflow_federated/python/simulation/hdf5_client_data.py:64: H5pyDeprecationWarning: dataset.value has been deprecated. Use dataset[()] instead.\n",
      "  collections.OrderedDict((name, ds.value) for name, ds in sorted(\n"
     ]
    },
    {
     "name": "stdout",
     "output_type": "stream",
     "text": [
      "    200/Unknown - 22s 109ms/step - loss: 6.5366 - num_tokens: 267684.0000 - num_tokens_no_oov: 259920.0000 - num_batches: 200.0000 - num_examples: 20000.0000 - accuracy: 0.0095 - accuracy_no_oov: 0.0097 - accuracy_no_oov_no_eos: 0.0103\n",
      "Sampling 10 new clients.\n"
     ]
    },
    {
     "name": "stderr",
     "output_type": "stream",
     "text": [
      "\r",
      "  8%|▊         | 8/100 [05:37<1:07:38, 44.11s/it]"
     ]
    },
    {
     "name": "stdout",
     "output_type": "stream",
     "text": [
      "Round: 7\n",
      "   Loss: 3.90115666\n",
      "   num_batches: 537\n",
      "   num_examples: 8520\n",
      "   num_tokens: 85803\n",
      "   num_tokens_no_oov: 83200\n",
      "   accuracy: 0.07353\n",
      "   accuracy_no_oov: 0.07548\n",
      "Evaluating before round #8 on 20000 examples.\n"
     ]
    },
    {
     "name": "stderr",
     "output_type": "stream",
     "text": [
      "/home/joel_stremmel/anaconda3/envs/tff/lib/python3.7/site-packages/tensorflow_federated/python/simulation/hdf5_client_data.py:64: H5pyDeprecationWarning: dataset.value has been deprecated. Use dataset[()] instead.\n",
      "  collections.OrderedDict((name, ds.value) for name, ds in sorted(\n"
     ]
    },
    {
     "name": "stdout",
     "output_type": "stream",
     "text": [
      "    200/Unknown - 22s 108ms/step - loss: 6.4978 - num_tokens: 268007.0000 - num_tokens_no_oov: 260045.0000 - num_batches: 200.0000 - num_examples: 20000.0000 - accuracy: 0.0093 - accuracy_no_oov: 0.0095 - accuracy_no_oov_no_eos: 0.0101\n",
      "Sampling 10 new clients.\n"
     ]
    },
    {
     "name": "stderr",
     "output_type": "stream",
     "text": [
      "\r",
      "  9%|▉         | 9/100 [06:27<1:09:27, 45.80s/it]"
     ]
    },
    {
     "name": "stdout",
     "output_type": "stream",
     "text": [
      "Round: 8\n",
      "   Loss: 5.26324892\n",
      "   num_batches: 459\n",
      "   num_examples: 7271\n",
      "   num_tokens: 99968\n",
      "   num_tokens_no_oov: 96865\n",
      "   accuracy: 0.06260\n",
      "   accuracy_no_oov: 0.06286\n",
      "Evaluating before round #9 on 20000 examples.\n"
     ]
    },
    {
     "name": "stderr",
     "output_type": "stream",
     "text": [
      "/home/joel_stremmel/anaconda3/envs/tff/lib/python3.7/site-packages/tensorflow_federated/python/simulation/hdf5_client_data.py:64: H5pyDeprecationWarning: dataset.value has been deprecated. Use dataset[()] instead.\n",
      "  collections.OrderedDict((name, ds.value) for name, ds in sorted(\n"
     ]
    },
    {
     "name": "stdout",
     "output_type": "stream",
     "text": [
      "    200/Unknown - 23s 114ms/step - loss: 6.4268 - num_tokens: 265600.0000 - num_tokens_no_oov: 257214.0000 - num_batches: 200.0000 - num_examples: 20000.0000 - accuracy: 0.0092 - accuracy_no_oov: 0.0095 - accuracy_no_oov_no_eos: 0.0101\n",
      "Sampling 10 new clients.\n"
     ]
    },
    {
     "name": "stderr",
     "output_type": "stream",
     "text": [
      "\r",
      " 10%|█         | 10/100 [07:13<1:08:31, 45.68s/it]"
     ]
    },
    {
     "name": "stdout",
     "output_type": "stream",
     "text": [
      "Round: 9\n",
      "   Loss: 6.05551338\n",
      "   num_batches: 326\n",
      "   num_examples: 5138\n",
      "   num_tokens: 71968\n",
      "   num_tokens_no_oov: 70053\n",
      "   accuracy: 0.01127\n",
      "   accuracy_no_oov: 0.01158\n",
      "Evaluating before round #10 on 20000 examples.\n"
     ]
    },
    {
     "name": "stderr",
     "output_type": "stream",
     "text": [
      "/home/joel_stremmel/anaconda3/envs/tff/lib/python3.7/site-packages/tensorflow_federated/python/simulation/hdf5_client_data.py:64: H5pyDeprecationWarning: dataset.value has been deprecated. Use dataset[()] instead.\n",
      "  collections.OrderedDict((name, ds.value) for name, ds in sorted(\n"
     ]
    },
    {
     "name": "stdout",
     "output_type": "stream",
     "text": [
      "    200/Unknown - 21s 107ms/step - loss: 6.5358 - num_tokens: 274206.0000 - num_tokens_no_oov: 265440.0000 - num_batches: 200.0000 - num_examples: 20000.0000 - accuracy: 0.0104 - accuracy_no_oov: 0.0107 - accuracy_no_oov_no_eos: 0.0113\n",
      "Sampling 10 new clients.\n"
     ]
    },
    {
     "name": "stderr",
     "output_type": "stream",
     "text": [
      "\r",
      " 11%|█         | 11/100 [07:53<1:05:28, 44.14s/it]"
     ]
    },
    {
     "name": "stdout",
     "output_type": "stream",
     "text": [
      "Round: 10\n",
      "   Loss: 5.83645439\n",
      "   num_batches: 213\n",
      "   num_examples: 3320\n",
      "   num_tokens: 40948\n",
      "   num_tokens_no_oov: 39861\n",
      "   accuracy: 0.00535\n",
      "   accuracy_no_oov: 0.00549\n",
      "Evaluating before round #11 on 20000 examples.\n"
     ]
    },
    {
     "name": "stderr",
     "output_type": "stream",
     "text": [
      "/home/joel_stremmel/anaconda3/envs/tff/lib/python3.7/site-packages/tensorflow_federated/python/simulation/hdf5_client_data.py:64: H5pyDeprecationWarning: dataset.value has been deprecated. Use dataset[()] instead.\n",
      "  collections.OrderedDict((name, ds.value) for name, ds in sorted(\n"
     ]
    },
    {
     "name": "stdout",
     "output_type": "stream",
     "text": [
      "    200/Unknown - 21s 106ms/step - loss: 6.3014 - num_tokens: 265679.0000 - num_tokens_no_oov: 256478.0000 - num_batches: 200.0000 - num_examples: 20000.0000 - accuracy: 0.0099 - accuracy_no_oov: 0.0102 - accuracy_no_oov_no_eos: 0.0108\n",
      "Sampling 10 new clients.\n"
     ]
    },
    {
     "name": "stderr",
     "output_type": "stream",
     "text": [
      "\r",
      " 12%|█▏        | 12/100 [08:38<1:04:56, 44.27s/it]"
     ]
    },
    {
     "name": "stdout",
     "output_type": "stream",
     "text": [
      "Round: 11\n",
      "   Loss: 5.84565496\n",
      "   num_batches: 342\n",
      "   num_examples: 5374\n",
      "   num_tokens: 72703\n",
      "   num_tokens_no_oov: 70050\n",
      "   accuracy: 0.01752\n",
      "   accuracy_no_oov: 0.01812\n",
      "Evaluating before round #12 on 20000 examples.\n"
     ]
    },
    {
     "name": "stderr",
     "output_type": "stream",
     "text": [
      "/home/joel_stremmel/anaconda3/envs/tff/lib/python3.7/site-packages/tensorflow_federated/python/simulation/hdf5_client_data.py:64: H5pyDeprecationWarning: dataset.value has been deprecated. Use dataset[()] instead.\n",
      "  collections.OrderedDict((name, ds.value) for name, ds in sorted(\n"
     ]
    },
    {
     "name": "stdout",
     "output_type": "stream",
     "text": [
      "    200/Unknown - 22s 110ms/step - loss: 6.1910 - num_tokens: 262423.0000 - num_tokens_no_oov: 254473.0000 - num_batches: 200.0000 - num_examples: 20000.0000 - accuracy: 0.0053 - accuracy_no_oov: 0.0054 - accuracy_no_oov_no_eos: 0.0058\n",
      "Sampling 10 new clients.\n"
     ]
    },
    {
     "name": "stderr",
     "output_type": "stream",
     "text": [
      "\r",
      " 13%|█▎        | 13/100 [09:21<1:03:37, 43.88s/it]"
     ]
    },
    {
     "name": "stdout",
     "output_type": "stream",
     "text": [
      "Round: 12\n",
      "   Loss: 5.68998480\n",
      "   num_batches: 248\n",
      "   num_examples: 3891\n",
      "   num_tokens: 49843\n",
      "   num_tokens_no_oov: 48414\n",
      "   accuracy: 0.00921\n",
      "   accuracy_no_oov: 0.00948\n",
      "Evaluating before round #13 on 20000 examples.\n"
     ]
    },
    {
     "name": "stderr",
     "output_type": "stream",
     "text": [
      "/home/joel_stremmel/anaconda3/envs/tff/lib/python3.7/site-packages/tensorflow_federated/python/simulation/hdf5_client_data.py:64: H5pyDeprecationWarning: dataset.value has been deprecated. Use dataset[()] instead.\n",
      "  collections.OrderedDict((name, ds.value) for name, ds in sorted(\n"
     ]
    },
    {
     "name": "stdout",
     "output_type": "stream",
     "text": [
      "    200/Unknown - 22s 110ms/step - loss: 6.2382 - num_tokens: 265421.0000 - num_tokens_no_oov: 256730.0000 - num_batches: 200.0000 - num_examples: 20000.0000 - accuracy: 0.0050 - accuracy_no_oov: 0.0051 - accuracy_no_oov_no_eos: 0.0054\n",
      "Sampling 10 new clients.\n"
     ]
    },
    {
     "name": "stderr",
     "output_type": "stream",
     "text": [
      "\r",
      " 14%|█▍        | 14/100 [10:10<1:05:07, 45.43s/it]"
     ]
    },
    {
     "name": "stdout",
     "output_type": "stream",
     "text": [
      "Round: 13\n",
      "   Loss: 4.92299128\n",
      "   num_batches: 446\n",
      "   num_examples: 7051\n",
      "   num_tokens: 94421\n",
      "   num_tokens_no_oov: 91754\n",
      "   accuracy: 0.05520\n",
      "   accuracy_no_oov: 0.05610\n",
      "Evaluating before round #14 on 20000 examples.\n"
     ]
    },
    {
     "name": "stderr",
     "output_type": "stream",
     "text": [
      "/home/joel_stremmel/anaconda3/envs/tff/lib/python3.7/site-packages/tensorflow_federated/python/simulation/hdf5_client_data.py:64: H5pyDeprecationWarning: dataset.value has been deprecated. Use dataset[()] instead.\n",
      "  collections.OrderedDict((name, ds.value) for name, ds in sorted(\n"
     ]
    },
    {
     "name": "stdout",
     "output_type": "stream",
     "text": [
      "    200/Unknown - 22s 111ms/step - loss: 6.3038 - num_tokens: 271728.0000 - num_tokens_no_oov: 263428.0000 - num_batches: 200.0000 - num_examples: 20000.0000 - accuracy: 0.0053 - accuracy_no_oov: 0.0055 - accuracy_no_oov_no_eos: 0.0058\n",
      "Sampling 10 new clients.\n"
     ]
    },
    {
     "name": "stderr",
     "output_type": "stream",
     "text": [
      "\r",
      " 15%|█▌        | 15/100 [10:51<1:02:38, 44.22s/it]"
     ]
    },
    {
     "name": "stdout",
     "output_type": "stream",
     "text": [
      "Round: 14\n",
      "   Loss: 5.86368513\n",
      "   num_batches: 168\n",
      "   num_examples: 2624\n",
      "   num_tokens: 34541\n",
      "   num_tokens_no_oov: 33532\n",
      "   accuracy: 0.01042\n",
      "   accuracy_no_oov: 0.01074\n",
      "Evaluating before round #15 on 20000 examples.\n"
     ]
    },
    {
     "name": "stderr",
     "output_type": "stream",
     "text": [
      "/home/joel_stremmel/anaconda3/envs/tff/lib/python3.7/site-packages/tensorflow_federated/python/simulation/hdf5_client_data.py:64: H5pyDeprecationWarning: dataset.value has been deprecated. Use dataset[()] instead.\n",
      "  collections.OrderedDict((name, ds.value) for name, ds in sorted(\n"
     ]
    },
    {
     "name": "stdout",
     "output_type": "stream",
     "text": [
      "    200/Unknown - 22s 108ms/step - loss: 6.1668 - num_tokens: 268447.0000 - num_tokens_no_oov: 260366.0000 - num_batches: 200.0000 - num_examples: 20000.0000 - accuracy: 0.0051 - accuracy_no_oov: 0.0053 - accuracy_no_oov_no_eos: 0.0056\n",
      "Sampling 10 new clients.\n"
     ]
    },
    {
     "name": "stderr",
     "output_type": "stream",
     "text": [
      "\r",
      " 16%|█▌        | 16/100 [11:30<59:48, 42.72s/it]  "
     ]
    },
    {
     "name": "stdout",
     "output_type": "stream",
     "text": [
      "Round: 15\n",
      "   Loss: 6.28403330\n",
      "   num_batches: 129\n",
      "   num_examples: 1976\n",
      "   num_tokens: 26440\n",
      "   num_tokens_no_oov: 25571\n",
      "   accuracy: 0.00382\n",
      "   accuracy_no_oov: 0.00395\n",
      "Evaluating before round #16 on 20000 examples.\n"
     ]
    },
    {
     "name": "stderr",
     "output_type": "stream",
     "text": [
      "/home/joel_stremmel/anaconda3/envs/tff/lib/python3.7/site-packages/tensorflow_federated/python/simulation/hdf5_client_data.py:64: H5pyDeprecationWarning: dataset.value has been deprecated. Use dataset[()] instead.\n",
      "  collections.OrderedDict((name, ds.value) for name, ds in sorted(\n"
     ]
    },
    {
     "name": "stdout",
     "output_type": "stream",
     "text": [
      "    200/Unknown - 21s 106ms/step - loss: 5.9750 - num_tokens: 259097.0000 - num_tokens_no_oov: 250528.0000 - num_batches: 200.0000 - num_examples: 20000.0000 - accuracy: 0.0049 - accuracy_no_oov: 0.0050 - accuracy_no_oov_no_eos: 0.0053\n",
      "Sampling 10 new clients.\n"
     ]
    },
    {
     "name": "stderr",
     "output_type": "stream",
     "text": [
      "\r",
      " 17%|█▋        | 17/100 [12:10<57:54, 41.86s/it]"
     ]
    },
    {
     "name": "stdout",
     "output_type": "stream",
     "text": [
      "Round: 16\n",
      "   Loss: 6.35908937\n",
      "   num_batches: 165\n",
      "   num_examples: 2579\n",
      "   num_tokens: 38267\n",
      "   num_tokens_no_oov: 37249\n",
      "   accuracy: 0.01019\n",
      "   accuracy_no_oov: 0.01047\n",
      "Evaluating before round #17 on 20000 examples.\n"
     ]
    },
    {
     "name": "stderr",
     "output_type": "stream",
     "text": [
      "/home/joel_stremmel/anaconda3/envs/tff/lib/python3.7/site-packages/tensorflow_federated/python/simulation/hdf5_client_data.py:64: H5pyDeprecationWarning: dataset.value has been deprecated. Use dataset[()] instead.\n",
      "  collections.OrderedDict((name, ds.value) for name, ds in sorted(\n"
     ]
    },
    {
     "name": "stdout",
     "output_type": "stream",
     "text": [
      "    200/Unknown - 22s 108ms/step - loss: 6.1682 - num_tokens: 270817.0000 - num_tokens_no_oov: 262690.0000 - num_batches: 200.0000 - num_examples: 20000.0000 - accuracy: 0.0049 - accuracy_no_oov: 0.0050 - accuracy_no_oov_no_eos: 0.0053\n",
      "Sampling 10 new clients.\n"
     ]
    },
    {
     "name": "stderr",
     "output_type": "stream",
     "text": [
      "\r",
      " 18%|█▊        | 18/100 [12:50<56:29, 41.34s/it]"
     ]
    },
    {
     "name": "stdout",
     "output_type": "stream",
     "text": [
      "Round: 17\n",
      "   Loss: 5.98259878\n",
      "   num_batches: 172\n",
      "   num_examples: 2706\n",
      "   num_tokens: 35981\n",
      "   num_tokens_no_oov: 34596\n",
      "   accuracy: 0.00467\n",
      "   accuracy_no_oov: 0.00486\n",
      "Evaluating before round #18 on 20000 examples.\n"
     ]
    },
    {
     "name": "stderr",
     "output_type": "stream",
     "text": [
      "/home/joel_stremmel/anaconda3/envs/tff/lib/python3.7/site-packages/tensorflow_federated/python/simulation/hdf5_client_data.py:64: H5pyDeprecationWarning: dataset.value has been deprecated. Use dataset[()] instead.\n",
      "  collections.OrderedDict((name, ds.value) for name, ds in sorted(\n"
     ]
    },
    {
     "name": "stdout",
     "output_type": "stream",
     "text": [
      "    200/Unknown - 21s 107ms/step - loss: 6.2260 - num_tokens: 274239.0000 - num_tokens_no_oov: 264627.0000 - num_batches: 200.0000 - num_examples: 20000.0000 - accuracy: 0.0053 - accuracy_no_oov: 0.0055 - accuracy_no_oov_no_eos: 0.0058\n",
      "Sampling 10 new clients.\n"
     ]
    },
    {
     "name": "stderr",
     "output_type": "stream",
     "text": [
      "\r",
      " 19%|█▉        | 19/100 [13:31<55:42, 41.27s/it]"
     ]
    },
    {
     "name": "stdout",
     "output_type": "stream",
     "text": [
      "Round: 18\n",
      "   Loss: 5.42169476\n",
      "   num_batches: 201\n",
      "   num_examples: 3162\n",
      "   num_tokens: 40540\n",
      "   num_tokens_no_oov: 39646\n",
      "   accuracy: 0.00745\n",
      "   accuracy_no_oov: 0.00762\n",
      "Evaluating before round #19 on 20000 examples.\n"
     ]
    },
    {
     "name": "stderr",
     "output_type": "stream",
     "text": [
      "/home/joel_stremmel/anaconda3/envs/tff/lib/python3.7/site-packages/tensorflow_federated/python/simulation/hdf5_client_data.py:64: H5pyDeprecationWarning: dataset.value has been deprecated. Use dataset[()] instead.\n",
      "  collections.OrderedDict((name, ds.value) for name, ds in sorted(\n"
     ]
    },
    {
     "name": "stdout",
     "output_type": "stream",
     "text": [
      "    200/Unknown - 22s 110ms/step - loss: 5.8682 - num_tokens: 260194.0000 - num_tokens_no_oov: 251934.0000 - num_batches: 200.0000 - num_examples: 20000.0000 - accuracy: 0.0050 - accuracy_no_oov: 0.0051 - accuracy_no_oov_no_eos: 0.0055\n",
      "Sampling 10 new clients.\n"
     ]
    },
    {
     "name": "stderr",
     "output_type": "stream",
     "text": [
      "\r",
      " 20%|██        | 20/100 [14:12<54:46, 41.08s/it]"
     ]
    },
    {
     "name": "stdout",
     "output_type": "stream",
     "text": [
      "Round: 19\n",
      "   Loss: 5.77763653\n",
      "   num_batches: 159\n",
      "   num_examples: 2468\n",
      "   num_tokens: 32898\n",
      "   num_tokens_no_oov: 31844\n",
      "   accuracy: 0.00699\n",
      "   accuracy_no_oov: 0.00722\n",
      "Evaluating before round #20 on 20000 examples.\n"
     ]
    },
    {
     "name": "stderr",
     "output_type": "stream",
     "text": [
      "/home/joel_stremmel/anaconda3/envs/tff/lib/python3.7/site-packages/tensorflow_federated/python/simulation/hdf5_client_data.py:64: H5pyDeprecationWarning: dataset.value has been deprecated. Use dataset[()] instead.\n",
      "  collections.OrderedDict((name, ds.value) for name, ds in sorted(\n"
     ]
    },
    {
     "name": "stdout",
     "output_type": "stream",
     "text": [
      "    200/Unknown - 22s 111ms/step - loss: 5.8615 - num_tokens: 261304.0000 - num_tokens_no_oov: 253432.0000 - num_batches: 200.0000 - num_examples: 20000.0000 - accuracy: 0.0048 - accuracy_no_oov: 0.0049 - accuracy_no_oov_no_eos: 0.0052\n",
      "Sampling 10 new clients.\n"
     ]
    },
    {
     "name": "stderr",
     "output_type": "stream",
     "text": [
      "\r",
      " 21%|██        | 21/100 [14:52<53:34, 40.69s/it]"
     ]
    },
    {
     "name": "stdout",
     "output_type": "stream",
     "text": [
      "Round: 20\n",
      "   Loss: 5.87937593\n",
      "   num_batches: 118\n",
      "   num_examples: 1838\n",
      "   num_tokens: 24708\n",
      "   num_tokens_no_oov: 24046\n",
      "   accuracy: 0.00465\n",
      "   accuracy_no_oov: 0.00478\n",
      "Evaluating before round #21 on 20000 examples.\n"
     ]
    },
    {
     "name": "stderr",
     "output_type": "stream",
     "text": [
      "/home/joel_stremmel/anaconda3/envs/tff/lib/python3.7/site-packages/tensorflow_federated/python/simulation/hdf5_client_data.py:64: H5pyDeprecationWarning: dataset.value has been deprecated. Use dataset[()] instead.\n",
      "  collections.OrderedDict((name, ds.value) for name, ds in sorted(\n"
     ]
    },
    {
     "name": "stdout",
     "output_type": "stream",
     "text": [
      "    200/Unknown - 23s 114ms/step - loss: 5.8341 - num_tokens: 260505.0000 - num_tokens_no_oov: 251714.0000 - num_batches: 200.0000 - num_examples: 20000.0000 - accuracy: 0.0049 - accuracy_no_oov: 0.0051 - accuracy_no_oov_no_eos: 0.0054- 19s 117ms/step - loss: 5.8291 - num_tokens: 215498.0000 - num_tokens_no_oov: 208059.0000 - num_batches: 166.0000 - num_examples: 16600.0000 - accuracy: 0.0049 - accuracy_no_oov: 0.00\n",
      "Sampling 10 new clients.\n"
     ]
    },
    {
     "name": "stderr",
     "output_type": "stream",
     "text": [
      "\r",
      " 22%|██▏       | 22/100 [15:32<52:35, 40.46s/it]"
     ]
    },
    {
     "name": "stdout",
     "output_type": "stream",
     "text": [
      "Round: 21\n",
      "   Loss: 5.70834351\n",
      "   num_batches: 140\n",
      "   num_examples: 2181\n",
      "   num_tokens: 28143\n",
      "   num_tokens_no_oov: 27061\n",
      "   accuracy: 0.00473\n",
      "   accuracy_no_oov: 0.00491\n",
      "Evaluating before round #22 on 20000 examples.\n"
     ]
    },
    {
     "name": "stderr",
     "output_type": "stream",
     "text": [
      "/home/joel_stremmel/anaconda3/envs/tff/lib/python3.7/site-packages/tensorflow_federated/python/simulation/hdf5_client_data.py:64: H5pyDeprecationWarning: dataset.value has been deprecated. Use dataset[()] instead.\n",
      "  collections.OrderedDict((name, ds.value) for name, ds in sorted(\n"
     ]
    },
    {
     "name": "stdout",
     "output_type": "stream",
     "text": [
      "    200/Unknown - 22s 108ms/step - loss: 6.0058 - num_tokens: 271842.0000 - num_tokens_no_oov: 262959.0000 - num_batches: 200.0000 - num_examples: 20000.0000 - accuracy: 0.0049 - accuracy_no_oov: 0.0050 - accuracy_no_oov_no_eos: 0.0053\n",
      "Sampling 10 new clients.\n"
     ]
    },
    {
     "name": "stderr",
     "output_type": "stream",
     "text": [
      "\r",
      " 23%|██▎       | 23/100 [16:12<51:55, 40.46s/it]"
     ]
    },
    {
     "name": "stdout",
     "output_type": "stream",
     "text": [
      "Round: 22\n",
      "   Loss: 5.79473639\n",
      "   num_batches: 150\n",
      "   num_examples: 2335\n",
      "   num_tokens: 31128\n",
      "   num_tokens_no_oov: 29957\n",
      "   accuracy: 0.01051\n",
      "   accuracy_no_oov: 0.01092\n",
      "Evaluating before round #23 on 20000 examples.\n"
     ]
    },
    {
     "name": "stderr",
     "output_type": "stream",
     "text": [
      "/home/joel_stremmel/anaconda3/envs/tff/lib/python3.7/site-packages/tensorflow_federated/python/simulation/hdf5_client_data.py:64: H5pyDeprecationWarning: dataset.value has been deprecated. Use dataset[()] instead.\n",
      "  collections.OrderedDict((name, ds.value) for name, ds in sorted(\n"
     ]
    },
    {
     "name": "stdout",
     "output_type": "stream",
     "text": [
      "    200/Unknown - 21s 107ms/step - loss: 5.9329 - num_tokens: 268236.0000 - num_tokens_no_oov: 259606.0000 - num_batches: 200.0000 - num_examples: 20000.0000 - accuracy: 0.0050 - accuracy_no_oov: 0.0052 - accuracy_no_oov_no_eos: 0.005529ms/step - loss: 6.2956 - num_toke\n",
      "Sampling 10 new clients.\n"
     ]
    },
    {
     "name": "stderr",
     "output_type": "stream",
     "text": [
      "\r",
      " 24%|██▍       | 24/100 [16:51<50:41, 40.02s/it]"
     ]
    },
    {
     "name": "stdout",
     "output_type": "stream",
     "text": [
      "Round: 23\n",
      "   Loss: 5.77371645\n",
      "   num_batches: 118\n",
      "   num_examples: 1839\n",
      "   num_tokens: 24485\n",
      "   num_tokens_no_oov: 23821\n",
      "   accuracy: 0.00584\n",
      "   accuracy_no_oov: 0.00600\n",
      "Evaluating before round #24 on 20000 examples.\n"
     ]
    },
    {
     "name": "stderr",
     "output_type": "stream",
     "text": [
      "/home/joel_stremmel/anaconda3/envs/tff/lib/python3.7/site-packages/tensorflow_federated/python/simulation/hdf5_client_data.py:64: H5pyDeprecationWarning: dataset.value has been deprecated. Use dataset[()] instead.\n",
      "  collections.OrderedDict((name, ds.value) for name, ds in sorted(\n"
     ]
    },
    {
     "name": "stdout",
     "output_type": "stream",
     "text": [
      "    200/Unknown - 21s 107ms/step - loss: 5.8055 - num_tokens: 264879.0000 - num_tokens_no_oov: 257014.0000 - num_batches: 200.0000 - num_examples: 20000.0000 - accuracy: 0.0049 - accuracy_no_oov: 0.0050 - accuracy_no_oov_no_eos: 0.0053\n",
      "Sampling 10 new clients.\n"
     ]
    },
    {
     "name": "stderr",
     "output_type": "stream",
     "text": [
      "\r",
      " 25%|██▌       | 25/100 [17:38<52:26, 41.96s/it]"
     ]
    },
    {
     "name": "stdout",
     "output_type": "stream",
     "text": [
      "Round: 24\n",
      "   Loss: 4.69053841\n",
      "   num_batches: 411\n",
      "   num_examples: 6489\n",
      "   num_tokens: 82978\n",
      "   num_tokens_no_oov: 80726\n",
      "   accuracy: 0.05094\n",
      "   accuracy_no_oov: 0.05215\n",
      "Evaluating before round #25 on 20000 examples.\n"
     ]
    },
    {
     "name": "stderr",
     "output_type": "stream",
     "text": [
      "/home/joel_stremmel/anaconda3/envs/tff/lib/python3.7/site-packages/tensorflow_federated/python/simulation/hdf5_client_data.py:64: H5pyDeprecationWarning: dataset.value has been deprecated. Use dataset[()] instead.\n",
      "  collections.OrderedDict((name, ds.value) for name, ds in sorted(\n"
     ]
    },
    {
     "name": "stdout",
     "output_type": "stream",
     "text": [
      "    200/Unknown - 22s 112ms/step - loss: 5.6333 - num_tokens: 257798.0000 - num_tokens_no_oov: 250018.0000 - num_batches: 200.0000 - num_examples: 20000.0000 - accuracy: 0.0051 - accuracy_no_oov: 0.0052 - accuracy_no_oov_no_eos: 0.0056\n",
      "Sampling 10 new clients.\n"
     ]
    },
    {
     "name": "stderr",
     "output_type": "stream",
     "text": [
      "\r",
      " 26%|██▌       | 26/100 [18:19<51:20, 41.63s/it]"
     ]
    },
    {
     "name": "stdout",
     "output_type": "stream",
     "text": [
      "Round: 25\n",
      "   Loss: 5.75836134\n",
      "   num_batches: 152\n",
      "   num_examples: 2354\n",
      "   num_tokens: 32460\n",
      "   num_tokens_no_oov: 31427\n",
      "   accuracy: 0.00576\n",
      "   accuracy_no_oov: 0.00595\n",
      "Evaluating before round #26 on 20000 examples.\n"
     ]
    },
    {
     "name": "stderr",
     "output_type": "stream",
     "text": [
      "/home/joel_stremmel/anaconda3/envs/tff/lib/python3.7/site-packages/tensorflow_federated/python/simulation/hdf5_client_data.py:64: H5pyDeprecationWarning: dataset.value has been deprecated. Use dataset[()] instead.\n",
      "  collections.OrderedDict((name, ds.value) for name, ds in sorted(\n"
     ]
    },
    {
     "name": "stdout",
     "output_type": "stream",
     "text": [
      "    200/Unknown - 22s 108ms/step - loss: 5.8360 - num_tokens: 269230.0000 - num_tokens_no_oov: 260739.0000 - num_batches: 200.0000 - num_examples: 20000.0000 - accuracy: 0.0048 - accuracy_no_oov: 0.0050 - accuracy_no_oov_no_eos: 0.0053\n",
      "Sampling 10 new clients.\n"
     ]
    },
    {
     "name": "stderr",
     "output_type": "stream",
     "text": [
      "\r",
      " 27%|██▋       | 27/100 [19:00<50:38, 41.62s/it]"
     ]
    },
    {
     "name": "stdout",
     "output_type": "stream",
     "text": [
      "Round: 26\n",
      "   Loss: 4.90513849\n",
      "   num_batches: 232\n",
      "   num_examples: 3651\n",
      "   num_tokens: 43283\n",
      "   num_tokens_no_oov: 42017\n",
      "   accuracy: 0.01310\n",
      "   accuracy_no_oov: 0.01349\n",
      "Evaluating before round #27 on 20000 examples.\n"
     ]
    },
    {
     "name": "stderr",
     "output_type": "stream",
     "text": [
      "/home/joel_stremmel/anaconda3/envs/tff/lib/python3.7/site-packages/tensorflow_federated/python/simulation/hdf5_client_data.py:64: H5pyDeprecationWarning: dataset.value has been deprecated. Use dataset[()] instead.\n",
      "  collections.OrderedDict((name, ds.value) for name, ds in sorted(\n"
     ]
    },
    {
     "name": "stdout",
     "output_type": "stream",
     "text": [
      "    200/Unknown - 22s 109ms/step - loss: 5.6533 - num_tokens: 260096.0000 - num_tokens_no_oov: 251844.0000 - num_batches: 200.0000 - num_examples: 20000.0000 - accuracy: 0.0047 - accuracy_no_oov: 0.0049 - accuracy_no_oov_no_eos: 0.0052\n",
      "Sampling 10 new clients.\n"
     ]
    },
    {
     "name": "stderr",
     "output_type": "stream",
     "text": [
      "\r",
      " 28%|██▊       | 28/100 [19:41<49:46, 41.47s/it]"
     ]
    },
    {
     "name": "stdout",
     "output_type": "stream",
     "text": [
      "Round: 27\n",
      "   Loss: 4.77829647\n",
      "   num_batches: 164\n",
      "   num_examples: 2572\n",
      "   num_tokens: 31723\n",
      "   num_tokens_no_oov: 31048\n",
      "   accuracy: 0.03420\n",
      "   accuracy_no_oov: 0.03495\n",
      "Evaluating before round #28 on 20000 examples.\n"
     ]
    },
    {
     "name": "stderr",
     "output_type": "stream",
     "text": [
      "/home/joel_stremmel/anaconda3/envs/tff/lib/python3.7/site-packages/tensorflow_federated/python/simulation/hdf5_client_data.py:64: H5pyDeprecationWarning: dataset.value has been deprecated. Use dataset[()] instead.\n",
      "  collections.OrderedDict((name, ds.value) for name, ds in sorted(\n"
     ]
    },
    {
     "name": "stdout",
     "output_type": "stream",
     "text": [
      "    200/Unknown - 22s 109ms/step - loss: 5.7056 - num_tokens: 266611.0000 - num_tokens_no_oov: 258712.0000 - num_batches: 200.0000 - num_examples: 20000.0000 - accuracy: 0.0045 - accuracy_no_oov: 0.0047 - accuracy_no_oov_no_eos: 0.0049\n",
      "Sampling 10 new clients.\n"
     ]
    },
    {
     "name": "stderr",
     "output_type": "stream",
     "text": [
      "\r",
      " 29%|██▉       | 29/100 [20:23<49:08, 41.53s/it]"
     ]
    },
    {
     "name": "stdout",
     "output_type": "stream",
     "text": [
      "Round: 28\n",
      "   Loss: 5.31329346\n",
      "   num_batches: 182\n",
      "   num_examples: 2818\n",
      "   num_tokens: 36228\n",
      "   num_tokens_no_oov: 35240\n",
      "   accuracy: 0.00927\n",
      "   accuracy_no_oov: 0.00953\n",
      "Evaluating before round #29 on 20000 examples.\n"
     ]
    },
    {
     "name": "stderr",
     "output_type": "stream",
     "text": [
      "/home/joel_stremmel/anaconda3/envs/tff/lib/python3.7/site-packages/tensorflow_federated/python/simulation/hdf5_client_data.py:64: H5pyDeprecationWarning: dataset.value has been deprecated. Use dataset[()] instead.\n",
      "  collections.OrderedDict((name, ds.value) for name, ds in sorted(\n"
     ]
    },
    {
     "name": "stdout",
     "output_type": "stream",
     "text": [
      "    200/Unknown - 22s 111ms/step - loss: 5.7789 - num_tokens: 267308.0000 - num_tokens_no_oov: 258236.0000 - num_batches: 200.0000 - num_examples: 20000.0000 - accuracy: 0.0044 - accuracy_no_oov: 0.0046 - accuracy_no_oov_no_eos: 0.0049\n",
      "Sampling 10 new clients.\n"
     ]
    },
    {
     "name": "stderr",
     "output_type": "stream",
     "text": [
      "\r",
      " 30%|███       | 30/100 [21:07<49:16, 42.24s/it]"
     ]
    },
    {
     "name": "stdout",
     "output_type": "stream",
     "text": [
      "Round: 29\n",
      "   Loss: 5.15740871\n",
      "   num_batches: 287\n",
      "   num_examples: 4527\n",
      "   num_tokens: 60074\n",
      "   num_tokens_no_oov: 57938\n",
      "   accuracy: 0.02697\n",
      "   accuracy_no_oov: 0.02791\n",
      "Evaluating before round #30 on 20000 examples.\n"
     ]
    },
    {
     "name": "stderr",
     "output_type": "stream",
     "text": [
      "/home/joel_stremmel/anaconda3/envs/tff/lib/python3.7/site-packages/tensorflow_federated/python/simulation/hdf5_client_data.py:64: H5pyDeprecationWarning: dataset.value has been deprecated. Use dataset[()] instead.\n",
      "  collections.OrderedDict((name, ds.value) for name, ds in sorted(\n"
     ]
    },
    {
     "name": "stdout",
     "output_type": "stream",
     "text": [
      "    200/Unknown - 22s 110ms/step - loss: 5.7059 - num_tokens: 266898.0000 - num_tokens_no_oov: 257634.0000 - num_batches: 200.0000 - num_examples: 20000.0000 - accuracy: 0.0050 - accuracy_no_oov: 0.0052 - accuracy_no_oov_no_eos: 0.0055\n",
      "Sampling 10 new clients.\n"
     ]
    },
    {
     "name": "stderr",
     "output_type": "stream",
     "text": [
      "\r",
      " 31%|███       | 31/100 [21:50<49:00, 42.61s/it]"
     ]
    },
    {
     "name": "stdout",
     "output_type": "stream",
     "text": [
      "Round: 30\n",
      "   Loss: 4.87073946\n",
      "   num_batches: 244\n",
      "   num_examples: 3830\n",
      "   num_tokens: 50217\n",
      "   num_tokens_no_oov: 48744\n",
      "   accuracy: 0.04136\n",
      "   accuracy_no_oov: 0.04261\n",
      "Evaluating before round #31 on 20000 examples.\n"
     ]
    },
    {
     "name": "stderr",
     "output_type": "stream",
     "text": [
      "/home/joel_stremmel/anaconda3/envs/tff/lib/python3.7/site-packages/tensorflow_federated/python/simulation/hdf5_client_data.py:64: H5pyDeprecationWarning: dataset.value has been deprecated. Use dataset[()] instead.\n",
      "  collections.OrderedDict((name, ds.value) for name, ds in sorted(\n"
     ]
    },
    {
     "name": "stdout",
     "output_type": "stream",
     "text": [
      "    200/Unknown - 22s 111ms/step - loss: 5.5621 - num_tokens: 263970.0000 - num_tokens_no_oov: 255882.0000 - num_batches: 200.0000 - num_examples: 20000.0000 - accuracy: 0.0049 - accuracy_no_oov: 0.0051 - accuracy_no_oov_no_eos: 0.0054\n",
      "Sampling 10 new clients.\n"
     ]
    },
    {
     "name": "stderr",
     "output_type": "stream",
     "text": [
      "\r",
      " 32%|███▏      | 32/100 [22:33<48:20, 42.66s/it]"
     ]
    },
    {
     "name": "stdout",
     "output_type": "stream",
     "text": [
      "Round: 31\n",
      "   Loss: 4.95424652\n",
      "   num_batches: 237\n",
      "   num_examples: 3727\n",
      "   num_tokens: 46695\n",
      "   num_tokens_no_oov: 45416\n",
      "   accuracy: 0.01523\n",
      "   accuracy_no_oov: 0.01566\n",
      "Evaluating before round #32 on 20000 examples.\n"
     ]
    },
    {
     "name": "stderr",
     "output_type": "stream",
     "text": [
      "/home/joel_stremmel/anaconda3/envs/tff/lib/python3.7/site-packages/tensorflow_federated/python/simulation/hdf5_client_data.py:64: H5pyDeprecationWarning: dataset.value has been deprecated. Use dataset[()] instead.\n",
      "  collections.OrderedDict((name, ds.value) for name, ds in sorted(\n"
     ]
    },
    {
     "name": "stdout",
     "output_type": "stream",
     "text": [
      "    200/Unknown - 22s 108ms/step - loss: 5.5524 - num_tokens: 264140.0000 - num_tokens_no_oov: 255999.0000 - num_batches: 200.0000 - num_examples: 20000.0000 - accuracy: 0.0047 - accuracy_no_oov: 0.0048 - accuracy_no_oov_no_eos: 0.0051\n",
      "Sampling 10 new clients.\n"
     ]
    },
    {
     "name": "stderr",
     "output_type": "stream",
     "text": [
      "\r",
      " 33%|███▎      | 33/100 [23:18<48:30, 43.44s/it]"
     ]
    },
    {
     "name": "stdout",
     "output_type": "stream",
     "text": [
      "Round: 32\n",
      "   Loss: 4.94440937\n",
      "   num_batches: 351\n",
      "   num_examples: 5559\n",
      "   num_tokens: 73822\n",
      "   num_tokens_no_oov: 71846\n",
      "   accuracy: 0.04000\n",
      "   accuracy_no_oov: 0.04107\n",
      "Evaluating before round #33 on 20000 examples.\n"
     ]
    },
    {
     "name": "stderr",
     "output_type": "stream",
     "text": [
      "/home/joel_stremmel/anaconda3/envs/tff/lib/python3.7/site-packages/tensorflow_federated/python/simulation/hdf5_client_data.py:64: H5pyDeprecationWarning: dataset.value has been deprecated. Use dataset[()] instead.\n",
      "  collections.OrderedDict((name, ds.value) for name, ds in sorted(\n"
     ]
    },
    {
     "name": "stdout",
     "output_type": "stream",
     "text": [
      "    200/Unknown - 22s 111ms/step - loss: 5.7056 - num_tokens: 272042.0000 - num_tokens_no_oov: 263252.0000 - num_batches: 200.0000 - num_examples: 20000.0000 - accuracy: 0.0050 - accuracy_no_oov: 0.0051 - accuracy_no_oov_no_eos: 0.005411s 129ms/step - loss: 5.8898 - num_tokens: 123313.0000 - num_tokens_no_oov: 118773.0000 - num_batches:\n",
      "Sampling 10 new clients.\n"
     ]
    },
    {
     "name": "stderr",
     "output_type": "stream",
     "text": [
      "\r",
      " 34%|███▍      | 34/100 [24:06<49:15, 44.78s/it]"
     ]
    },
    {
     "name": "stdout",
     "output_type": "stream",
     "text": [
      "Round: 33\n",
      "   Loss: 4.29792738\n",
      "   num_batches: 431\n",
      "   num_examples: 6810\n",
      "   num_tokens: 86012\n",
      "   num_tokens_no_oov: 83927\n",
      "   accuracy: 0.06832\n",
      "   accuracy_no_oov: 0.06972\n",
      "Evaluating before round #34 on 20000 examples.\n"
     ]
    },
    {
     "name": "stderr",
     "output_type": "stream",
     "text": [
      "/home/joel_stremmel/anaconda3/envs/tff/lib/python3.7/site-packages/tensorflow_federated/python/simulation/hdf5_client_data.py:64: H5pyDeprecationWarning: dataset.value has been deprecated. Use dataset[()] instead.\n",
      "  collections.OrderedDict((name, ds.value) for name, ds in sorted(\n"
     ]
    },
    {
     "name": "stdout",
     "output_type": "stream",
     "text": [
      "    200/Unknown - 22s 108ms/step - loss: 5.4661 - num_tokens: 261577.0000 - num_tokens_no_oov: 253653.0000 - num_batches: 200.0000 - num_examples: 20000.0000 - accuracy: 0.0050 - accuracy_no_oov: 0.0051 - accuracy_no_oov_no_eos: 0.0054\n",
      "Sampling 10 new clients.\n"
     ]
    },
    {
     "name": "stderr",
     "output_type": "stream",
     "text": [
      "\r",
      " 35%|███▌      | 35/100 [24:44<46:21, 42.79s/it]"
     ]
    },
    {
     "name": "stdout",
     "output_type": "stream",
     "text": [
      "Round: 34\n",
      "   Loss: 5.05757523\n",
      "   num_batches: 105\n",
      "   num_examples: 1600\n",
      "   num_tokens: 19658\n",
      "   num_tokens_no_oov: 19027\n",
      "   accuracy: 0.00656\n",
      "   accuracy_no_oov: 0.00678\n",
      "Evaluating before round #35 on 20000 examples.\n"
     ]
    },
    {
     "name": "stderr",
     "output_type": "stream",
     "text": [
      "/home/joel_stremmel/anaconda3/envs/tff/lib/python3.7/site-packages/tensorflow_federated/python/simulation/hdf5_client_data.py:64: H5pyDeprecationWarning: dataset.value has been deprecated. Use dataset[()] instead.\n",
      "  collections.OrderedDict((name, ds.value) for name, ds in sorted(\n"
     ]
    },
    {
     "name": "stdout",
     "output_type": "stream",
     "text": [
      "    200/Unknown - 22s 109ms/step - loss: 5.6063 - num_tokens: 270166.0000 - num_tokens_no_oov: 261263.0000 - num_batches: 200.0000 - num_examples: 20000.0000 - accuracy: 0.0049 - accuracy_no_oov: 0.0051 - accuracy_no_oov_no_eos: 0.0054\n",
      "Sampling 10 new clients.\n"
     ]
    },
    {
     "name": "stderr",
     "output_type": "stream",
     "text": [
      "\r",
      " 36%|███▌      | 36/100 [25:23<44:18, 41.54s/it]"
     ]
    },
    {
     "name": "stdout",
     "output_type": "stream",
     "text": [
      "Round: 35\n",
      "   Loss: 5.44774675\n",
      "   num_batches: 105\n",
      "   num_examples: 1619\n",
      "   num_tokens: 21969\n",
      "   num_tokens_no_oov: 21315\n",
      "   accuracy: 0.00765\n",
      "   accuracy_no_oov: 0.00788\n",
      "Evaluating before round #36 on 20000 examples.\n"
     ]
    },
    {
     "name": "stderr",
     "output_type": "stream",
     "text": [
      "/home/joel_stremmel/anaconda3/envs/tff/lib/python3.7/site-packages/tensorflow_federated/python/simulation/hdf5_client_data.py:64: H5pyDeprecationWarning: dataset.value has been deprecated. Use dataset[()] instead.\n",
      "  collections.OrderedDict((name, ds.value) for name, ds in sorted(\n"
     ]
    },
    {
     "name": "stdout",
     "output_type": "stream",
     "text": [
      "    200/Unknown - 22s 109ms/step - loss: 5.6114 - num_tokens: 273611.0000 - num_tokens_no_oov: 264879.0000 - num_batches: 200.0000 - num_examples: 20000.0000 - accuracy: 0.0053 - accuracy_no_oov: 0.0055 - accuracy_no_oov_no_eos: 0.0058\n",
      "Sampling 10 new clients.\n"
     ]
    },
    {
     "name": "stderr",
     "output_type": "stream",
     "text": [
      "\r",
      " 37%|███▋      | 37/100 [26:17<47:24, 45.15s/it]"
     ]
    },
    {
     "name": "stdout",
     "output_type": "stream",
     "text": [
      "Round: 36\n",
      "   Loss: 4.38503504\n",
      "   num_batches: 550\n",
      "   num_examples: 8736\n",
      "   num_tokens: 115455\n",
      "   num_tokens_no_oov: 112328\n",
      "   accuracy: 0.07589\n",
      "   accuracy_no_oov: 0.07613\n",
      "Evaluating before round #37 on 20000 examples.\n"
     ]
    },
    {
     "name": "stderr",
     "output_type": "stream",
     "text": [
      "/home/joel_stremmel/anaconda3/envs/tff/lib/python3.7/site-packages/tensorflow_federated/python/simulation/hdf5_client_data.py:64: H5pyDeprecationWarning: dataset.value has been deprecated. Use dataset[()] instead.\n",
      "  collections.OrderedDict((name, ds.value) for name, ds in sorted(\n"
     ]
    },
    {
     "name": "stdout",
     "output_type": "stream",
     "text": [
      "    200/Unknown - 22s 109ms/step - loss: 5.5679 - num_tokens: 271493.0000 - num_tokens_no_oov: 262384.0000 - num_batches: 200.0000 - num_examples: 20000.0000 - accuracy: 0.0057 - accuracy_no_oov: 0.0059 - accuracy_no_oov_no_eos: 0.0062\n",
      "Sampling 10 new clients.\n"
     ]
    },
    {
     "name": "stderr",
     "output_type": "stream",
     "text": [
      "\r",
      " 38%|███▊      | 38/100 [26:59<45:55, 44.45s/it]"
     ]
    },
    {
     "name": "stdout",
     "output_type": "stream",
     "text": [
      "Round: 37\n",
      "   Loss: 4.70231724\n",
      "   num_batches: 236\n",
      "   num_examples: 3701\n",
      "   num_tokens: 50046\n",
      "   num_tokens_no_oov: 48852\n",
      "   accuracy: 0.06286\n",
      "   accuracy_no_oov: 0.06440\n",
      "Evaluating before round #38 on 20000 examples.\n"
     ]
    },
    {
     "name": "stderr",
     "output_type": "stream",
     "text": [
      "/home/joel_stremmel/anaconda3/envs/tff/lib/python3.7/site-packages/tensorflow_federated/python/simulation/hdf5_client_data.py:64: H5pyDeprecationWarning: dataset.value has been deprecated. Use dataset[()] instead.\n",
      "  collections.OrderedDict((name, ds.value) for name, ds in sorted(\n"
     ]
    },
    {
     "name": "stdout",
     "output_type": "stream",
     "text": [
      "    200/Unknown - 22s 109ms/step - loss: 5.4540 - num_tokens: 266335.0000 - num_tokens_no_oov: 257497.0000 - num_batches: 200.0000 - num_examples: 20000.0000 - accuracy: 0.0053 - accuracy_no_oov: 0.0055 - accuracy_no_oov_no_eos: 0.0058\n",
      "Sampling 10 new clients.\n"
     ]
    },
    {
     "name": "stderr",
     "output_type": "stream",
     "text": [
      "\r",
      " 39%|███▉      | 39/100 [27:45<45:32, 44.80s/it]"
     ]
    },
    {
     "name": "stdout",
     "output_type": "stream",
     "text": [
      "Round: 38\n",
      "   Loss: 4.80565834\n",
      "   num_batches: 368\n",
      "   num_examples: 5805\n",
      "   num_tokens: 76996\n",
      "   num_tokens_no_oov: 74963\n",
      "   accuracy: 0.03720\n",
      "   accuracy_no_oov: 0.03814\n",
      "Evaluating before round #39 on 20000 examples.\n"
     ]
    },
    {
     "name": "stderr",
     "output_type": "stream",
     "text": [
      "/home/joel_stremmel/anaconda3/envs/tff/lib/python3.7/site-packages/tensorflow_federated/python/simulation/hdf5_client_data.py:64: H5pyDeprecationWarning: dataset.value has been deprecated. Use dataset[()] instead.\n",
      "  collections.OrderedDict((name, ds.value) for name, ds in sorted(\n"
     ]
    },
    {
     "name": "stdout",
     "output_type": "stream",
     "text": [
      "    200/Unknown - 21s 107ms/step - loss: 5.5272 - num_tokens: 275122.0000 - num_tokens_no_oov: 266641.0000 - num_batches: 200.0000 - num_examples: 20000.0000 - accuracy: 0.0055 - accuracy_no_oov: 0.0057 - accuracy_no_oov_no_eos: 0.0060\n",
      "Sampling 10 new clients.\n"
     ]
    },
    {
     "name": "stderr",
     "output_type": "stream",
     "text": [
      "\r",
      " 40%|████      | 40/100 [28:36<46:31, 46.53s/it]"
     ]
    },
    {
     "name": "stdout",
     "output_type": "stream",
     "text": [
      "Round: 39\n",
      "   Loss: 3.86594844\n",
      "   num_batches: 439\n",
      "   num_examples: 6951\n",
      "   num_tokens: 88989\n",
      "   num_tokens_no_oov: 87195\n",
      "   accuracy: 0.12733\n",
      "   accuracy_no_oov: 0.12903\n",
      "Evaluating before round #40 on 20000 examples.\n"
     ]
    },
    {
     "name": "stderr",
     "output_type": "stream",
     "text": [
      "/home/joel_stremmel/anaconda3/envs/tff/lib/python3.7/site-packages/tensorflow_federated/python/simulation/hdf5_client_data.py:64: H5pyDeprecationWarning: dataset.value has been deprecated. Use dataset[()] instead.\n",
      "  collections.OrderedDict((name, ds.value) for name, ds in sorted(\n"
     ]
    },
    {
     "name": "stdout",
     "output_type": "stream",
     "text": [
      "    200/Unknown - 22s 111ms/step - loss: 5.3159 - num_tokens: 263643.0000 - num_tokens_no_oov: 255099.0000 - num_batches: 200.0000 - num_examples: 20000.0000 - accuracy: 0.0056 - accuracy_no_oov: 0.0058 - accuracy_no_oov_no_eos: 0.0062\n",
      "Sampling 10 new clients.\n"
     ]
    },
    {
     "name": "stderr",
     "output_type": "stream",
     "text": [
      "\r",
      " 41%|████      | 41/100 [29:25<46:45, 47.55s/it]"
     ]
    },
    {
     "name": "stdout",
     "output_type": "stream",
     "text": [
      "Round: 40\n",
      "   Loss: 3.49176884\n",
      "   num_batches: 426\n",
      "   num_examples: 6760\n",
      "   num_tokens: 78659\n",
      "   num_tokens_no_oov: 76807\n",
      "   accuracy: 0.14659\n",
      "   accuracy_no_oov: 0.14822\n",
      "Evaluating before round #41 on 20000 examples.\n"
     ]
    },
    {
     "name": "stderr",
     "output_type": "stream",
     "text": [
      "/home/joel_stremmel/anaconda3/envs/tff/lib/python3.7/site-packages/tensorflow_federated/python/simulation/hdf5_client_data.py:64: H5pyDeprecationWarning: dataset.value has been deprecated. Use dataset[()] instead.\n",
      "  collections.OrderedDict((name, ds.value) for name, ds in sorted(\n"
     ]
    },
    {
     "name": "stdout",
     "output_type": "stream",
     "text": [
      "    200/Unknown - 22s 109ms/step - loss: 5.2561 - num_tokens: 262040.0000 - num_tokens_no_oov: 254649.0000 - num_batches: 200.0000 - num_examples: 20000.0000 - accuracy: 0.0056 - accuracy_no_oov: 0.0057 - accuracy_no_oov_no_eos: 0.0061\n",
      "Sampling 10 new clients.\n"
     ]
    },
    {
     "name": "stderr",
     "output_type": "stream",
     "text": [
      "\r",
      " 42%|████▏     | 42/100 [30:06<43:48, 45.33s/it]"
     ]
    },
    {
     "name": "stdout",
     "output_type": "stream",
     "text": [
      "Round: 41\n",
      "   Loss: 5.28088188\n",
      "   num_batches: 147\n",
      "   num_examples: 2280\n",
      "   num_tokens: 32095\n",
      "   num_tokens_no_oov: 30911\n",
      "   accuracy: 0.02278\n",
      "   accuracy_no_oov: 0.02365\n",
      "Evaluating before round #42 on 20000 examples.\n"
     ]
    },
    {
     "name": "stderr",
     "output_type": "stream",
     "text": [
      "/home/joel_stremmel/anaconda3/envs/tff/lib/python3.7/site-packages/tensorflow_federated/python/simulation/hdf5_client_data.py:64: H5pyDeprecationWarning: dataset.value has been deprecated. Use dataset[()] instead.\n",
      "  collections.OrderedDict((name, ds.value) for name, ds in sorted(\n"
     ]
    },
    {
     "name": "stdout",
     "output_type": "stream",
     "text": [
      "    200/Unknown - 21s 106ms/step - loss: 5.1459 - num_tokens: 258004.0000 - num_tokens_no_oov: 249696.0000 - num_batches: 200.0000 - num_examples: 20000.0000 - accuracy: 0.0058 - accuracy_no_oov: 0.0060 - accuracy_no_oov_no_eos: 0.0064\n",
      "Sampling 10 new clients.\n"
     ]
    },
    {
     "name": "stderr",
     "output_type": "stream",
     "text": [
      "\r",
      " 43%|████▎     | 43/100 [30:58<45:05, 47.47s/it]"
     ]
    },
    {
     "name": "stdout",
     "output_type": "stream",
     "text": [
      "Round: 42\n",
      "   Loss: 4.77045631\n",
      "   num_batches: 578\n",
      "   num_examples: 9177\n",
      "   num_tokens: 133852\n",
      "   num_tokens_no_oov: 130273\n",
      "   accuracy: 0.07932\n",
      "   accuracy_no_oov: 0.08012\n",
      "Evaluating before round #43 on 20000 examples.\n"
     ]
    },
    {
     "name": "stderr",
     "output_type": "stream",
     "text": [
      "/home/joel_stremmel/anaconda3/envs/tff/lib/python3.7/site-packages/tensorflow_federated/python/simulation/hdf5_client_data.py:64: H5pyDeprecationWarning: dataset.value has been deprecated. Use dataset[()] instead.\n",
      "  collections.OrderedDict((name, ds.value) for name, ds in sorted(\n"
     ]
    },
    {
     "name": "stdout",
     "output_type": "stream",
     "text": [
      "    200/Unknown - 22s 112ms/step - loss: 5.2281 - num_tokens: 262720.0000 - num_tokens_no_oov: 254599.0000 - num_batches: 200.0000 - num_examples: 20000.0000 - accuracy: 0.0058 - accuracy_no_oov: 0.0060 - accuracy_no_oov_no_eos: 0.0063\n",
      "Sampling 10 new clients.\n"
     ]
    },
    {
     "name": "stderr",
     "output_type": "stream",
     "text": [
      "\r",
      " 44%|████▍     | 44/100 [31:44<43:44, 46.87s/it]"
     ]
    },
    {
     "name": "stdout",
     "output_type": "stream",
     "text": [
      "Round: 43\n",
      "   Loss: 4.30473232\n",
      "   num_batches: 328\n",
      "   num_examples: 5160\n",
      "   num_tokens: 65538\n",
      "   num_tokens_no_oov: 63837\n",
      "   accuracy: 0.06614\n",
      "   accuracy_no_oov: 0.06789\n",
      "Evaluating before round #44 on 20000 examples.\n"
     ]
    },
    {
     "name": "stderr",
     "output_type": "stream",
     "text": [
      "/home/joel_stremmel/anaconda3/envs/tff/lib/python3.7/site-packages/tensorflow_federated/python/simulation/hdf5_client_data.py:64: H5pyDeprecationWarning: dataset.value has been deprecated. Use dataset[()] instead.\n",
      "  collections.OrderedDict((name, ds.value) for name, ds in sorted(\n"
     ]
    },
    {
     "name": "stdout",
     "output_type": "stream",
     "text": [
      "    200/Unknown - 21s 107ms/step - loss: 4.9377 - num_tokens: 247140.0000 - num_tokens_no_oov: 239623.0000 - num_batches: 200.0000 - num_examples: 20000.0000 - accuracy: 0.0065 - accuracy_no_oov: 0.0067 - accuracy_no_oov_no_eos: 0.0072\n",
      "Sampling 10 new clients.\n"
     ]
    },
    {
     "name": "stderr",
     "output_type": "stream",
     "text": [
      "\r",
      " 45%|████▌     | 45/100 [32:25<41:25, 45.19s/it]"
     ]
    },
    {
     "name": "stdout",
     "output_type": "stream",
     "text": [
      "Round: 44\n",
      "   Loss: 4.73496914\n",
      "   num_batches: 209\n",
      "   num_examples: 3273\n",
      "   num_tokens: 42736\n",
      "   num_tokens_no_oov: 41606\n",
      "   accuracy: 0.03421\n",
      "   accuracy_no_oov: 0.03514\n",
      "Evaluating before round #45 on 20000 examples.\n"
     ]
    },
    {
     "name": "stderr",
     "output_type": "stream",
     "text": [
      "/home/joel_stremmel/anaconda3/envs/tff/lib/python3.7/site-packages/tensorflow_federated/python/simulation/hdf5_client_data.py:64: H5pyDeprecationWarning: dataset.value has been deprecated. Use dataset[()] instead.\n",
      "  collections.OrderedDict((name, ds.value) for name, ds in sorted(\n"
     ]
    },
    {
     "name": "stdout",
     "output_type": "stream",
     "text": [
      "    200/Unknown - 21s 107ms/step - loss: 5.2447 - num_tokens: 268106.0000 - num_tokens_no_oov: 258975.0000 - num_batches: 200.0000 - num_examples: 20000.0000 - accuracy: 0.0069 - accuracy_no_oov: 0.0071 - accuracy_no_oov_no_eos: 0.0075- 14s 111ms/step - loss: 5.1755 - num_tokens: 169656.0000 - num_tokens_no_oov: 164270.0000 - num_batches: 128.0000 - num_examples: 12800.0000 - ac\n",
      "Sampling 10 new clients.\n"
     ]
    },
    {
     "name": "stderr",
     "output_type": "stream",
     "text": [
      "\r",
      " 46%|████▌     | 46/100 [33:16<42:16, 46.97s/it]"
     ]
    },
    {
     "name": "stdout",
     "output_type": "stream",
     "text": [
      "Round: 45\n",
      "   Loss: 4.67159224\n",
      "   num_batches: 451\n",
      "   num_examples: 7137\n",
      "   num_tokens: 103020\n",
      "   num_tokens_no_oov: 100530\n",
      "   accuracy: 0.08677\n",
      "   accuracy_no_oov: 0.08764\n",
      "Evaluating before round #46 on 20000 examples.\n"
     ]
    },
    {
     "name": "stderr",
     "output_type": "stream",
     "text": [
      "/home/joel_stremmel/anaconda3/envs/tff/lib/python3.7/site-packages/tensorflow_federated/python/simulation/hdf5_client_data.py:64: H5pyDeprecationWarning: dataset.value has been deprecated. Use dataset[()] instead.\n",
      "  collections.OrderedDict((name, ds.value) for name, ds in sorted(\n"
     ]
    },
    {
     "name": "stdout",
     "output_type": "stream",
     "text": [
      "    200/Unknown - 22s 109ms/step - loss: 5.2283 - num_tokens: 270926.0000 - num_tokens_no_oov: 262320.0000 - num_batches: 200.0000 - num_examples: 20000.0000 - accuracy: 0.0066 - accuracy_no_oov: 0.0068 - accuracy_no_oov_no_eos: 0.0072\n",
      "Sampling 10 new clients.\n"
     ]
    },
    {
     "name": "stderr",
     "output_type": "stream",
     "text": [
      "\r",
      " 47%|████▋     | 47/100 [34:00<40:40, 46.05s/it]"
     ]
    },
    {
     "name": "stdout",
     "output_type": "stream",
     "text": [
      "Round: 46\n",
      "   Loss: 4.79872561\n",
      "   num_batches: 278\n",
      "   num_examples: 4377\n",
      "   num_tokens: 59780\n",
      "   num_tokens_no_oov: 58144\n",
      "   accuracy: 0.04789\n",
      "   accuracy_no_oov: 0.04922\n",
      "Evaluating before round #47 on 20000 examples.\n"
     ]
    },
    {
     "name": "stderr",
     "output_type": "stream",
     "text": [
      "/home/joel_stremmel/anaconda3/envs/tff/lib/python3.7/site-packages/tensorflow_federated/python/simulation/hdf5_client_data.py:64: H5pyDeprecationWarning: dataset.value has been deprecated. Use dataset[()] instead.\n",
      "  collections.OrderedDict((name, ds.value) for name, ds in sorted(\n"
     ]
    },
    {
     "name": "stdout",
     "output_type": "stream",
     "text": [
      "    200/Unknown - 21s 107ms/step - loss: 5.4017 - num_tokens: 280539.0000 - num_tokens_no_oov: 271997.0000 - num_batches: 200.0000 - num_examples: 20000.0000 - accuracy: 0.0070 - accuracy_no_oov: 0.0072 - accuracy_no_oov_no_eos: 0.0076\n",
      "Sampling 10 new clients.\n"
     ]
    },
    {
     "name": "stderr",
     "output_type": "stream",
     "text": [
      "\r",
      " 48%|████▊     | 48/100 [34:43<39:07, 45.15s/it]"
     ]
    },
    {
     "name": "stdout",
     "output_type": "stream",
     "text": [
      "Round: 47\n",
      "   Loss: 4.48647261\n",
      "   num_batches: 250\n",
      "   num_examples: 3949\n",
      "   num_tokens: 50176\n",
      "   num_tokens_no_oov: 48779\n",
      "   accuracy: 0.05124\n",
      "   accuracy_no_oov: 0.05271\n",
      "Evaluating before round #48 on 20000 examples.\n"
     ]
    },
    {
     "name": "stderr",
     "output_type": "stream",
     "text": [
      "/home/joel_stremmel/anaconda3/envs/tff/lib/python3.7/site-packages/tensorflow_federated/python/simulation/hdf5_client_data.py:64: H5pyDeprecationWarning: dataset.value has been deprecated. Use dataset[()] instead.\n",
      "  collections.OrderedDict((name, ds.value) for name, ds in sorted(\n"
     ]
    },
    {
     "name": "stdout",
     "output_type": "stream",
     "text": [
      "    200/Unknown - 22s 112ms/step - loss: 4.9861 - num_tokens: 259798.0000 - num_tokens_no_oov: 251775.0000 - num_batches: 200.0000 - num_examples: 20000.0000 - accuracy: 0.0071 - accuracy_no_oov: 0.0073 - accuracy_no_oov_no_eos: 0.0078\n",
      "Sampling 10 new clients.\n"
     ]
    },
    {
     "name": "stderr",
     "output_type": "stream",
     "text": [
      "\r",
      " 49%|████▉     | 49/100 [35:34<39:49, 46.86s/it]"
     ]
    },
    {
     "name": "stdout",
     "output_type": "stream",
     "text": [
      "Round: 48\n",
      "   Loss: 4.36925936\n",
      "   num_batches: 517\n",
      "   num_examples: 8211\n",
      "   num_tokens: 111434\n",
      "   num_tokens_no_oov: 107949\n",
      "   accuracy: 0.09097\n",
      "   accuracy_no_oov: 0.09133\n",
      "Evaluating before round #49 on 20000 examples.\n"
     ]
    },
    {
     "name": "stderr",
     "output_type": "stream",
     "text": [
      "/home/joel_stremmel/anaconda3/envs/tff/lib/python3.7/site-packages/tensorflow_federated/python/simulation/hdf5_client_data.py:64: H5pyDeprecationWarning: dataset.value has been deprecated. Use dataset[()] instead.\n",
      "  collections.OrderedDict((name, ds.value) for name, ds in sorted(\n"
     ]
    },
    {
     "name": "stdout",
     "output_type": "stream",
     "text": [
      "    200/Unknown - 21s 107ms/step - loss: 4.9785 - num_tokens: 263846.0000 - num_tokens_no_oov: 256298.0000 - num_batches: 200.0000 - num_examples: 20000.0000 - accuracy: 0.0079 - accuracy_no_oov: 0.0082 - accuracy_no_oov_no_eos: 0.0087\n",
      "Sampling 10 new clients.\n"
     ]
    },
    {
     "name": "stderr",
     "output_type": "stream",
     "text": [
      "\r",
      " 50%|█████     | 50/100 [36:14<37:21, 44.82s/it]"
     ]
    },
    {
     "name": "stdout",
     "output_type": "stream",
     "text": [
      "Round: 49\n",
      "   Loss: 4.69855356\n",
      "   num_batches: 156\n",
      "   num_examples: 2420\n",
      "   num_tokens: 31727\n",
      "   num_tokens_no_oov: 30795\n",
      "   accuracy: 0.03228\n",
      "   accuracy_no_oov: 0.03325\n",
      "Evaluating before round #50 on 20000 examples.\n"
     ]
    },
    {
     "name": "stderr",
     "output_type": "stream",
     "text": [
      "/home/joel_stremmel/anaconda3/envs/tff/lib/python3.7/site-packages/tensorflow_federated/python/simulation/hdf5_client_data.py:64: H5pyDeprecationWarning: dataset.value has been deprecated. Use dataset[()] instead.\n",
      "  collections.OrderedDict((name, ds.value) for name, ds in sorted(\n"
     ]
    },
    {
     "name": "stdout",
     "output_type": "stream",
     "text": [
      "    200/Unknown - 22s 111ms/step - loss: 5.0057 - num_tokens: 263833.0000 - num_tokens_no_oov: 255157.0000 - num_batches: 200.0000 - num_examples: 20000.0000 - accuracy: 0.0083 - accuracy_no_oov: 0.0086 - accuracy_no_oov_no_eos: 0.0091\n",
      "Sampling 10 new clients.\n"
     ]
    },
    {
     "name": "stderr",
     "output_type": "stream",
     "text": [
      "\r",
      " 51%|█████     | 51/100 [36:55<35:40, 43.68s/it]"
     ]
    },
    {
     "name": "stdout",
     "output_type": "stream",
     "text": [
      "Round: 50\n",
      "   Loss: 4.60528803\n",
      "   num_batches: 167\n",
      "   num_examples: 2599\n",
      "   num_tokens: 33623\n",
      "   num_tokens_no_oov: 32692\n",
      "   accuracy: 0.03813\n",
      "   accuracy_no_oov: 0.03912\n",
      "Evaluating before round #51 on 20000 examples.\n"
     ]
    },
    {
     "name": "stderr",
     "output_type": "stream",
     "text": [
      "/home/joel_stremmel/anaconda3/envs/tff/lib/python3.7/site-packages/tensorflow_federated/python/simulation/hdf5_client_data.py:64: H5pyDeprecationWarning: dataset.value has been deprecated. Use dataset[()] instead.\n",
      "  collections.OrderedDict((name, ds.value) for name, ds in sorted(\n"
     ]
    },
    {
     "name": "stdout",
     "output_type": "stream",
     "text": [
      "    200/Unknown - 22s 112ms/step - loss: 4.9467 - num_tokens: 259918.0000 - num_tokens_no_oov: 251717.0000 - num_batches: 200.0000 - num_examples: 20000.0000 - accuracy: 0.0080 - accuracy_no_oov: 0.0082 - accuracy_no_oov_no_eos: 0.0088\n",
      "Sampling 10 new clients.\n"
     ]
    },
    {
     "name": "stderr",
     "output_type": "stream",
     "text": [
      "\r",
      " 52%|█████▏    | 52/100 [37:37<34:27, 43.07s/it]"
     ]
    },
    {
     "name": "stdout",
     "output_type": "stream",
     "text": [
      "Round: 51\n",
      "   Loss: 4.70835304\n",
      "   num_batches: 156\n",
      "   num_examples: 2386\n",
      "   num_tokens: 31987\n",
      "   num_tokens_no_oov: 31295\n",
      "   accuracy: 0.03977\n",
      "   accuracy_no_oov: 0.04065\n",
      "Evaluating before round #52 on 20000 examples.\n"
     ]
    },
    {
     "name": "stderr",
     "output_type": "stream",
     "text": [
      "/home/joel_stremmel/anaconda3/envs/tff/lib/python3.7/site-packages/tensorflow_federated/python/simulation/hdf5_client_data.py:64: H5pyDeprecationWarning: dataset.value has been deprecated. Use dataset[()] instead.\n",
      "  collections.OrderedDict((name, ds.value) for name, ds in sorted(\n"
     ]
    },
    {
     "name": "stdout",
     "output_type": "stream",
     "text": [
      "    200/Unknown - 22s 109ms/step - loss: 5.1199 - num_tokens: 276828.0000 - num_tokens_no_oov: 268753.0000 - num_batches: 200.0000 - num_examples: 20000.0000 - accuracy: 0.0095 - accuracy_no_oov: 0.0098 - accuracy_no_oov_no_eos: 0.0103\n",
      "Sampling 10 new clients.\n"
     ]
    },
    {
     "name": "stderr",
     "output_type": "stream",
     "text": [
      "\r",
      " 53%|█████▎    | 53/100 [38:18<33:15, 42.46s/it]"
     ]
    },
    {
     "name": "stdout",
     "output_type": "stream",
     "text": [
      "Round: 52\n",
      "   Loss: 4.54245996\n",
      "   num_batches: 177\n",
      "   num_examples: 2754\n",
      "   num_tokens: 34970\n",
      "   num_tokens_no_oov: 34030\n",
      "   accuracy: 0.03583\n",
      "   accuracy_no_oov: 0.03682\n",
      "Evaluating before round #53 on 20000 examples.\n"
     ]
    },
    {
     "name": "stderr",
     "output_type": "stream",
     "text": [
      "/home/joel_stremmel/anaconda3/envs/tff/lib/python3.7/site-packages/tensorflow_federated/python/simulation/hdf5_client_data.py:64: H5pyDeprecationWarning: dataset.value has been deprecated. Use dataset[()] instead.\n",
      "  collections.OrderedDict((name, ds.value) for name, ds in sorted(\n"
     ]
    },
    {
     "name": "stdout",
     "output_type": "stream",
     "text": [
      "    200/Unknown - 22s 111ms/step - loss: 4.8929 - num_tokens: 261809.0000 - num_tokens_no_oov: 252647.0000 - num_batches: 200.0000 - num_examples: 20000.0000 - accuracy: 0.0091 - accuracy_no_oov: 0.0095 - accuracy_no_oov_no_eos: 0.0099\n",
      "Sampling 10 new clients.\n"
     ]
    },
    {
     "name": "stderr",
     "output_type": "stream",
     "text": [
      "\r",
      " 54%|█████▍    | 54/100 [39:05<33:36, 43.83s/it]"
     ]
    },
    {
     "name": "stdout",
     "output_type": "stream",
     "text": [
      "Round: 53\n",
      "   Loss: 3.51265335\n",
      "   num_batches: 360\n",
      "   num_examples: 5676\n",
      "   num_tokens: 66057\n",
      "   num_tokens_no_oov: 64574\n",
      "   accuracy: 0.12937\n",
      "   accuracy_no_oov: 0.13222\n",
      "Evaluating before round #54 on 20000 examples.\n"
     ]
    },
    {
     "name": "stderr",
     "output_type": "stream",
     "text": [
      "/home/joel_stremmel/anaconda3/envs/tff/lib/python3.7/site-packages/tensorflow_federated/python/simulation/hdf5_client_data.py:64: H5pyDeprecationWarning: dataset.value has been deprecated. Use dataset[()] instead.\n",
      "  collections.OrderedDict((name, ds.value) for name, ds in sorted(\n"
     ]
    },
    {
     "name": "stdout",
     "output_type": "stream",
     "text": [
      "    200/Unknown - 22s 110ms/step - loss: 5.1649 - num_tokens: 275171.0000 - num_tokens_no_oov: 265988.0000 - num_batches: 200.0000 - num_examples: 20000.0000 - accuracy: 0.0100 - accuracy_no_oov: 0.0104 - accuracy_no_oov_no_eos: 0.0107\n",
      "Sampling 10 new clients.\n"
     ]
    },
    {
     "name": "stderr",
     "output_type": "stream",
     "text": [
      "\r",
      " 55%|█████▌    | 55/100 [39:46<32:18, 43.08s/it]"
     ]
    },
    {
     "name": "stdout",
     "output_type": "stream",
     "text": [
      "Round: 54\n",
      "   Loss: 4.85399294\n",
      "   num_batches: 177\n",
      "   num_examples: 2722\n",
      "   num_tokens: 37982\n",
      "   num_tokens_no_oov: 36985\n",
      "   accuracy: 0.04826\n",
      "   accuracy_no_oov: 0.04956\n",
      "Evaluating before round #55 on 20000 examples.\n"
     ]
    },
    {
     "name": "stderr",
     "output_type": "stream",
     "text": [
      "/home/joel_stremmel/anaconda3/envs/tff/lib/python3.7/site-packages/tensorflow_federated/python/simulation/hdf5_client_data.py:64: H5pyDeprecationWarning: dataset.value has been deprecated. Use dataset[()] instead.\n",
      "  collections.OrderedDict((name, ds.value) for name, ds in sorted(\n"
     ]
    },
    {
     "name": "stdout",
     "output_type": "stream",
     "text": [
      "    200/Unknown - 22s 109ms/step - loss: 4.6428 - num_tokens: 252615.0000 - num_tokens_no_oov: 244813.0000 - num_batches: 200.0000 - num_examples: 20000.0000 - accuracy: 0.0105 - accuracy_no_oov: 0.0108 - accuracy_no_oov_no_eos: 0.0112\n",
      "Sampling 10 new clients.\n"
     ]
    },
    {
     "name": "stderr",
     "output_type": "stream",
     "text": [
      "\r",
      " 56%|█████▌    | 56/100 [40:25<30:46, 41.96s/it]"
     ]
    },
    {
     "name": "stdout",
     "output_type": "stream",
     "text": [
      "Round: 55\n",
      "   Loss: 4.59105253\n",
      "   num_batches: 112\n",
      "   num_examples: 1708\n",
      "   num_tokens: 22056\n",
      "   num_tokens_no_oov: 21276\n",
      "   accuracy: 0.03595\n",
      "   accuracy_no_oov: 0.03727\n",
      "Evaluating before round #56 on 20000 examples.\n"
     ]
    },
    {
     "name": "stderr",
     "output_type": "stream",
     "text": [
      "/home/joel_stremmel/anaconda3/envs/tff/lib/python3.7/site-packages/tensorflow_federated/python/simulation/hdf5_client_data.py:64: H5pyDeprecationWarning: dataset.value has been deprecated. Use dataset[()] instead.\n",
      "  collections.OrderedDict((name, ds.value) for name, ds in sorted(\n"
     ]
    },
    {
     "name": "stdout",
     "output_type": "stream",
     "text": [
      "    200/Unknown - 22s 112ms/step - loss: 4.8385 - num_tokens: 263665.0000 - num_tokens_no_oov: 255450.0000 - num_batches: 200.0000 - num_examples: 20000.0000 - accuracy: 0.0116 - accuracy_no_oov: 0.0120 - accuracy_no_oov_no_eos: 0.0119\n",
      "Sampling 10 new clients.\n"
     ]
    },
    {
     "name": "stderr",
     "output_type": "stream",
     "text": [
      "\r",
      " 57%|█████▋    | 57/100 [41:13<31:24, 43.83s/it]"
     ]
    },
    {
     "name": "stdout",
     "output_type": "stream",
     "text": [
      "Round: 56\n",
      "   Loss: 4.76904440\n",
      "   num_batches: 392\n",
      "   num_examples: 6216\n",
      "   num_tokens: 93002\n",
      "   num_tokens_no_oov: 90504\n",
      "   accuracy: 0.08635\n",
      "   accuracy_no_oov: 0.08582\n",
      "Evaluating before round #57 on 20000 examples.\n"
     ]
    },
    {
     "name": "stderr",
     "output_type": "stream",
     "text": [
      "/home/joel_stremmel/anaconda3/envs/tff/lib/python3.7/site-packages/tensorflow_federated/python/simulation/hdf5_client_data.py:64: H5pyDeprecationWarning: dataset.value has been deprecated. Use dataset[()] instead.\n",
      "  collections.OrderedDict((name, ds.value) for name, ds in sorted(\n"
     ]
    },
    {
     "name": "stdout",
     "output_type": "stream",
     "text": [
      "    200/Unknown - 22s 112ms/step - loss: 4.8235 - num_tokens: 265692.0000 - num_tokens_no_oov: 257576.0000 - num_batches: 200.0000 - num_examples: 20000.0000 - accuracy: 0.0126 - accuracy_no_oov: 0.0130 - accuracy_no_oov_no_eos: 0.0126\n",
      "Saving model weights at iteration: 57\n",
      "\n",
      "Sampling 10 new clients.\n"
     ]
    },
    {
     "name": "stderr",
     "output_type": "stream",
     "text": [
      "\r",
      " 58%|█████▊    | 58/100 [42:07<32:40, 46.69s/it]"
     ]
    },
    {
     "name": "stdout",
     "output_type": "stream",
     "text": [
      "Round: 57\n",
      "   Loss: 4.20271397\n",
      "   num_batches: 533\n",
      "   num_examples: 8471\n",
      "   num_tokens: 115215\n",
      "   num_tokens_no_oov: 112135\n",
      "   accuracy: 0.11278\n",
      "   accuracy_no_oov: 0.11432\n",
      "Evaluating before round #58 on 20000 examples.\n"
     ]
    },
    {
     "name": "stderr",
     "output_type": "stream",
     "text": [
      "/home/joel_stremmel/anaconda3/envs/tff/lib/python3.7/site-packages/tensorflow_federated/python/simulation/hdf5_client_data.py:64: H5pyDeprecationWarning: dataset.value has been deprecated. Use dataset[()] instead.\n",
      "  collections.OrderedDict((name, ds.value) for name, ds in sorted(\n"
     ]
    },
    {
     "name": "stdout",
     "output_type": "stream",
     "text": [
      "    200/Unknown - 21s 105ms/step - loss: 4.8944 - num_tokens: 269814.0000 - num_tokens_no_oov: 260279.0000 - num_batches: 200.0000 - num_examples: 20000.0000 - accuracy: 0.0143 - accuracy_no_oov: 0.0148 - accuracy_no_oov_no_eos: 0.0142\n",
      "Saving model weights at iteration: 58\n",
      "\n",
      "Sampling 10 new clients.\n"
     ]
    },
    {
     "name": "stderr",
     "output_type": "stream",
     "text": [
      "\r",
      " 59%|█████▉    | 59/100 [42:47<30:38, 44.84s/it]"
     ]
    },
    {
     "name": "stdout",
     "output_type": "stream",
     "text": [
      "Round: 58\n",
      "   Loss: 4.75859785\n",
      "   num_batches: 182\n",
      "   num_examples: 2806\n",
      "   num_tokens: 39787\n",
      "   num_tokens_no_oov: 38519\n",
      "   accuracy: 0.05896\n",
      "   accuracy_no_oov: 0.06059\n",
      "Evaluating before round #59 on 20000 examples.\n"
     ]
    },
    {
     "name": "stderr",
     "output_type": "stream",
     "text": [
      "/home/joel_stremmel/anaconda3/envs/tff/lib/python3.7/site-packages/tensorflow_federated/python/simulation/hdf5_client_data.py:64: H5pyDeprecationWarning: dataset.value has been deprecated. Use dataset[()] instead.\n",
      "  collections.OrderedDict((name, ds.value) for name, ds in sorted(\n"
     ]
    },
    {
     "name": "stdout",
     "output_type": "stream",
     "text": [
      "    200/Unknown - 23s 115ms/step - loss: 4.7293 - num_tokens: 263576.0000 - num_tokens_no_oov: 255031.0000 - num_batches: 200.0000 - num_examples: 20000.0000 - accuracy: 0.0167 - accuracy_no_oov: 0.0173 - accuracy_no_oov_no_eos: 0.0154\n",
      "Saving model weights at iteration: 59\n",
      "\n",
      "Sampling 10 new clients.\n"
     ]
    },
    {
     "name": "stderr",
     "output_type": "stream",
     "text": [
      "\r",
      " 60%|██████    | 60/100 [43:27<28:47, 43.19s/it]"
     ]
    },
    {
     "name": "stdout",
     "output_type": "stream",
     "text": [
      "Round: 59\n",
      "   Loss: 4.33747387\n",
      "   num_batches: 135\n",
      "   num_examples: 2111\n",
      "   num_tokens: 27084\n",
      "   num_tokens_no_oov: 26415\n",
      "   accuracy: 0.05557\n",
      "   accuracy_no_oov: 0.05694\n",
      "Evaluating before round #60 on 20000 examples.\n"
     ]
    },
    {
     "name": "stderr",
     "output_type": "stream",
     "text": [
      "/home/joel_stremmel/anaconda3/envs/tff/lib/python3.7/site-packages/tensorflow_federated/python/simulation/hdf5_client_data.py:64: H5pyDeprecationWarning: dataset.value has been deprecated. Use dataset[()] instead.\n",
      "  collections.OrderedDict((name, ds.value) for name, ds in sorted(\n"
     ]
    },
    {
     "name": "stdout",
     "output_type": "stream",
     "text": [
      "    200/Unknown - 24s 119ms/step - loss: 4.7617 - num_tokens: 266935.0000 - num_tokens_no_oov: 258488.0000 - num_batches: 200.0000 - num_examples: 20000.0000 - accuracy: 0.0184 - accuracy_no_oov: 0.0190 - accuracy_no_oov_no_eos: 0.0158\n",
      "Saving model weights at iteration: 60\n",
      "\n",
      "Sampling 10 new clients.\n"
     ]
    },
    {
     "name": "stderr",
     "output_type": "stream",
     "text": [
      "\r",
      " 61%|██████    | 61/100 [44:07<27:33, 42.39s/it]"
     ]
    },
    {
     "name": "stdout",
     "output_type": "stream",
     "text": [
      "Round: 60\n",
      "   Loss: 4.23293114\n",
      "   num_batches: 156\n",
      "   num_examples: 2420\n",
      "   num_tokens: 30800\n",
      "   num_tokens_no_oov: 29945\n",
      "   accuracy: 0.06776\n",
      "   accuracy_no_oov: 0.06969\n",
      "Evaluating before round #61 on 20000 examples.\n"
     ]
    },
    {
     "name": "stderr",
     "output_type": "stream",
     "text": [
      "/home/joel_stremmel/anaconda3/envs/tff/lib/python3.7/site-packages/tensorflow_federated/python/simulation/hdf5_client_data.py:64: H5pyDeprecationWarning: dataset.value has been deprecated. Use dataset[()] instead.\n",
      "  collections.OrderedDict((name, ds.value) for name, ds in sorted(\n"
     ]
    },
    {
     "name": "stdout",
     "output_type": "stream",
     "text": [
      "    200/Unknown - 22s 108ms/step - loss: 4.6011 - num_tokens: 261386.0000 - num_tokens_no_oov: 254393.0000 - num_batches: 200.0000 - num_examples: 20000.0000 - accuracy: 0.0194 - accuracy_no_oov: 0.0199 - accuracy_no_oov_no_eos: 0.0163\n",
      "Saving model weights at iteration: 61\n",
      "\n",
      "Sampling 10 new clients.\n"
     ]
    },
    {
     "name": "stderr",
     "output_type": "stream",
     "text": [
      "\r",
      " 62%|██████▏   | 62/100 [44:53<27:26, 43.33s/it]"
     ]
    },
    {
     "name": "stdout",
     "output_type": "stream",
     "text": [
      "Round: 61\n",
      "   Loss: 4.06256580\n",
      "   num_batches: 343\n",
      "   num_examples: 5415\n",
      "   num_tokens: 68310\n",
      "   num_tokens_no_oov: 66236\n",
      "   accuracy: 0.09493\n",
      "   accuracy_no_oov: 0.09777\n",
      "Evaluating before round #62 on 20000 examples.\n"
     ]
    },
    {
     "name": "stderr",
     "output_type": "stream",
     "text": [
      "/home/joel_stremmel/anaconda3/envs/tff/lib/python3.7/site-packages/tensorflow_federated/python/simulation/hdf5_client_data.py:64: H5pyDeprecationWarning: dataset.value has been deprecated. Use dataset[()] instead.\n",
      "  collections.OrderedDict((name, ds.value) for name, ds in sorted(\n"
     ]
    },
    {
     "name": "stdout",
     "output_type": "stream",
     "text": [
      "    200/Unknown - 22s 108ms/step - loss: 4.6240 - num_tokens: 261166.0000 - num_tokens_no_oov: 253057.0000 - num_batches: 200.0000 - num_examples: 20000.0000 - accuracy: 0.0225 - accuracy_no_oov: 0.0233 - accuracy_no_oov_no_eos: 0.0175\n",
      "Saving model weights at iteration: 62\n",
      "\n",
      "Sampling 10 new clients.\n"
     ]
    },
    {
     "name": "stderr",
     "output_type": "stream",
     "text": [
      "\r",
      " 63%|██████▎   | 63/100 [45:32<25:58, 42.13s/it]"
     ]
    },
    {
     "name": "stdout",
     "output_type": "stream",
     "text": [
      "Round: 62\n",
      "   Loss: 4.29433393\n",
      "   num_batches: 125\n",
      "   num_examples: 1913\n",
      "   num_tokens: 24157\n",
      "   num_tokens_no_oov: 23544\n",
      "   accuracy: 0.05833\n",
      "   accuracy_no_oov: 0.05976\n",
      "Evaluating before round #63 on 20000 examples.\n"
     ]
    },
    {
     "name": "stderr",
     "output_type": "stream",
     "text": [
      "/home/joel_stremmel/anaconda3/envs/tff/lib/python3.7/site-packages/tensorflow_federated/python/simulation/hdf5_client_data.py:64: H5pyDeprecationWarning: dataset.value has been deprecated. Use dataset[()] instead.\n",
      "  collections.OrderedDict((name, ds.value) for name, ds in sorted(\n"
     ]
    },
    {
     "name": "stdout",
     "output_type": "stream",
     "text": [
      "    200/Unknown - 21s 106ms/step - loss: 4.6121 - num_tokens: 260145.0000 - num_tokens_no_oov: 252341.0000 - num_batches: 200.0000 - num_examples: 20000.0000 - accuracy: 0.0246 - accuracy_no_oov: 0.0254 - accuracy_no_oov_no_eos: 0.0179\n",
      "Saving model weights at iteration: 63\n",
      "\n",
      "Sampling 10 new clients.\n"
     ]
    },
    {
     "name": "stderr",
     "output_type": "stream",
     "text": [
      "\r",
      " 64%|██████▍   | 64/100 [46:13<25:00, 41.67s/it]"
     ]
    },
    {
     "name": "stdout",
     "output_type": "stream",
     "text": [
      "Round: 63\n",
      "   Loss: 4.29445982\n",
      "   num_batches: 169\n",
      "   num_examples: 2614\n",
      "   num_tokens: 33289\n",
      "   num_tokens_no_oov: 32405\n",
      "   accuracy: 0.06981\n",
      "   accuracy_no_oov: 0.07162\n",
      "Evaluating before round #64 on 20000 examples.\n"
     ]
    },
    {
     "name": "stderr",
     "output_type": "stream",
     "text": [
      "/home/joel_stremmel/anaconda3/envs/tff/lib/python3.7/site-packages/tensorflow_federated/python/simulation/hdf5_client_data.py:64: H5pyDeprecationWarning: dataset.value has been deprecated. Use dataset[()] instead.\n",
      "  collections.OrderedDict((name, ds.value) for name, ds in sorted(\n"
     ]
    },
    {
     "name": "stdout",
     "output_type": "stream",
     "text": [
      "    200/Unknown - 22s 110ms/step - loss: 4.4856 - num_tokens: 253520.0000 - num_tokens_no_oov: 244921.0000 - num_batches: 200.0000 - num_examples: 20000.0000 - accuracy: 0.0269 - accuracy_no_oov: 0.0279 - accuracy_no_oov_no_eos: 0.0184\n",
      "Saving model weights at iteration: 64\n",
      "\n",
      "Sampling 10 new clients.\n"
     ]
    },
    {
     "name": "stderr",
     "output_type": "stream",
     "text": [
      "\r",
      " 65%|██████▌   | 65/100 [46:57<24:51, 42.62s/it]"
     ]
    },
    {
     "name": "stdout",
     "output_type": "stream",
     "text": [
      "Round: 64\n",
      "   Loss: 4.44444275\n",
      "   num_batches: 295\n",
      "   num_examples: 4656\n",
      "   num_tokens: 63490\n",
      "   num_tokens_no_oov: 61634\n",
      "   accuracy: 0.08379\n",
      "   accuracy_no_oov: 0.08572\n",
      "Evaluating before round #65 on 20000 examples.\n"
     ]
    },
    {
     "name": "stderr",
     "output_type": "stream",
     "text": [
      "/home/joel_stremmel/anaconda3/envs/tff/lib/python3.7/site-packages/tensorflow_federated/python/simulation/hdf5_client_data.py:64: H5pyDeprecationWarning: dataset.value has been deprecated. Use dataset[()] instead.\n",
      "  collections.OrderedDict((name, ds.value) for name, ds in sorted(\n"
     ]
    },
    {
     "name": "stdout",
     "output_type": "stream",
     "text": [
      "    200/Unknown - 22s 110ms/step - loss: 4.5607 - num_tokens: 261212.0000 - num_tokens_no_oov: 253072.0000 - num_batches: 200.0000 - num_examples: 20000.0000 - accuracy: 0.0302 - accuracy_no_oov: 0.0311 - accuracy_no_oov_no_eos: 0.0200\n",
      "Saving model weights at iteration: 65\n",
      "\n",
      "Sampling 10 new clients.\n"
     ]
    },
    {
     "name": "stderr",
     "output_type": "stream",
     "text": [
      "\r",
      " 66%|██████▌   | 66/100 [47:42<24:28, 43.19s/it]"
     ]
    },
    {
     "name": "stdout",
     "output_type": "stream",
     "text": [
      "Round: 65\n",
      "   Loss: 4.08099651\n",
      "   num_batches: 260\n",
      "   num_examples: 4091\n",
      "   num_tokens: 53067\n",
      "   num_tokens_no_oov: 51719\n",
      "   accuracy: 0.11107\n",
      "   accuracy_no_oov: 0.11336\n",
      "Evaluating before round #66 on 20000 examples.\n"
     ]
    },
    {
     "name": "stderr",
     "output_type": "stream",
     "text": [
      "/home/joel_stremmel/anaconda3/envs/tff/lib/python3.7/site-packages/tensorflow_federated/python/simulation/hdf5_client_data.py:64: H5pyDeprecationWarning: dataset.value has been deprecated. Use dataset[()] instead.\n",
      "  collections.OrderedDict((name, ds.value) for name, ds in sorted(\n"
     ]
    },
    {
     "name": "stdout",
     "output_type": "stream",
     "text": [
      "    200/Unknown - 22s 108ms/step - loss: 4.6658 - num_tokens: 264441.0000 - num_tokens_no_oov: 254975.0000 - num_batches: 200.0000 - num_examples: 20000.0000 - accuracy: 0.0352 - accuracy_no_oov: 0.0365 - accuracy_no_oov_no_eos: 0.0228\n",
      "Saving model weights at iteration: 66\n",
      "\n",
      "Sampling 10 new clients.\n"
     ]
    },
    {
     "name": "stderr",
     "output_type": "stream",
     "text": [
      "\r",
      " 67%|██████▋   | 67/100 [48:25<23:38, 42.99s/it]"
     ]
    },
    {
     "name": "stdout",
     "output_type": "stream",
     "text": [
      "Round: 66\n",
      "   Loss: 4.38419914\n",
      "   num_batches: 195\n",
      "   num_examples: 3068\n",
      "   num_tokens: 41821\n",
      "   num_tokens_no_oov: 40736\n",
      "   accuracy: 0.08558\n",
      "   accuracy_no_oov: 0.08724\n",
      "Evaluating before round #67 on 20000 examples.\n"
     ]
    },
    {
     "name": "stderr",
     "output_type": "stream",
     "text": [
      "/home/joel_stremmel/anaconda3/envs/tff/lib/python3.7/site-packages/tensorflow_federated/python/simulation/hdf5_client_data.py:64: H5pyDeprecationWarning: dataset.value has been deprecated. Use dataset[()] instead.\n",
      "  collections.OrderedDict((name, ds.value) for name, ds in sorted(\n"
     ]
    },
    {
     "name": "stdout",
     "output_type": "stream",
     "text": [
      "    200/Unknown - 22s 110ms/step - loss: 4.5024 - num_tokens: 258707.0000 - num_tokens_no_oov: 250139.0000 - num_batches: 200.0000 - num_examples: 20000.0000 - accuracy: 0.0394 - accuracy_no_oov: 0.0407 - accuracy_no_oov_no_eos: 0.0238\n",
      "Saving model weights at iteration: 67\n",
      "\n",
      "Sampling 10 new clients.\n"
     ]
    },
    {
     "name": "stderr",
     "output_type": "stream",
     "text": [
      "\r",
      " 68%|██████▊   | 68/100 [49:05<22:32, 42.28s/it]"
     ]
    },
    {
     "name": "stdout",
     "output_type": "stream",
     "text": [
      "Round: 67\n",
      "   Loss: 4.08824635\n",
      "   num_batches: 140\n",
      "   num_examples: 2168\n",
      "   num_tokens: 27107\n",
      "   num_tokens_no_oov: 26188\n",
      "   accuracy: 0.07540\n",
      "   accuracy_no_oov: 0.07706\n",
      "Evaluating before round #68 on 20000 examples.\n"
     ]
    },
    {
     "name": "stderr",
     "output_type": "stream",
     "text": [
      "/home/joel_stremmel/anaconda3/envs/tff/lib/python3.7/site-packages/tensorflow_federated/python/simulation/hdf5_client_data.py:64: H5pyDeprecationWarning: dataset.value has been deprecated. Use dataset[()] instead.\n",
      "  collections.OrderedDict((name, ds.value) for name, ds in sorted(\n"
     ]
    },
    {
     "name": "stdout",
     "output_type": "stream",
     "text": [
      "    200/Unknown - 22s 111ms/step - loss: 4.6520 - num_tokens: 267666.0000 - num_tokens_no_oov: 258932.0000 - num_batches: 200.0000 - num_examples: 20000.0000 - accuracy: 0.0409 - accuracy_no_oov: 0.0423 - accuracy_no_oov_no_eos: 0.0245\n",
      "Saving model weights at iteration: 68\n",
      "\n",
      "Sampling 10 new clients.\n"
     ]
    },
    {
     "name": "stderr",
     "output_type": "stream",
     "text": [
      "\r",
      " 69%|██████▉   | 69/100 [49:44<21:20, 41.31s/it]"
     ]
    },
    {
     "name": "stdout",
     "output_type": "stream",
     "text": [
      "Round: 68\n",
      "   Loss: 4.79657030\n",
      "   num_batches: 145\n",
      "   num_examples: 2263\n",
      "   num_tokens: 31903\n",
      "   num_tokens_no_oov: 30698\n",
      "   accuracy: 0.06579\n",
      "   accuracy_no_oov: 0.06763\n",
      "Evaluating before round #69 on 20000 examples.\n"
     ]
    },
    {
     "name": "stderr",
     "output_type": "stream",
     "text": [
      "/home/joel_stremmel/anaconda3/envs/tff/lib/python3.7/site-packages/tensorflow_federated/python/simulation/hdf5_client_data.py:64: H5pyDeprecationWarning: dataset.value has been deprecated. Use dataset[()] instead.\n",
      "  collections.OrderedDict((name, ds.value) for name, ds in sorted(\n"
     ]
    },
    {
     "name": "stdout",
     "output_type": "stream",
     "text": [
      "    200/Unknown - 21s 106ms/step - loss: 4.6001 - num_tokens: 264820.0000 - num_tokens_no_oov: 256514.0000 - num_batches: 200.0000 - num_examples: 20000.0000 - accuracy: 0.0437 - accuracy_no_oov: 0.0451 - accuracy_no_oov_no_eos: 0.0242\n",
      "Saving model weights at iteration: 69\n",
      "\n",
      "Sampling 10 new clients.\n"
     ]
    },
    {
     "name": "stderr",
     "output_type": "stream",
     "text": [
      "\r",
      " 70%|███████   | 70/100 [50:28<20:59, 41.97s/it]"
     ]
    },
    {
     "name": "stdout",
     "output_type": "stream",
     "text": [
      "Round: 69\n",
      "   Loss: 4.19326878\n",
      "   num_batches: 255\n",
      "   num_examples: 3996\n",
      "   num_tokens: 52427\n",
      "   num_tokens_no_oov: 50785\n",
      "   accuracy: 0.09629\n",
      "   accuracy_no_oov: 0.09875\n",
      "Evaluating before round #70 on 20000 examples.\n"
     ]
    },
    {
     "name": "stderr",
     "output_type": "stream",
     "text": [
      "/home/joel_stremmel/anaconda3/envs/tff/lib/python3.7/site-packages/tensorflow_federated/python/simulation/hdf5_client_data.py:64: H5pyDeprecationWarning: dataset.value has been deprecated. Use dataset[()] instead.\n",
      "  collections.OrderedDict((name, ds.value) for name, ds in sorted(\n"
     ]
    },
    {
     "name": "stdout",
     "output_type": "stream",
     "text": [
      "    200/Unknown - 21s 107ms/step - loss: 4.5116 - num_tokens: 264125.0000 - num_tokens_no_oov: 254880.0000 - num_batches: 200.0000 - num_examples: 20000.0000 - accuracy: 0.0491 - accuracy_no_oov: 0.0508 - accuracy_no_oov_no_eos: 0.0267\n",
      "Saving model weights at iteration: 70\n",
      "\n",
      "Sampling 10 new clients.\n"
     ]
    },
    {
     "name": "stderr",
     "output_type": "stream",
     "text": [
      "\r",
      " 71%|███████   | 71/100 [51:10<20:20, 42.08s/it]"
     ]
    },
    {
     "name": "stdout",
     "output_type": "stream",
     "text": [
      "Round: 70\n",
      "   Loss: 4.09976196\n",
      "   num_batches: 219\n",
      "   num_examples: 3427\n",
      "   num_tokens: 43879\n",
      "   num_tokens_no_oov: 42507\n",
      "   accuracy: 0.08642\n",
      "   accuracy_no_oov: 0.08829\n",
      "Evaluating before round #71 on 20000 examples.\n"
     ]
    },
    {
     "name": "stderr",
     "output_type": "stream",
     "text": [
      "/home/joel_stremmel/anaconda3/envs/tff/lib/python3.7/site-packages/tensorflow_federated/python/simulation/hdf5_client_data.py:64: H5pyDeprecationWarning: dataset.value has been deprecated. Use dataset[()] instead.\n",
      "  collections.OrderedDict((name, ds.value) for name, ds in sorted(\n"
     ]
    },
    {
     "name": "stdout",
     "output_type": "stream",
     "text": [
      "    200/Unknown - 22s 109ms/step - loss: 4.7001 - num_tokens: 272501.0000 - num_tokens_no_oov: 262948.0000 - num_batches: 200.0000 - num_examples: 20000.0000 - accuracy: 0.0478 - accuracy_no_oov: 0.0495 - accuracy_no_oov_no_eos: 0.0257\n",
      "Sampling 10 new clients.\n"
     ]
    },
    {
     "name": "stderr",
     "output_type": "stream",
     "text": [
      "\r",
      " 72%|███████▏  | 72/100 [52:07<21:40, 46.43s/it]"
     ]
    },
    {
     "name": "stdout",
     "output_type": "stream",
     "text": [
      "Round: 71\n",
      "   Loss: 4.10809326\n",
      "   num_batches: 722\n",
      "   num_examples: 11480\n",
      "   num_tokens: 161873\n",
      "   num_tokens_no_oov: 154034\n",
      "   accuracy: 0.13529\n",
      "   accuracy_no_oov: 0.12913\n",
      "Evaluating before round #72 on 20000 examples.\n"
     ]
    },
    {
     "name": "stderr",
     "output_type": "stream",
     "text": [
      "/home/joel_stremmel/anaconda3/envs/tff/lib/python3.7/site-packages/tensorflow_federated/python/simulation/hdf5_client_data.py:64: H5pyDeprecationWarning: dataset.value has been deprecated. Use dataset[()] instead.\n",
      "  collections.OrderedDict((name, ds.value) for name, ds in sorted(\n"
     ]
    },
    {
     "name": "stdout",
     "output_type": "stream",
     "text": [
      "    200/Unknown - 22s 111ms/step - loss: 4.5402 - num_tokens: 264923.0000 - num_tokens_no_oov: 256341.0000 - num_batches: 200.0000 - num_examples: 20000.0000 - accuracy: 0.0524 - accuracy_no_oov: 0.0542 - accuracy_no_oov_no_eos: 0.0271\n",
      "Saving model weights at iteration: 72\n",
      "\n",
      "Sampling 10 new clients.\n"
     ]
    },
    {
     "name": "stderr",
     "output_type": "stream",
     "text": [
      "\r",
      " 73%|███████▎  | 73/100 [52:48<20:14, 44.98s/it]"
     ]
    },
    {
     "name": "stdout",
     "output_type": "stream",
     "text": [
      "Round: 72\n",
      "   Loss: 4.59710693\n",
      "   num_batches: 180\n",
      "   num_examples: 2810\n",
      "   num_tokens: 39032\n",
      "   num_tokens_no_oov: 37512\n",
      "   accuracy: 0.08275\n",
      "   accuracy_no_oov: 0.08283\n",
      "Evaluating before round #73 on 20000 examples.\n"
     ]
    },
    {
     "name": "stderr",
     "output_type": "stream",
     "text": [
      "/home/joel_stremmel/anaconda3/envs/tff/lib/python3.7/site-packages/tensorflow_federated/python/simulation/hdf5_client_data.py:64: H5pyDeprecationWarning: dataset.value has been deprecated. Use dataset[()] instead.\n",
      "  collections.OrderedDict((name, ds.value) for name, ds in sorted(\n"
     ]
    },
    {
     "name": "stdout",
     "output_type": "stream",
     "text": [
      "    200/Unknown - 22s 109ms/step - loss: 4.6033 - num_tokens: 270609.0000 - num_tokens_no_oov: 262793.0000 - num_batches: 200.0000 - num_examples: 20000.0000 - accuracy: 0.0543 - accuracy_no_oov: 0.0558 - accuracy_no_oov_no_eos: 0.0282\n",
      "Saving model weights at iteration: 73\n",
      "\n",
      "Sampling 10 new clients.\n"
     ]
    },
    {
     "name": "stderr",
     "output_type": "stream",
     "text": [
      "\r",
      " 74%|███████▍  | 74/100 [53:35<19:41, 45.44s/it]"
     ]
    },
    {
     "name": "stdout",
     "output_type": "stream",
     "text": [
      "Round: 73\n",
      "   Loss: 3.62230086\n",
      "   num_batches: 377\n",
      "   num_examples: 5966\n",
      "   num_tokens: 70608\n",
      "   num_tokens_no_oov: 68004\n",
      "   accuracy: 0.10927\n",
      "   accuracy_no_oov: 0.10683\n",
      "Evaluating before round #74 on 20000 examples.\n"
     ]
    },
    {
     "name": "stderr",
     "output_type": "stream",
     "text": [
      "/home/joel_stremmel/anaconda3/envs/tff/lib/python3.7/site-packages/tensorflow_federated/python/simulation/hdf5_client_data.py:64: H5pyDeprecationWarning: dataset.value has been deprecated. Use dataset[()] instead.\n",
      "  collections.OrderedDict((name, ds.value) for name, ds in sorted(\n"
     ]
    },
    {
     "name": "stdout",
     "output_type": "stream",
     "text": [
      "    200/Unknown - 22s 108ms/step - loss: 4.5795 - num_tokens: 268585.0000 - num_tokens_no_oov: 259872.0000 - num_batches: 200.0000 - num_examples: 20000.0000 - accuracy: 0.0586 - accuracy_no_oov: 0.0604 - accuracy_no_oov_no_eos: 0.0303\n",
      "Saving model weights at iteration: 74\n",
      "\n",
      "Sampling 10 new clients.\n"
     ]
    },
    {
     "name": "stderr",
     "output_type": "stream",
     "text": [
      "\r",
      " 75%|███████▌  | 75/100 [54:15<18:16, 43.88s/it]"
     ]
    },
    {
     "name": "stdout",
     "output_type": "stream",
     "text": [
      "Round: 74\n",
      "   Loss: 3.96061635\n",
      "   num_batches: 123\n",
      "   num_examples: 1892\n",
      "   num_tokens: 23079\n",
      "   num_tokens_no_oov: 22478\n",
      "   accuracy: 0.09368\n",
      "   accuracy_no_oov: 0.09596\n",
      "Evaluating before round #75 on 20000 examples.\n"
     ]
    },
    {
     "name": "stderr",
     "output_type": "stream",
     "text": [
      "/home/joel_stremmel/anaconda3/envs/tff/lib/python3.7/site-packages/tensorflow_federated/python/simulation/hdf5_client_data.py:64: H5pyDeprecationWarning: dataset.value has been deprecated. Use dataset[()] instead.\n",
      "  collections.OrderedDict((name, ds.value) for name, ds in sorted(\n"
     ]
    },
    {
     "name": "stdout",
     "output_type": "stream",
     "text": [
      "    200/Unknown - 21s 106ms/step - loss: 4.5873 - num_tokens: 272298.0000 - num_tokens_no_oov: 265296.0000 - num_batches: 200.0000 - num_examples: 20000.0000 - accuracy: 0.0597 - accuracy_no_oov: 0.0612 - accuracy_no_oov_no_eos: 0.0289\n",
      "Saving model weights at iteration: 75\n",
      "\n",
      "Sampling 10 new clients.\n"
     ]
    },
    {
     "name": "stderr",
     "output_type": "stream",
     "text": [
      "\r",
      " 76%|███████▌  | 76/100 [55:01<17:46, 44.42s/it]"
     ]
    },
    {
     "name": "stdout",
     "output_type": "stream",
     "text": [
      "Round: 75\n",
      "   Loss: 4.21379948\n",
      "   num_batches: 377\n",
      "   num_examples: 5947\n",
      "   num_tokens: 79681\n",
      "   num_tokens_no_oov: 77335\n",
      "   accuracy: 0.10679\n",
      "   accuracy_no_oov: 0.10925\n",
      "Evaluating before round #76 on 20000 examples.\n"
     ]
    },
    {
     "name": "stderr",
     "output_type": "stream",
     "text": [
      "/home/joel_stremmel/anaconda3/envs/tff/lib/python3.7/site-packages/tensorflow_federated/python/simulation/hdf5_client_data.py:64: H5pyDeprecationWarning: dataset.value has been deprecated. Use dataset[()] instead.\n",
      "  collections.OrderedDict((name, ds.value) for name, ds in sorted(\n"
     ]
    },
    {
     "name": "stdout",
     "output_type": "stream",
     "text": [
      "    200/Unknown - 22s 109ms/step - loss: 4.6196 - num_tokens: 271577.0000 - num_tokens_no_oov: 262646.0000 - num_batches: 200.0000 - num_examples: 20000.0000 - accuracy: 0.0586 - accuracy_no_oov: 0.0605 - accuracy_no_oov_no_eos: 0.0296\n",
      "Sampling 10 new clients.\n"
     ]
    },
    {
     "name": "stderr",
     "output_type": "stream",
     "text": [
      "\r",
      " 77%|███████▋  | 77/100 [55:40<16:24, 42.82s/it]"
     ]
    },
    {
     "name": "stdout",
     "output_type": "stream",
     "text": [
      "Round: 76\n",
      "   Loss: 3.92024374\n",
      "   num_batches: 101\n",
      "   num_examples: 1528\n",
      "   num_tokens: 18588\n",
      "   num_tokens_no_oov: 18107\n",
      "   accuracy: 0.08796\n",
      "   accuracy_no_oov: 0.09013\n",
      "Evaluating before round #77 on 20000 examples.\n"
     ]
    },
    {
     "name": "stderr",
     "output_type": "stream",
     "text": [
      "/home/joel_stremmel/anaconda3/envs/tff/lib/python3.7/site-packages/tensorflow_federated/python/simulation/hdf5_client_data.py:64: H5pyDeprecationWarning: dataset.value has been deprecated. Use dataset[()] instead.\n",
      "  collections.OrderedDict((name, ds.value) for name, ds in sorted(\n"
     ]
    },
    {
     "name": "stdout",
     "output_type": "stream",
     "text": [
      "    200/Unknown - 22s 108ms/step - loss: 4.3355 - num_tokens: 255786.0000 - num_tokens_no_oov: 247368.0000 - num_batches: 200.0000 - num_examples: 20000.0000 - accuracy: 0.0624 - accuracy_no_oov: 0.0644 - accuracy_no_oov_no_eos: 0.0299\n",
      "Saving model weights at iteration: 77\n",
      "\n",
      "Sampling 10 new clients.\n"
     ]
    },
    {
     "name": "stderr",
     "output_type": "stream",
     "text": [
      "\r",
      " 78%|███████▊  | 78/100 [56:24<15:52, 43.30s/it]"
     ]
    },
    {
     "name": "stdout",
     "output_type": "stream",
     "text": [
      "Round: 77\n",
      "   Loss: 4.25461006\n",
      "   num_batches: 343\n",
      "   num_examples: 5423\n",
      "   num_tokens: 73724\n",
      "   num_tokens_no_oov: 71503\n",
      "   accuracy: 0.10073\n",
      "   accuracy_no_oov: 0.10089\n",
      "Evaluating before round #78 on 20000 examples.\n"
     ]
    },
    {
     "name": "stderr",
     "output_type": "stream",
     "text": [
      "/home/joel_stremmel/anaconda3/envs/tff/lib/python3.7/site-packages/tensorflow_federated/python/simulation/hdf5_client_data.py:64: H5pyDeprecationWarning: dataset.value has been deprecated. Use dataset[()] instead.\n",
      "  collections.OrderedDict((name, ds.value) for name, ds in sorted(\n"
     ]
    },
    {
     "name": "stdout",
     "output_type": "stream",
     "text": [
      "    200/Unknown - 22s 110ms/step - loss: 4.3413 - num_tokens: 257615.0000 - num_tokens_no_oov: 249117.0000 - num_batches: 200.0000 - num_examples: 20000.0000 - accuracy: 0.0646 - accuracy_no_oov: 0.0665 - accuracy_no_oov_no_eos: 0.0308\n",
      "Saving model weights at iteration: 78\n",
      "\n",
      "Sampling 10 new clients.\n"
     ]
    },
    {
     "name": "stderr",
     "output_type": "stream",
     "text": [
      "\r",
      " 79%|███████▉  | 79/100 [57:08<15:14, 43.55s/it]"
     ]
    },
    {
     "name": "stdout",
     "output_type": "stream",
     "text": [
      "Round: 78\n",
      "   Loss: 4.07914257\n",
      "   num_batches: 217\n",
      "   num_examples: 3390\n",
      "   num_tokens: 43371\n",
      "   num_tokens_no_oov: 42008\n",
      "   accuracy: 0.11058\n",
      "   accuracy_no_oov: 0.11291\n",
      "Evaluating before round #79 on 20000 examples.\n"
     ]
    },
    {
     "name": "stderr",
     "output_type": "stream",
     "text": [
      "/home/joel_stremmel/anaconda3/envs/tff/lib/python3.7/site-packages/tensorflow_federated/python/simulation/hdf5_client_data.py:64: H5pyDeprecationWarning: dataset.value has been deprecated. Use dataset[()] instead.\n",
      "  collections.OrderedDict((name, ds.value) for name, ds in sorted(\n"
     ]
    },
    {
     "name": "stdout",
     "output_type": "stream",
     "text": [
      "    200/Unknown - 22s 108ms/step - loss: 4.4465 - num_tokens: 267293.0000 - num_tokens_no_oov: 259478.0000 - num_batches: 200.0000 - num_examples: 20000.0000 - accuracy: 0.0662 - accuracy_no_oov: 0.0680 - accuracy_no_oov_no_eos: 0.0324\n",
      "Saving model weights at iteration: 79\n",
      "\n",
      "Sampling 10 new clients.\n"
     ]
    },
    {
     "name": "stderr",
     "output_type": "stream",
     "text": [
      "\r",
      " 80%|████████  | 80/100 [57:48<14:06, 42.34s/it]"
     ]
    },
    {
     "name": "stdout",
     "output_type": "stream",
     "text": [
      "Round: 79\n",
      "   Loss: 4.51074743\n",
      "   num_batches: 122\n",
      "   num_examples: 1872\n",
      "   num_tokens: 25767\n",
      "   num_tokens_no_oov: 25077\n",
      "   accuracy: 0.09372\n",
      "   accuracy_no_oov: 0.09590\n",
      "Evaluating before round #80 on 20000 examples.\n"
     ]
    },
    {
     "name": "stderr",
     "output_type": "stream",
     "text": [
      "/home/joel_stremmel/anaconda3/envs/tff/lib/python3.7/site-packages/tensorflow_federated/python/simulation/hdf5_client_data.py:64: H5pyDeprecationWarning: dataset.value has been deprecated. Use dataset[()] instead.\n",
      "  collections.OrderedDict((name, ds.value) for name, ds in sorted(\n"
     ]
    },
    {
     "name": "stdout",
     "output_type": "stream",
     "text": [
      "    200/Unknown - 22s 109ms/step - loss: 4.3998 - num_tokens: 264908.0000 - num_tokens_no_oov: 256437.0000 - num_batches: 200.0000 - num_examples: 20000.0000 - accuracy: 0.0696 - accuracy_no_oov: 0.0716 - accuracy_no_oov_no_eos: 0.0335\n",
      "Saving model weights at iteration: 80\n",
      "\n",
      "Sampling 10 new clients.\n"
     ]
    },
    {
     "name": "stderr",
     "output_type": "stream",
     "text": [
      "\r",
      " 81%|████████  | 81/100 [58:29<13:17, 41.95s/it]"
     ]
    },
    {
     "name": "stdout",
     "output_type": "stream",
     "text": [
      "Round: 80\n",
      "   Loss: 4.11092663\n",
      "   num_batches: 164\n",
      "   num_examples: 2527\n",
      "   num_tokens: 32637\n",
      "   num_tokens_no_oov: 31739\n",
      "   accuracy: 0.10755\n",
      "   accuracy_no_oov: 0.11012\n",
      "Evaluating before round #81 on 20000 examples.\n"
     ]
    },
    {
     "name": "stderr",
     "output_type": "stream",
     "text": [
      "/home/joel_stremmel/anaconda3/envs/tff/lib/python3.7/site-packages/tensorflow_federated/python/simulation/hdf5_client_data.py:64: H5pyDeprecationWarning: dataset.value has been deprecated. Use dataset[()] instead.\n",
      "  collections.OrderedDict((name, ds.value) for name, ds in sorted(\n"
     ]
    },
    {
     "name": "stdout",
     "output_type": "stream",
     "text": [
      "    200/Unknown - 22s 108ms/step - loss: 4.4948 - num_tokens: 270600.0000 - num_tokens_no_oov: 262187.0000 - num_batches: 200.0000 - num_examples: 20000.0000 - accuracy: 0.0678 - accuracy_no_oov: 0.0696 - accuracy_no_oov_no_eos: 0.0330\n",
      "Sampling 10 new clients.\n"
     ]
    },
    {
     "name": "stderr",
     "output_type": "stream",
     "text": [
      "\r",
      " 82%|████████▏ | 82/100 [59:06<12:09, 40.55s/it]"
     ]
    },
    {
     "name": "stdout",
     "output_type": "stream",
     "text": [
      "Round: 81\n",
      "   Loss: 4.16114140\n",
      "   num_batches: 109\n",
      "   num_examples: 1685\n",
      "   num_tokens: 22212\n",
      "   num_tokens_no_oov: 21523\n",
      "   accuracy: 0.10566\n",
      "   accuracy_no_oov: 0.10826\n",
      "Evaluating before round #82 on 20000 examples.\n"
     ]
    },
    {
     "name": "stderr",
     "output_type": "stream",
     "text": [
      "/home/joel_stremmel/anaconda3/envs/tff/lib/python3.7/site-packages/tensorflow_federated/python/simulation/hdf5_client_data.py:64: H5pyDeprecationWarning: dataset.value has been deprecated. Use dataset[()] instead.\n",
      "  collections.OrderedDict((name, ds.value) for name, ds in sorted(\n"
     ]
    },
    {
     "name": "stdout",
     "output_type": "stream",
     "text": [
      "    200/Unknown - 22s 109ms/step - loss: 4.2357 - num_tokens: 257594.0000 - num_tokens_no_oov: 249635.0000 - num_batches: 200.0000 - num_examples: 20000.0000 - accuracy: 0.0723 - accuracy_no_oov: 0.0743 - accuracy_no_oov_no_eos: 0.0351\n",
      "Saving model weights at iteration: 82\n",
      "\n",
      "Sampling 10 new clients.\n"
     ]
    },
    {
     "name": "stderr",
     "output_type": "stream",
     "text": [
      "\r",
      " 83%|████████▎ | 83/100 [59:55<12:11, 43.01s/it]"
     ]
    },
    {
     "name": "stdout",
     "output_type": "stream",
     "text": [
      "Round: 82\n",
      "   Loss: 3.79187465\n",
      "   num_batches: 384\n",
      "   num_examples: 6086\n",
      "   num_tokens: 77669\n",
      "   num_tokens_no_oov: 75458\n",
      "   accuracy: 0.13622\n",
      "   accuracy_no_oov: 0.13820\n",
      "Evaluating before round #83 on 20000 examples.\n"
     ]
    },
    {
     "name": "stderr",
     "output_type": "stream",
     "text": [
      "/home/joel_stremmel/anaconda3/envs/tff/lib/python3.7/site-packages/tensorflow_federated/python/simulation/hdf5_client_data.py:64: H5pyDeprecationWarning: dataset.value has been deprecated. Use dataset[()] instead.\n",
      "  collections.OrderedDict((name, ds.value) for name, ds in sorted(\n"
     ]
    },
    {
     "name": "stdout",
     "output_type": "stream",
     "text": [
      "    200/Unknown - 22s 108ms/step - loss: 4.2857 - num_tokens: 257835.0000 - num_tokens_no_oov: 249224.0000 - num_batches: 200.0000 - num_examples: 20000.0000 - accuracy: 0.0739 - accuracy_no_oov: 0.0762 - accuracy_no_oov_no_eos: 0.0356\n",
      "Saving model weights at iteration: 83\n",
      "\n",
      "Sampling 10 new clients.\n"
     ]
    },
    {
     "name": "stderr",
     "output_type": "stream",
     "text": [
      "\r",
      " 84%|████████▍ | 84/100 [1:00:38<11:28, 43.02s/it]"
     ]
    },
    {
     "name": "stdout",
     "output_type": "stream",
     "text": [
      "Round: 83\n",
      "   Loss: 4.32619476\n",
      "   num_batches: 212\n",
      "   num_examples: 3303\n",
      "   num_tokens: 45115\n",
      "   num_tokens_no_oov: 43797\n",
      "   accuracy: 0.09846\n",
      "   accuracy_no_oov: 0.09978\n",
      "Evaluating before round #84 on 20000 examples.\n"
     ]
    },
    {
     "name": "stderr",
     "output_type": "stream",
     "text": [
      "/home/joel_stremmel/anaconda3/envs/tff/lib/python3.7/site-packages/tensorflow_federated/python/simulation/hdf5_client_data.py:64: H5pyDeprecationWarning: dataset.value has been deprecated. Use dataset[()] instead.\n",
      "  collections.OrderedDict((name, ds.value) for name, ds in sorted(\n"
     ]
    },
    {
     "name": "stdout",
     "output_type": "stream",
     "text": [
      "    200/Unknown - 21s 107ms/step - loss: 4.6416 - num_tokens: 278428.0000 - num_tokens_no_oov: 269494.0000 - num_batches: 200.0000 - num_examples: 20000.0000 - accuracy: 0.0714 - accuracy_no_oov: 0.0734 - accuracy_no_oov_no_eos: 0.0365\n",
      "Sampling 10 new clients.\n"
     ]
    },
    {
     "name": "stderr",
     "output_type": "stream",
     "text": [
      "\r",
      " 85%|████████▌ | 85/100 [1:01:20<10:43, 42.88s/it]"
     ]
    },
    {
     "name": "stdout",
     "output_type": "stream",
     "text": [
      "Round: 84\n",
      "   Loss: 3.89403915\n",
      "   num_batches: 300\n",
      "   num_examples: 4712\n",
      "   num_tokens: 59506\n",
      "   num_tokens_no_oov: 58198\n",
      "   accuracy: 0.11088\n",
      "   accuracy_no_oov: 0.11289\n",
      "Evaluating before round #85 on 20000 examples.\n"
     ]
    },
    {
     "name": "stderr",
     "output_type": "stream",
     "text": [
      "/home/joel_stremmel/anaconda3/envs/tff/lib/python3.7/site-packages/tensorflow_federated/python/simulation/hdf5_client_data.py:64: H5pyDeprecationWarning: dataset.value has been deprecated. Use dataset[()] instead.\n",
      "  collections.OrderedDict((name, ds.value) for name, ds in sorted(\n"
     ]
    },
    {
     "name": "stdout",
     "output_type": "stream",
     "text": [
      "    200/Unknown - 22s 110ms/step - loss: 4.3125 - num_tokens: 263229.0000 - num_tokens_no_oov: 255074.0000 - num_batches: 200.0000 - num_examples: 20000.0000 - accuracy: 0.0740 - accuracy_no_oov: 0.0761 - accuracy_no_oov_no_eos: 0.0375\n",
      "Saving model weights at iteration: 85\n",
      "\n",
      "Sampling 10 new clients.\n"
     ]
    },
    {
     "name": "stderr",
     "output_type": "stream",
     "text": [
      "\r",
      " 86%|████████▌ | 86/100 [1:02:07<10:17, 44.10s/it]"
     ]
    },
    {
     "name": "stdout",
     "output_type": "stream",
     "text": [
      "Round: 85\n",
      "   Loss: 4.07448101\n",
      "   num_batches: 316\n",
      "   num_examples: 4992\n",
      "   num_tokens: 65523\n",
      "   num_tokens_no_oov: 63549\n",
      "   accuracy: 0.11900\n",
      "   accuracy_no_oov: 0.12025\n",
      "Evaluating before round #86 on 20000 examples.\n"
     ]
    },
    {
     "name": "stderr",
     "output_type": "stream",
     "text": [
      "/home/joel_stremmel/anaconda3/envs/tff/lib/python3.7/site-packages/tensorflow_federated/python/simulation/hdf5_client_data.py:64: H5pyDeprecationWarning: dataset.value has been deprecated. Use dataset[()] instead.\n",
      "  collections.OrderedDict((name, ds.value) for name, ds in sorted(\n"
     ]
    },
    {
     "name": "stdout",
     "output_type": "stream",
     "text": [
      "    200/Unknown - 21s 106ms/step - loss: 4.3550 - num_tokens: 266295.0000 - num_tokens_no_oov: 258104.0000 - num_batches: 200.0000 - num_examples: 20000.0000 - accuracy: 0.0745 - accuracy_no_oov: 0.0765 - accuracy_no_oov_no_eos: 0.0389\n",
      "Saving model weights at iteration: 86\n",
      "\n",
      "Sampling 10 new clients.\n"
     ]
    },
    {
     "name": "stderr",
     "output_type": "stream",
     "text": [
      "\r",
      " 87%|████████▋ | 87/100 [1:02:49<09:24, 43.42s/it]"
     ]
    },
    {
     "name": "stdout",
     "output_type": "stream",
     "text": [
      "Round: 86\n",
      "   Loss: 3.84263396\n",
      "   num_batches: 198\n",
      "   num_examples: 3080\n",
      "   num_tokens: 37799\n",
      "   num_tokens_no_oov: 36643\n",
      "   accuracy: 0.10908\n",
      "   accuracy_no_oov: 0.11143\n",
      "Evaluating before round #87 on 20000 examples.\n"
     ]
    },
    {
     "name": "stderr",
     "output_type": "stream",
     "text": [
      "/home/joel_stremmel/anaconda3/envs/tff/lib/python3.7/site-packages/tensorflow_federated/python/simulation/hdf5_client_data.py:64: H5pyDeprecationWarning: dataset.value has been deprecated. Use dataset[()] instead.\n",
      "  collections.OrderedDict((name, ds.value) for name, ds in sorted(\n"
     ]
    },
    {
     "name": "stdout",
     "output_type": "stream",
     "text": [
      "    200/Unknown - 22s 110ms/step - loss: 4.3354 - num_tokens: 264497.0000 - num_tokens_no_oov: 256646.0000 - num_batches: 200.0000 - num_examples: 20000.0000 - accuracy: 0.0778 - accuracy_no_oov: 0.0799 - accuracy_no_oov_no_eos: 0.0387\n",
      "Saving model weights at iteration: 87\n",
      "\n",
      "Sampling 10 new clients.\n"
     ]
    },
    {
     "name": "stderr",
     "output_type": "stream",
     "text": [
      "\r",
      " 88%|████████▊ | 88/100 [1:03:27<08:21, 41.83s/it]"
     ]
    },
    {
     "name": "stdout",
     "output_type": "stream",
     "text": [
      "Round: 87\n",
      "   Loss: 4.07514238\n",
      "   num_batches: 130\n",
      "   num_examples: 2000\n",
      "   num_tokens: 25942\n",
      "   num_tokens_no_oov: 25198\n",
      "   accuracy: 0.10581\n",
      "   accuracy_no_oov: 0.10826\n",
      "Evaluating before round #88 on 20000 examples.\n"
     ]
    },
    {
     "name": "stderr",
     "output_type": "stream",
     "text": [
      "/home/joel_stremmel/anaconda3/envs/tff/lib/python3.7/site-packages/tensorflow_federated/python/simulation/hdf5_client_data.py:64: H5pyDeprecationWarning: dataset.value has been deprecated. Use dataset[()] instead.\n",
      "  collections.OrderedDict((name, ds.value) for name, ds in sorted(\n"
     ]
    },
    {
     "name": "stdout",
     "output_type": "stream",
     "text": [
      "    200/Unknown - 22s 108ms/step - loss: 4.5896 - num_tokens: 278037.0000 - num_tokens_no_oov: 269256.0000 - num_batches: 200.0000 - num_examples: 20000.0000 - accuracy: 0.0757 - accuracy_no_oov: 0.0779 - accuracy_no_oov_no_eos: 0.0397\n",
      "Sampling 10 new clients.\n"
     ]
    },
    {
     "name": "stderr",
     "output_type": "stream",
     "text": [
      "\r",
      " 89%|████████▉ | 89/100 [1:04:09<07:38, 41.70s/it]"
     ]
    },
    {
     "name": "stdout",
     "output_type": "stream",
     "text": [
      "Round: 88\n",
      "   Loss: 3.69270873\n",
      "   num_batches: 161\n",
      "   num_examples: 2493\n",
      "   num_tokens: 29478\n",
      "   num_tokens_no_oov: 28539\n",
      "   accuracy: 0.11385\n",
      "   accuracy_no_oov: 0.11651\n",
      "Evaluating before round #89 on 20000 examples.\n"
     ]
    },
    {
     "name": "stderr",
     "output_type": "stream",
     "text": [
      "/home/joel_stremmel/anaconda3/envs/tff/lib/python3.7/site-packages/tensorflow_federated/python/simulation/hdf5_client_data.py:64: H5pyDeprecationWarning: dataset.value has been deprecated. Use dataset[()] instead.\n",
      "  collections.OrderedDict((name, ds.value) for name, ds in sorted(\n"
     ]
    },
    {
     "name": "stdout",
     "output_type": "stream",
     "text": [
      "    200/Unknown - 22s 108ms/step - loss: 4.4491 - num_tokens: 271242.0000 - num_tokens_no_oov: 262153.0000 - num_batches: 200.0000 - num_examples: 20000.0000 - accuracy: 0.0811 - accuracy_no_oov: 0.0835 - accuracy_no_oov_no_eos: 0.0433\n",
      "Saving model weights at iteration: 89\n",
      "\n",
      "Sampling 10 new clients.\n"
     ]
    },
    {
     "name": "stderr",
     "output_type": "stream",
     "text": [
      "\r",
      " 90%|█████████ | 90/100 [1:04:51<06:58, 41.85s/it]"
     ]
    },
    {
     "name": "stdout",
     "output_type": "stream",
     "text": [
      "Round: 89\n",
      "   Loss: 4.04777050\n",
      "   num_batches: 186\n",
      "   num_examples: 2899\n",
      "   num_tokens: 36958\n",
      "   num_tokens_no_oov: 35868\n",
      "   accuracy: 0.10036\n",
      "   accuracy_no_oov: 0.10277\n",
      "Evaluating before round #90 on 20000 examples.\n"
     ]
    },
    {
     "name": "stderr",
     "output_type": "stream",
     "text": [
      "/home/joel_stremmel/anaconda3/envs/tff/lib/python3.7/site-packages/tensorflow_federated/python/simulation/hdf5_client_data.py:64: H5pyDeprecationWarning: dataset.value has been deprecated. Use dataset[()] instead.\n",
      "  collections.OrderedDict((name, ds.value) for name, ds in sorted(\n"
     ]
    },
    {
     "name": "stdout",
     "output_type": "stream",
     "text": [
      "    200/Unknown - 22s 110ms/step - loss: 4.3354 - num_tokens: 266309.0000 - num_tokens_no_oov: 258253.0000 - num_batches: 200.0000 - num_examples: 20000.0000 - accuracy: 0.0818 - accuracy_no_oov: 0.0839 - accuracy_no_oov_no_eos: 0.0435\n",
      "Saving model weights at iteration: 90\n",
      "\n",
      "Sampling 10 new clients.\n"
     ]
    },
    {
     "name": "stderr",
     "output_type": "stream",
     "text": [
      "\r",
      " 91%|█████████ | 91/100 [1:05:33<06:17, 41.98s/it]"
     ]
    },
    {
     "name": "stdout",
     "output_type": "stream",
     "text": [
      "Round: 90\n",
      "   Loss: 4.42804861\n",
      "   num_batches: 198\n",
      "   num_examples: 3089\n",
      "   num_tokens: 43967\n",
      "   num_tokens_no_oov: 42869\n",
      "   accuracy: 0.11536\n",
      "   accuracy_no_oov: 0.11789\n",
      "Evaluating before round #91 on 20000 examples.\n"
     ]
    },
    {
     "name": "stderr",
     "output_type": "stream",
     "text": [
      "/home/joel_stremmel/anaconda3/envs/tff/lib/python3.7/site-packages/tensorflow_federated/python/simulation/hdf5_client_data.py:64: H5pyDeprecationWarning: dataset.value has been deprecated. Use dataset[()] instead.\n",
      "  collections.OrderedDict((name, ds.value) for name, ds in sorted(\n"
     ]
    },
    {
     "name": "stdout",
     "output_type": "stream",
     "text": [
      "    200/Unknown - 22s 111ms/step - loss: 4.1641 - num_tokens: 257880.0000 - num_tokens_no_oov: 249720.0000 - num_batches: 200.0000 - num_examples: 20000.0000 - accuracy: 0.0936 - accuracy_no_oov: 0.0961 - accuracy_no_oov_no_eos: 0.0532\n",
      "Saving model weights at iteration: 91\n",
      "\n",
      "Sampling 10 new clients.\n"
     ]
    },
    {
     "name": "stderr",
     "output_type": "stream",
     "text": [
      "\r",
      " 92%|█████████▏| 92/100 [1:06:19<05:44, 43.01s/it]"
     ]
    },
    {
     "name": "stdout",
     "output_type": "stream",
     "text": [
      "Round: 91\n",
      "   Loss: 4.15510321\n",
      "   num_batches: 348\n",
      "   num_examples: 5502\n",
      "   num_tokens: 76238\n",
      "   num_tokens_no_oov: 73670\n",
      "   accuracy: 0.12248\n",
      "   accuracy_no_oov: 0.12189\n",
      "Evaluating before round #92 on 20000 examples.\n"
     ]
    },
    {
     "name": "stderr",
     "output_type": "stream",
     "text": [
      "/home/joel_stremmel/anaconda3/envs/tff/lib/python3.7/site-packages/tensorflow_federated/python/simulation/hdf5_client_data.py:64: H5pyDeprecationWarning: dataset.value has been deprecated. Use dataset[()] instead.\n",
      "  collections.OrderedDict((name, ds.value) for name, ds in sorted(\n"
     ]
    },
    {
     "name": "stdout",
     "output_type": "stream",
     "text": [
      "    200/Unknown - 22s 109ms/step - loss: 4.4627 - num_tokens: 272359.0000 - num_tokens_no_oov: 263363.0000 - num_batches: 200.0000 - num_examples: 20000.0000 - accuracy: 0.0893 - accuracy_no_oov: 0.0920 - accuracy_no_oov_no_eos: 0.053311s 120ms/step - loss: 4.2780 - num_tokens: 120029.0000 - num_tokens_no_oov: 116040.0000 - num_batches: 9\n",
      "Sampling 10 new clients.\n"
     ]
    },
    {
     "name": "stderr",
     "output_type": "stream",
     "text": [
      "\r",
      " 93%|█████████▎| 93/100 [1:07:05<05:07, 43.89s/it]"
     ]
    },
    {
     "name": "stdout",
     "output_type": "stream",
     "text": [
      "Round: 92\n",
      "   Loss: 3.69452286\n",
      "   num_batches: 321\n",
      "   num_examples: 5076\n",
      "   num_tokens: 64574\n",
      "   num_tokens_no_oov: 62697\n",
      "   accuracy: 0.13614\n",
      "   accuracy_no_oov: 0.13809\n",
      "Evaluating before round #93 on 20000 examples.\n"
     ]
    },
    {
     "name": "stderr",
     "output_type": "stream",
     "text": [
      "/home/joel_stremmel/anaconda3/envs/tff/lib/python3.7/site-packages/tensorflow_federated/python/simulation/hdf5_client_data.py:64: H5pyDeprecationWarning: dataset.value has been deprecated. Use dataset[()] instead.\n",
      "  collections.OrderedDict((name, ds.value) for name, ds in sorted(\n"
     ]
    },
    {
     "name": "stdout",
     "output_type": "stream",
     "text": [
      "    200/Unknown - 22s 110ms/step - loss: 4.2175 - num_tokens: 261731.0000 - num_tokens_no_oov: 253670.0000 - num_batches: 200.0000 - num_examples: 20000.0000 - accuracy: 0.0951 - accuracy_no_oov: 0.0976 - accuracy_no_oov_no_eos: 0.0558- 21s 111ms/step - loss: 4.2230 - num_tokens: 246232.0000 - num_tokens_no_oov: 238654.0000 - num_batches: 188.0000 - num_examples: 18800.0000 - accuracy: 0.0948 - accuracy_no_oov: 0.0972 - accuracy_no_oov_n\n",
      "Saving model weights at iteration: 93\n",
      "\n",
      "Sampling 10 new clients.\n"
     ]
    },
    {
     "name": "stderr",
     "output_type": "stream",
     "text": [
      "\r",
      " 94%|█████████▍| 94/100 [1:07:50<04:25, 44.25s/it]"
     ]
    },
    {
     "name": "stdout",
     "output_type": "stream",
     "text": [
      "Round: 93\n",
      "   Loss: 4.51645136\n",
      "   num_batches: 331\n",
      "   num_examples: 5200\n",
      "   num_tokens: 76780\n",
      "   num_tokens_no_oov: 74289\n",
      "   accuracy: 0.11642\n",
      "   accuracy_no_oov: 0.11536\n",
      "Evaluating before round #94 on 20000 examples.\n"
     ]
    },
    {
     "name": "stderr",
     "output_type": "stream",
     "text": [
      "/home/joel_stremmel/anaconda3/envs/tff/lib/python3.7/site-packages/tensorflow_federated/python/simulation/hdf5_client_data.py:64: H5pyDeprecationWarning: dataset.value has been deprecated. Use dataset[()] instead.\n",
      "  collections.OrderedDict((name, ds.value) for name, ds in sorted(\n"
     ]
    },
    {
     "name": "stdout",
     "output_type": "stream",
     "text": [
      "    200/Unknown - 22s 112ms/step - loss: 4.3055 - num_tokens: 266697.0000 - num_tokens_no_oov: 258077.0000 - num_batches: 200.0000 - num_examples: 20000.0000 - accuracy: 0.0945 - accuracy_no_oov: 0.0973 - accuracy_no_oov_no_eos: 0.0574\n",
      "Sampling 10 new clients.\n"
     ]
    },
    {
     "name": "stderr",
     "output_type": "stream",
     "text": [
      "\r",
      " 95%|█████████▌| 95/100 [1:08:32<03:38, 43.68s/it]"
     ]
    },
    {
     "name": "stdout",
     "output_type": "stream",
     "text": [
      "Round: 94\n",
      "   Loss: 4.42969847\n",
      "   num_batches: 151\n",
      "   num_examples: 2355\n",
      "   num_tokens: 32594\n",
      "   num_tokens_no_oov: 31491\n",
      "   accuracy: 0.10652\n",
      "   accuracy_no_oov: 0.10835\n",
      "Evaluating before round #95 on 20000 examples.\n"
     ]
    },
    {
     "name": "stderr",
     "output_type": "stream",
     "text": [
      "/home/joel_stremmel/anaconda3/envs/tff/lib/python3.7/site-packages/tensorflow_federated/python/simulation/hdf5_client_data.py:64: H5pyDeprecationWarning: dataset.value has been deprecated. Use dataset[()] instead.\n",
      "  collections.OrderedDict((name, ds.value) for name, ds in sorted(\n"
     ]
    },
    {
     "name": "stdout",
     "output_type": "stream",
     "text": [
      "    200/Unknown - 22s 109ms/step - loss: 4.3722 - num_tokens: 268971.0000 - num_tokens_no_oov: 259973.0000 - num_batches: 200.0000 - num_examples: 20000.0000 - accuracy: 0.0925 - accuracy_no_oov: 0.0953 - accuracy_no_oov_no_eos: 0.0574\n",
      "Sampling 10 new clients.\n"
     ]
    },
    {
     "name": "stderr",
     "output_type": "stream",
     "text": [
      "\r",
      " 96%|█████████▌| 96/100 [1:09:22<03:02, 45.51s/it]"
     ]
    },
    {
     "name": "stdout",
     "output_type": "stream",
     "text": [
      "Round: 95\n",
      "   Loss: 3.77086592\n",
      "   num_batches: 424\n",
      "   num_examples: 6670\n",
      "   num_tokens: 84596\n",
      "   num_tokens_no_oov: 82514\n",
      "   accuracy: 0.13275\n",
      "   accuracy_no_oov: 0.13470\n",
      "Evaluating before round #96 on 20000 examples.\n"
     ]
    },
    {
     "name": "stderr",
     "output_type": "stream",
     "text": [
      "/home/joel_stremmel/anaconda3/envs/tff/lib/python3.7/site-packages/tensorflow_federated/python/simulation/hdf5_client_data.py:64: H5pyDeprecationWarning: dataset.value has been deprecated. Use dataset[()] instead.\n",
      "  collections.OrderedDict((name, ds.value) for name, ds in sorted(\n"
     ]
    },
    {
     "name": "stdout",
     "output_type": "stream",
     "text": [
      "    200/Unknown - 21s 107ms/step - loss: 4.2618 - num_tokens: 262140.0000 - num_tokens_no_oov: 253733.0000 - num_batches: 200.0000 - num_examples: 20000.0000 - accuracy: 0.0901 - accuracy_no_oov: 0.0927 - accuracy_no_oov_no_eos: 0.0558\n",
      "Sampling 10 new clients.\n"
     ]
    },
    {
     "name": "stderr",
     "output_type": "stream",
     "text": [
      "\r",
      " 97%|█████████▋| 97/100 [1:09:59<02:09, 43.12s/it]"
     ]
    },
    {
     "name": "stdout",
     "output_type": "stream",
     "text": [
      "Round: 96\n",
      "   Loss: 4.24650383\n",
      "   num_batches: 122\n",
      "   num_examples: 1904\n",
      "   num_tokens: 25611\n",
      "   num_tokens_no_oov: 24912\n",
      "   accuracy: 0.11054\n",
      "   accuracy_no_oov: 0.11183\n",
      "Evaluating before round #97 on 20000 examples.\n"
     ]
    },
    {
     "name": "stderr",
     "output_type": "stream",
     "text": [
      "/home/joel_stremmel/anaconda3/envs/tff/lib/python3.7/site-packages/tensorflow_federated/python/simulation/hdf5_client_data.py:64: H5pyDeprecationWarning: dataset.value has been deprecated. Use dataset[()] instead.\n",
      "  collections.OrderedDict((name, ds.value) for name, ds in sorted(\n"
     ]
    },
    {
     "name": "stdout",
     "output_type": "stream",
     "text": [
      "    200/Unknown - 22s 109ms/step - loss: 4.3144 - num_tokens: 271480.0000 - num_tokens_no_oov: 263763.0000 - num_batches: 200.0000 - num_examples: 20000.0000 - accuracy: 0.0983 - accuracy_no_oov: 0.1009 - accuracy_no_oov_no_eos: 0.0624\n",
      "Saving model weights at iteration: 97\n",
      "\n",
      "Sampling 10 new clients.\n"
     ]
    },
    {
     "name": "stderr",
     "output_type": "stream",
     "text": [
      "\r",
      " 98%|█████████▊| 98/100 [1:10:42<01:26, 43.06s/it]"
     ]
    },
    {
     "name": "stdout",
     "output_type": "stream",
     "text": [
      "Round: 97\n",
      "   Loss: 4.46812057\n",
      "   num_batches: 203\n",
      "   num_examples: 3168\n",
      "   num_tokens: 45425\n",
      "   num_tokens_no_oov: 43928\n",
      "   accuracy: 0.11377\n",
      "   accuracy_no_oov: 0.11576\n",
      "Evaluating before round #98 on 20000 examples.\n"
     ]
    },
    {
     "name": "stderr",
     "output_type": "stream",
     "text": [
      "/home/joel_stremmel/anaconda3/envs/tff/lib/python3.7/site-packages/tensorflow_federated/python/simulation/hdf5_client_data.py:64: H5pyDeprecationWarning: dataset.value has been deprecated. Use dataset[()] instead.\n",
      "  collections.OrderedDict((name, ds.value) for name, ds in sorted(\n"
     ]
    },
    {
     "name": "stdout",
     "output_type": "stream",
     "text": [
      "    200/Unknown - 21s 106ms/step - loss: 4.1201 - num_tokens: 257157.0000 - num_tokens_no_oov: 248539.0000 - num_batches: 200.0000 - num_examples: 20000.0000 - accuracy: 0.0998 - accuracy_no_oov: 0.1029 - accuracy_no_oov_no_eos: 0.0576\n",
      "Saving model weights at iteration: 98\n",
      "\n",
      "Sampling 10 new clients.\n"
     ]
    },
    {
     "name": "stderr",
     "output_type": "stream",
     "text": [
      "\r",
      " 99%|█████████▉| 99/100 [1:11:31<00:44, 44.66s/it]"
     ]
    },
    {
     "name": "stdout",
     "output_type": "stream",
     "text": [
      "Round: 98\n",
      "   Loss: 3.48321128\n",
      "   num_batches: 432\n",
      "   num_examples: 6854\n",
      "   num_tokens: 80639\n",
      "   num_tokens_no_oov: 78246\n",
      "   accuracy: 0.15220\n",
      "   accuracy_no_oov: 0.15358\n",
      "Evaluating before round #99 on 20000 examples.\n"
     ]
    },
    {
     "name": "stderr",
     "output_type": "stream",
     "text": [
      "/home/joel_stremmel/anaconda3/envs/tff/lib/python3.7/site-packages/tensorflow_federated/python/simulation/hdf5_client_data.py:64: H5pyDeprecationWarning: dataset.value has been deprecated. Use dataset[()] instead.\n",
      "  collections.OrderedDict((name, ds.value) for name, ds in sorted(\n"
     ]
    },
    {
     "name": "stdout",
     "output_type": "stream",
     "text": [
      "    200/Unknown - 22s 111ms/step - loss: 4.2754 - num_tokens: 266057.0000 - num_tokens_no_oov: 257023.0000 - num_batches: 200.0000 - num_examples: 20000.0000 - accuracy: 0.1011 - accuracy_no_oov: 0.1042 - accuracy_no_oov_no_eos: 0.0621\n",
      "Saving model weights at iteration: 99\n",
      "\n",
      "Sampling 10 new clients.\n"
     ]
    },
    {
     "name": "stderr",
     "output_type": "stream",
     "text": [
      "100%|██████████| 100/100 [1:12:24<00:00, 43.45s/it]"
     ]
    },
    {
     "name": "stdout",
     "output_type": "stream",
     "text": [
      "Round: 99\n",
      "   Loss: 4.08295870\n",
      "   num_batches: 662\n",
      "   num_examples: 10528\n",
      "   num_tokens: 147506\n",
      "   num_tokens_no_oov: 143590\n",
      "   accuracy: 0.13499\n",
      "   accuracy_no_oov: 0.13454\n"
     ]
    },
    {
     "name": "stderr",
     "output_type": "stream",
     "text": [
      "\n"
     ]
    }
   ],
   "source": [
    "start_time = time.time()\n",
    "for round_num in tqdm(range(0, NUM_ROUNDS)):\n",
    "\n",
    "    # Examine validation metrics\n",
    "    print('Evaluating before round #{} on {} examples.'.format(round_num, NUM_VALIDATION_EXAMPLES))\n",
    "    validation.keras_evaluate(state=server_state,\n",
    "                              val_dataset=val_data,\n",
    "                              extended_vocab_size=extended_vocab_size,\n",
    "                              vocab_size=VOCAB_SIZE,\n",
    "                              embedding_dim=EMBEDDING_DIM,\n",
    "                              embedding_matrix=embedding_matrix,\n",
    "                              rnn_units=RNN_UNITS,\n",
    "                              metrics_tracker=val_metrics_tracker,\n",
    "                              checkpoint_dir=SAV)\n",
    "\n",
    "    # Sample train clients to create a train dataset\n",
    "    print('\\nSampling {} new clients.'.format(NUM_TRAIN_CLIENTS))\n",
    "    train_clients = federated.get_sample_clients(dataset=train_data, num_clients=NUM_TRAIN_CLIENTS)\n",
    "    train_datasets = [train_data.create_tf_dataset_for_client(client) for client in train_clients]\n",
    "\n",
    "    # Apply federated training round\n",
    "    server_state, server_metrics = iterative_process.next(server_state, train_datasets)\n",
    "\n",
    "    # Examine training metrics\n",
    "    print('Round: {}'.format(round_num))\n",
    "    print('   Loss: {:.8f}'.format(server_metrics.loss))\n",
    "    print('   num_batches: {}'.format(server_metrics.num_batches))\n",
    "    print('   num_examples: {}'.format(server_metrics.num_examples))\n",
    "    print('   num_tokens: {}'.format(server_metrics.num_tokens))\n",
    "    print('   num_tokens_no_oov: {}'.format(server_metrics.num_tokens_no_oov))\n",
    "    print('   accuracy: {:.5f}'.format(server_metrics.accuracy))\n",
    "    print('   accuracy_no_oov: {:.5f}'.format(server_metrics.accuracy_no_oov))\n",
    "\n",
    "    # Add train metrics to tracker\n",
    "    train_metrics_tracker.add_metrics_by_name('loss', server_metrics.loss)\n",
    "    train_metrics_tracker.add_metrics_by_name('accuracy', server_metrics.accuracy)\n",
    "    train_metrics_tracker.add_metrics_by_name('num_examples', server_metrics.num_examples)\n",
    "    train_metrics_tracker.add_metrics_by_name('num_tokens', server_metrics.num_tokens)\n",
    "    train_metrics_tracker.add_metrics_by_name('num_tokens_no_oov', server_metrics.num_tokens_no_oov)\n",
    "        \n",
    "    # Save loss and accuracy from train and validation sets\n",
    "    np.save(SAV + 'train_loss.npy', train_metrics_tracker.get_metrics_by_name('loss'))\n",
    "    np.save(SAV + 'val_loss.npy', val_metrics_tracker.get_metrics_by_name('loss'))\n",
    "    np.save(SAV + 'train_accuracy.npy', train_metrics_tracker.get_metrics_by_name('accuracy'))\n",
    "    np.save(SAV + 'val_accuracy.npy', val_metrics_tracker.get_metrics_by_name('accuracy'))\n",
    "        \n",
    "    # Save train sample stats\n",
    "    np.save(SAV + 'num_examples.npy', train_metrics_tracker.get_metrics_by_name('num_examples'))\n",
    "    np.save(SAV + 'num_tokens.npy', train_metrics_tracker.get_metrics_by_name('num_tokens'))\n",
    "    np.save(SAV + 'num_tokens_no_oov.npy', train_metrics_tracker.get_metrics_by_name('num_tokens_no_oov'))\n",
    "    \n",
    "    # Write time since start of training\n",
    "    with open(SAV + 'train_time.txt', 'a+') as f: \n",
    "        f.write('{}\\n'.format(time.time() - start_time))"
   ]
  },
  {
   "cell_type": "markdown",
   "metadata": {},
   "source": [
    "### Set Plot Title Based on Training Configuration "
   ]
  },
  {
   "cell_type": "code",
   "execution_count": 30,
   "metadata": {},
   "outputs": [],
   "source": [
    "round_config = 'Clients: {}, Max Elements per Client: {}, Max Seq Len: {}, Num Rounds: {}'.format(\n",
    "    NUM_TRAIN_CLIENTS, MAX_ELEMENTS_PER_USER, MAX_SEQ_LENGTH, NUM_ROUNDS)"
   ]
  },
  {
   "cell_type": "markdown",
   "metadata": {},
   "source": [
    "### Plot Train and Validation Loss"
   ]
  },
  {
   "cell_type": "code",
   "execution_count": 31,
   "metadata": {},
   "outputs": [
    {
     "data": {
      "image/png": "[encoded data removed]",
      "text/plain": [
       "<Figure size 1440x1080 with 1 Axes>"
      ]
     },
     "metadata": {
      "needs_background": "light"
     },
     "output_type": "display_data"
    }
   ],
   "source": [
    "fig, ax = plt.subplots(figsize=(20, 15))\n",
    "x_axis = range(0, NUM_ROUNDS)\n",
    "ax.plot(x_axis, train_metrics_tracker.get_metrics_by_name('loss'), label='Train')\n",
    "ax.plot(x_axis, val_metrics_tracker.get_metrics_by_name('loss'), label='Val')\n",
    "ax.legend(loc='best', prop={'size': 15})\n",
    "plt.title('Loss by Epoch - {}'.format(round_config), fontsize=18)\n",
    "plt.xlabel('Epochs', fontsize=18)\n",
    "plt.ylabel('Loss', fontsize=18)\n",
    "plt.tight_layout()\n",
    "plt.savefig(SAV + 'Loss by Epoch.png')\n",
    "plt.show()"
   ]
  },
  {
   "cell_type": "markdown",
   "metadata": {},
   "source": [
    "### Plot Train and Validation Accuracy"
   ]
  },
  {
   "cell_type": "code",
   "execution_count": 32,
   "metadata": {},
   "outputs": [
    {
     "data": {
      "image/png": "[encoded data removed]",
      "text/plain": [
       "<Figure size 1440x1080 with 1 Axes>"
      ]
     },
     "metadata": {
      "needs_background": "light"
     },
     "output_type": "display_data"
    }
   ],
   "source": [
    "fig, ax = plt.subplots(figsize=(20, 15))\n",
    "x_axis = range(0, NUM_ROUNDS)\n",
    "ax.plot(x_axis, train_metrics_tracker.get_metrics_by_name('accuracy'), label='Train')\n",
    "ax.plot(x_axis, val_metrics_tracker.get_metrics_by_name('accuracy'), label='Val')\n",
    "ax.legend(loc='best', prop={'size': 15})\n",
    "plt.title('Accuracy by Epoch - {}'.format(round_config), fontsize=18)\n",
    "plt.xlabel('Epochs', fontsize=18)\n",
    "plt.ylabel('Accuracy', fontsize=18)\n",
    "plt.tight_layout()\n",
    "plt.savefig(SAV + 'Accuracy by Epoch.png')\n",
    "plt.show()"
   ]
  }
 ],
 "metadata": {
  "kernelspec": {
   "display_name": "fed",
   "language": "python",
   "name": "fed"
  },
  "language_info": {
   "codemirror_mode": {
    "name": "ipython",
    "version": 3
   },
   "file_extension": ".py",
   "mimetype": "text/x-python",
   "name": "python",
   "nbconvert_exporter": "python",
   "pygments_lexer": "ipython3",
   "version": "3.7.5"
  }
 },
 "nbformat": 4,
 "nbformat_minor": 4
}
