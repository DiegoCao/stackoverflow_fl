{
 "cells": [
  {
   "cell_type": "markdown",
   "metadata": {},
   "source": [
    "# Stack Overflow Data EDA\n",
    "- Joel Stremmel\n",
    "- 01-05-20\n",
    "\n",
    "**About:**\n",
    "This notebook explores the Stack Overflow data available through `tff.simulation.datasets` with some basic EDA and then by training a model with Federared Averaging by following the Federated Learning for Text Generation example notebook listed in the references section.\n",
    "\n",
    "**Data:** \n",
    "- https://www.kaggle.com/stackoverflow/stackoverflow\n",
    "\n",
    "**License:** \n",
    "- https://creativecommons.org/licenses/by-sa/3.0/\n",
    "\n",
    "**References:**\n",
    "- https://www.tensorflow.org/federated/api_docs/python/tff/simulation/datasets/stackoverflow/load_data\n",
    "- https://github.com/tensorflow/federated/blob/master/docs/tutorials/federated_learning_for_text_generation.ipynb\n",
    "- https://github.com/tensorflow/federated/"
   ]
  },
  {
   "cell_type": "markdown",
   "metadata": {},
   "source": [
    "### Setup"
   ]
  },
  {
   "cell_type": "code",
   "execution_count": 1,
   "metadata": {},
   "outputs": [],
   "source": [
    "# !pip install --upgrade pip\n",
    "# !pip install --upgrade tensorflow_federated\n",
    "# !pip install --upgrade tensorflow-nightly-gpu\n",
    "# !pip install --upgrade nltk\n",
    "# !pip install matplotlib\n",
    "# !pip install nest_asyncio"
   ]
  },
  {
   "cell_type": "code",
   "execution_count": 2,
   "metadata": {},
   "outputs": [],
   "source": [
    "import nest_asyncio\n",
    "nest_asyncio.apply()"
   ]
  },
  {
   "cell_type": "code",
   "execution_count": 3,
   "metadata": {},
   "outputs": [],
   "source": [
    "import collections\n",
    "import functools\n",
    "import os\n",
    "import six\n",
    "import time\n",
    "import string\n",
    "\n",
    "import numpy as np\n",
    "import matplotlib.pyplot as plt\n",
    "from nltk.corpus import stopwords"
   ]
  },
  {
   "cell_type": "code",
   "execution_count": 4,
   "metadata": {},
   "outputs": [
    {
     "name": "stdout",
     "output_type": "stream",
     "text": [
      "Built with Cuda: True\n",
      "Build with GPU support: True\n"
     ]
    }
   ],
   "source": [
    "import tensorflow as tf\n",
    "print('Built with Cuda: {}'.format(tf.test.is_built_with_cuda()))\n",
    "print('Build with GPU support: {}'.format(tf.test.is_built_with_gpu_support()))"
   ]
  },
  {
   "cell_type": "code",
   "execution_count": 5,
   "metadata": {},
   "outputs": [],
   "source": [
    "import tensorflow_federated as tff"
   ]
  },
  {
   "cell_type": "code",
   "execution_count": 6,
   "metadata": {},
   "outputs": [],
   "source": [
    "tf.compat.v1.enable_v2_behavior()"
   ]
  },
  {
   "cell_type": "code",
   "execution_count": 7,
   "metadata": {},
   "outputs": [],
   "source": [
    "np.random.seed(0)"
   ]
  },
  {
   "cell_type": "markdown",
   "metadata": {},
   "source": [
    "### Test TFF"
   ]
  },
  {
   "cell_type": "code",
   "execution_count": 8,
   "metadata": {},
   "outputs": [
    {
     "data": {
      "text/plain": [
       "'Hello, World!'"
      ]
     },
     "execution_count": 8,
     "metadata": {},
     "output_type": "execute_result"
    }
   ],
   "source": [
    "tff.federated_computation(lambda: 'Hello, World!')()"
   ]
  },
  {
   "cell_type": "markdown",
   "metadata": {},
   "source": [
    "### Load Stack Overflow Word Counts"
   ]
  },
  {
   "cell_type": "code",
   "execution_count": 9,
   "metadata": {},
   "outputs": [],
   "source": [
    "word_counts = tff.simulation.datasets.stackoverflow.load_word_counts(cache_dir='~/data')"
   ]
  },
  {
   "cell_type": "markdown",
   "metadata": {},
   "source": [
    "### Number of Words"
   ]
  },
  {
   "cell_type": "code",
   "execution_count": 10,
   "metadata": {},
   "outputs": [
    {
     "data": {
      "text/plain": [
       "6005329"
      ]
     },
     "execution_count": 10,
     "metadata": {},
     "output_type": "execute_result"
    }
   ],
   "source": [
    "len(word_counts)"
   ]
  },
  {
   "cell_type": "markdown",
   "metadata": {},
   "source": [
    "### Create Dictionary of Counts"
   ]
  },
  {
   "cell_type": "code",
   "execution_count": 11,
   "metadata": {},
   "outputs": [],
   "source": [
    "count_dict = collections.Counter(word_counts)"
   ]
  },
  {
   "cell_type": "markdown",
   "metadata": {},
   "source": [
    "### Create Function to Plot Word Frequency"
   ]
  },
  {
   "cell_type": "code",
   "execution_count": 12,
   "metadata": {},
   "outputs": [],
   "source": [
    "def plot_ordered_frequency(count_dict, n, color='orange'):\n",
    "    \n",
    "    top_words = collections.OrderedDict(sorted(count_dict.most_common(n), key=lambda x: x[1]))\n",
    "    \n",
    "    plt.figure(figsize=(8, 16))\n",
    "    plt.barh(range(len(top_words)), top_words.values(), align='center', color=color)\n",
    "    plt.yticks(range(len(top_words)), list(top_words.keys()))\n",
    "    \n",
    "    plt.title('Most Common Words', size=18)\n",
    "    plt.xlabel('Count of Occurences', size=18)\n",
    "    plt.ylabel('Words', size=18)\n",
    "\n",
    "    plt.show()"
   ]
  },
  {
   "cell_type": "markdown",
   "metadata": {},
   "source": [
    "### Plot Raw Frequency of Words"
   ]
  },
  {
   "cell_type": "code",
   "execution_count": 13,
   "metadata": {},
   "outputs": [
    {
     "data": {
      "image/png": "[encoded data removed]",
      "text/plain": [
       "<Figure size 576x1152 with 1 Axes>"
      ]
     },
     "metadata": {
      "needs_background": "light"
     },
     "output_type": "display_data"
    }
   ],
   "source": [
    "plot_ordered_frequency(count_dict, n=50)"
   ]
  },
  {
   "cell_type": "markdown",
   "metadata": {},
   "source": [
    "### Clean Dictionary by:\n",
    "- Removing Stopwords\n",
    "- Removing Punctuation"
   ]
  },
  {
   "cell_type": "code",
   "execution_count": 14,
   "metadata": {},
   "outputs": [],
   "source": [
    "for stopword in stopwords.words('english'):\n",
    "    count_dict.pop(stopword, None)"
   ]
  },
  {
   "cell_type": "code",
   "execution_count": 15,
   "metadata": {},
   "outputs": [],
   "source": [
    "for punctuation in string.punctuation:\n",
    "    count_dict.pop(punctuation, None)"
   ]
  },
  {
   "cell_type": "markdown",
   "metadata": {},
   "source": [
    "### Plot Frequency of Filtered Words"
   ]
  },
  {
   "cell_type": "code",
   "execution_count": 16,
   "metadata": {},
   "outputs": [
    {
     "data": {
      "image/png": "[encoded data removed]",
      "text/plain": [
       "<Figure size 576x1152 with 1 Axes>"
      ]
     },
     "metadata": {
      "needs_background": "light"
     },
     "output_type": "display_data"
    }
   ],
   "source": [
    "plot_ordered_frequency(count_dict, n=50, color='magenta')"
   ]
  },
  {
   "cell_type": "markdown",
   "metadata": {},
   "source": [
    "### View Some Rare Words"
   ]
  },
  {
   "cell_type": "code",
   "execution_count": 17,
   "metadata": {},
   "outputs": [
    {
     "data": {
      "text/plain": [
       "[('zzzzzzzzzzzzzzzzzzzz', 1),\n",
       " ('zzzzzzzzzzzzzzzzzzzzzz', 1),\n",
       " ('zzzzzzzzzzzzzzzzzzzzzzzzzzz', 1),\n",
       " ('zzzzzzzzzzzzzzzzzzzzzzzzzzzzz', 1),\n",
       " ('zzzzzzzzzzzzzzzzzzzzzzzzzzzzzzz', 1),\n",
       " ('zzzzzzzzzzzzzzzzzzzzzzzzzzzzzzzz', 1),\n",
       " ('zzzzzzzzzzzzzzzzzzzzzzzzzzzzzzzzzzzzzz', 1),\n",
       " ('zzzzzzzzzzzzzzzzzzzzzzzzzzzzzzzzzzzzzzzz', 1),\n",
       " ('zzzzzzzzzzzzzzzzzzzzzzzzzzzzzzzzzzzzzzzzzzzzzzzzzz', 1)]"
      ]
     },
     "execution_count": 17,
     "metadata": {},
     "output_type": "execute_result"
    }
   ],
   "source": [
    "count_dict.most_common()[-10:-1]"
   ]
  },
  {
   "cell_type": "markdown",
   "metadata": {},
   "source": [
    "### Compute Summary Statistics"
   ]
  },
  {
   "cell_type": "code",
   "execution_count": 18,
   "metadata": {},
   "outputs": [
    {
     "name": "stdout",
     "output_type": "stream",
     "text": [
      "Minimum number of occurences: 1\n",
      "Maximum number of occurences: 333526\n",
      "Mean number of occurences: 45.946\n",
      "Median number of occurences: 1.0\n",
      "Standard Deviation of occurences: 1946.294\n"
     ]
    }
   ],
   "source": [
    "counts = list(count_dict.values())\n",
    "min_occurences = min(counts)\n",
    "max_occurences = max(counts)\n",
    "mean_occurences = np.mean(counts)\n",
    "median_occurences = np.median(counts)\n",
    "stdv_occurences = np.std(counts)\n",
    "print('Minimum number of occurences: {}'.format(min_occurences))\n",
    "print('Maximum number of occurences: {}'.format(max_occurences))\n",
    "print('Mean number of occurences: {}'.format(round(mean_occurences, 3)))\n",
    "print('Median number of occurences: {}'.format(round(median_occurences, 3)))\n",
    "print('Standard Deviation of occurences: {}'.format(round(stdv_occurences, 3)))"
   ]
  },
  {
   "cell_type": "markdown",
   "metadata": {},
   "source": [
    "### Plot Histogram of Counts\n",
    "- First with the raw counts\n",
    "- Then with the log of the counts due to the increasingly small number of large values"
   ]
  },
  {
   "cell_type": "code",
   "execution_count": 19,
   "metadata": {},
   "outputs": [
    {
     "data": {
      "image/png": "[encoded data removed]",
      "text/plain": [
       "<Figure size 432x288 with 1 Axes>"
      ]
     },
     "metadata": {
      "needs_background": "light"
     },
     "output_type": "display_data"
    }
   ],
   "source": [
    "plt.hist(counts, bins=20)\n",
    "plt.title('Distribution of Word Occurences')\n",
    "plt.xlabel('Word Occurences')\n",
    "plt.ylabel('Frequency')\n",
    "plt.show()"
   ]
  },
  {
   "cell_type": "code",
   "execution_count": 20,
   "metadata": {},
   "outputs": [
    {
     "data": {
      "image/png": "[encoded data removed]",
      "text/plain": [
       "<Figure size 432x288 with 1 Axes>"
      ]
     },
     "metadata": {
      "needs_background": "light"
     },
     "output_type": "display_data"
    }
   ],
   "source": [
    "fig, ax = plt.subplots(1,1)\n",
    "plt.hist(np.log(counts), bins=20)\n",
    "plt.title('Distribution of Log of Word Occurences')\n",
    "plt.xlabel('log(Word Occurences)')\n",
    "plt.ylabel('Frequency')\n",
    "plt.show()"
   ]
  },
  {
   "cell_type": "markdown",
   "metadata": {},
   "source": [
    "### Load Stack Overflow Data"
   ]
  },
  {
   "cell_type": "code",
   "execution_count": 21,
   "metadata": {},
   "outputs": [
    {
     "name": "stderr",
     "output_type": "stream",
     "text": [
      "/home/joel_stremmel/anaconda3/envs/tff/lib/python3.7/site-packages/tensorflow_federated/python/simulation/hdf5_client_data.py:69: H5pyDeprecationWarning: dataset.value has been deprecated. Use dataset[()] instead.\n",
      "  collections.OrderedDict((name, ds.value) for name, ds in sorted(\n"
     ]
    },
    {
     "name": "stdout",
     "output_type": "stream",
     "text": [
      "OrderedDict([('creation_date', TensorShape([])), ('score', TensorShape([])), ('tags', TensorShape([])), ('title', TensorShape([])), ('tokens', TensorShape([])), ('type', TensorShape([]))])\n"
     ]
    }
   ],
   "source": [
    "train_data, val_data, test_data = tff.simulation.datasets.stackoverflow.load_data(cache_dir='~/data')\n",
    "print(train_data.output_shapes)"
   ]
  },
  {
   "cell_type": "markdown",
   "metadata": {},
   "source": [
    "### Example Number of Clients"
   ]
  },
  {
   "cell_type": "code",
   "execution_count": 22,
   "metadata": {},
   "outputs": [
    {
     "name": "stdout",
     "output_type": "stream",
     "text": [
      "342477 train clients.\n",
      "38758 val clients.\n",
      "204088 test clients.\n"
     ]
    }
   ],
   "source": [
    "print('{} train clients.'.format(len(train_data.client_ids)))\n",
    "print('{} val clients.'.format(len(val_data.client_ids)))\n",
    "print('{} test clients.'.format(len(test_data.client_ids)))"
   ]
  },
  {
   "cell_type": "markdown",
   "metadata": {},
   "source": [
    "### View Samples"
   ]
  },
  {
   "cell_type": "code",
   "execution_count": 23,
   "metadata": {},
   "outputs": [
    {
     "name": "stdout",
     "output_type": "stream",
     "text": [
      "\n",
      "Key: creation_date\n",
      "tf.Tensor(b'2008-12-22 14:45:37.037 UTC', shape=(), dtype=string)\n",
      "\n",
      "Key: score\n",
      "tf.Tensor(11, shape=(), dtype=int64)\n",
      "\n",
      "Key: tags\n",
      "tf.Tensor(b'sql-server|indexing', shape=(), dtype=string)\n",
      "\n",
      "Key: title\n",
      "tf.Tensor(b'what fields should be indexed on a given table ?', shape=(), dtype=string)\n",
      "\n",
      "Key: tokens\n",
      "tf.Tensor(b'the sql server 2008 management studio query tool , if you turn on \" include actual execution plan \" , will tell you what indexes a given query needs to run fast .', shape=(), dtype=string)\n",
      "\n",
      "Key: type\n",
      "tf.Tensor(b'answer', shape=(), dtype=string)\n",
      "\n",
      "Key: creation_date\n",
      "tf.Tensor(b'2008-12-22 14:45:37.037 UTC', shape=(), dtype=string)\n",
      "\n",
      "Key: score\n",
      "tf.Tensor(11, shape=(), dtype=int64)\n",
      "\n",
      "Key: tags\n",
      "tf.Tensor(b'sql-server|indexing', shape=(), dtype=string)\n",
      "\n",
      "Key: title\n",
      "tf.Tensor(b'what fields should be indexed on a given table ?', shape=(), dtype=string)\n",
      "\n",
      "Key: tokens\n",
      "tf.Tensor(b\"( assuming there's an obvious missing index that is making the query run unusually slow , that is . )\", shape=(), dtype=string)\n",
      "\n",
      "Key: type\n",
      "tf.Tensor(b'answer', shape=(), dtype=string)\n"
     ]
    }
   ],
   "source": [
    "raw_example_dataset = train_data.create_tf_dataset_for_client('00000001')\n",
    "for record in raw_example_dataset.take(2):\n",
    "    for key in record:\n",
    "        print('\\nKey: {}'.format(key))\n",
    "        print(record[key])"
   ]
  },
  {
   "cell_type": "markdown",
   "metadata": {},
   "source": [
    "### Set Vocabulary\n",
    "- Currently using the fixed vocabularly of ASCII chars that occur in the works of Shakespeare and Dickens\n",
    "- **Is there a good way to get the distinct characters from a TF dataset?**"
   ]
  },
  {
   "cell_type": "code",
   "execution_count": 24,
   "metadata": {},
   "outputs": [],
   "source": [
    "vocab = list('dhlptx@DHLPTX $(,048cgkoswCGKOSW[_#\\'/37;?bfjnrvzBFJNRVZ\"&*.26:\\naeimquyAEIMQUY]!%)-159\\r')"
   ]
  },
  {
   "cell_type": "markdown",
   "metadata": {},
   "source": [
    "### Creating a Mapping from Unique Characters to Indices"
   ]
  },
  {
   "cell_type": "code",
   "execution_count": 25,
   "metadata": {},
   "outputs": [],
   "source": [
    "char2idx = {u:i for i, u in enumerate(vocab)}\n",
    "idx2char = np.array(vocab)"
   ]
  },
  {
   "cell_type": "markdown",
   "metadata": {},
   "source": [
    "### Load and Generate Text with a Pre-Trained Model"
   ]
  },
  {
   "cell_type": "code",
   "execution_count": 26,
   "metadata": {},
   "outputs": [],
   "source": [
    "def load_model(batch_size):\n",
    "    \n",
    "    urls = {\n",
    "        1: 'https://storage.googleapis.com/tff-models-public/dickens_rnn.batch1.kerasmodel',\n",
    "        8: 'https://storage.googleapis.com/tff-models-public/dickens_rnn.batch8.kerasmodel'}\n",
    "    \n",
    "    assert batch_size in urls, 'batch_size must be in ' + str(urls.keys())\n",
    "    url = urls[batch_size]\n",
    "    local_file = tf.keras.utils.get_file(os.path.basename(url), origin=url)  \n",
    "    \n",
    "    return tf.keras.models.load_model(local_file, compile=False)"
   ]
  },
  {
   "cell_type": "code",
   "execution_count": 27,
   "metadata": {},
   "outputs": [],
   "source": [
    "def generate_text(model, start_string):\n",
    "    \n",
    "    # From https://www.tensorflow.org/tutorials/sequences/text_generation\n",
    "    num_generate = 200\n",
    "    input_eval = [char2idx[s] for s in start_string]\n",
    "    input_eval = tf.expand_dims(input_eval, 0)\n",
    "    text_generated = []\n",
    "    temperature = 1.0\n",
    "\n",
    "    model.reset_states()\n",
    "    for i in range(num_generate):\n",
    "        predictions = model(input_eval)\n",
    "        predictions = tf.squeeze(predictions, 0)\n",
    "        predictions = predictions / temperature\n",
    "        predicted_id = tf.random.categorical(predictions, num_samples=1)[-1, 0].numpy()\n",
    "        input_eval = tf.expand_dims([predicted_id], 0)\n",
    "        text_generated.append(idx2char[predicted_id])\n",
    "\n",
    "    return (start_string + ''.join(text_generated))"
   ]
  },
  {
   "cell_type": "code",
   "execution_count": 28,
   "metadata": {},
   "outputs": [
    {
     "name": "stdout",
     "output_type": "stream",
     "text": [
      "What of TensorFlow Federated, you ask? Sany night, The Vengeance when they slip in her peast, that the\r\n",
      "barrier was a deapons attempted on earnest to\r\n",
      "itself, on the neighbour, and the three hundred and eight Guilly reliance over their sea\n"
     ]
    }
   ],
   "source": [
    "# Text generation requires a batch_size=1 model.\n",
    "keras_model_batch1 = load_model(batch_size=1)\n",
    "print(generate_text(keras_model_batch1, 'What of TensorFlow Federated, you ask? '))"
   ]
  },
  {
   "cell_type": "markdown",
   "metadata": {},
   "source": [
    "### Preprocess Federated Stack Overflow"
   ]
  },
  {
   "cell_type": "code",
   "execution_count": 29,
   "metadata": {},
   "outputs": [],
   "source": [
    "SEQ_LENGTH = 100\n",
    "BATCH_SIZE = 8 # Use the batch size 8 rnn trained on Dickens\n",
    "BUFFER_SIZE = 10000  # For dataset shuffling"
   ]
  },
  {
   "cell_type": "code",
   "execution_count": 30,
   "metadata": {},
   "outputs": [],
   "source": [
    "# Using a namedtuple with keys x and y as the output type of the\n",
    "# dataset keeps both TFF and Keras happy:\n",
    "BatchType = collections.namedtuple('BatchType', ['x', 'y'])\n",
    "\n",
    "# Construct a lookup table to map string chars to indexes,\n",
    "# using the vocab loaded above:\n",
    "table = tf.lookup.StaticHashTable(tf.lookup.KeyValueTensorInitializer(keys=vocab,\n",
    "                                                                      values=tf.constant(list(range(len(vocab))),\n",
    "                                                                      dtype=tf.int64)),\n",
    "                                  default_value=0)"
   ]
  },
  {
   "cell_type": "code",
   "execution_count": 31,
   "metadata": {},
   "outputs": [],
   "source": [
    "def to_ids(x):\n",
    "    s = tf.reshape(x['tokens'], shape=[1])\n",
    "    chars = tf.strings.bytes_split(s).values\n",
    "    ids = table.lookup(chars)\n",
    "    return ids"
   ]
  },
  {
   "cell_type": "code",
   "execution_count": 32,
   "metadata": {},
   "outputs": [],
   "source": [
    "def split_input_target(chunk):\n",
    "    input_text = tf.map_fn(lambda x: x[:-1], chunk)\n",
    "    target_text = tf.map_fn(lambda x: x[1:], chunk)\n",
    "    return BatchType(input_text, target_text)"
   ]
  },
  {
   "cell_type": "code",
   "execution_count": 33,
   "metadata": {},
   "outputs": [],
   "source": [
    "def preprocess(dataset):\n",
    "    return (\n",
    "        # Map ASCII chars to int64 indexes using the vocab\n",
    "        dataset.map(to_ids)\n",
    "        # Split into individual chars\n",
    "        .unbatch()\n",
    "        # Form example sequences of SEQ_LENGTH +1\n",
    "        .batch(SEQ_LENGTH + 1, drop_remainder=True)\n",
    "        # Shuffle and form minibatches\n",
    "        .shuffle(BUFFER_SIZE).batch(BATCH_SIZE, drop_remainder=True)\n",
    "        # And finally split into (input, target) tuples,\n",
    "        # each of length SEQ_LENGTH.\n",
    "        .map(split_input_target))"
   ]
  },
  {
   "cell_type": "code",
   "execution_count": 34,
   "metadata": {},
   "outputs": [
    {
     "name": "stdout",
     "output_type": "stream",
     "text": [
      "BatchType(x=TensorSpec(shape=(8, 100), dtype=tf.int64, name=None), y=TensorSpec(shape=(8, 100), dtype=tf.int64, name=None))\n"
     ]
    }
   ],
   "source": [
    "example_dataset = preprocess(raw_example_dataset)\n",
    "print(tf.data.experimental.get_structure(example_dataset))"
   ]
  },
  {
   "cell_type": "markdown",
   "metadata": {},
   "source": [
    "### Compile and Test on Preprocessed Data"
   ]
  },
  {
   "cell_type": "code",
   "execution_count": 35,
   "metadata": {},
   "outputs": [],
   "source": [
    "class FlattenedCategoricalAccuracy(tf.keras.metrics.SparseCategoricalAccuracy):\n",
    "\n",
    "    def __init__(self, name='accuracy', dtype=None):\n",
    "        super(FlattenedCategoricalAccuracy, self).__init__(name, dtype=dtype)\n",
    "\n",
    "    def update_state(self, y_true, y_pred, sample_weight=None):\n",
    "        y_true = tf.reshape(y_true, [-1, 1])\n",
    "        y_pred = tf.reshape(y_pred, [-1, len(vocab), 1])\n",
    "        return super(FlattenedCategoricalAccuracy, self).update_state(y_true, y_pred, sample_weight)"
   ]
  },
  {
   "cell_type": "code",
   "execution_count": 36,
   "metadata": {},
   "outputs": [],
   "source": [
    "def compile(keras_model):\n",
    "    keras_model.compile(optimizer=tf.keras.optimizers.SGD(lr=0.05),\n",
    "                        loss=tf.keras.losses.SparseCategoricalCrossentropy(from_logits=True),\n",
    "                                                                           metrics=[FlattenedCategoricalAccuracy()])\n",
    "    return keras_model"
   ]
  },
  {
   "cell_type": "code",
   "execution_count": 37,
   "metadata": {},
   "outputs": [
    {
     "name": "stdout",
     "output_type": "stream",
     "text": [
      "Evaluating on an example Stack Overflow character:\n",
      "1/1 [==============================] - 1s 828ms/step - loss: 3.7817 - accuracy: 0.3725\n",
      "\n",
      "Expected accuracy for random guessing: 0.012\n",
      "Evaluating on completely random data:\n",
      "1/1 [==============================] - 0s 268ms/step - loss: 11.4399 - accuracy: 0.0137\n"
     ]
    },
    {
     "data": {
      "text/plain": [
       "[11.439885139465332, 0.01375]"
      ]
     },
     "execution_count": 37,
     "metadata": {},
     "output_type": "execute_result"
    }
   ],
   "source": [
    "# Load and compile the models\n",
    "keras_model = load_model(batch_size=BATCH_SIZE)\n",
    "compile(keras_model)\n",
    "\n",
    "# Confirm that loss is much lower on Stack Overflow than on random data\n",
    "print('Evaluating on an example Stack Overflow character:')\n",
    "keras_model.evaluate(example_dataset.take(1))\n",
    "\n",
    "# As a sanity check, we can construct some completely random data, where we expect\n",
    "# the accuracy to be essentially random:\n",
    "random_indexes = np.random.randint(low=0, high=len(vocab), size=1 * BATCH_SIZE * (SEQ_LENGTH + 1))\n",
    "data = {'tokens': tf.constant(''.join(np.array(vocab)[random_indexes]), shape=[1, 1])}\n",
    "random_dataset = preprocess(tf.data.Dataset.from_tensor_slices(data))\n",
    "\n",
    "print('\\nExpected accuracy for random guessing: {:.3f}'.format(1.0 / len(vocab)))\n",
    "print('Evaluating on completely random data:')\n",
    "keras_model.evaluate(random_dataset, steps=1)"
   ]
  },
  {
   "cell_type": "markdown",
   "metadata": {},
   "source": [
    "### Improve Model with Federated Averaging"
   ]
  },
  {
   "cell_type": "code",
   "execution_count": 38,
   "metadata": {},
   "outputs": [],
   "source": [
    "# Clone the keras_model inside `create_tff_model()`, which TFF will\n",
    "# call to produce a new copy of the model inside the graph that it will serialize.\n",
    "def create_tff_model():\n",
    "    # TFF uses a `dummy_batch` so it knows the types and shapes\n",
    "    # that your model expects.\n",
    "    x = tf.constant(np.random.randint(1, len(vocab), size=[BATCH_SIZE, SEQ_LENGTH]))\n",
    "    dummy_batch = collections.OrderedDict([('x', x), ('y', x)]) \n",
    "    keras_model_clone = compile(tf.keras.models.clone_model(keras_model))\n",
    "    return tff.learning.from_compiled_keras_model(keras_model_clone, dummy_batch=dummy_batch)"
   ]
  },
  {
   "cell_type": "code",
   "execution_count": 39,
   "metadata": {},
   "outputs": [
    {
     "name": "stdout",
     "output_type": "stream",
     "text": [
      "WARNING:tensorflow:From /home/joel_stremmel/anaconda3/envs/tff/lib/python3.7/site-packages/tensorflow_core/python/ops/resource_variable_ops.py:1630: calling BaseResourceVariable.__init__ (from tensorflow.python.ops.resource_variable_ops) with constraint is deprecated and will be removed in a future version.\n",
      "Instructions for updating:\n",
      "If using Keras pass *_constraint arguments to layers.\n"
     ]
    }
   ],
   "source": [
    "# This command builds all the TensorFlow graphs and serializes them: \n",
    "fed_avg = tff.learning.build_federated_averaging_process(model_fn=create_tff_model)"
   ]
  },
  {
   "cell_type": "markdown",
   "metadata": {},
   "source": [
    "### Run One Round of Federated Averaging"
   ]
  },
  {
   "cell_type": "code",
   "execution_count": 40,
   "metadata": {},
   "outputs": [
    {
     "name": "stdout",
     "output_type": "stream",
     "text": [
      "<accuracy=0.0062500000931322575,loss=4.453789710998535>\n"
     ]
    }
   ],
   "source": [
    "state = fed_avg.initialize()\n",
    "state, metrics = fed_avg.next(state, [example_dataset.take(1)])\n",
    "print(metrics)"
   ]
  },
  {
   "cell_type": "markdown",
   "metadata": {},
   "source": [
    "### Get Sample Clients for Training"
   ]
  },
  {
   "cell_type": "code",
   "execution_count": 41,
   "metadata": {},
   "outputs": [],
   "source": [
    "NUM_CLIENTS = 20"
   ]
  },
  {
   "cell_type": "code",
   "execution_count": 42,
   "metadata": {},
   "outputs": [],
   "source": [
    "def get_sample_clients(dataset, num_clients):\n",
    "    return np.array(dataset.client_ids)[np.random.choice(len(dataset.client_ids),\n",
    "                                                         size=num_clients,\n",
    "                                                         replace=False)]"
   ]
  },
  {
   "cell_type": "code",
   "execution_count": 43,
   "metadata": {},
   "outputs": [],
   "source": [
    "train_clients = get_sample_clients(train_data, num_clients=NUM_CLIENTS)\n",
    "test_clients = get_sample_clients(test_data, num_clients=NUM_CLIENTS)"
   ]
  },
  {
   "cell_type": "markdown",
   "metadata": {},
   "source": [
    "### Build and Preprocess the Train and Test Datasets"
   ]
  },
  {
   "cell_type": "code",
   "execution_count": 44,
   "metadata": {},
   "outputs": [],
   "source": [
    "def data(client, source=train_data):\n",
    "    return preprocess(source.create_tf_dataset_for_client(client)).take(2)"
   ]
  },
  {
   "cell_type": "code",
   "execution_count": 45,
   "metadata": {},
   "outputs": [
    {
     "name": "stderr",
     "output_type": "stream",
     "text": [
      "/home/joel_stremmel/anaconda3/envs/tff/lib/python3.7/site-packages/tensorflow_federated/python/simulation/hdf5_client_data.py:69: H5pyDeprecationWarning: dataset.value has been deprecated. Use dataset[()] instead.\n",
      "  collections.OrderedDict((name, ds.value) for name, ds in sorted(\n"
     ]
    }
   ],
   "source": [
    "train_datasets = [data(client) for client in train_clients]\n",
    "\n",
    "# We concatenate the test datasets for evaluation with Keras.\n",
    "test_dataset = functools.reduce(lambda d1, d2: d1.concatenate(d2), \n",
    "                                [data(client, test_data) for client in test_clients])"
   ]
  },
  {
   "cell_type": "markdown",
   "metadata": {},
   "source": [
    "### Train with Federated Averaging"
   ]
  },
  {
   "cell_type": "code",
   "execution_count": 46,
   "metadata": {},
   "outputs": [],
   "source": [
    "# NOTE: If the statement below fails, it means that you are\n",
    "# using an older version of TFF without the high-performance\n",
    "# executor stack. Call `tff.framework.set_default_executor()`\n",
    "# instead to use the default reference runtime.\n",
    "if six.PY3:\n",
    "    tff.framework.set_default_executor(tff.framework.create_local_executor())"
   ]
  },
  {
   "cell_type": "code",
   "execution_count": 47,
   "metadata": {},
   "outputs": [
    {
     "name": "stdout",
     "output_type": "stream",
     "text": [
      "Evaluating before training round 0\n",
      "2/2 [==============================] - 1s 317ms/step - loss: 3.4899 - accuracy: 0.3825\n",
      "Training metrics:  <accuracy=0.40456250309944153,loss=3.496861219406128>\n",
      "Evaluating before training round 1\n",
      "2/2 [==============================] - 1s 312ms/step - loss: 3.6203 - accuracy: 0.4044\n",
      "Training metrics:  <accuracy=0.4144062399864197,loss=3.458650588989258>\n",
      "Evaluating before training round 2\n",
      "2/2 [==============================] - 1s 314ms/step - loss: 3.5172 - accuracy: 0.4187\n",
      "Training metrics:  <accuracy=0.4176875054836273,loss=3.4151408672332764>\n",
      "Evaluating before training round 3\n",
      "2/2 [==============================] - 1s 299ms/step - loss: 3.1471 - accuracy: 0.4525\n",
      "Training metrics:  <accuracy=0.41574999690055847,loss=3.457104444503784>\n",
      "Evaluating before training round 4\n",
      "2/2 [==============================] - 1s 317ms/step - loss: 3.4382 - accuracy: 0.4156\n",
      "Training metrics:  <accuracy=0.4231874942779541,loss=3.378187894821167>\n",
      "Evaluating before training round 5\n",
      "2/2 [==============================] - 1s 307ms/step - loss: 3.2673 - accuracy: 0.4469\n",
      "Training metrics:  <accuracy=0.4254375100135803,loss=3.36430287361145>\n",
      "Evaluating before training round 6\n",
      "2/2 [==============================] - 1s 318ms/step - loss: 3.2599 - accuracy: 0.4325\n",
      "Training metrics:  <accuracy=0.429749995470047,loss=3.297987699508667>\n",
      "Evaluating before training round 7\n",
      "2/2 [==============================] - 1s 310ms/step - loss: 3.4463 - accuracy: 0.4356\n",
      "Training metrics:  <accuracy=0.4235000014305115,loss=3.3048369884490967>\n",
      "Evaluating before training round 8\n",
      "2/2 [==============================] - 1s 317ms/step - loss: 3.5536 - accuracy: 0.4025\n",
      "Training metrics:  <accuracy=0.4313125014305115,loss=3.257267713546753>\n",
      "Evaluating before training round 9\n",
      "2/2 [==============================] - 1s 309ms/step - loss: 3.2836 - accuracy: 0.4231\n",
      "Training metrics:  <accuracy=0.4286249876022339,loss=3.239718198776245>\n",
      "Evaluating before training round 10\n",
      "2/2 [==============================] - 1s 317ms/step - loss: 3.3206 - accuracy: 0.4425\n",
      "Training metrics:  <accuracy=0.43296873569488525,loss=3.194279909133911>\n",
      "Evaluating before training round 11\n",
      "2/2 [==============================] - 1s 303ms/step - loss: 3.5231 - accuracy: 0.4219\n",
      "Training metrics:  <accuracy=0.43303126096725464,loss=3.1689696311950684>\n",
      "Evaluating before training round 12\n",
      "2/2 [==============================] - 1s 319ms/step - loss: 3.3474 - accuracy: 0.4325\n",
      "Training metrics:  <accuracy=0.4323750138282776,loss=3.169227123260498>\n",
      "Evaluating before training round 13\n",
      "2/2 [==============================] - 1s 308ms/step - loss: 3.2517 - accuracy: 0.4375\n",
      "Training metrics:  <accuracy=0.437312513589859,loss=3.0927348136901855>\n",
      "Evaluating before training round 14\n",
      "2/2 [==============================] - 1s 320ms/step - loss: 3.0740 - accuracy: 0.4394\n",
      "Training metrics:  <accuracy=0.43431249260902405,loss=3.16995906829834>\n",
      "Evaluating before training round 15\n",
      "2/2 [==============================] - 1s 309ms/step - loss: 3.3962 - accuracy: 0.4194\n",
      "Training metrics:  <accuracy=0.4310937523841858,loss=3.130263090133667>\n",
      "Evaluating before training round 16\n",
      "2/2 [==============================] - 1s 318ms/step - loss: 3.2365 - accuracy: 0.4381\n",
      "Training metrics:  <accuracy=0.4389687478542328,loss=3.056596279144287>\n",
      "Evaluating before training round 17\n",
      "2/2 [==============================] - 1s 307ms/step - loss: 2.8337 - accuracy: 0.4556\n",
      "Training metrics:  <accuracy=0.43562498688697815,loss=3.0815749168395996>\n",
      "Evaluating before training round 18\n",
      "2/2 [==============================] - 1s 319ms/step - loss: 3.1783 - accuracy: 0.4431\n",
      "Training metrics:  <accuracy=0.44225001335144043,loss=3.0353474617004395>\n",
      "Evaluating before training round 19\n",
      "2/2 [==============================] - 1s 307ms/step - loss: 3.0554 - accuracy: 0.4419\n",
      "Training metrics:  <accuracy=0.445499986410141,loss=2.996931552886963>\n",
      "Evaluating before training round 21\n",
      "2/2 [==============================] - 1s 323ms/step - loss: 3.3547 - accuracy: 0.4206\n"
     ]
    }
   ],
   "source": [
    "NUM_ROUNDS = 20\n",
    "\n",
    "# The state of the FL server, containing the model and optimization state.\n",
    "state = fed_avg.initialize()\n",
    "\n",
    "state = tff.learning.state_with_new_model_weights(\n",
    "    state,\n",
    "    trainable_weights=[v.numpy() for v in keras_model.trainable_weights],\n",
    "    non_trainable_weights=[v.numpy() for v in keras_model.non_trainable_weights]\n",
    ")\n",
    "\n",
    "def keras_evaluate(state, round_num):\n",
    "    tff.learning.assign_weights_to_keras_model(keras_model, state.model)\n",
    "    print('Evaluating before training round', round_num)\n",
    "    keras_model.evaluate(example_dataset, steps=2)\n",
    "\n",
    "for round_num in range(NUM_ROUNDS):\n",
    "    keras_evaluate(state, round_num)\n",
    "    # N.B. The TFF runtime is currently fairly slow,\n",
    "    # expect this to get significantly faster in future releases.\n",
    "    state, metrics = fed_avg.next(state, train_datasets)\n",
    "    print('Training metrics: ', metrics)\n",
    "\n",
    "keras_evaluate(state, NUM_ROUNDS + 1)"
   ]
  },
  {
   "cell_type": "code",
   "execution_count": 48,
   "metadata": {},
   "outputs": [
    {
     "name": "stdout",
     "output_type": "stream",
     "text": [
      "What of TensorFlow Federated, you ask? Sydney Carton returning not to identh. What is is tht Extraor is for to-more co wip in yourself into\r\n",
      "burning of the city controvulating versal like s got up with it is a shame was abso\r\n",
      "business-wha\n"
     ]
    }
   ],
   "source": [
    "# Text generation requires batch_size=1\n",
    "keras_model_batch1.set_weights([v.numpy() for v in keras_model.weights])\n",
    "print(generate_text(keras_model_batch1, 'What of TensorFlow Federated, you ask?'))"
   ]
  },
  {
   "cell_type": "markdown",
   "metadata": {},
   "source": [
    "**Suggested extensions from tutorial:**\n",
    "\n",
    "- Write a more realistic training loop where you sample clients to train on randomly.\n",
    "- Use \".repeat(NUM_EPOCHS)\" on the client datasets to try multiple epochs of local training (e.g., as in McMahan et. al.). See also Federated Learning for Image Classification which does this.\n",
    "- Change the compile() command to experiment with using different optimization algorithms on the client.\n",
    "- Try the server_optimizer argument to build_federated_averaging_process to try different algorithms for applying the model updates on the server.\n",
    "- Try the client_weight_fn argument to to build_federated_averaging_process to try different weightings of the clients. The default weights client updates by the number of examples on the client, but you can do e.g. client_weight_fn=lambda _: tf.constant(1.0)."
   ]
  },
  {
   "cell_type": "code",
   "execution_count": null,
   "metadata": {},
   "outputs": [],
   "source": []
  }
 ],
 "metadata": {
  "kernelspec": {
   "display_name": "fed",
   "language": "python",
   "name": "fed"
  },
  "language_info": {
   "codemirror_mode": {
    "name": "ipython",
    "version": 3
   },
   "file_extension": ".py",
   "mimetype": "text/x-python",
   "name": "python",
   "nbconvert_exporter": "python",
   "pygments_lexer": "ipython3",
   "version": "3.7.5"
  }
 },
 "nbformat": 4,
 "nbformat_minor": 2
}
