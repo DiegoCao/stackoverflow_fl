{
 "cells": [
  {
   "cell_type": "markdown",
   "metadata": {},
   "source": [
    "# Stack Overflow Data EDA and Text Generation \n",
    "- Joel Stremmel\n",
    "- 01-14-20\n",
    "\n",
    "**About:**\n",
    "\n",
    "This notebook explores the Stack Overflow data available through `tff.simulation.datasets` with some basic EDA and then by training a model with Federared Averaging by following the Federated Learning for Text Generation example notebook listed in the references section.\n",
    "\n",
    "**Notes:**\n",
    "\n",
    "There are two modeling options within this notebook based on the tutorials listed under references:\n",
    "1. To load a pretrained RNN as in the FL example using the Shakespeare dataset.\n",
    "2. To build and train a basic RNN model from scratch with the architecure in the TF text generation tutorial.\n",
    "\n",
    "\n",
    "**Data:** \n",
    "- https://www.kaggle.com/stackoverflow/stackoverflow\n",
    "\n",
    "**License:** \n",
    "- https://creativecommons.org/licenses/by-sa/3.0/\n",
    "\n",
    "**Data and Model References:**\n",
    "- https://www.tensorflow.org/federated/api_docs/python/tff/simulation/datasets/stackoverflow/load_data\n",
    "- https://github.com/tensorflow/federated/blob/master/docs/tutorials/federated_learning_for_text_generation.ipynb\n",
    "- https://github.com/tensorflow/federated/\n",
    "- https://www.tensorflow.org/tutorials/text/text_generation\n",
    "\n",
    "**Environment Setup References:**\n",
    "- https://www.tensorflow.org/install/gpu\n",
    "- https://gist.github.com/matheustguimaraes/43e0b65aa534db4df2918f835b9b361d\n",
    "- https://www.tensorflow.org/install/source#tested_build_configurations\n",
    "- https://anbasile.github.io/programming/2017/06/25/jupyter-venv/"
   ]
  },
  {
   "cell_type": "markdown",
   "metadata": {},
   "source": [
    "### Setup"
   ]
  },
  {
   "cell_type": "code",
   "execution_count": 1,
   "metadata": {},
   "outputs": [],
   "source": [
    "# !pip install --upgrade pip\n",
    "# !pip install --upgrade tensorflow-federated\n",
    "# !pip uninstall tensorflow -y\n",
    "# !pip install --upgrade tensorflow-gpu==2.0\n",
    "# !pip install --upgrade nltk\n",
    "# !pip install matplotlib\n",
    "# !pip install nest_asyncio"
   ]
  },
  {
   "cell_type": "code",
   "execution_count": 2,
   "metadata": {},
   "outputs": [],
   "source": [
    "import nest_asyncio\n",
    "nest_asyncio.apply()"
   ]
  },
  {
   "cell_type": "code",
   "execution_count": 3,
   "metadata": {},
   "outputs": [],
   "source": [
    "import collections\n",
    "import functools\n",
    "import os\n",
    "import six\n",
    "import time\n",
    "import string\n",
    "\n",
    "import numpy as np\n",
    "import matplotlib.pyplot as plt\n",
    "from nltk.corpus import stopwords"
   ]
  },
  {
   "cell_type": "code",
   "execution_count": 4,
   "metadata": {},
   "outputs": [
    {
     "name": "stdout",
     "output_type": "stream",
     "text": [
      "Built with Cuda: True\n",
      "Build with GPU support: True\n",
      "Num GPUs Available:  1\n"
     ]
    }
   ],
   "source": [
    "import tensorflow as tf\n",
    "print('Built with Cuda: {}'.format(tf.test.is_built_with_cuda()))\n",
    "print('Build with GPU support: {}'.format(tf.test.is_built_with_gpu_support()))\n",
    "print(\"Num GPUs Available: \", len(tf.config.experimental.list_physical_devices('GPU')))"
   ]
  },
  {
   "cell_type": "code",
   "execution_count": 5,
   "metadata": {},
   "outputs": [],
   "source": [
    "import tensorflow_federated as tff"
   ]
  },
  {
   "cell_type": "code",
   "execution_count": 6,
   "metadata": {},
   "outputs": [],
   "source": [
    "tf.compat.v1.enable_v2_behavior()"
   ]
  },
  {
   "cell_type": "code",
   "execution_count": 7,
   "metadata": {},
   "outputs": [],
   "source": [
    "np.random.seed(0)"
   ]
  },
  {
   "cell_type": "markdown",
   "metadata": {},
   "source": [
    "### Set Tensorflow to Use GPU"
   ]
  },
  {
   "cell_type": "code",
   "execution_count": 8,
   "metadata": {},
   "outputs": [
    {
     "data": {
      "text/plain": [
       "'/device:GPU:0'"
      ]
     },
     "execution_count": 8,
     "metadata": {},
     "output_type": "execute_result"
    }
   ],
   "source": [
    "tf.test.gpu_device_name()"
   ]
  },
  {
   "cell_type": "code",
   "execution_count": 9,
   "metadata": {},
   "outputs": [
    {
     "name": "stdout",
     "output_type": "stream",
     "text": [
      "PhysicalDevice(name='/physical_device:CPU:0', device_type='CPU')\n",
      "PhysicalDevice(name='/physical_device:XLA_CPU:0', device_type='XLA_CPU')\n",
      "PhysicalDevice(name='/physical_device:XLA_GPU:0', device_type='XLA_GPU')\n",
      "PhysicalDevice(name='/physical_device:GPU:0', device_type='GPU')\n"
     ]
    }
   ],
   "source": [
    "physical_devices = tf.config.experimental.list_physical_devices(device_type=None)\n",
    "tf.config.experimental.set_memory_growth(physical_devices[-1], enable=True)\n",
    "for device in physical_devices:\n",
    "    print(device)"
   ]
  },
  {
   "cell_type": "markdown",
   "metadata": {},
   "source": [
    "### Test TFF"
   ]
  },
  {
   "cell_type": "code",
   "execution_count": 10,
   "metadata": {},
   "outputs": [
    {
     "data": {
      "text/plain": [
       "'Hello, World!'"
      ]
     },
     "execution_count": 10,
     "metadata": {},
     "output_type": "execute_result"
    }
   ],
   "source": [
    "tff.federated_computation(lambda: 'Hello, World!')()"
   ]
  },
  {
   "cell_type": "markdown",
   "metadata": {},
   "source": [
    "### Load Stack Overflow Word Counts"
   ]
  },
  {
   "cell_type": "code",
   "execution_count": 11,
   "metadata": {},
   "outputs": [],
   "source": [
    "word_counts = tff.simulation.datasets.stackoverflow.load_word_counts(cache_dir='~/data')"
   ]
  },
  {
   "cell_type": "markdown",
   "metadata": {},
   "source": [
    "### Number of Words"
   ]
  },
  {
   "cell_type": "code",
   "execution_count": 12,
   "metadata": {},
   "outputs": [
    {
     "data": {
      "text/plain": [
       "6005329"
      ]
     },
     "execution_count": 12,
     "metadata": {},
     "output_type": "execute_result"
    }
   ],
   "source": [
    "len(word_counts)"
   ]
  },
  {
   "cell_type": "markdown",
   "metadata": {},
   "source": [
    "### Create Dictionary of Counts"
   ]
  },
  {
   "cell_type": "code",
   "execution_count": 13,
   "metadata": {},
   "outputs": [],
   "source": [
    "count_dict = collections.Counter(word_counts)"
   ]
  },
  {
   "cell_type": "markdown",
   "metadata": {},
   "source": [
    "### Create Function to Plot Word Frequency"
   ]
  },
  {
   "cell_type": "code",
   "execution_count": 14,
   "metadata": {},
   "outputs": [],
   "source": [
    "def plot_ordered_frequency(count_dict, n, color='orange'):\n",
    "    \n",
    "    top_words = collections.OrderedDict(sorted(count_dict.most_common(n), key=lambda x: x[1]))\n",
    "    \n",
    "    plt.figure(figsize=(8, 16))\n",
    "    plt.barh(range(len(top_words)), top_words.values(), align='center', color=color)\n",
    "    plt.yticks(range(len(top_words)), list(top_words.keys()))\n",
    "    \n",
    "    plt.title('Most Common Words', size=18)\n",
    "    plt.xlabel('Count of Occurences', size=18)\n",
    "    plt.ylabel('Words', size=18)\n",
    "\n",
    "    plt.show()"
   ]
  },
  {
   "cell_type": "markdown",
   "metadata": {},
   "source": [
    "### Plot Raw Frequency of Words"
   ]
  },
  {
   "cell_type": "code",
   "execution_count": 15,
   "metadata": {},
   "outputs": [
    {
     "data": {
      "image/png": "[encoded data removed]",
      "text/plain": [
       "<Figure size 576x1152 with 1 Axes>"
      ]
     },
     "metadata": {
      "needs_background": "light"
     },
     "output_type": "display_data"
    }
   ],
   "source": [
    "plot_ordered_frequency(count_dict, n=50)"
   ]
  },
  {
   "cell_type": "markdown",
   "metadata": {},
   "source": [
    "### Clean Dictionary by:\n",
    "- Removing Stopwords\n",
    "- Removing Punctuation"
   ]
  },
  {
   "cell_type": "code",
   "execution_count": 16,
   "metadata": {},
   "outputs": [],
   "source": [
    "for stopword in stopwords.words('english'):\n",
    "    count_dict.pop(stopword, None)"
   ]
  },
  {
   "cell_type": "code",
   "execution_count": 17,
   "metadata": {},
   "outputs": [],
   "source": [
    "for punctuation in string.punctuation:\n",
    "    count_dict.pop(punctuation, None)"
   ]
  },
  {
   "cell_type": "markdown",
   "metadata": {},
   "source": [
    "### Plot Frequency of Filtered Words"
   ]
  },
  {
   "cell_type": "code",
   "execution_count": 18,
   "metadata": {},
   "outputs": [
    {
     "data": {
      "image/png": "[encoded data removed]",
      "text/plain": [
       "<Figure size 576x1152 with 1 Axes>"
      ]
     },
     "metadata": {
      "needs_background": "light"
     },
     "output_type": "display_data"
    }
   ],
   "source": [
    "plot_ordered_frequency(count_dict, n=50, color='magenta')"
   ]
  },
  {
   "cell_type": "markdown",
   "metadata": {},
   "source": [
    "### View Some Rare Words"
   ]
  },
  {
   "cell_type": "code",
   "execution_count": 19,
   "metadata": {},
   "outputs": [
    {
     "data": {
      "text/plain": [
       "[('zzzzzzzzzzzzzzzzzzzz', 1),\n",
       " ('zzzzzzzzzzzzzzzzzzzzzz', 1),\n",
       " ('zzzzzzzzzzzzzzzzzzzzzzzzzzz', 1),\n",
       " ('zzzzzzzzzzzzzzzzzzzzzzzzzzzzz', 1),\n",
       " ('zzzzzzzzzzzzzzzzzzzzzzzzzzzzzzz', 1),\n",
       " ('zzzzzzzzzzzzzzzzzzzzzzzzzzzzzzzz', 1),\n",
       " ('zzzzzzzzzzzzzzzzzzzzzzzzzzzzzzzzzzzzzz', 1),\n",
       " ('zzzzzzzzzzzzzzzzzzzzzzzzzzzzzzzzzzzzzzzz', 1),\n",
       " ('zzzzzzzzzzzzzzzzzzzzzzzzzzzzzzzzzzzzzzzzzzzzzzzzzz', 1)]"
      ]
     },
     "execution_count": 19,
     "metadata": {},
     "output_type": "execute_result"
    }
   ],
   "source": [
    "count_dict.most_common()[-10:-1]"
   ]
  },
  {
   "cell_type": "markdown",
   "metadata": {},
   "source": [
    "### Compute Summary Statistics"
   ]
  },
  {
   "cell_type": "code",
   "execution_count": 20,
   "metadata": {},
   "outputs": [
    {
     "name": "stdout",
     "output_type": "stream",
     "text": [
      "Minimum number of occurences: 1\n",
      "Maximum number of occurences: 333526\n",
      "Mean number of occurences: 45.946\n",
      "Median number of occurences: 1.0\n",
      "Standard Deviation of occurences: 1946.294\n"
     ]
    }
   ],
   "source": [
    "counts = list(count_dict.values())\n",
    "min_occurences = min(counts)\n",
    "max_occurences = max(counts)\n",
    "mean_occurences = np.mean(counts)\n",
    "median_occurences = np.median(counts)\n",
    "stdv_occurences = np.std(counts)\n",
    "print('Minimum number of occurences: {}'.format(min_occurences))\n",
    "print('Maximum number of occurences: {}'.format(max_occurences))\n",
    "print('Mean number of occurences: {}'.format(round(mean_occurences, 3)))\n",
    "print('Median number of occurences: {}'.format(round(median_occurences, 3)))\n",
    "print('Standard Deviation of occurences: {}'.format(round(stdv_occurences, 3)))"
   ]
  },
  {
   "cell_type": "markdown",
   "metadata": {},
   "source": [
    "### Plot Histogram of Counts\n",
    "- First with the raw counts\n",
    "- Then with the log of the counts due to the increasingly small number of large values"
   ]
  },
  {
   "cell_type": "code",
   "execution_count": 21,
   "metadata": {},
   "outputs": [
    {
     "data": {
      "image/png": "[encoded data removed]",
      "text/plain": [
       "<Figure size 432x288 with 1 Axes>"
      ]
     },
     "metadata": {
      "needs_background": "light"
     },
     "output_type": "display_data"
    }
   ],
   "source": [
    "plt.hist(counts, bins=20)\n",
    "plt.title('Distribution of Word Occurences')\n",
    "plt.xlabel('Word Occurences')\n",
    "plt.ylabel('Frequency')\n",
    "plt.show()"
   ]
  },
  {
   "cell_type": "code",
   "execution_count": 22,
   "metadata": {},
   "outputs": [
    {
     "data": {
      "image/png": "[encoded data removed]",
      "text/plain": [
       "<Figure size 432x288 with 1 Axes>"
      ]
     },
     "metadata": {
      "needs_background": "light"
     },
     "output_type": "display_data"
    }
   ],
   "source": [
    "fig, ax = plt.subplots(1,1)\n",
    "plt.hist(np.log(counts), bins=20)\n",
    "plt.title('Distribution of Log of Word Occurences')\n",
    "plt.xlabel('log(Word Occurences)')\n",
    "plt.ylabel('Frequency')\n",
    "plt.show()"
   ]
  },
  {
   "cell_type": "markdown",
   "metadata": {},
   "source": [
    "### Load Stack Overflow Data"
   ]
  },
  {
   "cell_type": "code",
   "execution_count": 23,
   "metadata": {},
   "outputs": [
    {
     "name": "stderr",
     "output_type": "stream",
     "text": [
      "/home/joel_stremmel/anaconda3/envs/tff/lib/python3.7/site-packages/tensorflow_federated/python/simulation/hdf5_client_data.py:69: H5pyDeprecationWarning: dataset.value has been deprecated. Use dataset[()] instead.\n",
      "  collections.OrderedDict((name, ds.value) for name, ds in sorted(\n"
     ]
    }
   ],
   "source": [
    "train_data, val_data, test_data = tff.simulation.datasets.stackoverflow.load_data(cache_dir='~/data')\n",
    "# print(train_data.output_shapes)"
   ]
  },
  {
   "cell_type": "markdown",
   "metadata": {},
   "source": [
    "### View Some Sample Client Records"
   ]
  },
  {
   "cell_type": "code",
   "execution_count": 24,
   "metadata": {},
   "outputs": [
    {
     "name": "stdout",
     "output_type": "stream",
     "text": [
      "\n",
      "Key: creation_date\n",
      "tf.Tensor(b'2008-12-22 14:45:37.037 UTC', shape=(), dtype=string)\n",
      "\n",
      "Key: score\n",
      "tf.Tensor(11, shape=(), dtype=int64)\n",
      "\n",
      "Key: tags\n",
      "tf.Tensor(b'sql-server|indexing', shape=(), dtype=string)\n",
      "\n",
      "Key: title\n",
      "tf.Tensor(b'what fields should be indexed on a given table ?', shape=(), dtype=string)\n",
      "\n",
      "Key: tokens\n",
      "tf.Tensor(b'the sql server 2008 management studio query tool , if you turn on \" include actual execution plan \" , will tell you what indexes a given query needs to run fast .', shape=(), dtype=string)\n",
      "\n",
      "Key: type\n",
      "tf.Tensor(b'answer', shape=(), dtype=string)\n",
      "\n",
      "Key: creation_date\n",
      "tf.Tensor(b'2008-12-22 14:45:37.037 UTC', shape=(), dtype=string)\n",
      "\n",
      "Key: score\n",
      "tf.Tensor(11, shape=(), dtype=int64)\n",
      "\n",
      "Key: tags\n",
      "tf.Tensor(b'sql-server|indexing', shape=(), dtype=string)\n",
      "\n",
      "Key: title\n",
      "tf.Tensor(b'what fields should be indexed on a given table ?', shape=(), dtype=string)\n",
      "\n",
      "Key: tokens\n",
      "tf.Tensor(b\"( assuming there's an obvious missing index that is making the query run unusually slow , that is . )\", shape=(), dtype=string)\n",
      "\n",
      "Key: type\n",
      "tf.Tensor(b'answer', shape=(), dtype=string)\n"
     ]
    }
   ],
   "source": [
    "raw_example_dataset = train_data.create_tf_dataset_for_client('00000001')\n",
    "for record in raw_example_dataset.take(2):\n",
    "    for key in record:\n",
    "        print('\\nKey: {}'.format(key))\n",
    "        print(record[key])"
   ]
  },
  {
   "cell_type": "markdown",
   "metadata": {},
   "source": [
    "### Count Number of Clients"
   ]
  },
  {
   "cell_type": "code",
   "execution_count": 25,
   "metadata": {},
   "outputs": [
    {
     "name": "stdout",
     "output_type": "stream",
     "text": [
      "342477 train clients.\n",
      "38758 val clients.\n",
      "204088 test clients.\n"
     ]
    }
   ],
   "source": [
    "print('{} train clients.'.format(len(train_data.client_ids)))\n",
    "print('{} val clients.'.format(len(val_data.client_ids)))\n",
    "print('{} test clients.'.format(len(test_data.client_ids)))"
   ]
  },
  {
   "cell_type": "markdown",
   "metadata": {},
   "source": [
    "### Get Sample Clients for Training, Validation, and Testing"
   ]
  },
  {
   "cell_type": "code",
   "execution_count": 26,
   "metadata": {},
   "outputs": [],
   "source": [
    "NUM_TRAIN_CLIENTS = 50\n",
    "NUM_VAL_CLIENTS = 10\n",
    "NUM_TEST_CLIENTS = 10"
   ]
  },
  {
   "cell_type": "code",
   "execution_count": 27,
   "metadata": {},
   "outputs": [],
   "source": [
    "def get_sample_clients(dataset, num_clients):\n",
    "    return np.array(dataset.client_ids)[np.random.choice(len(dataset.client_ids),\n",
    "                                                         size=num_clients,\n",
    "                                                         replace=False)]"
   ]
  },
  {
   "cell_type": "code",
   "execution_count": 28,
   "metadata": {},
   "outputs": [],
   "source": [
    "train_clients = get_sample_clients(train_data, num_clients=NUM_TRAIN_CLIENTS)\n",
    "val_clients = get_sample_clients(val_data, num_clients=NUM_VAL_CLIENTS)\n",
    "test_clients = get_sample_clients(test_data, num_clients=NUM_TEST_CLIENTS)"
   ]
  },
  {
   "cell_type": "markdown",
   "metadata": {},
   "source": [
    "### Set Vocabulary\n",
    "- Currently using the fixed vocabularly of ASCII chars that occur in the works of Shakespeare and Dickens\n",
    "- **Is there a good way to get the distinct characters from a TF dataset?**"
   ]
  },
  {
   "cell_type": "code",
   "execution_count": 29,
   "metadata": {},
   "outputs": [],
   "source": [
    "vocab = list('dhlptx@DHLPTX $(,048cgkoswCGKOSW[_#\\'/37;?bfjnrvzBFJNRVZ\"&*.26:\\naeimquyAEIMQUY]!%)-159\\r')\n",
    "vocab_size = len(vocab)"
   ]
  },
  {
   "cell_type": "markdown",
   "metadata": {},
   "source": [
    "### Creating a Mapping from Unique Characters to Indices"
   ]
  },
  {
   "cell_type": "code",
   "execution_count": 30,
   "metadata": {},
   "outputs": [],
   "source": [
    "char2idx = {u:i for i, u in enumerate(vocab)}\n",
    "idx2char = np.array(vocab)"
   ]
  },
  {
   "cell_type": "markdown",
   "metadata": {},
   "source": [
    "### Load and Generate Text with a Pre-Trained Model or Build a New Model\n",
    "Text generation requires a batch_size=1 model."
   ]
  },
  {
   "cell_type": "code",
   "execution_count": 31,
   "metadata": {},
   "outputs": [],
   "source": [
    "def load_pretrained_model(batch_size):\n",
    "    \"\"\"\n",
    "    Load a pretrained model from the Google RNNs trained on Dickens\n",
    "    based on the desired batch size.\n",
    "    \"\"\"\n",
    "    \n",
    "    urls = {\n",
    "        1: 'https://storage.googleapis.com/tff-models-public/dickens_rnn.batch1.kerasmodel',\n",
    "        8: 'https://storage.googleapis.com/tff-models-public/dickens_rnn.batch8.kerasmodel'}\n",
    "    \n",
    "    assert batch_size in urls, 'batch_size must be in ' + str(urls.keys())\n",
    "    \n",
    "    url = urls[batch_size]\n",
    "    local_file = tf.keras.utils.get_file(os.path.basename(url), origin=url)  \n",
    "    \n",
    "    return tf.keras.models.load_model(local_file, compile=False)"
   ]
  },
  {
   "cell_type": "code",
   "execution_count": 32,
   "metadata": {},
   "outputs": [],
   "source": [
    "def build_model(batch_size, vocab_size, embedding_dim=256, rnn_units=512):\n",
    "    \"\"\"\n",
    "    Build model with architecture from: https://www.tensorflow.org/tutorials/text/text_generation.\n",
    "    \"\"\"\n",
    "\n",
    "    model = tf.keras.Sequential([\n",
    "        \n",
    "        tf.keras.layers.Embedding(vocab_size,\n",
    "                                  embedding_dim,\n",
    "                                  batch_input_shape=[batch_size, None]),\n",
    "        \n",
    "        tf.keras.layers.GRU(rnn_units,\n",
    "                            return_sequences=True,\n",
    "                            stateful=True, \n",
    "                            recurrent_initializer='glorot_uniform'),\n",
    "                                 \n",
    "#         tf.keras.layers.LSTM(rnn_units,\n",
    "#                              return_sequences=True,\n",
    "#                              stateful=True,\n",
    "#                              recurrent_initializer='glorot_uniform'),\n",
    "                                 \n",
    "        tf.keras.layers.Dense(vocab_size)])\n",
    "                 \n",
    "    return model"
   ]
  },
  {
   "cell_type": "code",
   "execution_count": 33,
   "metadata": {},
   "outputs": [],
   "source": [
    "def generate_text(model, start_string):\n",
    "    \"\"\"\n",
    "    Generate text by sampling from the model output distribution\n",
    "    as in From https://www.tensorflow.org/tutorials/sequences/text_generation.\n",
    "    \"\"\"\n",
    "\n",
    "    num_generate = 200\n",
    "    input_eval = [char2idx[s] for s in start_string]\n",
    "    input_eval = tf.expand_dims(input_eval, 0)\n",
    "    text_generated = []\n",
    "    temperature = 1.0\n",
    "\n",
    "    model.reset_states()\n",
    "    for i in range(num_generate):\n",
    "        predictions = model(input_eval)\n",
    "        predictions = tf.squeeze(predictions, 0)\n",
    "        predictions = predictions / temperature\n",
    "        predicted_id = tf.random.categorical(predictions, num_samples=1)[-1, 0].numpy()\n",
    "        input_eval = tf.expand_dims([predicted_id], 0)\n",
    "        text_generated.append(idx2char[predicted_id])\n",
    "\n",
    "    return (start_string + ''.join(text_generated))"
   ]
  },
  {
   "cell_type": "code",
   "execution_count": 34,
   "metadata": {
    "scrolled": true
   },
   "outputs": [
    {
     "name": "stdout",
     "output_type": "stream",
     "text": [
      "What of TensorFlow Federated, you ask? %P$Flj1QK$Uszk[ri/3Nv ixF,R\r\n",
      "o(ey-tY0]_yKDF!*-8(%H1&H:&EP3ue%s8lmoAP\r",
      "%EYgWWZyc!nX1d%aExzp,r3/cnfN?rOpwUCI-!WJqSnUPty'9$X'M.y8V_SnTS223Ye]aWqxX-AzEp#$-i%8%PgX.'gCE1XXDsak?$)Pe0Y!TeJ7(zNZycKd0O/:\"8\n",
      "&LL(\n"
     ]
    }
   ],
   "source": [
    "# keras_model_batch1 = load_pretrained_model(batch_size=1)\n",
    "keras_model_batch1 = build_model(batch_size=1, vocab_size=vocab_size)\n",
    "print(generate_text(keras_model_batch1, 'What of TensorFlow Federated, you ask? '))"
   ]
  },
  {
   "cell_type": "markdown",
   "metadata": {},
   "source": [
    "### Preprocess Federated Stack Overflow\n",
    "- Using a namedtuple with keys x and y as the output type of the dataset keeps both TFF and Keras happy.\n",
    "- Construct a lookup table to map string chars to indexes, using the vocab loaded above.\n",
    "- Write functions for:\n",
    "    - ID lookup\n",
    "    - Splitting inputs and targets\n",
    "    - Applying preprocessing steps to dataset\n",
    "    - Taking clients and client records and applying preprocessing"
   ]
  },
  {
   "cell_type": "code",
   "execution_count": 35,
   "metadata": {},
   "outputs": [],
   "source": [
    "SEQ_LENGTH = 100\n",
    "BATCH_SIZE = 16\n",
    "BUFFER_SIZE = 5000"
   ]
  },
  {
   "cell_type": "code",
   "execution_count": 36,
   "metadata": {},
   "outputs": [],
   "source": [
    "BatchType = collections.namedtuple('BatchType', ['x', 'y'])"
   ]
  },
  {
   "cell_type": "code",
   "execution_count": 37,
   "metadata": {},
   "outputs": [],
   "source": [
    "table = tf.lookup.StaticHashTable(\n",
    "    tf.lookup.KeyValueTensorInitializer(\n",
    "        keys=vocab,\n",
    "        values=tf.constant(list(range(len(vocab))),\n",
    "        dtype=tf.int64)),\n",
    "    default_value=0)"
   ]
  },
  {
   "cell_type": "code",
   "execution_count": 38,
   "metadata": {},
   "outputs": [],
   "source": [
    "def to_ids(x):\n",
    "    \n",
    "    s = tf.reshape(x['tokens'], shape=[1])\n",
    "    chars = tf.strings.bytes_split(s).values\n",
    "    ids = table.lookup(chars)\n",
    "    \n",
    "    return ids"
   ]
  },
  {
   "cell_type": "code",
   "execution_count": 39,
   "metadata": {},
   "outputs": [],
   "source": [
    "def split_input_target(chunk):\n",
    "    \n",
    "    input_text = tf.map_fn(lambda x: x[:-1], chunk)\n",
    "    target_text = tf.map_fn(lambda x: x[1:], chunk)\n",
    "    \n",
    "    return BatchType(input_text, target_text)"
   ]
  },
  {
   "cell_type": "code",
   "execution_count": 40,
   "metadata": {},
   "outputs": [],
   "source": [
    "def preprocess(dataset):\n",
    "    \n",
    "    return (\n",
    "        # Map ASCII chars to int64 indexes using the vocab\n",
    "        dataset.map(to_ids)\n",
    "        # Split into individual chars\n",
    "        .unbatch()\n",
    "        # Form example sequences of SEQ_LENGTH +1\n",
    "        .batch(SEQ_LENGTH + 1, drop_remainder=True)\n",
    "        # Shuffle and form minibatches\n",
    "        .shuffle(BUFFER_SIZE).batch(BATCH_SIZE, drop_remainder=True)\n",
    "        # And finally split into (input, target) tuples,\n",
    "        # each of length SEQ_LENGTH.\n",
    "        .map(split_input_target))"
   ]
  },
  {
   "cell_type": "code",
   "execution_count": 41,
   "metadata": {},
   "outputs": [],
   "source": [
    "def preprocess_data_for_client(client, source=train_data):\n",
    "    \n",
    "    return preprocess(source.create_tf_dataset_for_client(client))"
   ]
  },
  {
   "cell_type": "code",
   "execution_count": 42,
   "metadata": {},
   "outputs": [
    {
     "name": "stderr",
     "output_type": "stream",
     "text": [
      "/home/joel_stremmel/anaconda3/envs/tff/lib/python3.7/site-packages/tensorflow_federated/python/simulation/hdf5_client_data.py:69: H5pyDeprecationWarning: dataset.value has been deprecated. Use dataset[()] instead.\n",
      "  collections.OrderedDict((name, ds.value) for name, ds in sorted(\n"
     ]
    },
    {
     "name": "stdout",
     "output_type": "stream",
     "text": [
      "BatchType(x=TensorSpec(shape=(16, 100), dtype=tf.int64, name=None), y=TensorSpec(shape=(16, 100), dtype=tf.int64, name=None))\n"
     ]
    }
   ],
   "source": [
    "train_datasets = [preprocess_data_for_client(client, train_data) for client in train_clients]\n",
    "print(tf.data.experimental.get_structure(train_datasets[0]))"
   ]
  },
  {
   "cell_type": "markdown",
   "metadata": {},
   "source": [
    "### Compile and Test on Preprocessed Data"
   ]
  },
  {
   "cell_type": "code",
   "execution_count": 43,
   "metadata": {},
   "outputs": [],
   "source": [
    "class FlattenedCategoricalAccuracy(tf.keras.metrics.SparseCategoricalAccuracy):\n",
    "\n",
    "    def __init__(self, name='accuracy', dtype=None):\n",
    "        super(FlattenedCategoricalAccuracy, self).__init__(name, dtype=dtype)\n",
    "\n",
    "    def update_state(self, y_true, y_pred, sample_weight=None):\n",
    "        \n",
    "        y_true = tf.reshape(y_true, [-1, 1])\n",
    "        y_pred = tf.reshape(y_pred, [-1, len(vocab), 1])\n",
    "        \n",
    "        return super(FlattenedCategoricalAccuracy, self).update_state(y_true, y_pred, sample_weight)"
   ]
  },
  {
   "cell_type": "code",
   "execution_count": 44,
   "metadata": {},
   "outputs": [],
   "source": [
    "def compile(keras_model):\n",
    "    \n",
    "    keras_model.compile(\n",
    "        optimizer=tf.keras.optimizers.Adam(lr=0.005), # updated from SGD; TO DO: experiment with a scheduler\n",
    "        loss=tf.keras.losses.SparseCategoricalCrossentropy(from_logits=True),\n",
    "        metrics=[FlattenedCategoricalAccuracy()]\n",
    "    )\n",
    "    \n",
    "    return keras_model"
   ]
  },
  {
   "cell_type": "markdown",
   "metadata": {},
   "source": [
    "### Load and Compile Model"
   ]
  },
  {
   "cell_type": "code",
   "execution_count": 45,
   "metadata": {},
   "outputs": [
    {
     "data": {
      "text/plain": [
       "<tensorflow.python.keras.engine.sequential.Sequential at 0x7fc2cfdf4f10>"
      ]
     },
     "execution_count": 45,
     "metadata": {},
     "output_type": "execute_result"
    }
   ],
   "source": [
    "keras_model = build_model(batch_size=BATCH_SIZE, vocab_size=vocab_size)\n",
    "compile(keras_model)"
   ]
  },
  {
   "cell_type": "markdown",
   "metadata": {},
   "source": [
    "### Compare Loss on Stack Overflow to a Character from the Training Set and to Random Data\n",
    "As a sanity check, we can construct some completely random data, where we expect the accuracy to be essentially random."
   ]
  },
  {
   "cell_type": "code",
   "execution_count": 46,
   "metadata": {},
   "outputs": [
    {
     "name": "stdout",
     "output_type": "stream",
     "text": [
      "Evaluating on an example Stack Overflow character:\n",
      "1/1 [==============================] - 0s 345ms/step - loss: 4.4527 - accuracy: 0.0131\n"
     ]
    },
    {
     "data": {
      "text/plain": [
       "[4.452722549438477, 0.013125]"
      ]
     },
     "execution_count": 46,
     "metadata": {},
     "output_type": "execute_result"
    }
   ],
   "source": [
    "print('Evaluating on an example Stack Overflow character:')\n",
    "keras_model.evaluate(train_datasets[0].take(1))"
   ]
  },
  {
   "cell_type": "code",
   "execution_count": 47,
   "metadata": {},
   "outputs": [],
   "source": [
    "random_indexes = np.random.randint(low=0, high=len(vocab), size=1 * BATCH_SIZE * (SEQ_LENGTH + 1))\n",
    "random_data = {'tokens': tf.constant(''.join(np.array(vocab)[random_indexes]), shape=[1, 1])}\n",
    "random_dataset = preprocess(tf.data.Dataset.from_tensor_slices(random_data))"
   ]
  },
  {
   "cell_type": "code",
   "execution_count": 48,
   "metadata": {},
   "outputs": [
    {
     "name": "stdout",
     "output_type": "stream",
     "text": [
      "\n",
      "Expected accuracy for random guessing: 0.012\n",
      "Evaluating on completely random data:\n",
      "\r",
      "1/1 [==============================] - 0s 20ms/step - loss: 4.4547 - accuracy: 0.0106\n"
     ]
    },
    {
     "data": {
      "text/plain": [
       "[4.454674243927002, 0.010625]"
      ]
     },
     "execution_count": 48,
     "metadata": {},
     "output_type": "execute_result"
    }
   ],
   "source": [
    "print('\\nExpected accuracy for random guessing: {:.3f}'.format(1.0 / len(vocab)))\n",
    "print('Evaluating on completely random data:')\n",
    "keras_model.evaluate(random_dataset, steps=1)"
   ]
  },
  {
   "cell_type": "markdown",
   "metadata": {},
   "source": [
    "### Improve Model with Federated Averaging\n",
    "- Clone the keras_model inside `create_tff_model()`, which TFF will call to produce a new copy of the model inside the graph that it will serialize.\n",
    "- TFF uses a `dummy_batch` so it knows the types and shapes that your model expects.\n",
    "- Build and serialize the Tensorflow graph with `build_federated_averaging_process`."
   ]
  },
  {
   "cell_type": "code",
   "execution_count": 49,
   "metadata": {},
   "outputs": [],
   "source": [
    "def create_tff_model():\n",
    "    \n",
    "    x = tf.constant(np.random.randint(1, len(vocab), size=[BATCH_SIZE, SEQ_LENGTH]))\n",
    "    dummy_batch = collections.OrderedDict([('x', x), ('y', x)]) \n",
    "    keras_model_clone = compile(tf.keras.models.clone_model(keras_model))\n",
    "    \n",
    "    return tff.learning.from_compiled_keras_model(keras_model_clone, dummy_batch=dummy_batch)"
   ]
  },
  {
   "cell_type": "code",
   "execution_count": 50,
   "metadata": {},
   "outputs": [
    {
     "name": "stdout",
     "output_type": "stream",
     "text": [
      "WARNING:tensorflow:From /home/joel_stremmel/anaconda3/envs/tff/lib/python3.7/site-packages/tensorflow_core/python/ops/resource_variable_ops.py:1630: calling BaseResourceVariable.__init__ (from tensorflow.python.ops.resource_variable_ops) with constraint is deprecated and will be removed in a future version.\n",
      "Instructions for updating:\n",
      "If using Keras pass *_constraint arguments to layers.\n"
     ]
    }
   ],
   "source": [
    "fed_avg = tff.learning.build_federated_averaging_process(model_fn=create_tff_model)"
   ]
  },
  {
   "cell_type": "markdown",
   "metadata": {},
   "source": [
    "### Run One Round of Federated Averaging"
   ]
  },
  {
   "cell_type": "code",
   "execution_count": 51,
   "metadata": {},
   "outputs": [
    {
     "name": "stdout",
     "output_type": "stream",
     "text": [
      "<accuracy=0.023749999701976776,loss=4.451474189758301>\n"
     ]
    }
   ],
   "source": [
    "state = fed_avg.initialize()\n",
    "state, metrics = fed_avg.next(state, [train_datasets[0].take(1)])\n",
    "print(metrics)"
   ]
  },
  {
   "cell_type": "markdown",
   "metadata": {},
   "source": [
    "### Build and Preprocess the Validation and Test Datasets\n",
    "Concatenate the validation and test datasets for evaluation with Keras."
   ]
  },
  {
   "cell_type": "code",
   "execution_count": 52,
   "metadata": {},
   "outputs": [
    {
     "name": "stderr",
     "output_type": "stream",
     "text": [
      "/home/joel_stremmel/anaconda3/envs/tff/lib/python3.7/site-packages/tensorflow_federated/python/simulation/hdf5_client_data.py:69: H5pyDeprecationWarning: dataset.value has been deprecated. Use dataset[()] instead.\n",
      "  collections.OrderedDict((name, ds.value) for name, ds in sorted(\n"
     ]
    }
   ],
   "source": [
    "val_dataset = functools.reduce(lambda d1, d2: d1.concatenate(d2), \n",
    "                               [preprocess_data_for_client(client, val_data) for client in val_clients])\n",
    "\n",
    "test_dataset = functools.reduce(lambda d1, d2: d1.concatenate(d2), \n",
    "                                [preprocess_data_for_client(client, test_data) for client in test_clients])"
   ]
  },
  {
   "cell_type": "markdown",
   "metadata": {},
   "source": [
    "### Train with Federated Averaging"
   ]
  },
  {
   "cell_type": "code",
   "execution_count": 53,
   "metadata": {},
   "outputs": [],
   "source": [
    "# NOTE: If the statement below fails, it means that you are\n",
    "# using an older version of TFF without the high-performance\n",
    "# executor stack. Call `tff.framework.set_default_executor()`\n",
    "# instead to use the default reference runtime.\n",
    "if six.PY3:\n",
    "    tff.framework.set_default_executor(tff.framework.create_local_executor())"
   ]
  },
  {
   "cell_type": "code",
   "execution_count": 54,
   "metadata": {},
   "outputs": [
    {
     "name": "stdout",
     "output_type": "stream",
     "text": [
      "Evaluating before training round 0\n",
      "2/2 [==============================] - 0s 27ms/step - loss: 4.4521 - accuracy: 0.0119\n",
      "Training metrics:  <accuracy=0.23904907703399658,loss=3.0863382816314697>\n",
      "Evaluating before training round 1\n",
      "2/2 [==============================] - 0s 28ms/step - loss: 2.3570 - accuracy: 0.3241\n",
      "Training metrics:  <accuracy=0.37526610493659973,loss=2.1917271614074707>\n",
      "Evaluating before training round 2\n",
      "2/2 [==============================] - 0s 27ms/step - loss: 1.8941 - accuracy: 0.4431\n",
      "Training metrics:  <accuracy=0.47500768303871155,loss=1.8249738216400146>\n",
      "Evaluating before training round 3\n",
      "2/2 [==============================] - 0s 27ms/step - loss: 1.6396 - accuracy: 0.5109\n",
      "Training metrics:  <accuracy=0.5322837233543396,loss=1.628389835357666>\n",
      "Evaluating before training round 4\n",
      "2/2 [==============================] - 0s 29ms/step - loss: 1.4995 - accuracy: 0.5675\n",
      "Training metrics:  <accuracy=0.560440182685852,loss=1.5286262035369873>\n",
      "Evaluating before training round 5\n",
      "2/2 [==============================] - 0s 37ms/step - loss: 1.4174 - accuracy: 0.5928\n",
      "Training metrics:  <accuracy=0.5764225721359253,loss=1.4692862033843994>\n",
      "Evaluating before training round 6\n",
      "2/2 [==============================] - 0s 27ms/step - loss: 1.3600 - accuracy: 0.6078\n",
      "Training metrics:  <accuracy=0.5867875814437866,loss=1.4313241243362427>\n",
      "Evaluating before training round 7\n",
      "2/2 [==============================] - 0s 27ms/step - loss: 1.3881 - accuracy: 0.6009\n",
      "Training metrics:  <accuracy=0.5950521230697632,loss=1.401161789894104>\n",
      "Evaluating before training round 8\n",
      "2/2 [==============================] - 0s 27ms/step - loss: 1.3415 - accuracy: 0.6075\n",
      "Training metrics:  <accuracy=0.6011564135551453,loss=1.3783526420593262>\n",
      "Evaluating before training round 9\n",
      "2/2 [==============================] - 0s 28ms/step - loss: 1.3256 - accuracy: 0.6106\n",
      "Training metrics:  <accuracy=0.6056978702545166,loss=1.3609427213668823>\n",
      "Evaluating before training round 10\n",
      "2/2 [==============================] - 0s 29ms/step - loss: 1.2820 - accuracy: 0.6278\n",
      "Training metrics:  <accuracy=0.6099463105201721,loss=1.3459906578063965>\n",
      "Evaluating before training round 11\n",
      "2/2 [==============================] - 0s 27ms/step - loss: 1.3537 - accuracy: 0.6103\n",
      "Training metrics:  <accuracy=0.6134839057922363,loss=1.3328022956848145>\n",
      "Evaluating before training round 12\n",
      "2/2 [==============================] - 0s 28ms/step - loss: 1.3725 - accuracy: 0.6034\n",
      "Training metrics:  <accuracy=0.6169517040252686,loss=1.322006344795227>\n",
      "Evaluating before training round 13\n",
      "2/2 [==============================] - 0s 34ms/step - loss: 1.3335 - accuracy: 0.6122\n",
      "Training metrics:  <accuracy=0.6195153594017029,loss=1.3120163679122925>\n",
      "Evaluating before training round 14\n",
      "2/2 [==============================] - 0s 29ms/step - loss: 1.3538 - accuracy: 0.6059\n",
      "Training metrics:  <accuracy=0.6219509243965149,loss=1.303912878036499>\n",
      "Evaluating before training round 15\n",
      "2/2 [==============================] - 0s 28ms/step - loss: 1.3054 - accuracy: 0.6144\n",
      "Training metrics:  <accuracy=0.6236786842346191,loss=1.2968851327896118>\n",
      "Evaluating before training round 16\n",
      "2/2 [==============================] - 0s 27ms/step - loss: 1.2754 - accuracy: 0.6328\n",
      "Training metrics:  <accuracy=0.6255598068237305,loss=1.2892322540283203>\n",
      "Evaluating before training round 17\n",
      "2/2 [==============================] - 0s 30ms/step - loss: 1.3614 - accuracy: 0.6125\n",
      "Training metrics:  <accuracy=0.628000795841217,loss=1.2821868658065796>\n",
      "Evaluating before training round 18\n",
      "2/2 [==============================] - 0s 27ms/step - loss: 1.2757 - accuracy: 0.6250\n",
      "Training metrics:  <accuracy=0.6289087533950806,loss=1.2772012948989868>\n",
      "Evaluating before training round 19\n",
      "2/2 [==============================] - 0s 33ms/step - loss: 1.2974 - accuracy: 0.6241\n",
      "Training metrics:  <accuracy=0.6303420066833496,loss=1.27173912525177>\n",
      "Evaluating before training round 21\n",
      "2/2 [==============================] - 0s 28ms/step - loss: 1.2182 - accuracy: 0.6441\n"
     ]
    }
   ],
   "source": [
    "NUM_ROUNDS = 20\n",
    "\n",
    "# The state of the FL server, containing the model and optimization state.\n",
    "state = fed_avg.initialize()\n",
    "\n",
    "state = tff.learning.state_with_new_model_weights(\n",
    "    state,\n",
    "    trainable_weights=[v.numpy() for v in keras_model.trainable_weights],\n",
    "    non_trainable_weights=[v.numpy() for v in keras_model.non_trainable_weights]\n",
    ")\n",
    "\n",
    "def keras_evaluate(state, round_num):\n",
    "    tff.learning.assign_weights_to_keras_model(keras_model, state.model)\n",
    "    print('Evaluating before training round', round_num)\n",
    "    keras_model.evaluate(val_dataset, steps=2)\n",
    "\n",
    "for round_num in range(NUM_ROUNDS):\n",
    "    keras_evaluate(state, round_num)\n",
    "    state, metrics = fed_avg.next(state, train_datasets)\n",
    "    print('Training metrics: ', metrics)\n",
    "\n",
    "keras_evaluate(state, NUM_ROUNDS + 1)"
   ]
  },
  {
   "cell_type": "markdown",
   "metadata": {},
   "source": [
    "### Generate Text\n",
    "Text generation requires batch_size=1."
   ]
  },
  {
   "cell_type": "code",
   "execution_count": 55,
   "metadata": {},
   "outputs": [
    {
     "name": "stdout",
     "output_type": "stream",
     "text": [
      "What of TensorFlow Federated, you ask?you are instance inserted untag and validation collic is rtriobby for security to handle to pass the google rap jon , instead of zink as a result to navigate from the java's the same with this en\" of \n"
     ]
    }
   ],
   "source": [
    "keras_model_batch1.set_weights([v.numpy() for v in keras_model.weights])\n",
    "print(generate_text(keras_model_batch1, 'What of TensorFlow Federated, you ask?'))"
   ]
  },
  {
   "cell_type": "markdown",
   "metadata": {},
   "source": [
    "**Suggested extensions from tutorial:**\n",
    "\n",
    "- Write a more realistic training loop where you sample clients to train on randomly.\n",
    "- Use \".repeat(NUM_EPOCHS)\" on the client datasets to try multiple epochs of local training (e.g., as in McMahan et. al.). See also Federated Learning for Image Classification which does this.\n",
    "- Change the compile() command to experiment with using different optimization algorithms on the client.\n",
    "- Try the server_optimizer argument to build_federated_averaging_process to try different algorithms for applying the model updates on the server.\n",
    "- Try the client_weight_fn argument to to build_federated_averaging_process to try different weightings of the clients. The default weights client updates by the number of examples on the client, but you can do e.g. client_weight_fn=lambda _: tf.constant(1.0)."
   ]
  },
  {
   "cell_type": "code",
   "execution_count": null,
   "metadata": {},
   "outputs": [],
   "source": []
  },
  {
   "cell_type": "code",
   "execution_count": null,
   "metadata": {},
   "outputs": [],
   "source": []
  }
 ],
 "metadata": {
  "kernelspec": {
   "display_name": "fed",
   "language": "python",
   "name": "fed"
  },
  "language_info": {
   "codemirror_mode": {
    "name": "ipython",
    "version": 3
   },
   "file_extension": ".py",
   "mimetype": "text/x-python",
   "name": "python",
   "nbconvert_exporter": "python",
   "pygments_lexer": "ipython3",
   "version": "3.7.5"
  }
 },
 "nbformat": 4,
 "nbformat_minor": 2
}
