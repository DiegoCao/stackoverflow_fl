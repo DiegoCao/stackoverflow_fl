{
 "cells": [
  {
   "cell_type": "markdown",
   "metadata": {},
   "source": [
    "# Stack Overflow Data Federated Text Generation with LSTM\n",
    "- Joel Stremmel\n",
    "- 01-17-20\n",
    "\n",
    "**About:**\n",
    "\n",
    "This notebook loads the Stack Overflow data available through `tff.simulation.datasets` and trains an LSTM model with Federared Averaging by following the Federated Learning for Text Generation example notebook listed in the references section.\n",
    "\n",
    "**Notes:**\n",
    "\n",
    "There are two modeling options within this notebook based on the tutorials listed under references:\n",
    "1. To load a pretrained RNN as in the FL example using the Shakespeare dataset.\n",
    "2. To build and train a basic LSTM model from scratch with the architecure in the TF text generation tutorial.\n",
    "\n",
    "\n",
    "**Data:** \n",
    "- https://www.kaggle.com/stackoverflow/stackoverflow\n",
    "\n",
    "**License:** \n",
    "- https://creativecommons.org/licenses/by-sa/3.0/\n",
    "\n",
    "**Data and Model References:**\n",
    "- https://www.tensorflow.org/federated/api_docs/python/tff/simulation/datasets/stackoverflow/load_data\n",
    "- https://github.com/tensorflow/federated/blob/master/docs/tutorials/federated_learning_for_text_generation.ipynb\n",
    "- https://github.com/tensorflow/federated/\n",
    "- https://www.tensorflow.org/tutorials/text/text_generation\n",
    "\n",
    "**Environment Setup References:**\n",
    "- https://www.tensorflow.org/install/gpu\n",
    "- https://gist.github.com/matheustguimaraes/43e0b65aa534db4df2918f835b9b361d\n",
    "- https://www.tensorflow.org/install/source#tested_build_configurations\n",
    "- https://anbasile.github.io/programming/2017/06/25/jupyter-venv/"
   ]
  },
  {
   "cell_type": "markdown",
   "metadata": {},
   "source": [
    "### Setup"
   ]
  },
  {
   "cell_type": "code",
   "execution_count": 1,
   "metadata": {},
   "outputs": [],
   "source": [
    "# !pip install --upgrade pip\n",
    "# !pip install --upgrade tensorflow-federated\n",
    "# !pip uninstall tensorflow -y\n",
    "# !pip install --upgrade tensorflow-gpu==2.0\n",
    "# !pip install --upgrade nltk\n",
    "# !pip install matplotlib\n",
    "# !pip install nest_asyncio"
   ]
  },
  {
   "cell_type": "code",
   "execution_count": 2,
   "metadata": {},
   "outputs": [],
   "source": [
    "import nest_asyncio\n",
    "nest_asyncio.apply()"
   ]
  },
  {
   "cell_type": "code",
   "execution_count": 3,
   "metadata": {},
   "outputs": [],
   "source": [
    "import collections\n",
    "import functools\n",
    "import os\n",
    "import six\n",
    "import time\n",
    "import string\n",
    "\n",
    "import numpy as np\n",
    "import matplotlib.pyplot as plt\n",
    "from nltk.corpus import stopwords\n",
    "\n",
    "import tensorflow as tf\n",
    "import tensorflow_federated as tff"
   ]
  },
  {
   "cell_type": "code",
   "execution_count": 4,
   "metadata": {},
   "outputs": [],
   "source": [
    "tf.compat.v1.enable_v2_behavior()"
   ]
  },
  {
   "cell_type": "code",
   "execution_count": 5,
   "metadata": {},
   "outputs": [],
   "source": [
    "np.random.seed(0)"
   ]
  },
  {
   "cell_type": "markdown",
   "metadata": {},
   "source": [
    "### Check Tensorflow Install"
   ]
  },
  {
   "cell_type": "code",
   "execution_count": 6,
   "metadata": {},
   "outputs": [
    {
     "name": "stdout",
     "output_type": "stream",
     "text": [
      "Built with Cuda: True\n",
      "Build with GPU support: True\n",
      "Num GPUs Available:  1\n"
     ]
    }
   ],
   "source": [
    "print('Built with Cuda: {}'.format(tf.test.is_built_with_cuda()))\n",
    "print('Build with GPU support: {}'.format(tf.test.is_built_with_gpu_support()))\n",
    "print(\"Num GPUs Available: \", len(tf.config.experimental.list_physical_devices('GPU')))"
   ]
  },
  {
   "cell_type": "markdown",
   "metadata": {},
   "source": [
    "### Set Tensorflow to Use GPU"
   ]
  },
  {
   "cell_type": "code",
   "execution_count": 7,
   "metadata": {},
   "outputs": [
    {
     "data": {
      "text/plain": [
       "'/device:GPU:0'"
      ]
     },
     "execution_count": 7,
     "metadata": {},
     "output_type": "execute_result"
    }
   ],
   "source": [
    "tf.test.gpu_device_name()"
   ]
  },
  {
   "cell_type": "code",
   "execution_count": 8,
   "metadata": {},
   "outputs": [
    {
     "name": "stdout",
     "output_type": "stream",
     "text": [
      "PhysicalDevice(name='/physical_device:CPU:0', device_type='CPU')\n",
      "PhysicalDevice(name='/physical_device:XLA_CPU:0', device_type='XLA_CPU')\n",
      "PhysicalDevice(name='/physical_device:XLA_GPU:0', device_type='XLA_GPU')\n",
      "PhysicalDevice(name='/physical_device:GPU:0', device_type='GPU')\n"
     ]
    }
   ],
   "source": [
    "physical_devices = tf.config.experimental.list_physical_devices(device_type=None)\n",
    "tf.config.experimental.set_memory_growth(physical_devices[-1], enable=True)\n",
    "for device in physical_devices:\n",
    "    print(device)"
   ]
  },
  {
   "cell_type": "markdown",
   "metadata": {},
   "source": [
    "### Test TFF"
   ]
  },
  {
   "cell_type": "code",
   "execution_count": 9,
   "metadata": {},
   "outputs": [
    {
     "data": {
      "text/plain": [
       "'Hello, World!'"
      ]
     },
     "execution_count": 9,
     "metadata": {},
     "output_type": "execute_result"
    }
   ],
   "source": [
    "tff.federated_computation(lambda: 'Hello, World!')()"
   ]
  },
  {
   "cell_type": "markdown",
   "metadata": {},
   "source": [
    "### Load Stack Overflow Data"
   ]
  },
  {
   "cell_type": "code",
   "execution_count": 10,
   "metadata": {},
   "outputs": [
    {
     "name": "stderr",
     "output_type": "stream",
     "text": [
      "/home/joel_stremmel/anaconda3/envs/tff/lib/python3.7/site-packages/tensorflow_federated/python/simulation/hdf5_client_data.py:69: H5pyDeprecationWarning: dataset.value has been deprecated. Use dataset[()] instead.\n",
      "  collections.OrderedDict((name, ds.value) for name, ds in sorted(\n"
     ]
    }
   ],
   "source": [
    "train_data, val_data, test_data = tff.simulation.datasets.stackoverflow.load_data(cache_dir='~/data')"
   ]
  },
  {
   "cell_type": "markdown",
   "metadata": {},
   "source": [
    "### View Some Sample Client Records"
   ]
  },
  {
   "cell_type": "code",
   "execution_count": 11,
   "metadata": {},
   "outputs": [
    {
     "name": "stdout",
     "output_type": "stream",
     "text": [
      "\n",
      "Key: creation_date\n",
      "tf.Tensor(b'2008-12-22 14:45:37.037 UTC', shape=(), dtype=string)\n",
      "\n",
      "Key: score\n",
      "tf.Tensor(11, shape=(), dtype=int64)\n",
      "\n",
      "Key: tags\n",
      "tf.Tensor(b'sql-server|indexing', shape=(), dtype=string)\n",
      "\n",
      "Key: title\n",
      "tf.Tensor(b'what fields should be indexed on a given table ?', shape=(), dtype=string)\n",
      "\n",
      "Key: tokens\n",
      "tf.Tensor(b'the sql server 2008 management studio query tool , if you turn on \" include actual execution plan \" , will tell you what indexes a given query needs to run fast .', shape=(), dtype=string)\n",
      "\n",
      "Key: type\n",
      "tf.Tensor(b'answer', shape=(), dtype=string)\n",
      "\n",
      "Key: creation_date\n",
      "tf.Tensor(b'2008-12-22 14:45:37.037 UTC', shape=(), dtype=string)\n",
      "\n",
      "Key: score\n",
      "tf.Tensor(11, shape=(), dtype=int64)\n",
      "\n",
      "Key: tags\n",
      "tf.Tensor(b'sql-server|indexing', shape=(), dtype=string)\n",
      "\n",
      "Key: title\n",
      "tf.Tensor(b'what fields should be indexed on a given table ?', shape=(), dtype=string)\n",
      "\n",
      "Key: tokens\n",
      "tf.Tensor(b\"( assuming there's an obvious missing index that is making the query run unusually slow , that is . )\", shape=(), dtype=string)\n",
      "\n",
      "Key: type\n",
      "tf.Tensor(b'answer', shape=(), dtype=string)\n"
     ]
    }
   ],
   "source": [
    "raw_example_dataset = train_data.create_tf_dataset_for_client('00000001')\n",
    "for record in raw_example_dataset.take(2):\n",
    "    for key in record:\n",
    "        print('\\nKey: {}'.format(key))\n",
    "        print(record[key])"
   ]
  },
  {
   "cell_type": "markdown",
   "metadata": {},
   "source": [
    "### Count Number of Clients"
   ]
  },
  {
   "cell_type": "code",
   "execution_count": 12,
   "metadata": {},
   "outputs": [
    {
     "name": "stdout",
     "output_type": "stream",
     "text": [
      "342477 train clients.\n",
      "38758 val clients.\n",
      "204088 test clients.\n"
     ]
    }
   ],
   "source": [
    "print('{} train clients.'.format(len(train_data.client_ids)))\n",
    "print('{} val clients.'.format(len(val_data.client_ids)))\n",
    "print('{} test clients.'.format(len(test_data.client_ids)))"
   ]
  },
  {
   "cell_type": "markdown",
   "metadata": {},
   "source": [
    "### Set Vocabulary\n",
    "- Currently using the fixed vocabularly of ASCII chars that occur in the works of Shakespeare and Dickens\n",
    "- **Is there a good way to get the distinct characters from a TF dataset?**"
   ]
  },
  {
   "cell_type": "code",
   "execution_count": 13,
   "metadata": {},
   "outputs": [],
   "source": [
    "vocab = list('dhlptx@DHLPTX $(,048cgkoswCGKOSW[_#\\'/37;?bfjnrvzBFJNRVZ\"&*.26:\\naeimquyAEIMQUY]!%)-159\\r')\n",
    "vocab_size = len(vocab)"
   ]
  },
  {
   "cell_type": "markdown",
   "metadata": {},
   "source": [
    "### Creating a Mapping from Unique Characters to Indices"
   ]
  },
  {
   "cell_type": "code",
   "execution_count": 14,
   "metadata": {},
   "outputs": [],
   "source": [
    "char2idx = {u:i for i, u in enumerate(vocab)}\n",
    "idx2char = np.array(vocab)"
   ]
  },
  {
   "cell_type": "markdown",
   "metadata": {},
   "source": [
    "### Load a Pre-Trained Model\n",
    "Text generation requires a batch_size=1 model."
   ]
  },
  {
   "cell_type": "code",
   "execution_count": 15,
   "metadata": {},
   "outputs": [],
   "source": [
    "def load_pretrained_model(batch_size):\n",
    "    \"\"\"\n",
    "    Load a pretrained model from the Google RNNs trained on Dickens\n",
    "    based on the desired batch size.\n",
    "    \"\"\"\n",
    "    \n",
    "    urls = {\n",
    "        1: 'https://storage.googleapis.com/tff-models-public/dickens_rnn.batch1.kerasmodel',\n",
    "        8: 'https://storage.googleapis.com/tff-models-public/dickens_rnn.batch8.kerasmodel'}\n",
    "    \n",
    "    assert batch_size in urls, 'batch_size must be in ' + str(urls.keys())\n",
    "    \n",
    "    url = urls[batch_size]\n",
    "    local_file = tf.keras.utils.get_file(os.path.basename(url), origin=url)  \n",
    "    \n",
    "    return tf.keras.models.load_model(local_file, compile=False)"
   ]
  },
  {
   "cell_type": "markdown",
   "metadata": {},
   "source": [
    "### Or Build and Train One from Random Initialization"
   ]
  },
  {
   "cell_type": "code",
   "execution_count": 16,
   "metadata": {},
   "outputs": [],
   "source": [
    "def build_model(batch_size, vocab_size, embedding_dim=256, rnn_units=512):\n",
    "    \"\"\"\n",
    "    Build model with architecture from: https://www.tensorflow.org/tutorials/text/text_generation.\n",
    "    \"\"\"\n",
    "\n",
    "    model = tf.keras.Sequential([\n",
    "        \n",
    "        tf.keras.layers.Embedding(vocab_size,\n",
    "                                  embedding_dim,\n",
    "                                  batch_input_shape=[batch_size, None]),\n",
    "                                 \n",
    "        tf.keras.layers.LSTM(rnn_units,\n",
    "                             return_sequences=True,\n",
    "                             recurrent_initializer='glorot_uniform'),\n",
    "                                 \n",
    "        tf.keras.layers.Dense(vocab_size)])\n",
    "                 \n",
    "    return model"
   ]
  },
  {
   "cell_type": "markdown",
   "metadata": {},
   "source": [
    "### Define the Text Generation Strategy"
   ]
  },
  {
   "cell_type": "code",
   "execution_count": 17,
   "metadata": {},
   "outputs": [],
   "source": [
    "def generate_text(model, start_string):\n",
    "    \"\"\"\n",
    "    Generate text by sampling from the model output distribution\n",
    "    as in From https://www.tensorflow.org/tutorials/sequences/text_generation.\n",
    "    \"\"\"\n",
    "\n",
    "    num_generate = 200\n",
    "    input_eval = [char2idx[s] for s in start_string]\n",
    "    input_eval = tf.expand_dims(input_eval, 0)\n",
    "    text_generated = []\n",
    "    temperature = 1.0\n",
    "\n",
    "    model.reset_states()\n",
    "    for i in range(num_generate):\n",
    "        predictions = model(input_eval)\n",
    "        predictions = tf.squeeze(predictions, 0)\n",
    "        predictions = predictions / temperature\n",
    "        predicted_id = tf.random.categorical(predictions, num_samples=1)[-1, 0].numpy()\n",
    "        input_eval = tf.expand_dims([predicted_id], 0)\n",
    "        text_generated.append(idx2char[predicted_id])\n",
    "\n",
    "    return (start_string + ''.join(text_generated))"
   ]
  },
  {
   "cell_type": "markdown",
   "metadata": {},
   "source": [
    "### Load or Build the Model\n",
    "Text generation requires a batch_size=1 model."
   ]
  },
  {
   "cell_type": "code",
   "execution_count": 18,
   "metadata": {
    "scrolled": true
   },
   "outputs": [
    {
     "name": "stdout",
     "output_type": "stream",
     "text": [
      "How's the water today? 7dB5Fz'#\r",
      "\"Lacd\n",
      "X6V Yg@N?PQ/;Dv$ES?zyKAej?oybiAv:nlBO%.ORkX_,:pvYulchw%bOOq\"Q&wInIYqQC-Thig/cM&T#?ZdK#:YcFpugd@ck1r\r",
      ":,1k7\r",
      "K%@NXF8O.!#o[r@khTBrtG4KK.BaZF*t;%VBgdrg0As]Qc)8Nu3H'jNXjir\r",
      "KdiOvs5zY#MHnI@!iV#\n"
     ]
    }
   ],
   "source": [
    "keras_model_batch1 = build_model(batch_size=1, vocab_size=vocab_size)\n",
    "print(generate_text(keras_model_batch1, \"How's the water today? \"))"
   ]
  },
  {
   "cell_type": "markdown",
   "metadata": {},
   "source": [
    "### Set Some Parameters for Preprocessing the Data and Training the Model"
   ]
  },
  {
   "cell_type": "code",
   "execution_count": 19,
   "metadata": {},
   "outputs": [],
   "source": [
    "SEQ_LENGTH = 100\n",
    "BATCH_SIZE = 16\n",
    "BUFFER_SIZE = 5000"
   ]
  },
  {
   "cell_type": "markdown",
   "metadata": {},
   "source": [
    "### Define Functions to Preprocess Federated Stack Overflow\n",
    "- Using a namedtuple with keys x and y as the output type of the dataset keeps both TFF and Keras happy.\n",
    "- Construct a lookup table to map string chars to indexes, using the vocab loaded above.\n",
    "- Write functions for:\n",
    "    - ID lookup\n",
    "    - Splitting inputs and targets\n",
    "    - Applying preprocessing steps to dataset\n",
    "    - Taking clients and client records and applying preprocessing"
   ]
  },
  {
   "cell_type": "code",
   "execution_count": 20,
   "metadata": {},
   "outputs": [],
   "source": [
    "BatchType = collections.namedtuple('BatchType', ['x', 'y'])"
   ]
  },
  {
   "cell_type": "code",
   "execution_count": 21,
   "metadata": {},
   "outputs": [],
   "source": [
    "table = tf.lookup.StaticHashTable(\n",
    "    tf.lookup.KeyValueTensorInitializer(\n",
    "        keys=vocab,\n",
    "        values=tf.constant(list(range(len(vocab))),\n",
    "        dtype=tf.int64)),\n",
    "    default_value=0)"
   ]
  },
  {
   "cell_type": "code",
   "execution_count": 22,
   "metadata": {},
   "outputs": [],
   "source": [
    "def to_ids(x):\n",
    "    \n",
    "    s = tf.reshape(x['tokens'], shape=[1])\n",
    "    chars = tf.strings.bytes_split(s).values\n",
    "    ids = table.lookup(chars)\n",
    "    \n",
    "    return ids"
   ]
  },
  {
   "cell_type": "code",
   "execution_count": 23,
   "metadata": {},
   "outputs": [],
   "source": [
    "def split_input_target(chunk):\n",
    "    \n",
    "    input_text = tf.map_fn(lambda x: x[:-1], chunk)\n",
    "    target_text = tf.map_fn(lambda x: x[1:], chunk)\n",
    "    \n",
    "    return BatchType(input_text, target_text)"
   ]
  },
  {
   "cell_type": "code",
   "execution_count": 24,
   "metadata": {},
   "outputs": [],
   "source": [
    "def preprocess(dataset):\n",
    "    \n",
    "    return (\n",
    "        # Map ASCII chars to int64 indexes using the vocab\n",
    "        dataset.map(to_ids)\n",
    "        # Split into individual chars\n",
    "        .unbatch()\n",
    "        # Form example sequences of SEQ_LENGTH +1\n",
    "        .batch(SEQ_LENGTH + 1, drop_remainder=True)\n",
    "        # Shuffle and form minibatches\n",
    "        .shuffle(BUFFER_SIZE).batch(BATCH_SIZE, drop_remainder=True)\n",
    "        # And finally split into (input, target) tuples,\n",
    "        # each of length SEQ_LENGTH.\n",
    "        .map(split_input_target))"
   ]
  },
  {
   "cell_type": "code",
   "execution_count": 25,
   "metadata": {},
   "outputs": [],
   "source": [
    "def preprocess_data_for_client(client, data_source):\n",
    "    \n",
    "    return preprocess(data_source.create_tf_dataset_for_client(client))"
   ]
  },
  {
   "cell_type": "markdown",
   "metadata": {},
   "source": [
    "### Get Sample Clients for Validation and Testing\n",
    "Note that the train clients will be sampled within the training loop, but we'll set the parameter for how many to sample here."
   ]
  },
  {
   "cell_type": "code",
   "execution_count": 26,
   "metadata": {},
   "outputs": [],
   "source": [
    "NUM_TRAIN_CLIENTS = 20\n",
    "NUM_VAL_CLIENTS = 20\n",
    "NUM_TEST_CLIENTS = 10"
   ]
  },
  {
   "cell_type": "code",
   "execution_count": 27,
   "metadata": {},
   "outputs": [],
   "source": [
    "def get_sample_clients(dataset, num_clients):\n",
    "    \n",
    "    random_indices = np.random.choice(len(dataset.client_ids), size=num_clients, replace=False)\n",
    "    \n",
    "    return np.array(dataset.client_ids)[random_indices]"
   ]
  },
  {
   "cell_type": "code",
   "execution_count": 28,
   "metadata": {},
   "outputs": [],
   "source": [
    "val_clients = get_sample_clients(val_data, num_clients=NUM_VAL_CLIENTS)\n",
    "test_clients = get_sample_clients(test_data, num_clients=NUM_TEST_CLIENTS)"
   ]
  },
  {
   "cell_type": "markdown",
   "metadata": {},
   "source": [
    "### Build and Preprocess the Validation and Test Datasets\n",
    "Concatenate the validation and test datasets for evaluation with Keras."
   ]
  },
  {
   "cell_type": "code",
   "execution_count": 29,
   "metadata": {},
   "outputs": [
    {
     "name": "stderr",
     "output_type": "stream",
     "text": [
      "/home/joel_stremmel/anaconda3/envs/tff/lib/python3.7/site-packages/tensorflow_federated/python/simulation/hdf5_client_data.py:69: H5pyDeprecationWarning: dataset.value has been deprecated. Use dataset[()] instead.\n",
      "  collections.OrderedDict((name, ds.value) for name, ds in sorted(\n"
     ]
    }
   ],
   "source": [
    "val_dataset = functools.reduce(lambda d1, d2: d1.concatenate(d2), \n",
    "                               [preprocess_data_for_client(client, val_data) for client in val_clients])\n",
    "\n",
    "test_dataset = functools.reduce(lambda d1, d2: d1.concatenate(d2), \n",
    "                                [preprocess_data_for_client(client, test_data) for client in test_clients])"
   ]
  },
  {
   "cell_type": "markdown",
   "metadata": {},
   "source": [
    "### Define Lists to Track Loss and Accuracy at Each Training Round"
   ]
  },
  {
   "cell_type": "code",
   "execution_count": 30,
   "metadata": {},
   "outputs": [],
   "source": [
    "train_loss = []\n",
    "train_accuracy = []\n",
    "val_loss = []\n",
    "val_accuracy = []"
   ]
  },
  {
   "cell_type": "markdown",
   "metadata": {},
   "source": [
    "### Define the Evaluation Function to Use During Training"
   ]
  },
  {
   "cell_type": "code",
   "execution_count": 31,
   "metadata": {},
   "outputs": [],
   "source": [
    "def keras_evaluate(keras_model, state, val_dataset):\n",
    "    \n",
    "    tff.learning.assign_weights_to_keras_model(keras_model, state.model)\n",
    "    loss, accuracy = keras_model.evaluate(val_dataset, steps=2)\n",
    "    \n",
    "    val_loss.append(loss)\n",
    "    val_accuracy.append(accuracy)"
   ]
  },
  {
   "cell_type": "markdown",
   "metadata": {},
   "source": [
    "### Define Loss Function and Metrics"
   ]
  },
  {
   "cell_type": "code",
   "execution_count": 32,
   "metadata": {},
   "outputs": [],
   "source": [
    "class FlattenedCategoricalAccuracy(tf.keras.metrics.SparseCategoricalAccuracy):\n",
    "\n",
    "    def __init__(self, name='accuracy', dtype=None):\n",
    "        super(FlattenedCategoricalAccuracy, self).__init__(name, dtype=dtype)\n",
    "\n",
    "    def update_state(self, y_true, y_pred, sample_weight=None):\n",
    "        \n",
    "        y_true = tf.reshape(y_true, [-1, 1])\n",
    "        y_pred = tf.reshape(y_pred, [-1, len(vocab), 1])\n",
    "        \n",
    "        return super(FlattenedCategoricalAccuracy, self).update_state(y_true, y_pred, sample_weight)"
   ]
  },
  {
   "cell_type": "code",
   "execution_count": 33,
   "metadata": {},
   "outputs": [],
   "source": [
    "def compile(keras_model):\n",
    "    \n",
    "    keras_model.compile(\n",
    "        optimizer=tf.keras.optimizers.Adam(),\n",
    "        loss=tf.keras.losses.SparseCategoricalCrossentropy(from_logits=True),\n",
    "        metrics=[FlattenedCategoricalAccuracy()]\n",
    "    )\n",
    "    \n",
    "    return keras_model"
   ]
  },
  {
   "cell_type": "markdown",
   "metadata": {},
   "source": [
    "### Load and Compile the Model\n",
    "The keras model will be accessed as a global variable to create a copy to be called by TFF and will be updated within the training loop to follow."
   ]
  },
  {
   "cell_type": "code",
   "execution_count": 34,
   "metadata": {},
   "outputs": [
    {
     "name": "stdout",
     "output_type": "stream",
     "text": [
      "Model: \"sequential_1\"\n",
      "_________________________________________________________________\n",
      "Layer (type)                 Output Shape              Param #   \n",
      "=================================================================\n",
      "embedding_1 (Embedding)      (16, None, 256)           22016     \n",
      "_________________________________________________________________\n",
      "lstm_1 (LSTM)                (16, None, 512)           1574912   \n",
      "_________________________________________________________________\n",
      "dense_1 (Dense)              (16, None, 86)            44118     \n",
      "=================================================================\n",
      "Total params: 1,641,046\n",
      "Trainable params: 1,641,046\n",
      "Non-trainable params: 0\n",
      "_________________________________________________________________\n"
     ]
    }
   ],
   "source": [
    "keras_model = build_model(batch_size=BATCH_SIZE, vocab_size=vocab_size)\n",
    "compile(keras_model)\n",
    "keras_model.summary()"
   ]
  },
  {
   "cell_type": "markdown",
   "metadata": {},
   "source": [
    "### Create TFF Version of the Model to be Trained with Federated Averaging\n",
    "- Clone the keras_model inside `create_tff_model()`, which TFF will call to produce a new copy of the model inside the graph that it will serialize.\n",
    "- TFF uses a `dummy_batch` so it knows the types and shapes that your model expects.\n",
    "- Build and serialize the Tensorflow graph with `build_federated_averaging_process`."
   ]
  },
  {
   "cell_type": "code",
   "execution_count": 35,
   "metadata": {},
   "outputs": [],
   "source": [
    "def create_tff_model():\n",
    "    \n",
    "    x = tf.constant(np.random.randint(1, len(vocab), size=[BATCH_SIZE, SEQ_LENGTH]))\n",
    "    dummy_batch = collections.OrderedDict([('x', x), ('y', x)]) \n",
    "    keras_model_clone = compile(tf.keras.models.clone_model(keras_model))\n",
    "    \n",
    "    return tff.learning.from_compiled_keras_model(keras_model_clone, dummy_batch=dummy_batch)"
   ]
  },
  {
   "cell_type": "code",
   "execution_count": 36,
   "metadata": {},
   "outputs": [
    {
     "name": "stdout",
     "output_type": "stream",
     "text": [
      "WARNING:tensorflow:From /home/joel_stremmel/anaconda3/envs/tff/lib/python3.7/site-packages/tensorflow_core/python/ops/resource_variable_ops.py:1630: calling BaseResourceVariable.__init__ (from tensorflow.python.ops.resource_variable_ops) with constraint is deprecated and will be removed in a future version.\n",
      "Instructions for updating:\n",
      "If using Keras pass *_constraint arguments to layers.\n"
     ]
    }
   ],
   "source": [
    "fed_avg = tff.learning.build_federated_averaging_process(model_fn=create_tff_model)"
   ]
  },
  {
   "cell_type": "markdown",
   "metadata": {},
   "source": [
    "### Initialize the Federated Averaging Process and the Starting Model State"
   ]
  },
  {
   "cell_type": "code",
   "execution_count": 37,
   "metadata": {},
   "outputs": [],
   "source": [
    "# NOTE: If the statement below fails, it means that you are\n",
    "# using an older version of TFF without the high-performance\n",
    "# executor stack. Call `tff.framework.set_default_executor()`\n",
    "# instead to use the default reference runtime.\n",
    "if six.PY3:\n",
    "    tff.framework.set_default_executor(tff.framework.create_local_executor())"
   ]
  },
  {
   "cell_type": "code",
   "execution_count": 38,
   "metadata": {},
   "outputs": [],
   "source": [
    "# The state of the FL server, containing the model and optimization state.\n",
    "state = fed_avg.initialize()\n",
    "\n",
    "state = tff.learning.state_with_new_model_weights(\n",
    "    state,\n",
    "    trainable_weights=[v.numpy() for v in keras_model.trainable_weights],\n",
    "    non_trainable_weights=[v.numpy() for v in keras_model.non_trainable_weights]\n",
    ")"
   ]
  },
  {
   "cell_type": "markdown",
   "metadata": {},
   "source": [
    "### Train Model Across Many Randomly Sampled Clients with Federated Averaging"
   ]
  },
  {
   "cell_type": "code",
   "execution_count": 39,
   "metadata": {
    "scrolled": false
   },
   "outputs": [
    {
     "name": "stdout",
     "output_type": "stream",
     "text": [
      "Evaluating before training round #0 on 20 clients.\n",
      "2/2 [==============================] - 0s 192ms/step - loss: 4.4525 - accuracy: 0.0106\n",
      "Sampling 20 new clients.\n"
     ]
    },
    {
     "name": "stderr",
     "output_type": "stream",
     "text": [
      "/home/joel_stremmel/anaconda3/envs/tff/lib/python3.7/site-packages/tensorflow_federated/python/simulation/hdf5_client_data.py:69: H5pyDeprecationWarning: dataset.value has been deprecated. Use dataset[()] instead.\n",
      "  collections.OrderedDict((name, ds.value) for name, ds in sorted(\n"
     ]
    },
    {
     "name": "stdout",
     "output_type": "stream",
     "text": [
      "Applying federated training round.\n",
      "Training metrics - loss: 2.6896; accuracy: 0.2945\n",
      "Evaluating before training round #1 on 20 clients.\n",
      "2/2 [==============================] - 0s 27ms/step - loss: 2.4982 - accuracy: 0.3313\n",
      "Sampling 20 new clients.\n",
      "Applying federated training round.\n",
      "Training metrics - loss: 2.3313; accuracy: 0.3427\n",
      "Evaluating before training round #2 on 20 clients.\n",
      "2/2 [==============================] - 0s 28ms/step - loss: 2.2387 - accuracy: 0.3797\n",
      "Sampling 20 new clients.\n",
      "Applying federated training round.\n",
      "Training metrics - loss: 2.1251; accuracy: 0.3957\n",
      "Evaluating before training round #3 on 20 clients.\n",
      "2/2 [==============================] - 0s 27ms/step - loss: 2.0728 - accuracy: 0.4303\n",
      "Sampling 20 new clients.\n",
      "Applying federated training round.\n",
      "Training metrics - loss: 2.0981; accuracy: 0.3977\n",
      "Evaluating before training round #4 on 20 clients.\n",
      "2/2 [==============================] - 0s 28ms/step - loss: 2.0841 - accuracy: 0.4334\n",
      "Sampling 20 new clients.\n",
      "Applying federated training round.\n",
      "Training metrics - loss: 1.8623; accuracy: 0.4654\n",
      "Evaluating before training round #5 on 20 clients.\n",
      "2/2 [==============================] - 0s 29ms/step - loss: 1.9337 - accuracy: 0.4803\n",
      "Sampling 20 new clients.\n",
      "Applying federated training round.\n",
      "Training metrics - loss: 1.7743; accuracy: 0.4935\n",
      "Evaluating before training round #6 on 20 clients.\n",
      "2/2 [==============================] - 0s 28ms/step - loss: 1.8162 - accuracy: 0.5028\n",
      "Sampling 20 new clients.\n",
      "Applying federated training round.\n",
      "Training metrics - loss: 1.7533; accuracy: 0.4971\n",
      "Evaluating before training round #7 on 20 clients.\n",
      "2/2 [==============================] - 0s 30ms/step - loss: 1.8151 - accuracy: 0.5156\n",
      "Sampling 20 new clients.\n",
      "Applying federated training round.\n",
      "Training metrics - loss: 1.7190; accuracy: 0.5087\n",
      "Evaluating before training round #8 on 20 clients.\n",
      "2/2 [==============================] - 0s 27ms/step - loss: 1.7138 - accuracy: 0.5294\n",
      "Sampling 20 new clients.\n",
      "Applying federated training round.\n",
      "Training metrics - loss: 1.7285; accuracy: 0.5100\n",
      "Evaluating before training round #9 on 20 clients.\n",
      "2/2 [==============================] - 0s 32ms/step - loss: 1.7425 - accuracy: 0.5134\n",
      "Sampling 20 new clients.\n",
      "Applying federated training round.\n",
      "Training metrics - loss: 1.6672; accuracy: 0.5216\n",
      "Evaluating before training round #10 on 20 clients.\n",
      "2/2 [==============================] - 0s 28ms/step - loss: 1.6728 - accuracy: 0.5297\n",
      "Sampling 20 new clients.\n",
      "Applying federated training round.\n",
      "Training metrics - loss: 1.6216; accuracy: 0.5333\n",
      "Evaluating before training round #11 on 20 clients.\n",
      "2/2 [==============================] - 0s 30ms/step - loss: 1.7313 - accuracy: 0.5331\n",
      "Sampling 20 new clients.\n",
      "Applying federated training round.\n",
      "Training metrics - loss: 1.6370; accuracy: 0.5327\n",
      "Evaluating before training round #12 on 20 clients.\n",
      "2/2 [==============================] - 0s 29ms/step - loss: 1.7323 - accuracy: 0.5309\n",
      "Sampling 20 new clients.\n",
      "Applying federated training round.\n",
      "Training metrics - loss: 1.6392; accuracy: 0.5313\n",
      "Evaluating before training round #13 on 20 clients.\n",
      "2/2 [==============================] - 0s 29ms/step - loss: 1.7114 - accuracy: 0.5375\n",
      "Sampling 20 new clients.\n",
      "Applying federated training round.\n",
      "Training metrics - loss: 1.5735; accuracy: 0.5483\n",
      "Evaluating before training round #14 on 20 clients.\n",
      "2/2 [==============================] - 0s 29ms/step - loss: 1.6730 - accuracy: 0.5462\n",
      "Sampling 20 new clients.\n",
      "Applying federated training round.\n",
      "Training metrics - loss: 1.4888; accuracy: 0.5696\n",
      "Evaluating before training round #15 on 20 clients.\n",
      "2/2 [==============================] - 0s 28ms/step - loss: 1.6143 - accuracy: 0.5369\n",
      "Sampling 20 new clients.\n",
      "Applying federated training round.\n",
      "Training metrics - loss: 1.4914; accuracy: 0.5685\n",
      "Evaluating before training round #16 on 20 clients.\n",
      "2/2 [==============================] - 0s 29ms/step - loss: 1.5703 - accuracy: 0.5669\n",
      "Sampling 20 new clients.\n",
      "Applying federated training round.\n",
      "Training metrics - loss: 1.4809; accuracy: 0.5716\n",
      "Evaluating before training round #17 on 20 clients.\n",
      "2/2 [==============================] - 0s 28ms/step - loss: 1.6540 - accuracy: 0.5506\n",
      "Sampling 20 new clients.\n",
      "Applying federated training round.\n",
      "Training metrics - loss: 1.4939; accuracy: 0.5691\n",
      "Evaluating before training round #18 on 20 clients.\n",
      "2/2 [==============================] - 0s 28ms/step - loss: 1.5269 - accuracy: 0.5791\n",
      "Sampling 20 new clients.\n",
      "Applying federated training round.\n",
      "Training metrics - loss: 1.5111; accuracy: 0.5664\n",
      "Evaluating before training round #19 on 20 clients.\n",
      "2/2 [==============================] - 0s 28ms/step - loss: 1.5788 - accuracy: 0.5794\n",
      "Sampling 20 new clients.\n",
      "Applying federated training round.\n",
      "Training metrics - loss: 1.4584; accuracy: 0.5769\n",
      "Evaluating before training round #20 on 20 clients.\n",
      "2/2 [==============================] - 0s 31ms/step - loss: 1.5845 - accuracy: 0.5700\n",
      "Sampling 20 new clients.\n",
      "Applying federated training round.\n",
      "Training metrics - loss: 1.4693; accuracy: 0.5742\n",
      "Evaluating before training round #21 on 20 clients.\n",
      "2/2 [==============================] - 0s 29ms/step - loss: 1.5998 - accuracy: 0.5619\n",
      "Sampling 20 new clients.\n",
      "Applying federated training round.\n",
      "Training metrics - loss: 1.4087; accuracy: 0.5885\n",
      "Evaluating before training round #22 on 20 clients.\n",
      "2/2 [==============================] - 0s 29ms/step - loss: 1.6094 - accuracy: 0.5616\n",
      "Sampling 20 new clients.\n",
      "Applying federated training round.\n",
      "Training metrics - loss: 1.4563; accuracy: 0.5808\n",
      "Evaluating before training round #23 on 20 clients.\n",
      "2/2 [==============================] - 0s 29ms/step - loss: 1.5071 - accuracy: 0.5809\n",
      "Sampling 20 new clients.\n",
      "Applying federated training round.\n",
      "Training metrics - loss: 1.4029; accuracy: 0.5940\n",
      "Evaluating before training round #24 on 20 clients.\n",
      "2/2 [==============================] - 0s 30ms/step - loss: 1.4871 - accuracy: 0.5866\n",
      "Sampling 20 new clients.\n",
      "Applying federated training round.\n",
      "Training metrics - loss: 1.4234; accuracy: 0.5906\n",
      "Evaluating before training round #25 on 20 clients.\n",
      "2/2 [==============================] - 0s 30ms/step - loss: 1.4364 - accuracy: 0.5847\n",
      "Sampling 20 new clients.\n",
      "Applying federated training round.\n",
      "Training metrics - loss: 1.4149; accuracy: 0.5909\n",
      "Evaluating before training round #26 on 20 clients.\n",
      "2/2 [==============================] - 0s 28ms/step - loss: 1.5082 - accuracy: 0.5928\n",
      "Sampling 20 new clients.\n",
      "Applying federated training round.\n",
      "Training metrics - loss: 1.3645; accuracy: 0.6077\n",
      "Evaluating before training round #27 on 20 clients.\n",
      "2/2 [==============================] - 0s 30ms/step - loss: 1.5796 - accuracy: 0.5725\n",
      "Sampling 20 new clients.\n",
      "Applying federated training round.\n",
      "Training metrics - loss: 1.3520; accuracy: 0.6072\n",
      "Evaluating before training round #28 on 20 clients.\n",
      "2/2 [==============================] - 0s 29ms/step - loss: 1.4899 - accuracy: 0.5959\n",
      "Sampling 20 new clients.\n",
      "Applying federated training round.\n",
      "Training metrics - loss: 1.3876; accuracy: 0.5974\n",
      "Evaluating before training round #29 on 20 clients.\n",
      "2/2 [==============================] - 0s 29ms/step - loss: 1.4677 - accuracy: 0.5950\n",
      "Sampling 20 new clients.\n",
      "Applying federated training round.\n",
      "Training metrics - loss: 1.3824; accuracy: 0.5978\n",
      "Evaluating before training round #30 on 20 clients.\n",
      "2/2 [==============================] - 0s 29ms/step - loss: 1.4905 - accuracy: 0.5859\n",
      "Sampling 20 new clients.\n",
      "Applying federated training round.\n",
      "Training metrics - loss: 1.3732; accuracy: 0.5986\n",
      "Evaluating before training round #31 on 20 clients.\n",
      "2/2 [==============================] - 0s 30ms/step - loss: 1.4827 - accuracy: 0.5944\n",
      "Sampling 20 new clients.\n",
      "Applying federated training round.\n",
      "Training metrics - loss: 1.4185; accuracy: 0.5922\n",
      "Evaluating before training round #32 on 20 clients.\n",
      "2/2 [==============================] - 0s 29ms/step - loss: 1.5363 - accuracy: 0.5881\n",
      "Sampling 20 new clients.\n",
      "Applying federated training round.\n",
      "Training metrics - loss: 1.3855; accuracy: 0.5967\n",
      "Evaluating before training round #33 on 20 clients.\n",
      "2/2 [==============================] - 0s 29ms/step - loss: 1.4545 - accuracy: 0.5984\n",
      "Sampling 20 new clients.\n",
      "Applying federated training round.\n"
     ]
    },
    {
     "name": "stdout",
     "output_type": "stream",
     "text": [
      "Training metrics - loss: 1.3809; accuracy: 0.5997\n",
      "Evaluating before training round #34 on 20 clients.\n",
      "2/2 [==============================] - 0s 30ms/step - loss: 1.5403 - accuracy: 0.5759\n",
      "Sampling 20 new clients.\n",
      "Applying federated training round.\n",
      "Training metrics - loss: 1.3691; accuracy: 0.6015\n",
      "Evaluating before training round #35 on 20 clients.\n",
      "2/2 [==============================] - 0s 28ms/step - loss: 1.4767 - accuracy: 0.5934\n",
      "Sampling 20 new clients.\n",
      "Applying federated training round.\n",
      "Training metrics - loss: 1.3927; accuracy: 0.5963\n",
      "Evaluating before training round #36 on 20 clients.\n",
      "2/2 [==============================] - 0s 29ms/step - loss: 1.4097 - accuracy: 0.6150\n",
      "Sampling 20 new clients.\n",
      "Applying federated training round.\n",
      "Training metrics - loss: 1.3694; accuracy: 0.6021\n",
      "Evaluating before training round #37 on 20 clients.\n",
      "2/2 [==============================] - 0s 29ms/step - loss: 1.4772 - accuracy: 0.5881\n",
      "Sampling 20 new clients.\n",
      "Applying federated training round.\n",
      "Training metrics - loss: 1.3422; accuracy: 0.6088\n",
      "Evaluating before training round #38 on 20 clients.\n",
      "2/2 [==============================] - 0s 31ms/step - loss: 1.4003 - accuracy: 0.6022\n",
      "Sampling 20 new clients.\n",
      "Applying federated training round.\n",
      "Training metrics - loss: 1.3159; accuracy: 0.6159\n",
      "Evaluating before training round #39 on 20 clients.\n",
      "2/2 [==============================] - 0s 30ms/step - loss: 1.4877 - accuracy: 0.5841\n",
      "Sampling 20 new clients.\n",
      "Applying federated training round.\n",
      "Training metrics - loss: 1.3263; accuracy: 0.6118\n",
      "Evaluating before training round #40 on 20 clients.\n",
      "2/2 [==============================] - 0s 27ms/step - loss: 1.4809 - accuracy: 0.5953\n",
      "Sampling 20 new clients.\n",
      "Applying federated training round.\n",
      "Training metrics - loss: 1.3185; accuracy: 0.6152\n",
      "Evaluating before training round #41 on 20 clients.\n",
      "2/2 [==============================] - 0s 31ms/step - loss: 1.4902 - accuracy: 0.5872\n",
      "Sampling 20 new clients.\n",
      "Applying federated training round.\n",
      "Training metrics - loss: 1.3003; accuracy: 0.6170\n",
      "Evaluating before training round #42 on 20 clients.\n",
      "2/2 [==============================] - 0s 33ms/step - loss: 1.4105 - accuracy: 0.5931\n",
      "Sampling 20 new clients.\n",
      "Applying federated training round.\n",
      "Training metrics - loss: 1.2347; accuracy: 0.6329\n",
      "Evaluating before training round #43 on 20 clients.\n",
      "2/2 [==============================] - 0s 29ms/step - loss: 1.4301 - accuracy: 0.5916\n",
      "Sampling 20 new clients.\n",
      "Applying federated training round.\n",
      "Training metrics - loss: 1.3418; accuracy: 0.6098\n",
      "Evaluating before training round #44 on 20 clients.\n",
      "2/2 [==============================] - 0s 29ms/step - loss: 1.4232 - accuracy: 0.6044\n",
      "Sampling 20 new clients.\n",
      "Applying federated training round.\n",
      "Training metrics - loss: 1.3501; accuracy: 0.6054\n",
      "Evaluating before training round #45 on 20 clients.\n",
      "2/2 [==============================] - 0s 29ms/step - loss: 1.4403 - accuracy: 0.5991\n",
      "Sampling 20 new clients.\n",
      "Applying federated training round.\n",
      "Training metrics - loss: 1.2818; accuracy: 0.6243\n",
      "Evaluating before training round #46 on 20 clients.\n",
      "2/2 [==============================] - 0s 29ms/step - loss: 1.5232 - accuracy: 0.5791\n",
      "Sampling 20 new clients.\n",
      "Applying federated training round.\n",
      "Training metrics - loss: 1.3117; accuracy: 0.6166\n",
      "Evaluating before training round #47 on 20 clients.\n",
      "2/2 [==============================] - 0s 28ms/step - loss: 1.4078 - accuracy: 0.6053\n",
      "Sampling 20 new clients.\n",
      "Applying federated training round.\n",
      "Training metrics - loss: 1.3310; accuracy: 0.6138\n",
      "Evaluating before training round #48 on 20 clients.\n",
      "2/2 [==============================] - 0s 29ms/step - loss: 1.4179 - accuracy: 0.6056\n",
      "Sampling 20 new clients.\n",
      "Applying federated training round.\n",
      "Training metrics - loss: 1.3425; accuracy: 0.6077\n",
      "Evaluating before training round #49 on 20 clients.\n",
      "2/2 [==============================] - 0s 29ms/step - loss: 1.3499 - accuracy: 0.6087\n",
      "Sampling 20 new clients.\n",
      "Applying federated training round.\n",
      "Training metrics - loss: 1.3002; accuracy: 0.6196\n",
      "Evaluating before training round #50 on 20 clients.\n",
      "2/2 [==============================] - 0s 31ms/step - loss: 1.4436 - accuracy: 0.6084\n",
      "Sampling 20 new clients.\n",
      "Applying federated training round.\n",
      "Training metrics - loss: 1.3210; accuracy: 0.6161\n",
      "Evaluating before training round #51 on 20 clients.\n",
      "2/2 [==============================] - 0s 28ms/step - loss: 1.4168 - accuracy: 0.6206\n",
      "Sampling 20 new clients.\n",
      "Applying federated training round.\n",
      "Training metrics - loss: 1.3090; accuracy: 0.6182\n",
      "Evaluating before training round #52 on 20 clients.\n",
      "2/2 [==============================] - 0s 29ms/step - loss: 1.4184 - accuracy: 0.6153\n",
      "Sampling 20 new clients.\n",
      "Applying federated training round.\n",
      "Training metrics - loss: 1.3004; accuracy: 0.6188\n",
      "Evaluating before training round #53 on 20 clients.\n",
      "2/2 [==============================] - 0s 30ms/step - loss: 1.4178 - accuracy: 0.6109\n",
      "Sampling 20 new clients.\n",
      "Applying federated training round.\n",
      "Training metrics - loss: 1.3083; accuracy: 0.6158\n",
      "Evaluating before training round #54 on 20 clients.\n",
      "2/2 [==============================] - 0s 29ms/step - loss: 1.4604 - accuracy: 0.5956\n",
      "Sampling 20 new clients.\n",
      "Applying federated training round.\n",
      "Training metrics - loss: 1.2677; accuracy: 0.6242\n",
      "Evaluating before training round #55 on 20 clients.\n",
      "2/2 [==============================] - 0s 30ms/step - loss: 1.4334 - accuracy: 0.6019\n",
      "Sampling 20 new clients.\n",
      "Applying federated training round.\n",
      "Training metrics - loss: 1.2936; accuracy: 0.6210\n",
      "Evaluating before training round #56 on 20 clients.\n",
      "2/2 [==============================] - 0s 30ms/step - loss: 1.3984 - accuracy: 0.6116\n",
      "Sampling 20 new clients.\n",
      "Applying federated training round.\n",
      "Training metrics - loss: 1.2788; accuracy: 0.6243\n",
      "Evaluating before training round #57 on 20 clients.\n",
      "2/2 [==============================] - 0s 29ms/step - loss: 1.4612 - accuracy: 0.5969\n",
      "Sampling 20 new clients.\n",
      "Applying federated training round.\n",
      "Training metrics - loss: 1.3069; accuracy: 0.6162\n",
      "Evaluating before training round #58 on 20 clients.\n",
      "2/2 [==============================] - 0s 32ms/step - loss: 1.4573 - accuracy: 0.5881\n",
      "Sampling 20 new clients.\n",
      "Applying federated training round.\n",
      "Training metrics - loss: 1.2651; accuracy: 0.6276\n",
      "Evaluating before training round #59 on 20 clients.\n",
      "2/2 [==============================] - 0s 31ms/step - loss: 1.3928 - accuracy: 0.6097\n",
      "Sampling 20 new clients.\n",
      "Applying federated training round.\n",
      "Training metrics - loss: 1.3393; accuracy: 0.6117\n",
      "Evaluating before training round #60 on 20 clients.\n",
      "2/2 [==============================] - 0s 30ms/step - loss: 1.4024 - accuracy: 0.6028\n",
      "Sampling 20 new clients.\n",
      "Applying federated training round.\n",
      "Training metrics - loss: 1.3113; accuracy: 0.6199\n",
      "Evaluating before training round #61 on 20 clients.\n",
      "2/2 [==============================] - 0s 31ms/step - loss: 1.3919 - accuracy: 0.6094\n",
      "Sampling 20 new clients.\n",
      "Applying federated training round.\n",
      "Training metrics - loss: 1.2221; accuracy: 0.6407\n",
      "Evaluating before training round #62 on 20 clients.\n",
      "2/2 [==============================] - 0s 30ms/step - loss: 1.5314 - accuracy: 0.5875\n",
      "Sampling 20 new clients.\n",
      "Applying federated training round.\n",
      "Training metrics - loss: 1.3028; accuracy: 0.6169\n",
      "Evaluating before training round #63 on 20 clients.\n",
      "2/2 [==============================] - 0s 31ms/step - loss: 1.3711 - accuracy: 0.6191\n",
      "Sampling 20 new clients.\n",
      "Applying federated training round.\n",
      "Training metrics - loss: 1.2636; accuracy: 0.6316\n",
      "Evaluating before training round #64 on 20 clients.\n",
      "2/2 [==============================] - 0s 30ms/step - loss: 1.4629 - accuracy: 0.5916\n",
      "Sampling 20 new clients.\n",
      "Applying federated training round.\n",
      "Training metrics - loss: 1.2722; accuracy: 0.6281\n",
      "Evaluating before training round #65 on 20 clients.\n",
      "2/2 [==============================] - 0s 28ms/step - loss: 1.4610 - accuracy: 0.6016\n",
      "Sampling 20 new clients.\n",
      "Applying federated training round.\n",
      "Training metrics - loss: 1.3048; accuracy: 0.6152\n",
      "Evaluating before training round #66 on 20 clients.\n",
      "2/2 [==============================] - 0s 29ms/step - loss: 1.4131 - accuracy: 0.6022\n",
      "Sampling 20 new clients.\n",
      "Applying federated training round.\n",
      "Training metrics - loss: 1.2699; accuracy: 0.6259\n",
      "Evaluating before training round #67 on 20 clients.\n"
     ]
    },
    {
     "name": "stdout",
     "output_type": "stream",
     "text": [
      "2/2 [==============================] - 0s 30ms/step - loss: 1.3714 - accuracy: 0.6150\n",
      "Sampling 20 new clients.\n",
      "Applying federated training round.\n",
      "Training metrics - loss: 1.2791; accuracy: 0.6255\n",
      "Evaluating before training round #68 on 20 clients.\n",
      "2/2 [==============================] - 0s 29ms/step - loss: 1.2986 - accuracy: 0.6291\n",
      "Sampling 20 new clients.\n",
      "Applying federated training round.\n",
      "Training metrics - loss: 1.2927; accuracy: 0.6214\n",
      "Evaluating before training round #69 on 20 clients.\n",
      "2/2 [==============================] - 0s 28ms/step - loss: 1.4385 - accuracy: 0.5966\n",
      "Sampling 20 new clients.\n",
      "Applying federated training round.\n",
      "Training metrics - loss: 1.2581; accuracy: 0.6290\n",
      "Evaluating before training round #70 on 20 clients.\n",
      "2/2 [==============================] - 0s 28ms/step - loss: 1.4569 - accuracy: 0.6000\n",
      "Sampling 20 new clients.\n",
      "Applying federated training round.\n",
      "Training metrics - loss: 1.2832; accuracy: 0.6245\n",
      "Evaluating before training round #71 on 20 clients.\n",
      "2/2 [==============================] - 0s 30ms/step - loss: 1.4762 - accuracy: 0.5875\n",
      "Sampling 20 new clients.\n",
      "Applying federated training round.\n",
      "Training metrics - loss: 1.3215; accuracy: 0.6137\n",
      "Evaluating before training round #72 on 20 clients.\n",
      "2/2 [==============================] - 0s 29ms/step - loss: 1.4056 - accuracy: 0.6037\n",
      "Sampling 20 new clients.\n",
      "Applying federated training round.\n",
      "Training metrics - loss: 1.3012; accuracy: 0.6194\n",
      "Evaluating before training round #73 on 20 clients.\n",
      "2/2 [==============================] - 0s 30ms/step - loss: 1.3998 - accuracy: 0.6144\n",
      "Sampling 20 new clients.\n",
      "Applying federated training round.\n",
      "Training metrics - loss: 1.2290; accuracy: 0.6336\n",
      "Evaluating before training round #74 on 20 clients.\n",
      "2/2 [==============================] - 0s 28ms/step - loss: 1.4102 - accuracy: 0.6153\n",
      "Sampling 20 new clients.\n",
      "Applying federated training round.\n",
      "Training metrics - loss: 1.2469; accuracy: 0.6325\n",
      "Evaluating before training round #75 on 20 clients.\n",
      "2/2 [==============================] - 0s 31ms/step - loss: 1.4223 - accuracy: 0.6053\n",
      "Sampling 20 new clients.\n",
      "Applying federated training round.\n",
      "Training metrics - loss: 1.2613; accuracy: 0.6303\n",
      "Evaluating before training round #76 on 20 clients.\n",
      "2/2 [==============================] - 0s 29ms/step - loss: 1.3976 - accuracy: 0.6153\n",
      "Sampling 20 new clients.\n",
      "Applying federated training round.\n",
      "Training metrics - loss: 1.2707; accuracy: 0.6284\n",
      "Evaluating before training round #77 on 20 clients.\n",
      "2/2 [==============================] - 0s 29ms/step - loss: 1.3937 - accuracy: 0.6100\n",
      "Sampling 20 new clients.\n",
      "Applying federated training round.\n",
      "Training metrics - loss: 1.2758; accuracy: 0.6246\n",
      "Evaluating before training round #78 on 20 clients.\n",
      "2/2 [==============================] - 0s 30ms/step - loss: 1.4484 - accuracy: 0.6012\n",
      "Sampling 20 new clients.\n",
      "Applying federated training round.\n",
      "Training metrics - loss: 1.2805; accuracy: 0.6246\n",
      "Evaluating before training round #79 on 20 clients.\n",
      "2/2 [==============================] - 0s 29ms/step - loss: 1.3855 - accuracy: 0.6169\n",
      "Sampling 20 new clients.\n",
      "Applying federated training round.\n",
      "Training metrics - loss: 1.2854; accuracy: 0.6200\n",
      "Evaluating before training round #80 on 20 clients.\n",
      "2/2 [==============================] - 0s 31ms/step - loss: 1.3903 - accuracy: 0.6112\n",
      "Sampling 20 new clients.\n",
      "Applying federated training round.\n",
      "Training metrics - loss: 1.1812; accuracy: 0.6503\n",
      "Evaluating before training round #81 on 20 clients.\n",
      "2/2 [==============================] - 0s 28ms/step - loss: 1.3762 - accuracy: 0.6112\n",
      "Sampling 20 new clients.\n",
      "Applying federated training round.\n",
      "Training metrics - loss: 1.3033; accuracy: 0.6207\n",
      "Evaluating before training round #82 on 20 clients.\n",
      "2/2 [==============================] - 0s 29ms/step - loss: 1.3942 - accuracy: 0.6144\n",
      "Sampling 20 new clients.\n",
      "Applying federated training round.\n",
      "Training metrics - loss: 1.2082; accuracy: 0.6424\n",
      "Evaluating before training round #83 on 20 clients.\n",
      "2/2 [==============================] - 0s 29ms/step - loss: 1.3732 - accuracy: 0.6125\n",
      "Sampling 20 new clients.\n",
      "Applying federated training round.\n",
      "Training metrics - loss: 1.1026; accuracy: 0.6775\n",
      "Evaluating before training round #84 on 20 clients.\n",
      "2/2 [==============================] - 0s 30ms/step - loss: 1.5050 - accuracy: 0.5844\n",
      "Sampling 20 new clients.\n",
      "Applying federated training round.\n",
      "Training metrics - loss: 1.2951; accuracy: 0.6201\n",
      "Evaluating before training round #85 on 20 clients.\n",
      "2/2 [==============================] - 0s 28ms/step - loss: 1.4402 - accuracy: 0.5950\n",
      "Sampling 20 new clients.\n",
      "Applying federated training round.\n",
      "Training metrics - loss: 1.2211; accuracy: 0.6371\n",
      "Evaluating before training round #86 on 20 clients.\n",
      "2/2 [==============================] - 0s 29ms/step - loss: 1.4117 - accuracy: 0.6028\n",
      "Sampling 20 new clients.\n",
      "Applying federated training round.\n",
      "Training metrics - loss: 1.2959; accuracy: 0.6216\n",
      "Evaluating before training round #87 on 20 clients.\n",
      "2/2 [==============================] - 0s 30ms/step - loss: 1.3569 - accuracy: 0.6144\n",
      "Sampling 20 new clients.\n",
      "Applying federated training round.\n",
      "Training metrics - loss: 1.2657; accuracy: 0.6286\n",
      "Evaluating before training round #88 on 20 clients.\n",
      "2/2 [==============================] - 0s 29ms/step - loss: 1.3960 - accuracy: 0.6184\n",
      "Sampling 20 new clients.\n",
      "Applying federated training round.\n",
      "Training metrics - loss: 1.2339; accuracy: 0.6356\n",
      "Evaluating before training round #89 on 20 clients.\n",
      "2/2 [==============================] - 0s 29ms/step - loss: 1.3818 - accuracy: 0.6137\n",
      "Sampling 20 new clients.\n",
      "Applying federated training round.\n",
      "Training metrics - loss: 1.2735; accuracy: 0.6249\n",
      "Evaluating before training round #90 on 20 clients.\n",
      "2/2 [==============================] - 0s 29ms/step - loss: 1.4257 - accuracy: 0.6066\n",
      "Sampling 20 new clients.\n",
      "Applying federated training round.\n",
      "Training metrics - loss: 1.2536; accuracy: 0.6347\n",
      "Evaluating before training round #91 on 20 clients.\n",
      "2/2 [==============================] - 0s 30ms/step - loss: 1.3467 - accuracy: 0.6256\n",
      "Sampling 20 new clients.\n",
      "Applying federated training round.\n",
      "Training metrics - loss: 1.2402; accuracy: 0.6369\n",
      "Evaluating before training round #92 on 20 clients.\n",
      "2/2 [==============================] - 0s 30ms/step - loss: 1.3606 - accuracy: 0.6216\n",
      "Sampling 20 new clients.\n",
      "Applying federated training round.\n",
      "Training metrics - loss: 1.2333; accuracy: 0.6343\n",
      "Evaluating before training round #93 on 20 clients.\n",
      "2/2 [==============================] - 0s 29ms/step - loss: 1.3252 - accuracy: 0.6278\n",
      "Sampling 20 new clients.\n",
      "Applying federated training round.\n",
      "Training metrics - loss: 1.2098; accuracy: 0.6405\n",
      "Evaluating before training round #94 on 20 clients.\n",
      "2/2 [==============================] - 0s 31ms/step - loss: 1.3968 - accuracy: 0.6106\n",
      "Sampling 20 new clients.\n",
      "Applying federated training round.\n",
      "Training metrics - loss: 1.1798; accuracy: 0.6499\n",
      "Evaluating before training round #95 on 20 clients.\n",
      "2/2 [==============================] - 0s 33ms/step - loss: 1.4349 - accuracy: 0.6016\n",
      "Sampling 20 new clients.\n",
      "Applying federated training round.\n",
      "Training metrics - loss: 1.2705; accuracy: 0.6279\n",
      "Evaluating before training round #96 on 20 clients.\n",
      "2/2 [==============================] - 0s 32ms/step - loss: 1.4189 - accuracy: 0.6016\n",
      "Sampling 20 new clients.\n",
      "Applying federated training round.\n",
      "Training metrics - loss: 1.2302; accuracy: 0.6407\n",
      "Evaluating before training round #97 on 20 clients.\n",
      "2/2 [==============================] - 0s 30ms/step - loss: 1.4077 - accuracy: 0.6103\n",
      "Sampling 20 new clients.\n",
      "Applying federated training round.\n",
      "Training metrics - loss: 1.2420; accuracy: 0.6338\n",
      "Evaluating before training round #98 on 20 clients.\n",
      "2/2 [==============================] - 0s 29ms/step - loss: 1.3664 - accuracy: 0.6153\n",
      "Sampling 20 new clients.\n",
      "Applying federated training round.\n",
      "Training metrics - loss: 1.2107; accuracy: 0.6389\n",
      "Evaluating before training round #99 on 20 clients.\n",
      "2/2 [==============================] - 0s 29ms/step - loss: 1.3943 - accuracy: 0.6222\n",
      "Sampling 20 new clients.\n",
      "Applying federated training round.\n",
      "Training metrics - loss: 1.2480; accuracy: 0.6342\n"
     ]
    }
   ],
   "source": [
    "NUM_ROUNDS = 100\n",
    "\n",
    "for round_num in range(NUM_ROUNDS):\n",
    "    \n",
    "    # Examine validation metrics\n",
    "    print(f'Evaluating before training round #{round_num} on {NUM_VAL_CLIENTS} clients.')\n",
    "    keras_evaluate(keras_model, state, val_dataset)\n",
    "    \n",
    "    # Sample train clients to create a train dataset\n",
    "    print(f'Sampling {NUM_TRAIN_CLIENTS} new clients.')\n",
    "    train_clients = get_sample_clients(train_data, num_clients=NUM_TRAIN_CLIENTS)\n",
    "    train_datasets = [preprocess_data_for_client(client, train_data) for client in train_clients]\n",
    "    \n",
    "    # Apply federated training round\n",
    "    print('Applying federated training round.')\n",
    "    state, metrics = fed_avg.next(state, train_datasets)\n",
    "    \n",
    "    # Examine training metrics\n",
    "    print(f'Training metrics - loss: {metrics[1]:4.4f}; accuracy: {metrics[0]:4.4f}')\n",
    "    train_loss.append(metrics[1])\n",
    "    train_accuracy.append(metrics[0])"
   ]
  },
  {
   "cell_type": "markdown",
   "metadata": {},
   "source": [
    "### Plot Model Objective Function"
   ]
  },
  {
   "cell_type": "code",
   "execution_count": 40,
   "metadata": {},
   "outputs": [
    {
     "data": {
      "image/png": "[encoded data removed]",
      "text/plain": [
       "<Figure size 432x288 with 1 Axes>"
      ]
     },
     "metadata": {
      "needs_background": "light"
     },
     "output_type": "display_data"
    }
   ],
   "source": [
    "fig, ax = plt.subplots()\n",
    "x_axis = range(0, NUM_ROUNDS)\n",
    "ax.plot(x_axis, train_loss, label='Train')\n",
    "ax.plot(x_axis, val_loss, label='Validation')\n",
    "ax.legend(loc='best')\n",
    "plt.ylabel('Value of Objective Function')\n",
    "plt.title('Model Objective Function at Each Training Round')\n",
    "plt.show()"
   ]
  },
  {
   "cell_type": "markdown",
   "metadata": {},
   "source": [
    "### Plot Model Accuracy"
   ]
  },
  {
   "cell_type": "code",
   "execution_count": 41,
   "metadata": {},
   "outputs": [
    {
     "data": {
      "image/png": "[encoded data removed]",
      "text/plain": [
       "<Figure size 432x288 with 1 Axes>"
      ]
     },
     "metadata": {
      "needs_background": "light"
     },
     "output_type": "display_data"
    }
   ],
   "source": [
    "fig, ax = plt.subplots()\n",
    "x_axis = range(0, NUM_ROUNDS)\n",
    "ax.plot(x_axis, train_accuracy, label='Train')\n",
    "ax.plot(x_axis, val_accuracy, label='Validation')\n",
    "ax.legend(loc='best')\n",
    "plt.ylabel('Accuracy')\n",
    "plt.title('Model Accuracy at Each Training Round')\n",
    "plt.show()"
   ]
  },
  {
   "cell_type": "markdown",
   "metadata": {},
   "source": [
    "### Get Final Evaluation"
   ]
  },
  {
   "cell_type": "code",
   "execution_count": 42,
   "metadata": {},
   "outputs": [
    {
     "name": "stdout",
     "output_type": "stream",
     "text": [
      "2/2 [==============================] - 0s 29ms/step - loss: 1.4139 - accuracy: 0.5969\n"
     ]
    }
   ],
   "source": [
    "keras_evaluate(keras_model, state, val_dataset)"
   ]
  },
  {
   "cell_type": "markdown",
   "metadata": {},
   "source": [
    "### Generate Text\n",
    "Text generation requires batch_size=1."
   ]
  },
  {
   "cell_type": "code",
   "execution_count": 43,
   "metadata": {},
   "outputs": [
    {
     "name": "stdout",
     "output_type": "stream",
     "text": [
      "How's the water today? nges to porelllurarevad heradar p donpconture .ay ?enf ses de ple maw halep d anu harnghecomofax novoc foct ftimpprds yoevataprit , rorsecan antyngedioulll wifocon j t io esope t d luns wixte sinuthe \n"
     ]
    }
   ],
   "source": [
    "keras_model_batch1.set_weights([v.numpy() for v in keras_model.weights])\n",
    "print(generate_text(keras_model_batch1, \"How's the water today? \"))"
   ]
  },
  {
   "cell_type": "markdown",
   "metadata": {},
   "source": [
    "**Suggested extensions:**\n",
    "\n",
    "- Use \".repeat(NUM_EPOCHS)\" on the client datasets to try multiple epochs of local training (e.g., as in McMahan et. al.). See also Federated Learning for Image Classification which does this.\n",
    "- Change the compile() command to experiment with using different optimization algorithms on the client.\n",
    "- Try the server_optimizer argument to build_federated_averaging_process to try different algorithms for applying the model updates on the server.\n",
    "- Try the client_weight_fn argument to to build_federated_averaging_process to try different weightings of the clients. The default weights client updates by the number of examples on the client, but you can do e.g. client_weight_fn=lambda _: tf.constant(1.0)."
   ]
  },
  {
   "cell_type": "code",
   "execution_count": null,
   "metadata": {},
   "outputs": [],
   "source": []
  },
  {
   "cell_type": "code",
   "execution_count": null,
   "metadata": {},
   "outputs": [],
   "source": []
  }
 ],
 "metadata": {
  "kernelspec": {
   "display_name": "fed",
   "language": "python",
   "name": "fed"
  },
  "language_info": {
   "codemirror_mode": {
    "name": "ipython",
    "version": 3
   },
   "file_extension": ".py",
   "mimetype": "text/x-python",
   "name": "python",
   "nbconvert_exporter": "python",
   "pygments_lexer": "ipython3",
   "version": "3.7.5"
  }
 },
 "nbformat": 4,
 "nbformat_minor": 2
}
