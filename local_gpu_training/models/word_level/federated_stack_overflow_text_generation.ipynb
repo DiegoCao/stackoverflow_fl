{
 "cells": [
  {
   "cell_type": "markdown",
   "metadata": {},
   "source": [
    "# Word Level Federated Text Generation with Stack Overflow\n",
    "- Joel Stremmel\n",
    "- 02-01-20\n",
    "\n",
    "**About:**\n",
    "\n",
    "This notebook loads the Stack Overflow data available through `tff.simulation.datasets` and trains an LSTM model with Federared Averaging by following the Federated Learning for Text Generation [example notebook](https://github.com/tensorflow/federated/blob/master/docs/tutorials/federated_learning_for_text_generation.ipynb).\n",
    "\n",
    "**Notes:**\n",
    "\n",
    "- This notebook prepares the Stack Overflow dataset for word level language modeling using this [module](https://github.com/tensorflow/federated/blob/master/tensorflow_federated/python/research/baselines/stackoverflow/dataset.py\n",
    ").\n",
    "- The metrics for model training come from this [module](https://github.com/tensorflow/federated/blob/master/tensorflow_federated/python/research/baselines/stackoverflow/metrics.py). \n",
    "\n",
    "\n",
    "**Data:** \n",
    "- https://www.kaggle.com/stackoverflow/stackoverflow\n",
    "\n",
    "**License:** \n",
    "- https://creativecommons.org/licenses/by-sa/3.0/\n",
    "\n",
    "**Data and Model References:**\n",
    "- https://www.tensorflow.org/federated/api_docs/python/tff/simulation/datasets/stackoverflow/load_data\n",
    "- https://github.com/tensorflow/federated/blob/master/docs/tutorials/federated_learning_for_text_generation.ipynb\n",
    "- https://github.com/tensorflow/federated/tree/master/tensorflow_federated/python/research/baselines/stackoverflow\n",
    "- https://www.tensorflow.org/tutorials/text/text_generation\n",
    "\n",
    "**Environment Setup References:**\n",
    "- https://www.tensorflow.org/install/gpu\n",
    "- https://gist.github.com/matheustguimaraes/43e0b65aa534db4df2918f835b9b361d\n",
    "- https://www.tensorflow.org/install/source#tested_build_configurations\n",
    "- https://anbasile.github.io/programming/2017/06/25/jupyter-venv/"
   ]
  },
  {
   "cell_type": "markdown",
   "metadata": {},
   "source": [
    "### Environment Setup\n",
    "Pip install these packages in the order listed."
   ]
  },
  {
   "cell_type": "code",
   "execution_count": 1,
   "metadata": {},
   "outputs": [],
   "source": [
    "# !pip install --upgrade pip\n",
    "# !pip install --upgrade tensorflow-federated\n",
    "# !pip uninstall tensorflow -y\n",
    "# !pip install --upgrade tensorflow-gpu==2.0\n",
    "# !pip install --upgrade nltk\n",
    "# !pip install matplotlib\n",
    "# !pip install nest_asyncio"
   ]
  },
  {
   "cell_type": "markdown",
   "metadata": {},
   "source": [
    "### Imports"
   ]
  },
  {
   "cell_type": "code",
   "execution_count": 2,
   "metadata": {},
   "outputs": [],
   "source": [
    "import nest_asyncio\n",
    "nest_asyncio.apply()"
   ]
  },
  {
   "cell_type": "code",
   "execution_count": 3,
   "metadata": {},
   "outputs": [],
   "source": [
    "import os, sys\n",
    "sys.path.append(os.path.dirname(os.path.dirname(os.getcwd())))"
   ]
  },
  {
   "cell_type": "code",
   "execution_count": 4,
   "metadata": {},
   "outputs": [],
   "source": [
    "# from https://github.com/tensorflow/federated/blob/master/tensorflow_federated/python/research/baselines/stackoverflow/dataset.py\n",
    "from utils.dataset import construct_word_level_datasets, get_vocab, get_special_tokens\n",
    "\n",
    "# from https://github.com/tensorflow/federated/blob/master/tensorflow_federated/python/research/baselines/stackoverflow/metrics.py\n",
    "import utils.metrics as metrics"
   ]
  },
  {
   "cell_type": "code",
   "execution_count": 5,
   "metadata": {},
   "outputs": [],
   "source": [
    "import collections\n",
    "import functools\n",
    "import six\n",
    "import time\n",
    "import string\n",
    "\n",
    "import numpy as np\n",
    "import matplotlib.pyplot as plt\n",
    "from nltk.corpus import stopwords\n",
    "\n",
    "import tensorflow as tf\n",
    "import tensorflow_federated as tff"
   ]
  },
  {
   "cell_type": "markdown",
   "metadata": {},
   "source": [
    "### Set Compatability Behavior"
   ]
  },
  {
   "cell_type": "code",
   "execution_count": 6,
   "metadata": {},
   "outputs": [],
   "source": [
    "tf.compat.v1.enable_v2_behavior()"
   ]
  },
  {
   "cell_type": "markdown",
   "metadata": {},
   "source": [
    "### Check Tensorflow Install"
   ]
  },
  {
   "cell_type": "code",
   "execution_count": 7,
   "metadata": {},
   "outputs": [
    {
     "name": "stdout",
     "output_type": "stream",
     "text": [
      "Built with Cuda: True\n",
      "Build with GPU support: True\n",
      "Num GPUs Available:  1\n"
     ]
    }
   ],
   "source": [
    "print('Built with Cuda: {}'.format(tf.test.is_built_with_cuda()))\n",
    "print('Build with GPU support: {}'.format(tf.test.is_built_with_gpu_support()))\n",
    "print(\"Num GPUs Available: \", len(tf.config.experimental.list_physical_devices('GPU')))"
   ]
  },
  {
   "cell_type": "markdown",
   "metadata": {},
   "source": [
    "### Set Tensorflow to Use GPU"
   ]
  },
  {
   "cell_type": "code",
   "execution_count": 8,
   "metadata": {},
   "outputs": [
    {
     "name": "stdout",
     "output_type": "stream",
     "text": [
      "PhysicalDevice(name='/physical_device:CPU:0', device_type='CPU')\n",
      "PhysicalDevice(name='/physical_device:XLA_CPU:0', device_type='XLA_CPU')\n",
      "PhysicalDevice(name='/physical_device:XLA_GPU:0', device_type='XLA_GPU')\n",
      "PhysicalDevice(name='/physical_device:GPU:0', device_type='GPU')\n"
     ]
    }
   ],
   "source": [
    "physical_devices = tf.config.experimental.list_physical_devices(device_type=None)\n",
    "tf.config.experimental.set_memory_growth(physical_devices[-1], enable=True)\n",
    "for device in physical_devices:\n",
    "    print(device)"
   ]
  },
  {
   "cell_type": "markdown",
   "metadata": {},
   "source": [
    "### Test TFF"
   ]
  },
  {
   "cell_type": "code",
   "execution_count": 9,
   "metadata": {},
   "outputs": [
    {
     "data": {
      "text/plain": [
       "'Hello, World!'"
      ]
     },
     "execution_count": 9,
     "metadata": {},
     "output_type": "execute_result"
    }
   ],
   "source": [
    "tff.federated_computation(lambda: 'Hello, World!')()"
   ]
  },
  {
   "cell_type": "markdown",
   "metadata": {},
   "source": [
    "### Set Some Parameters for Preprocessing the Data and Training the Model\n",
    "**Note:** Ask Keith how he's been setting there for internal experiments."
   ]
  },
  {
   "cell_type": "code",
   "execution_count": 10,
   "metadata": {},
   "outputs": [],
   "source": [
    "VOCAB_SIZE = 10000\n",
    "BATCH_SIZE = 8\n",
    "CLIENTS_EPOCHS_PER_ROUND = 1\n",
    "MAX_SEQ_LENGTH = 20\n",
    "MAX_ELEMENTS_PER_USER = 5000\n",
    "CENTRALIZED_TRAIN = False\n",
    "SHUFFLE_BUFFER_SIZE = 1000\n",
    "NUM_VALIDATION_EXAMPLES = 10000\n",
    "NUM_TEST_EXAMPLES = 2\n",
    "\n",
    "NUM_ROUNDS = 100\n",
    "NUM_TRAIN_CLIENTS = 10\n",
    "UNIFORM_WEIGHTING = False\n",
    "\n",
    "EMBEDDING_DIM = 100\n",
    "RNN_UNITS = 256"
   ]
  },
  {
   "cell_type": "markdown",
   "metadata": {},
   "source": [
    "### Load and Preprocess Word Level Datasets"
   ]
  },
  {
   "cell_type": "code",
   "execution_count": 11,
   "metadata": {},
   "outputs": [
    {
     "name": "stderr",
     "output_type": "stream",
     "text": [
      "/home/joel_stremmel/anaconda3/envs/tff/lib/python3.7/site-packages/tensorflow_federated/python/simulation/hdf5_client_data.py:69: H5pyDeprecationWarning: dataset.value has been deprecated. Use dataset[()] instead.\n",
      "  collections.OrderedDict((name, ds.value) for name, ds in sorted(\n"
     ]
    }
   ],
   "source": [
    "train_data, val_data, test_data = construct_word_level_datasets(\n",
    "    vocab_size=VOCAB_SIZE,\n",
    "    batch_size=BATCH_SIZE,\n",
    "    client_epochs_per_round=CLIENTS_EPOCHS_PER_ROUND,\n",
    "    max_seq_len=MAX_SEQ_LENGTH,\n",
    "    max_elements_per_user=MAX_ELEMENTS_PER_USER,\n",
    "    centralized_train=CENTRALIZED_TRAIN,\n",
    "    shuffle_buffer_size=SHUFFLE_BUFFER_SIZE,\n",
    "    num_validation_examples=NUM_VALIDATION_EXAMPLES,\n",
    "    num_test_examples=NUM_TEST_EXAMPLES)"
   ]
  },
  {
   "cell_type": "markdown",
   "metadata": {},
   "source": [
    "### Retrieve the Dataset Vocab"
   ]
  },
  {
   "cell_type": "code",
   "execution_count": 12,
   "metadata": {},
   "outputs": [],
   "source": [
    "vocab = get_vocab(VOCAB_SIZE)"
   ]
  },
  {
   "cell_type": "markdown",
   "metadata": {},
   "source": [
    "### Retrieve the Special Characters Created During Preprocessing\n",
    "The four special tokens are:\n",
    "- pad: padding token\n",
    "- oov: out of vocabulary\n",
    "- bos: begin of sentence\n",
    "- eos: end of sentence"
   ]
  },
  {
   "cell_type": "code",
   "execution_count": 13,
   "metadata": {},
   "outputs": [],
   "source": [
    "pad, oov, bos, eos = get_special_tokens(VOCAB_SIZE)"
   ]
  },
  {
   "cell_type": "code",
   "execution_count": 14,
   "metadata": {},
   "outputs": [],
   "source": [
    "special2idx = dict(zip(['pad', 'oov', 'bos', 'eos'], [pad, oov, bos, eos]))\n",
    "idx2special = {v:k for k, v in special2idx.items()}"
   ]
  },
  {
   "cell_type": "markdown",
   "metadata": {},
   "source": [
    "### Set Vocabulary\n",
    "Add one to account for the pad token which has idx 0."
   ]
  },
  {
   "cell_type": "code",
   "execution_count": 15,
   "metadata": {},
   "outputs": [],
   "source": [
    "word2idx = {word:i+1 for i, word in enumerate(vocab)}\n",
    "idx2word = {i+1:word for i, word in enumerate(vocab)}"
   ]
  },
  {
   "cell_type": "markdown",
   "metadata": {},
   "source": [
    "### Add Special Characters"
   ]
  },
  {
   "cell_type": "code",
   "execution_count": 16,
   "metadata": {},
   "outputs": [],
   "source": [
    "word2idx = {**word2idx, **special2idx}\n",
    "idx2word = {**idx2word, **idx2special}"
   ]
  },
  {
   "cell_type": "markdown",
   "metadata": {},
   "source": [
    "### Reset Vocab Size\n",
    "This accounts for having added the special characters."
   ]
  },
  {
   "cell_type": "code",
   "execution_count": 17,
   "metadata": {},
   "outputs": [],
   "source": [
    "EXTENDED_VOCAB_SIZE = VOCAB_SIZE + len(special2idx)"
   ]
  },
  {
   "cell_type": "markdown",
   "metadata": {},
   "source": [
    "### Define Function to Build Model"
   ]
  },
  {
   "cell_type": "code",
   "execution_count": 18,
   "metadata": {},
   "outputs": [],
   "source": [
    "def build_model():\n",
    "    \"\"\"\n",
    "    Build model with architecture from: https://www.tensorflow.org/tutorials/text/text_generation.\n",
    "    \"\"\"\n",
    "\n",
    "    model1_input = tf.keras.Input(shape=(None, ), # changed from MAX_SEQ_LENGTH\n",
    "                                  name='model1_input')\n",
    "    \n",
    "    model1_embedding = tf.keras.layers.Embedding(input_dim=EXTENDED_VOCAB_SIZE,\n",
    "                                                 output_dim=EMBEDDING_DIM,\n",
    "                                                 mask_zero=True,\n",
    "                                                 name='model1_embedding')(model1_input)\n",
    "    \n",
    "    model1_lstm = tf.keras.layers.LSTM(units=RNN_UNITS,\n",
    "                                       return_sequences=True,\n",
    "                                       recurrent_initializer='glorot_uniform',\n",
    "                                       name='model1_lstm')(model1_embedding)\n",
    "    \n",
    "    model1_dense1 = tf.keras.layers.Dense(units=EMBEDDING_DIM)(model1_lstm)\n",
    "    \n",
    "    model1_dense2 = tf.keras.layers.Dense(units=EXTENDED_VOCAB_SIZE)(model1_dense1)\n",
    "    \n",
    "    final_model = tf.keras.Model(inputs=model1_input, outputs=model1_dense2)\n",
    "                 \n",
    "    return final_model"
   ]
  },
  {
   "cell_type": "markdown",
   "metadata": {},
   "source": [
    "### Define the Text Generation Strategy"
   ]
  },
  {
   "cell_type": "code",
   "execution_count": 19,
   "metadata": {},
   "outputs": [],
   "source": [
    "def generate_text(model, start_string):\n",
    "    \"\"\"\n",
    "    Generate text by sampling from the model output distribution\n",
    "    as in From https://www.tensorflow.org/tutorials/sequences/text_generation.\n",
    "    \"\"\"\n",
    "    \n",
    "    start_words = [word.lower() for word in start_string.split(' ')]\n",
    "\n",
    "    num_generate = 50\n",
    "    input_eval = [word2idx[word] for word in start_words]\n",
    "    input_eval = tf.expand_dims(input_eval, 0)\n",
    "    text_generated = []\n",
    "    temperature = 1.0\n",
    "\n",
    "    model.reset_states()\n",
    "    for i in range(num_generate):\n",
    "        predictions = model(input_eval)\n",
    "        predictions = tf.squeeze(predictions, 0)\n",
    "        predictions = predictions / temperature\n",
    "        predicted_id = tf.random.categorical(predictions, num_samples=1)[-1, 0].numpy()\n",
    "        input_eval = tf.expand_dims([predicted_id], 0)\n",
    "        text_generated.append(idx2word[predicted_id])\n",
    "\n",
    "    return (' '.join(start_words) + ' '.join(text_generated))"
   ]
  },
  {
   "cell_type": "markdown",
   "metadata": {},
   "source": [
    "### Load or Build the Model and Try Generating Some Text"
   ]
  },
  {
   "cell_type": "code",
   "execution_count": 20,
   "metadata": {},
   "outputs": [
    {
     "name": "stdout",
     "output_type": "stream",
     "text": [
      "how are you todaylookahead companion polls rare is ico auto-complete consumes nat phones generators developing convention reinstalled ror tuple lucky advice sheet1 tt gnu , 403 errors calendars tune countdown sufficient _session reproduces timed prerequisite 47 downloadable hooks spelling separated raspberry painted scrollable details marketplace holes unsure ctx galaxy searching midnight authenticate consult\n"
     ]
    }
   ],
   "source": [
    "keras_model = build_model()\n",
    "print(generate_text(keras_model, \"How are you today\"))"
   ]
  },
  {
   "cell_type": "markdown",
   "metadata": {},
   "source": [
    "### Define Evaluation Metrics for Training"
   ]
  },
  {
   "cell_type": "code",
   "execution_count": 21,
   "metadata": {},
   "outputs": [],
   "source": [
    "def get_metrics():\n",
    "    \n",
    "    evaluation_metrics = [\n",
    "        metrics.NumTokensCounter(name='num_tokens', masked_tokens=[pad]),\n",
    "        metrics.NumTokensCounter(name='num_tokens_no_oov', masked_tokens=[pad, oov]),\n",
    "        metrics.NumBatchesCounter(name='num_batches'),\n",
    "        metrics.NumExamplesCounter(name='num_examples'),\n",
    "        metrics.MaskedCategoricalAccuracy(name='accuracy', masked_tokens=[pad]),\n",
    "        metrics.MaskedCategoricalAccuracy(name='accuracy_no_oov', masked_tokens=[pad, oov]),\n",
    "        metrics.MaskedCategoricalAccuracy(name='accuracy_no_oov_no_eos', masked_tokens=[pad, oov, eos])\n",
    "    ]\n",
    "    \n",
    "    return evaluation_metrics"
   ]
  },
  {
   "cell_type": "markdown",
   "metadata": {},
   "source": [
    "### Define a Function to Compile the Model for Training"
   ]
  },
  {
   "cell_type": "code",
   "execution_count": 22,
   "metadata": {},
   "outputs": [],
   "source": [
    "def compile_model(keras_model, evaluation_metrics):\n",
    "    \n",
    "    keras_model.compile(\n",
    "        loss=tf.keras.losses.SparseCategoricalCrossentropy(from_logits=True),\n",
    "        optimizer=tf.keras.optimizers.Adam(),\n",
    "        metrics=evaluation_metrics)\n",
    "    \n",
    "    return keras_model"
   ]
  },
  {
   "cell_type": "markdown",
   "metadata": {},
   "source": [
    "### Create TFF Version of the Model to be Trained with Federated Averaging\n",
    "- TFF uses a sample batch so it knows the types and shapes that your model expects.\n",
    "- The model function then builds and compiles the model and creates a TFF version to be trained."
   ]
  },
  {
   "cell_type": "code",
   "execution_count": 23,
   "metadata": {},
   "outputs": [
    {
     "name": "stderr",
     "output_type": "stream",
     "text": [
      "/home/joel_stremmel/anaconda3/envs/tff/lib/python3.7/site-packages/tensorflow_federated/python/simulation/hdf5_client_data.py:69: H5pyDeprecationWarning: dataset.value has been deprecated. Use dataset[()] instead.\n",
      "  collections.OrderedDict((name, ds.value) for name, ds in sorted(\n"
     ]
    }
   ],
   "source": [
    "sample_batch = tf.nest.map_structure(lambda x: x.numpy(), next(iter(val_data)))"
   ]
  },
  {
   "cell_type": "code",
   "execution_count": 24,
   "metadata": {},
   "outputs": [],
   "source": [
    "def model_fn():\n",
    "    \"\"\"\n",
    "    Create TFF model from compiled Keras model and a sample batch.\n",
    "    \"\"\"\n",
    "    \n",
    "    keras_model = build_model()\n",
    "    evaluation_metrics = get_metrics()\n",
    "    \n",
    "    compile_model(keras_model, evaluation_metrics)\n",
    "    \n",
    "    return tff.learning.from_compiled_keras_model(keras_model, sample_batch)"
   ]
  },
  {
   "cell_type": "markdown",
   "metadata": {},
   "source": [
    "### Define Model History Tracker to Save Metrics at Each Training Round\n",
    "This is a spin off of [keras' model history](https://www.tensorflow.org/api_docs/python/tf/keras/callbacks/History) but is specific to the TFF training code used here."
   ]
  },
  {
   "cell_type": "code",
   "execution_count": 25,
   "metadata": {},
   "outputs": [],
   "source": [
    "class model_history_tracker:\n",
    "    \n",
    "    def __init__(self, metric_names=[]):\n",
    "        \n",
    "        self.metric_names = metric_names\n",
    "        self.metrics_dict = {name:[] for name in metric_names}\n",
    "    \n",
    "    def get_metrics_by_name(self, metric_name):\n",
    "        \n",
    "        return self.metrics_dict[metric_name]\n",
    "    \n",
    "    def add_metrics_by_name(self, metric_name, metric_result):\n",
    "        \n",
    "        self.metrics_dict[metric_name].append(metric_result) "
   ]
  },
  {
   "cell_type": "markdown",
   "metadata": {},
   "source": [
    "### Initialize Train and Validation Model Trackers to be Used Below"
   ]
  },
  {
   "cell_type": "code",
   "execution_count": 26,
   "metadata": {},
   "outputs": [],
   "source": [
    "evaluation_metric_names = ['loss',\n",
    "                           'num_tokens',\n",
    "                           'num_tokens_no_oov',\n",
    "                           'num_batches',\n",
    "                           'num_examples',\n",
    "                           'accuracy',\n",
    "                           'accuracy_no_oov',\n",
    "                           'accuracy_no_oov_no_oes']\n",
    "\n",
    "train_metrics_tracker = model_history_tracker(evaluation_metric_names)\n",
    "val_metrics_tracker = model_history_tracker(evaluation_metric_names)"
   ]
  },
  {
   "cell_type": "markdown",
   "metadata": {},
   "source": [
    "### Define Function to Evaluate Model Performance on Validation Data"
   ]
  },
  {
   "cell_type": "code",
   "execution_count": 27,
   "metadata": {},
   "outputs": [],
   "source": [
    "def keras_evaluate(state, val_dataset):\n",
    "    \n",
    "    keras_model = build_model()\n",
    "    evaluation_metrics = get_metrics()\n",
    "    \n",
    "    compile_model(keras_model, evaluation_metrics)\n",
    "    tff.learning.assign_weights_to_keras_model(keras_model, state.model)\n",
    "    \n",
    "    evaluation_results = keras_model.evaluate(val_dataset)\n",
    "    \n",
    "    for i, result in enumerate(evaluation_results):\n",
    "        val_metrics_tracker.add_metrics_by_name(val_metrics_tracker.metric_names[i], result)"
   ]
  },
  {
   "cell_type": "markdown",
   "metadata": {},
   "source": [
    "### Define Function to Weight Clients Uniformly or by Number of Tokens"
   ]
  },
  {
   "cell_type": "code",
   "execution_count": 28,
   "metadata": {},
   "outputs": [],
   "source": [
    "def client_weight_fn(local_outputs):\n",
    "    \n",
    "    num_tokens = tf.cast(tf.squeeze(local_outputs['num_tokens']), tf.float32)\n",
    "    \n",
    "    return 1.0 if UNIFORM_WEIGHTING else num_tokens"
   ]
  },
  {
   "cell_type": "markdown",
   "metadata": {},
   "source": [
    "### Define Function to Supply Server Optimizer"
   ]
  },
  {
   "cell_type": "code",
   "execution_count": 29,
   "metadata": {},
   "outputs": [],
   "source": [
    "def server_optimizer_fn():\n",
    "    \n",
    "    return tf.keras.optimizers.Adam()"
   ]
  },
  {
   "cell_type": "markdown",
   "metadata": {},
   "source": [
    "### Set the Default Executor"
   ]
  },
  {
   "cell_type": "code",
   "execution_count": 30,
   "metadata": {},
   "outputs": [],
   "source": [
    "tff.framework.set_default_executor(tff.framework.create_local_executor(max_fanout=10))"
   ]
  },
  {
   "cell_type": "markdown",
   "metadata": {},
   "source": [
    "### Create an Iterative Process"
   ]
  },
  {
   "cell_type": "code",
   "execution_count": 31,
   "metadata": {},
   "outputs": [
    {
     "name": "stdout",
     "output_type": "stream",
     "text": [
      "WARNING:tensorflow:From /home/joel_stremmel/anaconda3/envs/tff/lib/python3.7/site-packages/tensorflow_core/python/ops/resource_variable_ops.py:1630: calling BaseResourceVariable.__init__ (from tensorflow.python.ops.resource_variable_ops) with constraint is deprecated and will be removed in a future version.\n",
      "Instructions for updating:\n",
      "If using Keras pass *_constraint arguments to layers.\n"
     ]
    }
   ],
   "source": [
    "iterative_process = (\n",
    "      tff.learning.federated_averaging.build_federated_averaging_process(\n",
    "          model_fn=model_fn,\n",
    "          server_optimizer_fn=server_optimizer_fn,\n",
    "          client_weight_fn=client_weight_fn))"
   ]
  },
  {
   "cell_type": "markdown",
   "metadata": {},
   "source": [
    "### Initalize the Process\n",
    "Server state will be updated in the training loop."
   ]
  },
  {
   "cell_type": "code",
   "execution_count": 32,
   "metadata": {},
   "outputs": [],
   "source": [
    "server_state = iterative_process.initialize()"
   ]
  },
  {
   "cell_type": "markdown",
   "metadata": {},
   "source": [
    "### Define Function to Create Training Datsets from Randomly Sampled Clients"
   ]
  },
  {
   "cell_type": "code",
   "execution_count": 33,
   "metadata": {},
   "outputs": [],
   "source": [
    "def get_sample_clients(dataset, num_clients):\n",
    "    \n",
    "    random_indices = np.random.choice(len(dataset.client_ids), size=num_clients, replace=False)\n",
    "    \n",
    "    return np.array(dataset.client_ids)[random_indices]"
   ]
  },
  {
   "cell_type": "markdown",
   "metadata": {},
   "source": [
    "### Train Model Across Many Randomly Sampled Clients with Federated Averaging"
   ]
  },
  {
   "cell_type": "code",
   "execution_count": 34,
   "metadata": {
    "scrolled": false
   },
   "outputs": [
    {
     "name": "stdout",
     "output_type": "stream",
     "text": [
      "Evaluating before training round #0 on 10000 examples.\n"
     ]
    },
    {
     "name": "stderr",
     "output_type": "stream",
     "text": [
      "/home/joel_stremmel/anaconda3/envs/tff/lib/python3.7/site-packages/tensorflow_federated/python/simulation/hdf5_client_data.py:69: H5pyDeprecationWarning: dataset.value has been deprecated. Use dataset[()] instead.\n",
      "  collections.OrderedDict((name, ds.value) for name, ds in sorted(\n"
     ]
    },
    {
     "name": "stdout",
     "output_type": "stream",
     "text": [
      "100/100 [==============================] - 19s 186ms/step - loss: 6.5177 - num_tokens: 134613.0000 - num_tokens_no_oov: 129451.0000 - num_batches: 100.0000 - num_examples: 10000.0000 - accuracy: 5.2001e-05 - accuracy_no_oov: 5.4075e-05 - accuracy_no_oov_no_eos: 5.7261e-05\n",
      "Sampling 10 new clients.\n",
      "Round: 0\n",
      "   Loss: 7.14842367\n",
      "   num_batches: 372\n",
      "   num_examples: 2928\n",
      "   num_tokens: 39843\n",
      "   num_tokens_no_oov: 38682\n",
      "   accuracy: 0.00005\n",
      "   accuracy_no_oov: 0.00005\n",
      "Evaluating before training round #1 on 10000 examples.\n"
     ]
    },
    {
     "name": "stderr",
     "output_type": "stream",
     "text": [
      "/home/joel_stremmel/anaconda3/envs/tff/lib/python3.7/site-packages/tensorflow_federated/python/simulation/hdf5_client_data.py:69: H5pyDeprecationWarning: dataset.value has been deprecated. Use dataset[()] instead.\n",
      "  collections.OrderedDict((name, ds.value) for name, ds in sorted(\n"
     ]
    },
    {
     "name": "stdout",
     "output_type": "stream",
     "text": [
      "100/100 [==============================] - 18s 175ms/step - loss: 6.4850 - num_tokens: 133905.0000 - num_tokens_no_oov: 129430.0000 - num_batches: 100.0000 - num_examples: 10000.0000 - accuracy: 2.4644e-04 - accuracy_no_oov: 2.3951e-04 - accuracy_no_oov_no_eos: 2.5366e-04\n",
      "Sampling 10 new clients.\n",
      "Round: 1\n",
      "   Loss: 7.08000612\n",
      "   num_batches: 275\n",
      "   num_examples: 2150\n",
      "   num_tokens: 28273\n",
      "   num_tokens_no_oov: 27564\n",
      "   accuracy: 0.00004\n",
      "   accuracy_no_oov: 0.00004\n",
      "Evaluating before training round #2 on 10000 examples.\n"
     ]
    },
    {
     "name": "stderr",
     "output_type": "stream",
     "text": [
      "/home/joel_stremmel/anaconda3/envs/tff/lib/python3.7/site-packages/tensorflow_federated/python/simulation/hdf5_client_data.py:69: H5pyDeprecationWarning: dataset.value has been deprecated. Use dataset[()] instead.\n",
      "  collections.OrderedDict((name, ds.value) for name, ds in sorted(\n"
     ]
    },
    {
     "name": "stdout",
     "output_type": "stream",
     "text": [
      "100/100 [==============================] - 18s 184ms/step - loss: 6.4357 - num_tokens: 132577.0000 - num_tokens_no_oov: 128076.0000 - num_batches: 100.0000 - num_examples: 10000.0000 - accuracy: 0.0000e+00 - accuracy_no_oov: 0.0000e+00 - accuracy_no_oov_no_eos: 0.0000e+00\n",
      "Sampling 10 new clients.\n",
      "Round: 2\n",
      "   Loss: 6.15938711\n",
      "   num_batches: 460\n",
      "   num_examples: 3640\n",
      "   num_tokens: 50264\n",
      "   num_tokens_no_oov: 48735\n",
      "   accuracy: 0.00004\n",
      "   accuracy_no_oov: 0.00004\n",
      "Evaluating before training round #3 on 10000 examples.\n"
     ]
    },
    {
     "name": "stderr",
     "output_type": "stream",
     "text": [
      "/home/joel_stremmel/anaconda3/envs/tff/lib/python3.7/site-packages/tensorflow_federated/python/simulation/hdf5_client_data.py:69: H5pyDeprecationWarning: dataset.value has been deprecated. Use dataset[()] instead.\n",
      "  collections.OrderedDict((name, ds.value) for name, ds in sorted(\n"
     ]
    },
    {
     "name": "stdout",
     "output_type": "stream",
     "text": [
      "100/100 [==============================] - 19s 189ms/step - loss: 6.4008 - num_tokens: 132114.0000 - num_tokens_no_oov: 127732.0000 - num_batches: 100.0000 - num_examples: 10000.0000 - accuracy: 0.0000e+00 - accuracy_no_oov: 0.0000e+00 - accuracy_no_oov_no_eos: 0.0000e+00\n",
      "Sampling 10 new clients.\n",
      "Round: 3\n",
      "   Loss: 6.62804890\n",
      "   num_batches: 280\n",
      "   num_examples: 2217\n",
      "   num_tokens: 28690\n",
      "   num_tokens_no_oov: 27627\n",
      "   accuracy: 0.00000\n",
      "   accuracy_no_oov: 0.00000\n",
      "Evaluating before training round #4 on 10000 examples.\n"
     ]
    },
    {
     "name": "stderr",
     "output_type": "stream",
     "text": [
      "/home/joel_stremmel/anaconda3/envs/tff/lib/python3.7/site-packages/tensorflow_federated/python/simulation/hdf5_client_data.py:69: H5pyDeprecationWarning: dataset.value has been deprecated. Use dataset[()] instead.\n",
      "  collections.OrderedDict((name, ds.value) for name, ds in sorted(\n"
     ]
    },
    {
     "name": "stdout",
     "output_type": "stream",
     "text": [
      "100/100 [==============================] - 18s 183ms/step - loss: 6.4236 - num_tokens: 132715.0000 - num_tokens_no_oov: 128473.0000 - num_batches: 100.0000 - num_examples: 10000.0000 - accuracy: 0.0000e+00 - accuracy_no_oov: 0.0000e+00 - accuracy_no_oov_no_eos: 0.0000e+00\n",
      "Sampling 10 new clients.\n",
      "Round: 4\n",
      "   Loss: 6.05164003\n",
      "   num_batches: 294\n",
      "   num_examples: 2306\n",
      "   num_tokens: 29633\n",
      "   num_tokens_no_oov: 28594\n",
      "   accuracy: 0.00000\n",
      "   accuracy_no_oov: 0.00000\n",
      "Evaluating before training round #5 on 10000 examples.\n"
     ]
    },
    {
     "name": "stderr",
     "output_type": "stream",
     "text": [
      "/home/joel_stremmel/anaconda3/envs/tff/lib/python3.7/site-packages/tensorflow_federated/python/simulation/hdf5_client_data.py:69: H5pyDeprecationWarning: dataset.value has been deprecated. Use dataset[()] instead.\n",
      "  collections.OrderedDict((name, ds.value) for name, ds in sorted(\n"
     ]
    },
    {
     "name": "stdout",
     "output_type": "stream",
     "text": [
      "100/100 [==============================] - 18s 180ms/step - loss: 6.5994 - num_tokens: 136922.0000 - num_tokens_no_oov: 132682.0000 - num_batches: 100.0000 - num_examples: 10000.0000 - accuracy: 0.0000e+00 - accuracy_no_oov: 0.0000e+00 - accuracy_no_oov_no_eos: 0.0000e+00\n",
      "Sampling 10 new clients.\n",
      "Round: 5\n",
      "   Loss: 5.33079290\n",
      "   num_batches: 614\n",
      "   num_examples: 4879\n",
      "   num_tokens: 65425\n",
      "   num_tokens_no_oov: 63601\n",
      "   accuracy: 0.00338\n",
      "   accuracy_no_oov: 0.00347\n",
      "Evaluating before training round #6 on 10000 examples.\n"
     ]
    },
    {
     "name": "stderr",
     "output_type": "stream",
     "text": [
      "/home/joel_stremmel/anaconda3/envs/tff/lib/python3.7/site-packages/tensorflow_federated/python/simulation/hdf5_client_data.py:69: H5pyDeprecationWarning: dataset.value has been deprecated. Use dataset[()] instead.\n",
      "  collections.OrderedDict((name, ds.value) for name, ds in sorted(\n"
     ]
    },
    {
     "name": "stdout",
     "output_type": "stream",
     "text": [
      "100/100 [==============================] - 21s 213ms/step - loss: 6.2426 - num_tokens: 129022.0000 - num_tokens_no_oov: 124927.0000 - num_batches: 100.0000 - num_examples: 10000.0000 - accuracy: 0.0000e+00 - accuracy_no_oov: 0.0000e+00 - accuracy_no_oov_no_eos: 0.0000e+00\n",
      "Sampling 10 new clients.\n",
      "Round: 6\n",
      "   Loss: 5.83020687\n",
      "   num_batches: 386\n",
      "   num_examples: 3046\n",
      "   num_tokens: 40212\n",
      "   num_tokens_no_oov: 39089\n",
      "   accuracy: 0.00010\n",
      "   accuracy_no_oov: 0.00010\n",
      "Evaluating before training round #7 on 10000 examples.\n"
     ]
    },
    {
     "name": "stderr",
     "output_type": "stream",
     "text": [
      "/home/joel_stremmel/anaconda3/envs/tff/lib/python3.7/site-packages/tensorflow_federated/python/simulation/hdf5_client_data.py:69: H5pyDeprecationWarning: dataset.value has been deprecated. Use dataset[()] instead.\n",
      "  collections.OrderedDict((name, ds.value) for name, ds in sorted(\n"
     ]
    },
    {
     "name": "stdout",
     "output_type": "stream",
     "text": [
      "100/100 [==============================] - 18s 183ms/step - loss: 6.3663 - num_tokens: 132428.0000 - num_tokens_no_oov: 128621.0000 - num_batches: 100.0000 - num_examples: 10000.0000 - accuracy: 0.0000e+00 - accuracy_no_oov: 0.0000e+00 - accuracy_no_oov_no_eos: 0.0000e+00\n",
      "Sampling 10 new clients.\n",
      "Round: 7\n",
      "   Loss: 5.33592796\n",
      "   num_batches: 458\n",
      "   num_examples: 3615\n",
      "   num_tokens: 47599\n",
      "   num_tokens_no_oov: 46089\n",
      "   accuracy: 0.00000\n",
      "   accuracy_no_oov: 0.00000\n",
      "Evaluating before training round #8 on 10000 examples.\n"
     ]
    },
    {
     "name": "stderr",
     "output_type": "stream",
     "text": [
      "/home/joel_stremmel/anaconda3/envs/tff/lib/python3.7/site-packages/tensorflow_federated/python/simulation/hdf5_client_data.py:69: H5pyDeprecationWarning: dataset.value has been deprecated. Use dataset[()] instead.\n",
      "  collections.OrderedDict((name, ds.value) for name, ds in sorted(\n"
     ]
    },
    {
     "name": "stdout",
     "output_type": "stream",
     "text": [
      "100/100 [==============================] - 20s 195ms/step - loss: 6.4360 - num_tokens: 135338.0000 - num_tokens_no_oov: 131062.0000 - num_batches: 100.0000 - num_examples: 10000.0000 - accuracy: 0.0000e+00 - accuracy_no_oov: 0.0000e+00 - accuracy_no_oov_no_eos: 0.0000e+00\n",
      "Sampling 10 new clients.\n",
      "Round: 8\n",
      "   Loss: 5.82283258\n",
      "   num_batches: 287\n",
      "   num_examples: 2259\n",
      "   num_tokens: 30781\n",
      "   num_tokens_no_oov: 29811\n",
      "   accuracy: 0.00000\n",
      "   accuracy_no_oov: 0.00000\n",
      "Evaluating before training round #9 on 10000 examples.\n"
     ]
    },
    {
     "name": "stderr",
     "output_type": "stream",
     "text": [
      "/home/joel_stremmel/anaconda3/envs/tff/lib/python3.7/site-packages/tensorflow_federated/python/simulation/hdf5_client_data.py:69: H5pyDeprecationWarning: dataset.value has been deprecated. Use dataset[()] instead.\n",
      "  collections.OrderedDict((name, ds.value) for name, ds in sorted(\n"
     ]
    },
    {
     "name": "stdout",
     "output_type": "stream",
     "text": [
      "100/100 [==============================] - 19s 194ms/step - loss: 6.2792 - num_tokens: 134405.0000 - num_tokens_no_oov: 130501.0000 - num_batches: 100.0000 - num_examples: 10000.0000 - accuracy: 0.0000e+00 - accuracy_no_oov: 0.0000e+00 - accuracy_no_oov_no_eos: 0.0000e+00\n",
      "Sampling 10 new clients.\n",
      "Round: 9\n",
      "   Loss: 5.25956631\n",
      "   num_batches: 510\n",
      "   num_examples: 4051\n",
      "   num_tokens: 56800\n",
      "   num_tokens_no_oov: 55274\n",
      "   accuracy: 0.00560\n",
      "   accuracy_no_oov: 0.00575\n",
      "Evaluating before training round #10 on 10000 examples.\n"
     ]
    },
    {
     "name": "stderr",
     "output_type": "stream",
     "text": [
      "/home/joel_stremmel/anaconda3/envs/tff/lib/python3.7/site-packages/tensorflow_federated/python/simulation/hdf5_client_data.py:69: H5pyDeprecationWarning: dataset.value has been deprecated. Use dataset[()] instead.\n",
      "  collections.OrderedDict((name, ds.value) for name, ds in sorted(\n"
     ]
    },
    {
     "name": "stdout",
     "output_type": "stream",
     "text": [
      "100/100 [==============================] - 18s 183ms/step - loss: 6.2329 - num_tokens: 136428.0000 - num_tokens_no_oov: 132282.0000 - num_batches: 100.0000 - num_examples: 10000.0000 - accuracy: 0.0000e+00 - accuracy_no_oov: 0.0000e+00 - accuracy_no_oov_no_eos: 0.0000e+00\n",
      "Sampling 10 new clients.\n",
      "Round: 10\n",
      "   Loss: 5.86609507\n",
      "   num_batches: 232\n",
      "   num_examples: 1822\n",
      "   num_tokens: 25473\n",
      "   num_tokens_no_oov: 24846\n",
      "   accuracy: 0.00000\n",
      "   accuracy_no_oov: 0.00000\n",
      "Evaluating before training round #11 on 10000 examples.\n"
     ]
    },
    {
     "name": "stderr",
     "output_type": "stream",
     "text": [
      "/home/joel_stremmel/anaconda3/envs/tff/lib/python3.7/site-packages/tensorflow_federated/python/simulation/hdf5_client_data.py:69: H5pyDeprecationWarning: dataset.value has been deprecated. Use dataset[()] instead.\n",
      "  collections.OrderedDict((name, ds.value) for name, ds in sorted(\n"
     ]
    },
    {
     "name": "stdout",
     "output_type": "stream",
     "text": [
      "100/100 [==============================] - 20s 196ms/step - loss: 5.9515 - num_tokens: 132417.0000 - num_tokens_no_oov: 128187.0000 - num_batches: 100.0000 - num_examples: 10000.0000 - accuracy: 0.0000e+00 - accuracy_no_oov: 0.0000e+00 - accuracy_no_oov_no_eos: 0.0000e+00\n",
      "Sampling 10 new clients.\n",
      "Round: 11\n",
      "   Loss: 5.18438578\n",
      "   num_batches: 259\n",
      "   num_examples: 2023\n",
      "   num_tokens: 25178\n",
      "   num_tokens_no_oov: 24422\n",
      "   accuracy: 0.00000\n",
      "   accuracy_no_oov: 0.00000\n",
      "Evaluating before training round #12 on 10000 examples.\n"
     ]
    },
    {
     "name": "stderr",
     "output_type": "stream",
     "text": [
      "/home/joel_stremmel/anaconda3/envs/tff/lib/python3.7/site-packages/tensorflow_federated/python/simulation/hdf5_client_data.py:69: H5pyDeprecationWarning: dataset.value has been deprecated. Use dataset[()] instead.\n",
      "  collections.OrderedDict((name, ds.value) for name, ds in sorted(\n"
     ]
    },
    {
     "name": "stdout",
     "output_type": "stream",
     "text": [
      "100/100 [==============================] - 19s 190ms/step - loss: 5.9236 - num_tokens: 134826.0000 - num_tokens_no_oov: 130758.0000 - num_batches: 100.0000 - num_examples: 10000.0000 - accuracy: 0.0000e+00 - accuracy_no_oov: 0.0000e+00 - accuracy_no_oov_no_eos: 0.0000e+00\n",
      "Sampling 10 new clients.\n",
      "Round: 12\n",
      "   Loss: 4.65907621\n",
      "   num_batches: 638\n",
      "   num_examples: 5064\n",
      "   num_tokens: 65430\n",
      "   num_tokens_no_oov: 63874\n",
      "   accuracy: 0.00630\n",
      "   accuracy_no_oov: 0.00645\n",
      "Evaluating before training round #13 on 10000 examples.\n"
     ]
    },
    {
     "name": "stderr",
     "output_type": "stream",
     "text": [
      "/home/joel_stremmel/anaconda3/envs/tff/lib/python3.7/site-packages/tensorflow_federated/python/simulation/hdf5_client_data.py:69: H5pyDeprecationWarning: dataset.value has been deprecated. Use dataset[()] instead.\n",
      "  collections.OrderedDict((name, ds.value) for name, ds in sorted(\n"
     ]
    },
    {
     "name": "stdout",
     "output_type": "stream",
     "text": [
      "100/100 [==============================] - 20s 201ms/step - loss: 5.7475 - num_tokens: 133402.0000 - num_tokens_no_oov: 129282.0000 - num_batches: 100.0000 - num_examples: 10000.0000 - accuracy: 0.0000e+00 - accuracy_no_oov: 0.0000e+00 - accuracy_no_oov_no_eos: 0.0000e+00\n",
      "Sampling 10 new clients.\n",
      "Round: 13\n",
      "   Loss: 4.71818209\n",
      "   num_batches: 418\n",
      "   num_examples: 3305\n",
      "   num_tokens: 42820\n",
      "   num_tokens_no_oov: 41688\n",
      "   accuracy: 0.01142\n",
      "   accuracy_no_oov: 0.01173\n",
      "Evaluating before training round #14 on 10000 examples.\n"
     ]
    },
    {
     "name": "stderr",
     "output_type": "stream",
     "text": [
      "/home/joel_stremmel/anaconda3/envs/tff/lib/python3.7/site-packages/tensorflow_federated/python/simulation/hdf5_client_data.py:69: H5pyDeprecationWarning: dataset.value has been deprecated. Use dataset[()] instead.\n",
      "  collections.OrderedDict((name, ds.value) for name, ds in sorted(\n"
     ]
    },
    {
     "name": "stdout",
     "output_type": "stream",
     "text": [
      "100/100 [==============================] - 19s 188ms/step - loss: 5.6644 - num_tokens: 134172.0000 - num_tokens_no_oov: 130164.0000 - num_batches: 100.0000 - num_examples: 10000.0000 - accuracy: 0.0000e+00 - accuracy_no_oov: 0.0000e+00 - accuracy_no_oov_no_eos: 0.0000e+00\n",
      "Sampling 10 new clients.\n",
      "Round: 14\n",
      "   Loss: 5.27821159\n",
      "   num_batches: 451\n",
      "   num_examples: 3570\n",
      "   num_tokens: 52489\n",
      "   num_tokens_no_oov: 50981\n",
      "   accuracy: 0.00025\n",
      "   accuracy_no_oov: 0.00025\n",
      "Evaluating before training round #15 on 10000 examples.\n"
     ]
    },
    {
     "name": "stderr",
     "output_type": "stream",
     "text": [
      "/home/joel_stremmel/anaconda3/envs/tff/lib/python3.7/site-packages/tensorflow_federated/python/simulation/hdf5_client_data.py:69: H5pyDeprecationWarning: dataset.value has been deprecated. Use dataset[()] instead.\n",
      "  collections.OrderedDict((name, ds.value) for name, ds in sorted(\n"
     ]
    },
    {
     "name": "stdout",
     "output_type": "stream",
     "text": [
      "100/100 [==============================] - 19s 193ms/step - loss: 5.4494 - num_tokens: 131128.0000 - num_tokens_no_oov: 127107.0000 - num_batches: 100.0000 - num_examples: 10000.0000 - accuracy: 0.0000e+00 - accuracy_no_oov: 0.0000e+00 - accuracy_no_oov_no_eos: 0.0000e+00\n",
      "Sampling 10 new clients.\n",
      "Round: 15\n",
      "   Loss: 4.67406034\n",
      "   num_batches: 351\n",
      "   num_examples: 2769\n",
      "   num_tokens: 34727\n",
      "   num_tokens_no_oov: 33669\n",
      "   accuracy: 0.00127\n",
      "   accuracy_no_oov: 0.00131\n",
      "Evaluating before training round #16 on 10000 examples.\n"
     ]
    },
    {
     "name": "stderr",
     "output_type": "stream",
     "text": [
      "/home/joel_stremmel/anaconda3/envs/tff/lib/python3.7/site-packages/tensorflow_federated/python/simulation/hdf5_client_data.py:69: H5pyDeprecationWarning: dataset.value has been deprecated. Use dataset[()] instead.\n",
      "  collections.OrderedDict((name, ds.value) for name, ds in sorted(\n"
     ]
    },
    {
     "name": "stdout",
     "output_type": "stream",
     "text": [
      "100/100 [==============================] - 19s 190ms/step - loss: 5.4386 - num_tokens: 133221.0000 - num_tokens_no_oov: 128859.0000 - num_batches: 100.0000 - num_examples: 10000.0000 - accuracy: 0.0000e+00 - accuracy_no_oov: 0.0000e+00 - accuracy_no_oov_no_eos: 0.0000e+00\n",
      "Sampling 10 new clients.\n",
      "Round: 16\n",
      "   Loss: 4.79064751\n",
      "   num_batches: 403\n",
      "   num_examples: 3200\n",
      "   num_tokens: 43019\n",
      "   num_tokens_no_oov: 41633\n",
      "   accuracy: 0.00532\n",
      "   accuracy_no_oov: 0.00550\n",
      "Evaluating before training round #17 on 10000 examples.\n"
     ]
    },
    {
     "name": "stderr",
     "output_type": "stream",
     "text": [
      "/home/joel_stremmel/anaconda3/envs/tff/lib/python3.7/site-packages/tensorflow_federated/python/simulation/hdf5_client_data.py:69: H5pyDeprecationWarning: dataset.value has been deprecated. Use dataset[()] instead.\n",
      "  collections.OrderedDict((name, ds.value) for name, ds in sorted(\n"
     ]
    },
    {
     "name": "stdout",
     "output_type": "stream",
     "text": [
      "100/100 [==============================] - 21s 214ms/step - loss: 5.1191 - num_tokens: 126887.0000 - num_tokens_no_oov: 122901.0000 - num_batches: 100.0000 - num_examples: 10000.0000 - accuracy: 0.0000e+00 - accuracy_no_oov: 0.0000e+00 - accuracy_no_oov_no_eos: 0.0000e+001370 - num_tokens: 122257.0000 - num_tokens_no_oov: 118396.0000 - num_batches: 96.0000 - num_examples: 9600.0000 - accuracy: 0.0000e+00 - accuracy_no_oov: 0.0000e+00 - accuracy_no_oov_no_eos: 0.000\n",
      "Sampling 10 new clients.\n",
      "Round: 17\n",
      "   Loss: 5.07613659\n",
      "   num_batches: 222\n",
      "   num_examples: 1727\n",
      "   num_tokens: 23107\n",
      "   num_tokens_no_oov: 22491\n",
      "   accuracy: 0.00000\n",
      "   accuracy_no_oov: 0.00000\n",
      "Evaluating before training round #18 on 10000 examples.\n"
     ]
    },
    {
     "name": "stderr",
     "output_type": "stream",
     "text": [
      "/home/joel_stremmel/anaconda3/envs/tff/lib/python3.7/site-packages/tensorflow_federated/python/simulation/hdf5_client_data.py:69: H5pyDeprecationWarning: dataset.value has been deprecated. Use dataset[()] instead.\n",
      "  collections.OrderedDict((name, ds.value) for name, ds in sorted(\n"
     ]
    },
    {
     "name": "stdout",
     "output_type": "stream",
     "text": [
      "100/100 [==============================] - 19s 186ms/step - loss: 5.1205 - num_tokens: 129500.0000 - num_tokens_no_oov: 125858.0000 - num_batches: 100.0000 - num_examples: 10000.0000 - accuracy: 0.0000e+00 - accuracy_no_oov: 0.0000e+00 - accuracy_no_oov_no_eos: 0.0000e+00\n",
      "Sampling 10 new clients.\n",
      "Round: 18\n",
      "   Loss: 4.51977158\n",
      "   num_batches: 281\n",
      "   num_examples: 2221\n",
      "   num_tokens: 26099\n",
      "   num_tokens_no_oov: 25260\n",
      "   accuracy: 0.00000\n",
      "   accuracy_no_oov: 0.00000\n",
      "Evaluating before training round #19 on 10000 examples.\n"
     ]
    },
    {
     "name": "stderr",
     "output_type": "stream",
     "text": [
      "/home/joel_stremmel/anaconda3/envs/tff/lib/python3.7/site-packages/tensorflow_federated/python/simulation/hdf5_client_data.py:69: H5pyDeprecationWarning: dataset.value has been deprecated. Use dataset[()] instead.\n",
      "  collections.OrderedDict((name, ds.value) for name, ds in sorted(\n"
     ]
    },
    {
     "name": "stdout",
     "output_type": "stream",
     "text": [
      "100/100 [==============================] - 19s 188ms/step - loss: 5.2134 - num_tokens: 133928.0000 - num_tokens_no_oov: 129342.0000 - num_batches: 100.0000 - num_examples: 10000.0000 - accuracy: 0.0000e+00 - accuracy_no_oov: 0.0000e+00 - accuracy_no_oov_no_eos: 0.0000e+00\n",
      "Sampling 10 new clients.\n",
      "Round: 19\n",
      "   Loss: 4.65861750\n",
      "   num_batches: 928\n",
      "   num_examples: 7384\n",
      "   num_tokens: 108100\n",
      "   num_tokens_no_oov: 105430\n",
      "   accuracy: 0.03573\n",
      "   accuracy_no_oov: 0.03626\n",
      "Evaluating before training round #20 on 10000 examples.\n"
     ]
    },
    {
     "name": "stderr",
     "output_type": "stream",
     "text": [
      "/home/joel_stremmel/anaconda3/envs/tff/lib/python3.7/site-packages/tensorflow_federated/python/simulation/hdf5_client_data.py:69: H5pyDeprecationWarning: dataset.value has been deprecated. Use dataset[()] instead.\n",
      "  collections.OrderedDict((name, ds.value) for name, ds in sorted(\n"
     ]
    },
    {
     "name": "stdout",
     "output_type": "stream",
     "text": [
      "100/100 [==============================] - 23s 232ms/step - loss: 5.1403 - num_tokens: 134224.0000 - num_tokens_no_oov: 130227.0000 - num_batches: 100.0000 - num_examples: 10000.0000 - accuracy: 0.0000e+00 - accuracy_no_oov: 0.0000e+00 - accuracy_no_oov_no_eos: 0.0000e+00\n",
      "Sampling 10 new clients.\n",
      "Round: 20\n",
      "   Loss: 4.63606119\n",
      "   num_batches: 390\n",
      "   num_examples: 3090\n",
      "   num_tokens: 40311\n",
      "   num_tokens_no_oov: 38950\n",
      "   accuracy: 0.00000\n",
      "   accuracy_no_oov: 0.00000\n",
      "Evaluating before training round #21 on 10000 examples.\n"
     ]
    },
    {
     "name": "stderr",
     "output_type": "stream",
     "text": [
      "/home/joel_stremmel/anaconda3/envs/tff/lib/python3.7/site-packages/tensorflow_federated/python/simulation/hdf5_client_data.py:69: H5pyDeprecationWarning: dataset.value has been deprecated. Use dataset[()] instead.\n",
      "  collections.OrderedDict((name, ds.value) for name, ds in sorted(\n"
     ]
    },
    {
     "name": "stdout",
     "output_type": "stream",
     "text": [
      "100/100 [==============================] - 19s 194ms/step - loss: 5.0551 - num_tokens: 132987.0000 - num_tokens_no_oov: 128573.0000 - num_batches: 100.0000 - num_examples: 10000.0000 - accuracy: 0.0000e+00 - accuracy_no_oov: 0.0000e+00 - accuracy_no_oov_no_eos: 0.0000e+00\n",
      "Sampling 10 new clients.\n",
      "Round: 21\n",
      "   Loss: 4.84271240\n",
      "   num_batches: 291\n",
      "   num_examples: 2291\n",
      "   num_tokens: 31163\n",
      "   num_tokens_no_oov: 30430\n",
      "   accuracy: 0.00000\n",
      "   accuracy_no_oov: 0.00000\n",
      "Evaluating before training round #22 on 10000 examples.\n"
     ]
    },
    {
     "name": "stderr",
     "output_type": "stream",
     "text": [
      "/home/joel_stremmel/anaconda3/envs/tff/lib/python3.7/site-packages/tensorflow_federated/python/simulation/hdf5_client_data.py:69: H5pyDeprecationWarning: dataset.value has been deprecated. Use dataset[()] instead.\n",
      "  collections.OrderedDict((name, ds.value) for name, ds in sorted(\n"
     ]
    },
    {
     "name": "stdout",
     "output_type": "stream",
     "text": [
      "100/100 [==============================] - 19s 187ms/step - loss: 5.1399 - num_tokens: 137123.0000 - num_tokens_no_oov: 132886.0000 - num_batches: 100.0000 - num_examples: 10000.0000 - accuracy: 0.0000e+00 - accuracy_no_oov: 0.0000e+00 - accuracy_no_oov_no_eos: 0.0000e+00\n",
      "Sampling 10 new clients.\n",
      "Round: 22\n",
      "   Loss: 4.68061495\n",
      "   num_batches: 322\n",
      "   num_examples: 2553\n",
      "   num_tokens: 33543\n",
      "   num_tokens_no_oov: 32504\n",
      "   accuracy: 0.00018\n",
      "   accuracy_no_oov: 0.00018\n",
      "Evaluating before training round #23 on 10000 examples.\n"
     ]
    },
    {
     "name": "stderr",
     "output_type": "stream",
     "text": [
      "/home/joel_stremmel/anaconda3/envs/tff/lib/python3.7/site-packages/tensorflow_federated/python/simulation/hdf5_client_data.py:69: H5pyDeprecationWarning: dataset.value has been deprecated. Use dataset[()] instead.\n",
      "  collections.OrderedDict((name, ds.value) for name, ds in sorted(\n"
     ]
    },
    {
     "name": "stdout",
     "output_type": "stream",
     "text": [
      "100/100 [==============================] - 19s 186ms/step - loss: 4.9292 - num_tokens: 132632.0000 - num_tokens_no_oov: 128620.0000 - num_batches: 100.0000 - num_examples: 10000.0000 - accuracy: 0.0000e+00 - accuracy_no_oov: 0.0000e+00 - accuracy_no_oov_no_eos: 0.0000e+00\n",
      "Sampling 10 new clients.\n",
      "Round: 23\n",
      "   Loss: 4.66846132\n",
      "   num_batches: 295\n",
      "   num_examples: 2316\n",
      "   num_tokens: 30397\n",
      "   num_tokens_no_oov: 29466\n",
      "   accuracy: 0.00109\n",
      "   accuracy_no_oov: 0.00112\n",
      "Evaluating before training round #24 on 10000 examples.\n"
     ]
    },
    {
     "name": "stderr",
     "output_type": "stream",
     "text": [
      "/home/joel_stremmel/anaconda3/envs/tff/lib/python3.7/site-packages/tensorflow_federated/python/simulation/hdf5_client_data.py:69: H5pyDeprecationWarning: dataset.value has been deprecated. Use dataset[()] instead.\n",
      "  collections.OrderedDict((name, ds.value) for name, ds in sorted(\n"
     ]
    },
    {
     "name": "stdout",
     "output_type": "stream",
     "text": [
      "100/100 [==============================] - 18s 183ms/step - loss: 4.8141 - num_tokens: 132098.0000 - num_tokens_no_oov: 127290.0000 - num_batches: 100.0000 - num_examples: 10000.0000 - accuracy: 0.0000e+00 - accuracy_no_oov: 0.0000e+00 - accuracy_no_oov_no_eos: 0.0000e+00\n",
      "Sampling 10 new clients.\n",
      "Round: 24\n",
      "   Loss: 3.85311317\n",
      "   num_batches: 589\n",
      "   num_examples: 4693\n",
      "   num_tokens: 56399\n",
      "   num_tokens_no_oov: 54657\n",
      "   accuracy: 0.03122\n",
      "   accuracy_no_oov: 0.03222\n",
      "Evaluating before training round #25 on 10000 examples.\n"
     ]
    },
    {
     "name": "stderr",
     "output_type": "stream",
     "text": [
      "/home/joel_stremmel/anaconda3/envs/tff/lib/python3.7/site-packages/tensorflow_federated/python/simulation/hdf5_client_data.py:69: H5pyDeprecationWarning: dataset.value has been deprecated. Use dataset[()] instead.\n",
      "  collections.OrderedDict((name, ds.value) for name, ds in sorted(\n"
     ]
    },
    {
     "name": "stdout",
     "output_type": "stream",
     "text": [
      "100/100 [==============================] - 20s 196ms/step - loss: 4.7089 - num_tokens: 129078.0000 - num_tokens_no_oov: 124730.0000 - num_batches: 100.0000 - num_examples: 10000.0000 - accuracy: 0.0000e+00 - accuracy_no_oov: 0.0000e+00 - accuracy_no_oov_no_eos: 0.0000e+00\n",
      "Sampling 10 new clients.\n",
      "Round: 25\n",
      "   Loss: 4.50561953\n",
      "   num_batches: 388\n",
      "   num_examples: 3058\n",
      "   num_tokens: 40237\n",
      "   num_tokens_no_oov: 39042\n",
      "   accuracy: 0.00669\n",
      "   accuracy_no_oov: 0.00689\n",
      "Evaluating before training round #26 on 10000 examples.\n"
     ]
    },
    {
     "name": "stderr",
     "output_type": "stream",
     "text": [
      "/home/joel_stremmel/anaconda3/envs/tff/lib/python3.7/site-packages/tensorflow_federated/python/simulation/hdf5_client_data.py:69: H5pyDeprecationWarning: dataset.value has been deprecated. Use dataset[()] instead.\n",
      "  collections.OrderedDict((name, ds.value) for name, ds in sorted(\n"
     ]
    },
    {
     "name": "stdout",
     "output_type": "stream",
     "text": [
      "100/100 [==============================] - 19s 190ms/step - loss: 4.8785 - num_tokens: 134922.0000 - num_tokens_no_oov: 130583.0000 - num_batches: 100.0000 - num_examples: 10000.0000 - accuracy: 0.0000e+00 - accuracy_no_oov: 0.0000e+00 - accuracy_no_oov_no_eos: 0.0000e+00\n",
      "Sampling 10 new clients.\n",
      "Round: 26\n",
      "   Loss: 4.65044308\n",
      "   num_batches: 391\n",
      "   num_examples: 3089\n",
      "   num_tokens: 42615\n",
      "   num_tokens_no_oov: 40669\n",
      "   accuracy: 0.01185\n",
      "   accuracy_no_oov: 0.00433\n",
      "Evaluating before training round #27 on 10000 examples.\n"
     ]
    },
    {
     "name": "stderr",
     "output_type": "stream",
     "text": [
      "/home/joel_stremmel/anaconda3/envs/tff/lib/python3.7/site-packages/tensorflow_federated/python/simulation/hdf5_client_data.py:69: H5pyDeprecationWarning: dataset.value has been deprecated. Use dataset[()] instead.\n",
      "  collections.OrderedDict((name, ds.value) for name, ds in sorted(\n"
     ]
    },
    {
     "name": "stdout",
     "output_type": "stream",
     "text": [
      "100/100 [==============================] - 19s 191ms/step - loss: 4.7185 - num_tokens: 131659.0000 - num_tokens_no_oov: 127227.0000 - num_batches: 100.0000 - num_examples: 10000.0000 - accuracy: 0.0000e+00 - accuracy_no_oov: 0.0000e+00 - accuracy_no_oov_no_eos: 0.0000e+00\n",
      "Sampling 10 new clients.\n",
      "Round: 27\n",
      "   Loss: 4.80387974\n",
      "   num_batches: 201\n",
      "   num_examples: 1579\n",
      "   num_tokens: 21379\n",
      "   num_tokens_no_oov: 20845\n",
      "   accuracy: 0.00000\n",
      "   accuracy_no_oov: 0.00000\n",
      "Evaluating before training round #28 on 10000 examples.\n"
     ]
    },
    {
     "name": "stderr",
     "output_type": "stream",
     "text": [
      "/home/joel_stremmel/anaconda3/envs/tff/lib/python3.7/site-packages/tensorflow_federated/python/simulation/hdf5_client_data.py:69: H5pyDeprecationWarning: dataset.value has been deprecated. Use dataset[()] instead.\n",
      "  collections.OrderedDict((name, ds.value) for name, ds in sorted(\n"
     ]
    },
    {
     "name": "stdout",
     "output_type": "stream",
     "text": [
      "100/100 [==============================] - 21s 205ms/step - loss: 4.7795 - num_tokens: 133920.0000 - num_tokens_no_oov: 129333.0000 - num_batches: 100.0000 - num_examples: 10000.0000 - accuracy: 0.0000e+00 - accuracy_no_oov: 0.0000e+00 - accuracy_no_oov_no_eos: 0.0000e+00\n",
      "Sampling 10 new clients.\n",
      "Round: 28\n",
      "   Loss: 4.10752296\n",
      "   num_batches: 434\n",
      "   num_examples: 3434\n",
      "   num_tokens: 42814\n",
      "   num_tokens_no_oov: 41219\n",
      "   accuracy: 0.01637\n",
      "   accuracy_no_oov: 0.01701\n",
      "Evaluating before training round #29 on 10000 examples.\n"
     ]
    },
    {
     "name": "stderr",
     "output_type": "stream",
     "text": [
      "/home/joel_stremmel/anaconda3/envs/tff/lib/python3.7/site-packages/tensorflow_federated/python/simulation/hdf5_client_data.py:69: H5pyDeprecationWarning: dataset.value has been deprecated. Use dataset[()] instead.\n",
      "  collections.OrderedDict((name, ds.value) for name, ds in sorted(\n"
     ]
    },
    {
     "name": "stdout",
     "output_type": "stream",
     "text": [
      "100/100 [==============================] - 20s 196ms/step - loss: 4.7263 - num_tokens: 133306.0000 - num_tokens_no_oov: 128949.0000 - num_batches: 100.0000 - num_examples: 10000.0000 - accuracy: 0.0000e+00 - accuracy_no_oov: 0.0000e+00 - accuracy_no_oov_no_eos: 0.0000e+00\n",
      "Sampling 10 new clients.\n",
      "Round: 29\n",
      "   Loss: 4.17325115\n",
      "   num_batches: 367\n",
      "   num_examples: 2909\n",
      "   num_tokens: 36994\n",
      "   num_tokens_no_oov: 35795\n",
      "   accuracy: 0.01170\n",
      "   accuracy_no_oov: 0.01210\n",
      "Evaluating before training round #30 on 10000 examples.\n"
     ]
    },
    {
     "name": "stderr",
     "output_type": "stream",
     "text": [
      "/home/joel_stremmel/anaconda3/envs/tff/lib/python3.7/site-packages/tensorflow_federated/python/simulation/hdf5_client_data.py:69: H5pyDeprecationWarning: dataset.value has been deprecated. Use dataset[()] instead.\n",
      "  collections.OrderedDict((name, ds.value) for name, ds in sorted(\n"
     ]
    },
    {
     "name": "stdout",
     "output_type": "stream",
     "text": [
      "100/100 [==============================] - 20s 196ms/step - loss: 4.6475 - num_tokens: 131628.0000 - num_tokens_no_oov: 127714.0000 - num_batches: 100.0000 - num_examples: 10000.0000 - accuracy: 0.0000e+00 - accuracy_no_oov: 0.0000e+00 - accuracy_no_oov_no_eos: 0.0000e+00\n",
      "Sampling 10 new clients.\n",
      "Round: 30\n",
      "   Loss: 3.95014477\n",
      "   num_batches: 421\n",
      "   num_examples: 3338\n",
      "   num_tokens: 39881\n",
      "   num_tokens_no_oov: 38725\n",
      "   accuracy: 0.00399\n",
      "   accuracy_no_oov: 0.00411\n",
      "Evaluating before training round #31 on 10000 examples.\n"
     ]
    },
    {
     "name": "stderr",
     "output_type": "stream",
     "text": [
      "/home/joel_stremmel/anaconda3/envs/tff/lib/python3.7/site-packages/tensorflow_federated/python/simulation/hdf5_client_data.py:69: H5pyDeprecationWarning: dataset.value has been deprecated. Use dataset[()] instead.\n",
      "  collections.OrderedDict((name, ds.value) for name, ds in sorted(\n"
     ]
    },
    {
     "name": "stdout",
     "output_type": "stream",
     "text": [
      "100/100 [==============================] - 19s 189ms/step - loss: 4.6221 - num_tokens: 131355.0000 - num_tokens_no_oov: 127245.0000 - num_batches: 100.0000 - num_examples: 10000.0000 - accuracy: 0.0000e+00 - accuracy_no_oov: 0.0000e+00 - accuracy_no_oov_no_eos: 0.0000e+00\n",
      "Sampling 10 new clients.\n",
      "Round: 31\n",
      "   Loss: 3.79294968\n",
      "   num_batches: 499\n",
      "   num_examples: 3964\n",
      "   num_tokens: 47554\n",
      "   num_tokens_no_oov: 46376\n",
      "   accuracy: 0.01613\n",
      "   accuracy_no_oov: 0.01654\n",
      "Evaluating before training round #32 on 10000 examples.\n"
     ]
    },
    {
     "name": "stderr",
     "output_type": "stream",
     "text": [
      "/home/joel_stremmel/anaconda3/envs/tff/lib/python3.7/site-packages/tensorflow_federated/python/simulation/hdf5_client_data.py:69: H5pyDeprecationWarning: dataset.value has been deprecated. Use dataset[()] instead.\n",
      "  collections.OrderedDict((name, ds.value) for name, ds in sorted(\n"
     ]
    },
    {
     "name": "stdout",
     "output_type": "stream",
     "text": [
      "100/100 [==============================] - 19s 194ms/step - loss: 4.5952 - num_tokens: 131593.0000 - num_tokens_no_oov: 127625.0000 - num_batches: 100.0000 - num_examples: 10000.0000 - accuracy: 0.0000e+00 - accuracy_no_oov: 0.0000e+00 - accuracy_no_oov_no_eos: 0.0000e+00\n",
      "Sampling 10 new clients.\n",
      "Round: 32\n",
      "   Loss: 3.83534837\n",
      "   num_batches: 1070\n",
      "   num_examples: 8534\n",
      "   num_tokens: 111630\n",
      "   num_tokens_no_oov: 108775\n",
      "   accuracy: 0.05981\n",
      "   accuracy_no_oov: 0.06062\n",
      "Evaluating before training round #33 on 10000 examples.\n"
     ]
    },
    {
     "name": "stderr",
     "output_type": "stream",
     "text": [
      "/home/joel_stremmel/anaconda3/envs/tff/lib/python3.7/site-packages/tensorflow_federated/python/simulation/hdf5_client_data.py:69: H5pyDeprecationWarning: dataset.value has been deprecated. Use dataset[()] instead.\n",
      "  collections.OrderedDict((name, ds.value) for name, ds in sorted(\n"
     ]
    },
    {
     "name": "stdout",
     "output_type": "stream",
     "text": [
      "100/100 [==============================] - 19s 187ms/step - loss: 4.4556 - num_tokens: 127733.0000 - num_tokens_no_oov: 123515.0000 - num_batches: 100.0000 - num_examples: 10000.0000 - accuracy: 0.0000e+00 - accuracy_no_oov: 0.0000e+00 - accuracy_no_oov_no_eos: 0.0000e+00\n",
      "Sampling 10 new clients.\n",
      "Round: 33\n",
      "   Loss: 3.61794996\n",
      "   num_batches: 881\n",
      "   num_examples: 7000\n",
      "   num_tokens: 83561\n",
      "   num_tokens_no_oov: 81950\n",
      "   accuracy: 0.06374\n",
      "   accuracy_no_oov: 0.06492\n",
      "Evaluating before training round #34 on 10000 examples.\n"
     ]
    },
    {
     "name": "stderr",
     "output_type": "stream",
     "text": [
      "/home/joel_stremmel/anaconda3/envs/tff/lib/python3.7/site-packages/tensorflow_federated/python/simulation/hdf5_client_data.py:69: H5pyDeprecationWarning: dataset.value has been deprecated. Use dataset[()] instead.\n",
      "  collections.OrderedDict((name, ds.value) for name, ds in sorted(\n"
     ]
    },
    {
     "name": "stdout",
     "output_type": "stream",
     "text": [
      "100/100 [==============================] - 19s 191ms/step - loss: 4.6390 - num_tokens: 133097.0000 - num_tokens_no_oov: 128849.0000 - num_batches: 100.0000 - num_examples: 10000.0000 - accuracy: 0.0000e+00 - accuracy_no_oov: 0.0000e+00 - accuracy_no_oov_no_eos: 0.0000e+00\n",
      "Sampling 10 new clients.\n",
      "Round: 34\n",
      "   Loss: 3.87358475\n",
      "   num_batches: 908\n",
      "   num_examples: 7229\n",
      "   num_tokens: 96494\n",
      "   num_tokens_no_oov: 92805\n",
      "   accuracy: 0.06553\n",
      "   accuracy_no_oov: 0.05793\n",
      "Evaluating before training round #35 on 10000 examples.\n"
     ]
    },
    {
     "name": "stderr",
     "output_type": "stream",
     "text": [
      "/home/joel_stremmel/anaconda3/envs/tff/lib/python3.7/site-packages/tensorflow_federated/python/simulation/hdf5_client_data.py:69: H5pyDeprecationWarning: dataset.value has been deprecated. Use dataset[()] instead.\n",
      "  collections.OrderedDict((name, ds.value) for name, ds in sorted(\n"
     ]
    },
    {
     "name": "stdout",
     "output_type": "stream",
     "text": [
      "100/100 [==============================] - 21s 209ms/step - loss: 4.4216 - num_tokens: 127592.0000 - num_tokens_no_oov: 123241.0000 - num_batches: 100.0000 - num_examples: 10000.0000 - accuracy: 0.0000e+00 - accuracy_no_oov: 0.0000e+00 - accuracy_no_oov_no_eos: 0.0000e+00\n",
      "Sampling 10 new clients.\n",
      "Round: 35\n",
      "   Loss: 4.16335392\n",
      "   num_batches: 424\n",
      "   num_examples: 3354\n",
      "   num_tokens: 43736\n",
      "   num_tokens_no_oov: 42528\n",
      "   accuracy: 0.02033\n",
      "   accuracy_no_oov: 0.02090\n",
      "Evaluating before training round #36 on 10000 examples.\n"
     ]
    },
    {
     "name": "stderr",
     "output_type": "stream",
     "text": [
      "/home/joel_stremmel/anaconda3/envs/tff/lib/python3.7/site-packages/tensorflow_federated/python/simulation/hdf5_client_data.py:69: H5pyDeprecationWarning: dataset.value has been deprecated. Use dataset[()] instead.\n",
      "  collections.OrderedDict((name, ds.value) for name, ds in sorted(\n"
     ]
    },
    {
     "name": "stdout",
     "output_type": "stream",
     "text": [
      "100/100 [==============================] - 18s 184ms/step - loss: 4.9138 - num_tokens: 142199.0000 - num_tokens_no_oov: 138250.0000 - num_batches: 100.0000 - num_examples: 10000.0000 - accuracy: 0.0000e+00 - accuracy_no_oov: 0.0000e+00 - accuracy_no_oov_no_eos: 0.0000e+00\n",
      "Sampling 10 new clients.\n",
      "Round: 36\n",
      "   Loss: 3.90575171\n",
      "   num_batches: 419\n",
      "   num_examples: 3316\n",
      "   num_tokens: 40725\n",
      "   num_tokens_no_oov: 39461\n",
      "   accuracy: 0.02728\n",
      "   accuracy_no_oov: 0.02638\n",
      "Evaluating before training round #37 on 10000 examples.\n"
     ]
    },
    {
     "name": "stderr",
     "output_type": "stream",
     "text": [
      "/home/joel_stremmel/anaconda3/envs/tff/lib/python3.7/site-packages/tensorflow_federated/python/simulation/hdf5_client_data.py:69: H5pyDeprecationWarning: dataset.value has been deprecated. Use dataset[()] instead.\n",
      "  collections.OrderedDict((name, ds.value) for name, ds in sorted(\n"
     ]
    },
    {
     "name": "stdout",
     "output_type": "stream",
     "text": [
      "100/100 [==============================] - 20s 197ms/step - loss: 4.4915 - num_tokens: 130773.0000 - num_tokens_no_oov: 126302.0000 - num_batches: 100.0000 - num_examples: 10000.0000 - accuracy: 0.0000e+00 - accuracy_no_oov: 0.0000e+00 - accuracy_no_oov_no_eos: 0.0000e+00\n",
      "Sampling 10 new clients.\n",
      "Round: 37\n",
      "   Loss: 4.24980021\n",
      "   num_batches: 622\n",
      "   num_examples: 4946\n",
      "   num_tokens: 69182\n",
      "   num_tokens_no_oov: 67121\n",
      "   accuracy: 0.04797\n",
      "   accuracy_no_oov: 0.04705\n",
      "Evaluating before training round #38 on 10000 examples.\n"
     ]
    },
    {
     "name": "stderr",
     "output_type": "stream",
     "text": [
      "/home/joel_stremmel/anaconda3/envs/tff/lib/python3.7/site-packages/tensorflow_federated/python/simulation/hdf5_client_data.py:69: H5pyDeprecationWarning: dataset.value has been deprecated. Use dataset[()] instead.\n",
      "  collections.OrderedDict((name, ds.value) for name, ds in sorted(\n"
     ]
    },
    {
     "name": "stdout",
     "output_type": "stream",
     "text": [
      "100/100 [==============================] - 19s 195ms/step - loss: 4.5725 - num_tokens: 133352.0000 - num_tokens_no_oov: 129407.0000 - num_batches: 100.0000 - num_examples: 10000.0000 - accuracy: 0.0000e+00 - accuracy_no_oov: 0.0000e+00 - accuracy_no_oov_no_eos: 0.0000e+00\n",
      "Sampling 10 new clients.\n",
      "Round: 38\n",
      "   Loss: 4.05381441\n",
      "   num_batches: 547\n",
      "   num_examples: 4344\n",
      "   num_tokens: 56751\n",
      "   num_tokens_no_oov: 55245\n",
      "   accuracy: 0.03418\n",
      "   accuracy_no_oov: 0.03437\n",
      "Evaluating before training round #39 on 10000 examples.\n"
     ]
    },
    {
     "name": "stderr",
     "output_type": "stream",
     "text": [
      "/home/joel_stremmel/anaconda3/envs/tff/lib/python3.7/site-packages/tensorflow_federated/python/simulation/hdf5_client_data.py:69: H5pyDeprecationWarning: dataset.value has been deprecated. Use dataset[()] instead.\n",
      "  collections.OrderedDict((name, ds.value) for name, ds in sorted(\n"
     ]
    },
    {
     "name": "stdout",
     "output_type": "stream",
     "text": [
      "100/100 [==============================] - 19s 191ms/step - loss: 4.3209 - num_tokens: 127054.0000 - num_tokens_no_oov: 122739.0000 - num_batches: 100.0000 - num_examples: 10000.0000 - accuracy: 0.0000e+00 - accuracy_no_oov: 0.0000e+00 - accuracy_no_oov_no_eos: 0.0000e+00\n",
      "Sampling 10 new clients.\n",
      "Round: 39\n",
      "   Loss: 3.97238636\n",
      "   num_batches: 799\n",
      "   num_examples: 6355\n",
      "   num_tokens: 85056\n",
      "   num_tokens_no_oov: 83122\n",
      "   accuracy: 0.05841\n",
      "   accuracy_no_oov: 0.05733\n",
      "Evaluating before training round #40 on 10000 examples.\n"
     ]
    },
    {
     "name": "stderr",
     "output_type": "stream",
     "text": [
      "/home/joel_stremmel/anaconda3/envs/tff/lib/python3.7/site-packages/tensorflow_federated/python/simulation/hdf5_client_data.py:69: H5pyDeprecationWarning: dataset.value has been deprecated. Use dataset[()] instead.\n",
      "  collections.OrderedDict((name, ds.value) for name, ds in sorted(\n"
     ]
    },
    {
     "name": "stdout",
     "output_type": "stream",
     "text": [
      "100/100 [==============================] - 19s 195ms/step - loss: 4.6312 - num_tokens: 136430.0000 - num_tokens_no_oov: 132401.0000 - num_batches: 100.0000 - num_examples: 10000.0000 - accuracy: 0.0000e+00 - accuracy_no_oov: 0.0000e+00 - accuracy_no_oov_no_eos: 0.0000e+00\n",
      "Sampling 10 new clients.\n",
      "Round: 40\n",
      "   Loss: 4.23661804\n",
      "   num_batches: 240\n",
      "   num_examples: 1885\n",
      "   num_tokens: 24357\n",
      "   num_tokens_no_oov: 23742\n",
      "   accuracy: 0.00365\n",
      "   accuracy_no_oov: 0.00375\n",
      "Evaluating before training round #41 on 10000 examples.\n"
     ]
    },
    {
     "name": "stderr",
     "output_type": "stream",
     "text": [
      "/home/joel_stremmel/anaconda3/envs/tff/lib/python3.7/site-packages/tensorflow_federated/python/simulation/hdf5_client_data.py:69: H5pyDeprecationWarning: dataset.value has been deprecated. Use dataset[()] instead.\n",
      "  collections.OrderedDict((name, ds.value) for name, ds in sorted(\n"
     ]
    },
    {
     "name": "stdout",
     "output_type": "stream",
     "text": [
      "100/100 [==============================] - 19s 191ms/step - loss: 4.3813 - num_tokens: 129903.0000 - num_tokens_no_oov: 125617.0000 - num_batches: 100.0000 - num_examples: 10000.0000 - accuracy: 0.0000e+00 - accuracy_no_oov: 0.0000e+00 - accuracy_no_oov_no_eos: 0.0000e+00\n",
      "Sampling 10 new clients.\n",
      "Round: 41\n",
      "   Loss: 3.43614364\n",
      "   num_batches: 509\n",
      "   num_examples: 4041\n",
      "   num_tokens: 46798\n",
      "   num_tokens_no_oov: 45643\n",
      "   accuracy: 0.05588\n",
      "   accuracy_no_oov: 0.05604\n",
      "Evaluating before training round #42 on 10000 examples.\n"
     ]
    },
    {
     "name": "stderr",
     "output_type": "stream",
     "text": [
      "/home/joel_stremmel/anaconda3/envs/tff/lib/python3.7/site-packages/tensorflow_federated/python/simulation/hdf5_client_data.py:69: H5pyDeprecationWarning: dataset.value has been deprecated. Use dataset[()] instead.\n",
      "  collections.OrderedDict((name, ds.value) for name, ds in sorted(\n"
     ]
    },
    {
     "name": "stdout",
     "output_type": "stream",
     "text": [
      "100/100 [==============================] - 19s 188ms/step - loss: 4.8425 - num_tokens: 142136.0000 - num_tokens_no_oov: 138175.0000 - num_batches: 100.0000 - num_examples: 10000.0000 - accuracy: 0.0000e+00 - accuracy_no_oov: 0.0000e+00 - accuracy_no_oov_no_eos: 0.0000e+00\n",
      "Sampling 10 new clients.\n",
      "Round: 42\n",
      "   Loss: 4.16499424\n",
      "   num_batches: 585\n",
      "   num_examples: 4644\n",
      "   num_tokens: 65015\n",
      "   num_tokens_no_oov: 62726\n",
      "   accuracy: 0.04890\n",
      "   accuracy_no_oov: 0.04261\n",
      "Evaluating before training round #43 on 10000 examples.\n"
     ]
    },
    {
     "name": "stderr",
     "output_type": "stream",
     "text": [
      "/home/joel_stremmel/anaconda3/envs/tff/lib/python3.7/site-packages/tensorflow_federated/python/simulation/hdf5_client_data.py:69: H5pyDeprecationWarning: dataset.value has been deprecated. Use dataset[()] instead.\n",
      "  collections.OrderedDict((name, ds.value) for name, ds in sorted(\n"
     ]
    },
    {
     "name": "stdout",
     "output_type": "stream",
     "text": [
      "100/100 [==============================] - 19s 194ms/step - loss: 4.3654 - num_tokens: 130141.0000 - num_tokens_no_oov: 126463.0000 - num_batches: 100.0000 - num_examples: 10000.0000 - accuracy: 0.0000e+00 - accuracy_no_oov: 0.0000e+00 - accuracy_no_oov_no_eos: 0.0000e+00\n",
      "Sampling 10 new clients.\n",
      "Round: 43\n",
      "   Loss: 4.20882845\n",
      "   num_batches: 312\n",
      "   num_examples: 2464\n",
      "   num_tokens: 32651\n",
      "   num_tokens_no_oov: 31800\n",
      "   accuracy: 0.01697\n",
      "   accuracy_no_oov: 0.01742\n",
      "Evaluating before training round #44 on 10000 examples.\n"
     ]
    },
    {
     "name": "stderr",
     "output_type": "stream",
     "text": [
      "/home/joel_stremmel/anaconda3/envs/tff/lib/python3.7/site-packages/tensorflow_federated/python/simulation/hdf5_client_data.py:69: H5pyDeprecationWarning: dataset.value has been deprecated. Use dataset[()] instead.\n",
      "  collections.OrderedDict((name, ds.value) for name, ds in sorted(\n"
     ]
    },
    {
     "name": "stdout",
     "output_type": "stream",
     "text": [
      "100/100 [==============================] - 20s 199ms/step - loss: 4.3258 - num_tokens: 129959.0000 - num_tokens_no_oov: 125563.0000 - num_batches: 100.0000 - num_examples: 10000.0000 - accuracy: 0.0000e+00 - accuracy_no_oov: 0.0000e+00 - accuracy_no_oov_no_eos: 0.0000e+00\n",
      "Sampling 10 new clients.\n",
      "Round: 44\n",
      "   Loss: 4.29595566\n",
      "   num_batches: 373\n",
      "   num_examples: 2946\n",
      "   num_tokens: 40258\n",
      "   num_tokens_no_oov: 39137\n",
      "   accuracy: 0.02320\n",
      "   accuracy_no_oov: 0.02264\n",
      "Evaluating before training round #45 on 10000 examples.\n"
     ]
    },
    {
     "name": "stderr",
     "output_type": "stream",
     "text": [
      "/home/joel_stremmel/anaconda3/envs/tff/lib/python3.7/site-packages/tensorflow_federated/python/simulation/hdf5_client_data.py:69: H5pyDeprecationWarning: dataset.value has been deprecated. Use dataset[()] instead.\n",
      "  collections.OrderedDict((name, ds.value) for name, ds in sorted(\n"
     ]
    },
    {
     "name": "stdout",
     "output_type": "stream",
     "text": [
      "100/100 [==============================] - 19s 192ms/step - loss: 4.6148 - num_tokens: 137273.0000 - num_tokens_no_oov: 133480.0000 - num_batches: 100.0000 - num_examples: 10000.0000 - accuracy: 0.0000e+00 - accuracy_no_oov: 0.0000e+00 - accuracy_no_oov_no_eos: 0.0000e+00\n",
      "Sampling 10 new clients.\n",
      "Round: 45\n",
      "   Loss: 3.71382546\n",
      "   num_batches: 923\n",
      "   num_examples: 7345\n",
      "   num_tokens: 91984\n",
      "   num_tokens_no_oov: 89653\n",
      "   accuracy: 0.06741\n",
      "   accuracy_no_oov: 0.06417\n",
      "Evaluating before training round #46 on 10000 examples.\n"
     ]
    },
    {
     "name": "stderr",
     "output_type": "stream",
     "text": [
      "/home/joel_stremmel/anaconda3/envs/tff/lib/python3.7/site-packages/tensorflow_federated/python/simulation/hdf5_client_data.py:69: H5pyDeprecationWarning: dataset.value has been deprecated. Use dataset[()] instead.\n",
      "  collections.OrderedDict((name, ds.value) for name, ds in sorted(\n"
     ]
    },
    {
     "name": "stdout",
     "output_type": "stream",
     "text": [
      "100/100 [==============================] - 19s 193ms/step - loss: 4.4845 - num_tokens: 134623.0000 - num_tokens_no_oov: 131046.0000 - num_batches: 100.0000 - num_examples: 10000.0000 - accuracy: 0.0000e+00 - accuracy_no_oov: 0.0000e+00 - accuracy_no_oov_no_eos: 0.0000e+00\n",
      "Sampling 10 new clients.\n",
      "Round: 46\n",
      "   Loss: 4.14511728\n",
      "   num_batches: 316\n",
      "   num_examples: 2494\n",
      "   num_tokens: 32761\n",
      "   num_tokens_no_oov: 31869\n",
      "   accuracy: 0.02439\n",
      "   accuracy_no_oov: 0.02435\n",
      "Evaluating before training round #47 on 10000 examples.\n"
     ]
    },
    {
     "name": "stderr",
     "output_type": "stream",
     "text": [
      "/home/joel_stremmel/anaconda3/envs/tff/lib/python3.7/site-packages/tensorflow_federated/python/simulation/hdf5_client_data.py:69: H5pyDeprecationWarning: dataset.value has been deprecated. Use dataset[()] instead.\n",
      "  collections.OrderedDict((name, ds.value) for name, ds in sorted(\n"
     ]
    },
    {
     "name": "stdout",
     "output_type": "stream",
     "text": [
      "100/100 [==============================] - 20s 197ms/step - loss: 4.3792 - num_tokens: 130944.0000 - num_tokens_no_oov: 126704.0000 - num_batches: 100.0000 - num_examples: 10000.0000 - accuracy: 0.0000e+00 - accuracy_no_oov: 0.0000e+00 - accuracy_no_oov_no_eos: 0.0000e+00\n",
      "Sampling 10 new clients.\n",
      "Round: 47\n",
      "   Loss: 4.06690979\n",
      "   num_batches: 642\n",
      "   num_examples: 5103\n",
      "   num_tokens: 71784\n",
      "   num_tokens_no_oov: 69633\n",
      "   accuracy: 0.07974\n",
      "   accuracy_no_oov: 0.07412\n",
      "Evaluating before training round #48 on 10000 examples.\n"
     ]
    },
    {
     "name": "stderr",
     "output_type": "stream",
     "text": [
      "/home/joel_stremmel/anaconda3/envs/tff/lib/python3.7/site-packages/tensorflow_federated/python/simulation/hdf5_client_data.py:69: H5pyDeprecationWarning: dataset.value has been deprecated. Use dataset[()] instead.\n",
      "  collections.OrderedDict((name, ds.value) for name, ds in sorted(\n"
     ]
    },
    {
     "name": "stdout",
     "output_type": "stream",
     "text": [
      "100/100 [==============================] - 19s 187ms/step - loss: 4.2370 - num_tokens: 128706.0000 - num_tokens_no_oov: 125457.0000 - num_batches: 100.0000 - num_examples: 10000.0000 - accuracy: 0.0000e+00 - accuracy_no_oov: 0.0000e+00 - accuracy_no_oov_no_eos: 0.0000e+00\n",
      "Sampling 10 new clients.\n",
      "Round: 48\n",
      "   Loss: 4.01103640\n",
      "   num_batches: 354\n",
      "   num_examples: 2798\n",
      "   num_tokens: 36159\n",
      "   num_tokens_no_oov: 35250\n",
      "   accuracy: 0.03944\n",
      "   accuracy_no_oov: 0.03881\n",
      "Evaluating before training round #49 on 10000 examples.\n"
     ]
    },
    {
     "name": "stderr",
     "output_type": "stream",
     "text": [
      "/home/joel_stremmel/anaconda3/envs/tff/lib/python3.7/site-packages/tensorflow_federated/python/simulation/hdf5_client_data.py:69: H5pyDeprecationWarning: dataset.value has been deprecated. Use dataset[()] instead.\n",
      "  collections.OrderedDict((name, ds.value) for name, ds in sorted(\n"
     ]
    },
    {
     "name": "stdout",
     "output_type": "stream",
     "text": [
      "100/100 [==============================] - 20s 198ms/step - loss: 4.5940 - num_tokens: 137540.0000 - num_tokens_no_oov: 133470.0000 - num_batches: 100.0000 - num_examples: 10000.0000 - accuracy: 0.0000e+00 - accuracy_no_oov: 0.0000e+00 - accuracy_no_oov_no_eos: 0.0000e+00\n",
      "Sampling 10 new clients.\n",
      "Round: 49\n",
      "   Loss: 4.27269268\n",
      "   num_batches: 406\n",
      "   num_examples: 3213\n",
      "   num_tokens: 44389\n",
      "   num_tokens_no_oov: 43231\n",
      "   accuracy: 0.03503\n",
      "   accuracy_no_oov: 0.03449\n",
      "Evaluating before training round #50 on 10000 examples.\n"
     ]
    },
    {
     "name": "stderr",
     "output_type": "stream",
     "text": [
      "/home/joel_stremmel/anaconda3/envs/tff/lib/python3.7/site-packages/tensorflow_federated/python/simulation/hdf5_client_data.py:69: H5pyDeprecationWarning: dataset.value has been deprecated. Use dataset[()] instead.\n",
      "  collections.OrderedDict((name, ds.value) for name, ds in sorted(\n"
     ]
    },
    {
     "name": "stdout",
     "output_type": "stream",
     "text": [
      "100/100 [==============================] - 20s 195ms/step - loss: 4.4998 - num_tokens: 135730.0000 - num_tokens_no_oov: 131178.0000 - num_batches: 100.0000 - num_examples: 10000.0000 - accuracy: 5.8941e-05 - accuracy_no_oov: 6.0986e-05 - accuracy_no_oov_no_eos: 0.0000e+00\n",
      "Sampling 10 new clients.\n",
      "Round: 50\n",
      "   Loss: 3.95809150\n",
      "   num_batches: 539\n",
      "   num_examples: 4292\n",
      "   num_tokens: 57989\n",
      "   num_tokens_no_oov: 56455\n",
      "   accuracy: 0.06782\n",
      "   accuracy_no_oov: 0.06464\n",
      "Evaluating before training round #51 on 10000 examples.\n"
     ]
    },
    {
     "name": "stderr",
     "output_type": "stream",
     "text": [
      "/home/joel_stremmel/anaconda3/envs/tff/lib/python3.7/site-packages/tensorflow_federated/python/simulation/hdf5_client_data.py:69: H5pyDeprecationWarning: dataset.value has been deprecated. Use dataset[()] instead.\n",
      "  collections.OrderedDict((name, ds.value) for name, ds in sorted(\n"
     ]
    },
    {
     "name": "stdout",
     "output_type": "stream",
     "text": [
      "100/100 [==============================] - 19s 193ms/step - loss: 4.1522 - num_tokens: 126656.0000 - num_tokens_no_oov: 122437.0000 - num_batches: 100.0000 - num_examples: 10000.0000 - accuracy: 2.6055e-04 - accuracy_no_oov: 2.6953e-04 - accuracy_no_oov_no_eos: 0.0000e+00\n",
      "Sampling 10 new clients.\n",
      "Round: 51\n",
      "   Loss: 3.87882137\n",
      "   num_batches: 354\n",
      "   num_examples: 2795\n",
      "   num_tokens: 35637\n",
      "   num_tokens_no_oov: 34722\n",
      "   accuracy: 0.04206\n",
      "   accuracy_no_oov: 0.04127\n",
      "Evaluating before training round #52 on 10000 examples.\n"
     ]
    },
    {
     "name": "stderr",
     "output_type": "stream",
     "text": [
      "/home/joel_stremmel/anaconda3/envs/tff/lib/python3.7/site-packages/tensorflow_federated/python/simulation/hdf5_client_data.py:69: H5pyDeprecationWarning: dataset.value has been deprecated. Use dataset[()] instead.\n",
      "  collections.OrderedDict((name, ds.value) for name, ds in sorted(\n"
     ]
    },
    {
     "name": "stdout",
     "output_type": "stream",
     "text": [
      "100/100 [==============================] - 19s 192ms/step - loss: 4.3781 - num_tokens: 133516.0000 - num_tokens_no_oov: 129519.0000 - num_batches: 100.0000 - num_examples: 10000.0000 - accuracy: 6.8157e-04 - accuracy_no_oov: 7.0260e-04 - accuracy_no_oov_no_eos: 0.0000e+00\n",
      "Sampling 10 new clients.\n",
      "Round: 52\n",
      "   Loss: 4.39905405\n",
      "   num_batches: 273\n",
      "   num_examples: 2144\n",
      "   num_tokens: 30386\n",
      "   num_tokens_no_oov: 29563\n",
      "   accuracy: 0.03890\n",
      "   accuracy_no_oov: 0.03531\n",
      "Evaluating before training round #53 on 10000 examples.\n"
     ]
    },
    {
     "name": "stderr",
     "output_type": "stream",
     "text": [
      "/home/joel_stremmel/anaconda3/envs/tff/lib/python3.7/site-packages/tensorflow_federated/python/simulation/hdf5_client_data.py:69: H5pyDeprecationWarning: dataset.value has been deprecated. Use dataset[()] instead.\n",
      "  collections.OrderedDict((name, ds.value) for name, ds in sorted(\n"
     ]
    },
    {
     "name": "stdout",
     "output_type": "stream",
     "text": [
      "100/100 [==============================] - 20s 205ms/step - loss: 4.3830 - num_tokens: 134419.0000 - num_tokens_no_oov: 130430.0000 - num_batches: 100.0000 - num_examples: 10000.0000 - accuracy: 0.0017 - accuracy_no_oov: 0.0018 - accuracy_no_oov_no_eos: 0.0000e+00\n",
      "Sampling 10 new clients.\n",
      "Round: 53\n",
      "   Loss: 4.00886440\n",
      "   num_batches: 1249\n",
      "   num_examples: 9968\n",
      "   num_tokens: 141103\n",
      "   num_tokens_no_oov: 137514\n",
      "   accuracy: 0.10183\n",
      "   accuracy_no_oov: 0.09656\n",
      "Evaluating before training round #54 on 10000 examples.\n"
     ]
    },
    {
     "name": "stderr",
     "output_type": "stream",
     "text": [
      "/home/joel_stremmel/anaconda3/envs/tff/lib/python3.7/site-packages/tensorflow_federated/python/simulation/hdf5_client_data.py:69: H5pyDeprecationWarning: dataset.value has been deprecated. Use dataset[()] instead.\n",
      "  collections.OrderedDict((name, ds.value) for name, ds in sorted(\n"
     ]
    },
    {
     "name": "stdout",
     "output_type": "stream",
     "text": [
      "100/100 [==============================] - 20s 199ms/step - loss: 4.5128 - num_tokens: 139410.0000 - num_tokens_no_oov: 136234.0000 - num_batches: 100.0000 - num_examples: 10000.0000 - accuracy: 0.0194 - accuracy_no_oov: 0.0199 - accuracy_no_oov_no_eos: 0.0000e+00\n",
      "Sampling 10 new clients.\n",
      "Round: 54\n",
      "   Loss: 4.23653316\n",
      "   num_batches: 261\n",
      "   num_examples: 2047\n",
      "   num_tokens: 27945\n",
      "   num_tokens_no_oov: 27275\n",
      "   accuracy: 0.04663\n",
      "   accuracy_no_oov: 0.04495\n",
      "Evaluating before training round #55 on 10000 examples.\n"
     ]
    },
    {
     "name": "stderr",
     "output_type": "stream",
     "text": [
      "/home/joel_stremmel/anaconda3/envs/tff/lib/python3.7/site-packages/tensorflow_federated/python/simulation/hdf5_client_data.py:69: H5pyDeprecationWarning: dataset.value has been deprecated. Use dataset[()] instead.\n",
      "  collections.OrderedDict((name, ds.value) for name, ds in sorted(\n"
     ]
    },
    {
     "name": "stdout",
     "output_type": "stream",
     "text": [
      "100/100 [==============================] - 19s 192ms/step - loss: 4.2072 - num_tokens: 130836.0000 - num_tokens_no_oov: 126443.0000 - num_batches: 100.0000 - num_examples: 10000.0000 - accuracy: 0.0372 - accuracy_no_oov: 0.0385 - accuracy_no_oov_no_eos: 6.7194e-05\n",
      "Sampling 10 new clients.\n",
      "Round: 55\n",
      "   Loss: 4.27607775\n",
      "   num_batches: 308\n",
      "   num_examples: 2430\n",
      "   num_tokens: 34186\n",
      "   num_tokens_no_oov: 33334\n",
      "   accuracy: 0.06087\n",
      "   accuracy_no_oov: 0.05721\n",
      "Evaluating before training round #56 on 10000 examples.\n"
     ]
    },
    {
     "name": "stderr",
     "output_type": "stream",
     "text": [
      "/home/joel_stremmel/anaconda3/envs/tff/lib/python3.7/site-packages/tensorflow_federated/python/simulation/hdf5_client_data.py:69: H5pyDeprecationWarning: dataset.value has been deprecated. Use dataset[()] instead.\n",
      "  collections.OrderedDict((name, ds.value) for name, ds in sorted(\n"
     ]
    },
    {
     "name": "stdout",
     "output_type": "stream",
     "text": [
      "100/100 [==============================] - 18s 181ms/step - loss: 4.6597 - num_tokens: 144072.0000 - num_tokens_no_oov: 140175.0000 - num_batches: 100.0000 - num_examples: 10000.0000 - accuracy: 0.0426 - accuracy_no_oov: 0.0438 - accuracy_no_oov_no_eos: 2.1760e-04\n",
      "Sampling 10 new clients.\n",
      "Round: 56\n",
      "   Loss: 3.83177471\n",
      "   num_batches: 453\n",
      "   num_examples: 3598\n",
      "   num_tokens: 46511\n",
      "   num_tokens_no_oov: 45292\n",
      "   accuracy: 0.07123\n",
      "   accuracy_no_oov: 0.06754\n",
      "Evaluating before training round #57 on 10000 examples.\n"
     ]
    },
    {
     "name": "stderr",
     "output_type": "stream",
     "text": [
      "/home/joel_stremmel/anaconda3/envs/tff/lib/python3.7/site-packages/tensorflow_federated/python/simulation/hdf5_client_data.py:69: H5pyDeprecationWarning: dataset.value has been deprecated. Use dataset[()] instead.\n",
      "  collections.OrderedDict((name, ds.value) for name, ds in sorted(\n"
     ]
    },
    {
     "name": "stdout",
     "output_type": "stream",
     "text": [
      "100/100 [==============================] - 19s 191ms/step - loss: 4.4005 - num_tokens: 136820.0000 - num_tokens_no_oov: 132805.0000 - num_batches: 100.0000 - num_examples: 10000.0000 - accuracy: 0.0471 - accuracy_no_oov: 0.0486 - accuracy_no_oov_no_eos: 0.0013\n",
      "Sampling 10 new clients.\n",
      "Round: 57\n",
      "   Loss: 4.22289276\n",
      "   num_batches: 190\n",
      "   num_examples: 1490\n",
      "   num_tokens: 20162\n",
      "   num_tokens_no_oov: 19569\n",
      "   accuracy: 0.05039\n",
      "   accuracy_no_oov: 0.04758\n",
      "Evaluating before training round #58 on 10000 examples.\n"
     ]
    },
    {
     "name": "stderr",
     "output_type": "stream",
     "text": [
      "/home/joel_stremmel/anaconda3/envs/tff/lib/python3.7/site-packages/tensorflow_federated/python/simulation/hdf5_client_data.py:69: H5pyDeprecationWarning: dataset.value has been deprecated. Use dataset[()] instead.\n",
      "  collections.OrderedDict((name, ds.value) for name, ds in sorted(\n"
     ]
    },
    {
     "name": "stdout",
     "output_type": "stream",
     "text": [
      "100/100 [==============================] - 19s 192ms/step - loss: 4.2525 - num_tokens: 133713.0000 - num_tokens_no_oov: 129899.0000 - num_batches: 100.0000 - num_examples: 10000.0000 - accuracy: 0.0514 - accuracy_no_oov: 0.0529 - accuracy_no_oov_no_eos: 0.0040\n",
      "Sampling 10 new clients.\n",
      "Round: 58\n",
      "   Loss: 3.44218779\n",
      "   num_batches: 918\n",
      "   num_examples: 7328\n",
      "   num_tokens: 91758\n",
      "   num_tokens_no_oov: 88922\n",
      "   accuracy: 0.12393\n",
      "   accuracy_no_oov: 0.11546\n",
      "Evaluating before training round #59 on 10000 examples.\n"
     ]
    },
    {
     "name": "stderr",
     "output_type": "stream",
     "text": [
      "/home/joel_stremmel/anaconda3/envs/tff/lib/python3.7/site-packages/tensorflow_federated/python/simulation/hdf5_client_data.py:69: H5pyDeprecationWarning: dataset.value has been deprecated. Use dataset[()] instead.\n",
      "  collections.OrderedDict((name, ds.value) for name, ds in sorted(\n"
     ]
    },
    {
     "name": "stdout",
     "output_type": "stream",
     "text": [
      "100/100 [==============================] - 19s 187ms/step - loss: 4.3528 - num_tokens: 135749.0000 - num_tokens_no_oov: 131400.0000 - num_batches: 100.0000 - num_examples: 10000.0000 - accuracy: 0.0562 - accuracy_no_oov: 0.0581 - accuracy_no_oov_no_eos: 0.0108\n",
      "Sampling 10 new clients.\n",
      "Round: 59\n",
      "   Loss: 3.94244695\n",
      "   num_batches: 240\n",
      "   num_examples: 1878\n",
      "   num_tokens: 24419\n",
      "   num_tokens_no_oov: 23650\n",
      "   accuracy: 0.06262\n",
      "   accuracy_no_oov: 0.05928\n",
      "Evaluating before training round #60 on 10000 examples.\n"
     ]
    },
    {
     "name": "stderr",
     "output_type": "stream",
     "text": [
      "/home/joel_stremmel/anaconda3/envs/tff/lib/python3.7/site-packages/tensorflow_federated/python/simulation/hdf5_client_data.py:69: H5pyDeprecationWarning: dataset.value has been deprecated. Use dataset[()] instead.\n",
      "  collections.OrderedDict((name, ds.value) for name, ds in sorted(\n"
     ]
    },
    {
     "name": "stdout",
     "output_type": "stream",
     "text": [
      "100/100 [==============================] - 26s 264ms/step - loss: 4.2339 - num_tokens: 132566.0000 - num_tokens_no_oov: 128104.0000 - num_batches: 100.0000 - num_examples: 10000.0000 - accuracy: 0.0699 - accuracy_no_oov: 0.0723 - accuracy_no_oov_no_eos: 0.0202\n",
      "Sampling 10 new clients.\n",
      "Round: 60\n",
      "   Loss: 3.82577276\n",
      "   num_batches: 995\n",
      "   num_examples: 7928\n",
      "   num_tokens: 109155\n",
      "   num_tokens_no_oov: 106077\n",
      "   accuracy: 0.11492\n",
      "   accuracy_no_oov: 0.10720\n",
      "Evaluating before training round #61 on 10000 examples.\n"
     ]
    },
    {
     "name": "stderr",
     "output_type": "stream",
     "text": [
      "/home/joel_stremmel/anaconda3/envs/tff/lib/python3.7/site-packages/tensorflow_federated/python/simulation/hdf5_client_data.py:69: H5pyDeprecationWarning: dataset.value has been deprecated. Use dataset[()] instead.\n",
      "  collections.OrderedDict((name, ds.value) for name, ds in sorted(\n"
     ]
    },
    {
     "name": "stdout",
     "output_type": "stream",
     "text": [
      "100/100 [==============================] - 20s 197ms/step - loss: 4.3750 - num_tokens: 137412.0000 - num_tokens_no_oov: 133264.0000 - num_batches: 100.0000 - num_examples: 10000.0000 - accuracy: 0.0732 - accuracy_no_oov: 0.0755 - accuracy_no_oov_no_eos: 0.0294\n",
      "Sampling 10 new clients.\n",
      "Round: 61\n",
      "   Loss: 3.75538278\n",
      "   num_batches: 559\n",
      "   num_examples: 4433\n",
      "   num_tokens: 59543\n",
      "   num_tokens_no_oov: 57809\n",
      "   accuracy: 0.11136\n",
      "   accuracy_no_oov: 0.10408\n",
      "Evaluating before training round #62 on 10000 examples.\n"
     ]
    },
    {
     "name": "stderr",
     "output_type": "stream",
     "text": [
      "/home/joel_stremmel/anaconda3/envs/tff/lib/python3.7/site-packages/tensorflow_federated/python/simulation/hdf5_client_data.py:69: H5pyDeprecationWarning: dataset.value has been deprecated. Use dataset[()] instead.\n",
      "  collections.OrderedDict((name, ds.value) for name, ds in sorted(\n"
     ]
    },
    {
     "name": "stdout",
     "output_type": "stream",
     "text": [
      "100/100 [==============================] - 19s 194ms/step - loss: 4.1897 - num_tokens: 131037.0000 - num_tokens_no_oov: 126840.0000 - num_batches: 100.0000 - num_examples: 10000.0000 - accuracy: 0.0732 - accuracy_no_oov: 0.0756 - accuracy_no_oov_no_eos: 0.0339\n",
      "Sampling 10 new clients.\n",
      "Round: 62\n",
      "   Loss: 4.13580275\n",
      "   num_batches: 750\n",
      "   num_examples: 5963\n",
      "   num_tokens: 88307\n",
      "   num_tokens_no_oov: 85970\n",
      "   accuracy: 0.11583\n",
      "   accuracy_no_oov: 0.11176\n",
      "Evaluating before training round #63 on 10000 examples.\n"
     ]
    },
    {
     "name": "stderr",
     "output_type": "stream",
     "text": [
      "/home/joel_stremmel/anaconda3/envs/tff/lib/python3.7/site-packages/tensorflow_federated/python/simulation/hdf5_client_data.py:69: H5pyDeprecationWarning: dataset.value has been deprecated. Use dataset[()] instead.\n",
      "  collections.OrderedDict((name, ds.value) for name, ds in sorted(\n"
     ]
    },
    {
     "name": "stdout",
     "output_type": "stream",
     "text": [
      "100/100 [==============================] - 20s 202ms/step - loss: 4.3881 - num_tokens: 137025.0000 - num_tokens_no_oov: 132800.0000 - num_batches: 100.0000 - num_examples: 10000.0000 - accuracy: 0.0719 - accuracy_no_oov: 0.0734 - accuracy_no_oov_no_eos: 0.0453\n",
      "Sampling 10 new clients.\n",
      "Round: 63\n",
      "   Loss: 3.86567903\n",
      "   num_batches: 256\n",
      "   num_examples: 2011\n",
      "   num_tokens: 25197\n",
      "   num_tokens_no_oov: 24484\n",
      "   accuracy: 0.07152\n",
      "   accuracy_no_oov: 0.06649\n",
      "Evaluating before training round #64 on 10000 examples.\n"
     ]
    },
    {
     "name": "stderr",
     "output_type": "stream",
     "text": [
      "/home/joel_stremmel/anaconda3/envs/tff/lib/python3.7/site-packages/tensorflow_federated/python/simulation/hdf5_client_data.py:69: H5pyDeprecationWarning: dataset.value has been deprecated. Use dataset[()] instead.\n",
      "  collections.OrderedDict((name, ds.value) for name, ds in sorted(\n"
     ]
    },
    {
     "name": "stdout",
     "output_type": "stream",
     "text": [
      "100/100 [==============================] - 20s 199ms/step - loss: 4.5429 - num_tokens: 142563.0000 - num_tokens_no_oov: 139168.0000 - num_batches: 100.0000 - num_examples: 10000.0000 - accuracy: 0.0673 - accuracy_no_oov: 0.0671 - accuracy_no_oov_no_eos: 0.0516\n",
      "Sampling 10 new clients.\n",
      "Round: 64\n",
      "   Loss: 4.23482466\n",
      "   num_batches: 752\n",
      "   num_examples: 5978\n",
      "   num_tokens: 91778\n",
      "   num_tokens_no_oov: 89680\n",
      "   accuracy: 0.10765\n",
      "   accuracy_no_oov: 0.10543\n",
      "Evaluating before training round #65 on 10000 examples.\n"
     ]
    },
    {
     "name": "stderr",
     "output_type": "stream",
     "text": [
      "/home/joel_stremmel/anaconda3/envs/tff/lib/python3.7/site-packages/tensorflow_federated/python/simulation/hdf5_client_data.py:69: H5pyDeprecationWarning: dataset.value has been deprecated. Use dataset[()] instead.\n",
      "  collections.OrderedDict((name, ds.value) for name, ds in sorted(\n"
     ]
    },
    {
     "name": "stdout",
     "output_type": "stream",
     "text": [
      "100/100 [==============================] - 18s 185ms/step - loss: 4.4214 - num_tokens: 136567.0000 - num_tokens_no_oov: 132000.0000 - num_batches: 100.0000 - num_examples: 10000.0000 - accuracy: 0.0571 - accuracy_no_oov: 0.0532 - accuracy_no_oov_no_eos: 0.0467\n",
      "Sampling 10 new clients.\n",
      "Round: 65\n",
      "   Loss: 3.91690516\n",
      "   num_batches: 568\n",
      "   num_examples: 4508\n",
      "   num_tokens: 62103\n",
      "   num_tokens_no_oov: 60342\n",
      "   accuracy: 0.10484\n",
      "   accuracy_no_oov: 0.09778\n",
      "Evaluating before training round #66 on 10000 examples.\n"
     ]
    },
    {
     "name": "stderr",
     "output_type": "stream",
     "text": [
      "/home/joel_stremmel/anaconda3/envs/tff/lib/python3.7/site-packages/tensorflow_federated/python/simulation/hdf5_client_data.py:69: H5pyDeprecationWarning: dataset.value has been deprecated. Use dataset[()] instead.\n",
      "  collections.OrderedDict((name, ds.value) for name, ds in sorted(\n"
     ]
    },
    {
     "name": "stdout",
     "output_type": "stream",
     "text": [
      "100/100 [==============================] - 19s 186ms/step - loss: 4.2475 - num_tokens: 133189.0000 - num_tokens_no_oov: 129749.0000 - num_batches: 100.0000 - num_examples: 10000.0000 - accuracy: 0.0543 - accuracy_no_oov: 0.0508 - accuracy_no_oov_no_eos: 0.0495\n",
      "Sampling 10 new clients.\n",
      "Round: 66\n",
      "   Loss: 4.02177954\n",
      "   num_batches: 408\n",
      "   num_examples: 3224\n",
      "   num_tokens: 43396\n",
      "   num_tokens_no_oov: 41977\n",
      "   accuracy: 0.08464\n",
      "   accuracy_no_oov: 0.07371\n",
      "Evaluating before training round #67 on 10000 examples.\n"
     ]
    },
    {
     "name": "stderr",
     "output_type": "stream",
     "text": [
      "/home/joel_stremmel/anaconda3/envs/tff/lib/python3.7/site-packages/tensorflow_federated/python/simulation/hdf5_client_data.py:69: H5pyDeprecationWarning: dataset.value has been deprecated. Use dataset[()] instead.\n",
      "  collections.OrderedDict((name, ds.value) for name, ds in sorted(\n"
     ]
    },
    {
     "name": "stdout",
     "output_type": "stream",
     "text": [
      "100/100 [==============================] - 20s 195ms/step - loss: 4.1447 - num_tokens: 128340.0000 - num_tokens_no_oov: 124251.0000 - num_batches: 100.0000 - num_examples: 10000.0000 - accuracy: 0.0511 - accuracy_no_oov: 0.0458 - accuracy_no_oov_no_eos: 0.0448\n",
      "Sampling 10 new clients.\n",
      "Round: 67\n",
      "   Loss: 4.17718506\n",
      "   num_batches: 286\n",
      "   num_examples: 2253\n",
      "   num_tokens: 30727\n",
      "   num_tokens_no_oov: 29915\n",
      "   accuracy: 0.07430\n",
      "   accuracy_no_oov: 0.06742\n",
      "Evaluating before training round #68 on 10000 examples.\n"
     ]
    },
    {
     "name": "stderr",
     "output_type": "stream",
     "text": [
      "/home/joel_stremmel/anaconda3/envs/tff/lib/python3.7/site-packages/tensorflow_federated/python/simulation/hdf5_client_data.py:69: H5pyDeprecationWarning: dataset.value has been deprecated. Use dataset[()] instead.\n",
      "  collections.OrderedDict((name, ds.value) for name, ds in sorted(\n"
     ]
    },
    {
     "name": "stdout",
     "output_type": "stream",
     "text": [
      "100/100 [==============================] - 20s 197ms/step - loss: 4.2834 - num_tokens: 132154.0000 - num_tokens_no_oov: 127948.0000 - num_batches: 100.0000 - num_examples: 10000.0000 - accuracy: 0.0531 - accuracy_no_oov: 0.0475 - accuracy_no_oov_no_eos: 0.0466\n",
      "Sampling 10 new clients.\n",
      "Round: 68\n",
      "   Loss: 3.88340926\n",
      "   num_batches: 219\n",
      "   num_examples: 1715\n",
      "   num_tokens: 21967\n",
      "   num_tokens_no_oov: 21375\n",
      "   accuracy: 0.07994\n",
      "   accuracy_no_oov: 0.07378\n",
      "Evaluating before training round #69 on 10000 examples.\n"
     ]
    },
    {
     "name": "stderr",
     "output_type": "stream",
     "text": [
      "/home/joel_stremmel/anaconda3/envs/tff/lib/python3.7/site-packages/tensorflow_federated/python/simulation/hdf5_client_data.py:69: H5pyDeprecationWarning: dataset.value has been deprecated. Use dataset[()] instead.\n",
      "  collections.OrderedDict((name, ds.value) for name, ds in sorted(\n"
     ]
    },
    {
     "name": "stdout",
     "output_type": "stream",
     "text": [
      "100/100 [==============================] - 20s 198ms/step - loss: 4.2523 - num_tokens: 131718.0000 - num_tokens_no_oov: 127692.0000 - num_batches: 100.0000 - num_examples: 10000.0000 - accuracy: 0.0641 - accuracy_no_oov: 0.0569 - accuracy_no_oov_no_eos: 0.0558\n",
      "Sampling 10 new clients.\n",
      "Round: 69\n",
      "   Loss: 3.81588912\n",
      "   num_batches: 326\n",
      "   num_examples: 2566\n",
      "   num_tokens: 32980\n",
      "   num_tokens_no_oov: 32047\n",
      "   accuracy: 0.08842\n",
      "   accuracy_no_oov: 0.08138\n",
      "Evaluating before training round #70 on 10000 examples.\n"
     ]
    },
    {
     "name": "stderr",
     "output_type": "stream",
     "text": [
      "/home/joel_stremmel/anaconda3/envs/tff/lib/python3.7/site-packages/tensorflow_federated/python/simulation/hdf5_client_data.py:69: H5pyDeprecationWarning: dataset.value has been deprecated. Use dataset[()] instead.\n",
      "  collections.OrderedDict((name, ds.value) for name, ds in sorted(\n"
     ]
    },
    {
     "name": "stdout",
     "output_type": "stream",
     "text": [
      "100/100 [==============================] - 19s 192ms/step - loss: 4.1357 - num_tokens: 126872.0000 - num_tokens_no_oov: 122863.0000 - num_batches: 100.0000 - num_examples: 10000.0000 - accuracy: 0.0596 - accuracy_no_oov: 0.0531 - accuracy_no_oov_no_eos: 0.0498\n",
      "Sampling 10 new clients.\n",
      "Round: 70\n",
      "   Loss: 3.69213891\n",
      "   num_batches: 575\n",
      "   num_examples: 4569\n",
      "   num_tokens: 59096\n",
      "   num_tokens_no_oov: 57165\n",
      "   accuracy: 0.11828\n",
      "   accuracy_no_oov: 0.10814\n",
      "Evaluating before training round #71 on 10000 examples.\n"
     ]
    },
    {
     "name": "stderr",
     "output_type": "stream",
     "text": [
      "/home/joel_stremmel/anaconda3/envs/tff/lib/python3.7/site-packages/tensorflow_federated/python/simulation/hdf5_client_data.py:69: H5pyDeprecationWarning: dataset.value has been deprecated. Use dataset[()] instead.\n",
      "  collections.OrderedDict((name, ds.value) for name, ds in sorted(\n"
     ]
    },
    {
     "name": "stdout",
     "output_type": "stream",
     "text": [
      "100/100 [==============================] - 19s 192ms/step - loss: 4.3170 - num_tokens: 133480.0000 - num_tokens_no_oov: 129078.0000 - num_batches: 100.0000 - num_examples: 10000.0000 - accuracy: 0.0691 - accuracy_no_oov: 0.0612 - accuracy_no_oov_no_eos: 0.0543\n",
      "Sampling 10 new clients.\n",
      "Round: 71\n",
      "   Loss: 3.59719276\n",
      "   num_batches: 242\n",
      "   num_examples: 1911\n",
      "   num_tokens: 23429\n",
      "   num_tokens_no_oov: 22883\n",
      "   accuracy: 0.09907\n",
      "   accuracy_no_oov: 0.09562\n",
      "Evaluating before training round #72 on 10000 examples.\n"
     ]
    },
    {
     "name": "stderr",
     "output_type": "stream",
     "text": [
      "/home/joel_stremmel/anaconda3/envs/tff/lib/python3.7/site-packages/tensorflow_federated/python/simulation/hdf5_client_data.py:69: H5pyDeprecationWarning: dataset.value has been deprecated. Use dataset[()] instead.\n",
      "  collections.OrderedDict((name, ds.value) for name, ds in sorted(\n"
     ]
    },
    {
     "name": "stdout",
     "output_type": "stream",
     "text": [
      "100/100 [==============================] - 21s 208ms/step - loss: 4.4650 - num_tokens: 137079.0000 - num_tokens_no_oov: 132789.0000 - num_batches: 100.0000 - num_examples: 10000.0000 - accuracy: 0.0719 - accuracy_no_oov: 0.0639 - accuracy_no_oov_no_eos: 0.0558\n",
      "Sampling 10 new clients.\n",
      "Round: 72\n",
      "   Loss: 3.90228486\n",
      "   num_batches: 766\n",
      "   num_examples: 6100\n",
      "   num_tokens: 90649\n",
      "   num_tokens_no_oov: 87709\n",
      "   accuracy: 0.14153\n",
      "   accuracy_no_oov: 0.13253\n",
      "Evaluating before training round #73 on 10000 examples.\n"
     ]
    },
    {
     "name": "stderr",
     "output_type": "stream",
     "text": [
      "/home/joel_stremmel/anaconda3/envs/tff/lib/python3.7/site-packages/tensorflow_federated/python/simulation/hdf5_client_data.py:69: H5pyDeprecationWarning: dataset.value has been deprecated. Use dataset[()] instead.\n",
      "  collections.OrderedDict((name, ds.value) for name, ds in sorted(\n"
     ]
    },
    {
     "name": "stdout",
     "output_type": "stream",
     "text": [
      "100/100 [==============================] - 19s 189ms/step - loss: 4.4858 - num_tokens: 136898.0000 - num_tokens_no_oov: 132122.0000 - num_batches: 100.0000 - num_examples: 10000.0000 - accuracy: 0.0723 - accuracy_no_oov: 0.0625 - accuracy_no_oov_no_eos: 0.0544\n",
      "Sampling 10 new clients.\n",
      "Round: 73\n",
      "   Loss: 3.82095551\n",
      "   num_batches: 472\n",
      "   num_examples: 3744\n",
      "   num_tokens: 49092\n",
      "   num_tokens_no_oov: 47534\n",
      "   accuracy: 0.11163\n",
      "   accuracy_no_oov: 0.10085\n",
      "Evaluating before training round #74 on 10000 examples.\n"
     ]
    },
    {
     "name": "stderr",
     "output_type": "stream",
     "text": [
      "/home/joel_stremmel/anaconda3/envs/tff/lib/python3.7/site-packages/tensorflow_federated/python/simulation/hdf5_client_data.py:69: H5pyDeprecationWarning: dataset.value has been deprecated. Use dataset[()] instead.\n",
      "  collections.OrderedDict((name, ds.value) for name, ds in sorted(\n"
     ]
    },
    {
     "name": "stdout",
     "output_type": "stream",
     "text": [
      "100/100 [==============================] - 20s 198ms/step - loss: 4.2423 - num_tokens: 130651.0000 - num_tokens_no_oov: 126215.0000 - num_batches: 100.0000 - num_examples: 10000.0000 - accuracy: 0.0775 - accuracy_no_oov: 0.0691 - accuracy_no_oov_no_eos: 0.0585\n",
      "Sampling 10 new clients.\n",
      "Round: 74\n",
      "   Loss: 3.95607543\n",
      "   num_batches: 193\n",
      "   num_examples: 1512\n",
      "   num_tokens: 19983\n",
      "   num_tokens_no_oov: 19291\n",
      "   accuracy: 0.10044\n",
      "   accuracy_no_oov: 0.08729\n",
      "Evaluating before training round #75 on 10000 examples.\n"
     ]
    },
    {
     "name": "stderr",
     "output_type": "stream",
     "text": [
      "/home/joel_stremmel/anaconda3/envs/tff/lib/python3.7/site-packages/tensorflow_federated/python/simulation/hdf5_client_data.py:69: H5pyDeprecationWarning: dataset.value has been deprecated. Use dataset[()] instead.\n",
      "  collections.OrderedDict((name, ds.value) for name, ds in sorted(\n"
     ]
    },
    {
     "name": "stdout",
     "output_type": "stream",
     "text": [
      "100/100 [==============================] - 21s 206ms/step - loss: 4.2373 - num_tokens: 130679.0000 - num_tokens_no_oov: 126603.0000 - num_batches: 100.0000 - num_examples: 10000.0000 - accuracy: 0.0811 - accuracy_no_oov: 0.0723 - accuracy_no_oov_no_eos: 0.0596\n",
      "Sampling 10 new clients.\n",
      "Round: 75\n",
      "   Loss: 3.92756963\n",
      "   num_batches: 258\n",
      "   num_examples: 2021\n",
      "   num_tokens: 26785\n",
      "   num_tokens_no_oov: 26110\n",
      "   accuracy: 0.09259\n",
      "   accuracy_no_oov: 0.08656\n",
      "Evaluating before training round #76 on 10000 examples.\n"
     ]
    },
    {
     "name": "stderr",
     "output_type": "stream",
     "text": [
      "/home/joel_stremmel/anaconda3/envs/tff/lib/python3.7/site-packages/tensorflow_federated/python/simulation/hdf5_client_data.py:69: H5pyDeprecationWarning: dataset.value has been deprecated. Use dataset[()] instead.\n",
      "  collections.OrderedDict((name, ds.value) for name, ds in sorted(\n"
     ]
    },
    {
     "name": "stdout",
     "output_type": "stream",
     "text": [
      "100/100 [==============================] - 19s 193ms/step - loss: 4.4367 - num_tokens: 137521.0000 - num_tokens_no_oov: 132992.0000 - num_batches: 100.0000 - num_examples: 10000.0000 - accuracy: 0.0846 - accuracy_no_oov: 0.0741 - accuracy_no_oov_no_eos: 0.0600\n",
      "Sampling 10 new clients.\n",
      "Round: 76\n",
      "   Loss: 3.79851222\n",
      "   num_batches: 304\n",
      "   num_examples: 2398\n",
      "   num_tokens: 31293\n",
      "   num_tokens_no_oov: 30281\n",
      "   accuracy: 0.10948\n",
      "   accuracy_no_oov: 0.10036\n",
      "Evaluating before training round #77 on 10000 examples.\n"
     ]
    },
    {
     "name": "stderr",
     "output_type": "stream",
     "text": [
      "/home/joel_stremmel/anaconda3/envs/tff/lib/python3.7/site-packages/tensorflow_federated/python/simulation/hdf5_client_data.py:69: H5pyDeprecationWarning: dataset.value has been deprecated. Use dataset[()] instead.\n",
      "  collections.OrderedDict((name, ds.value) for name, ds in sorted(\n"
     ]
    },
    {
     "name": "stdout",
     "output_type": "stream",
     "text": [
      "100/100 [==============================] - 19s 188ms/step - loss: 4.1032 - num_tokens: 127306.0000 - num_tokens_no_oov: 123910.0000 - num_batches: 100.0000 - num_examples: 10000.0000 - accuracy: 0.0835 - accuracy_no_oov: 0.0761 - accuracy_no_oov_no_eos: 0.0588\n",
      "Sampling 10 new clients.\n",
      "Round: 77\n",
      "   Loss: 3.54968572\n",
      "   num_batches: 586\n",
      "   num_examples: 4662\n",
      "   num_tokens: 60146\n",
      "   num_tokens_no_oov: 58332\n",
      "   accuracy: 0.12618\n",
      "   accuracy_no_oov: 0.11546\n",
      "Evaluating before training round #78 on 10000 examples.\n"
     ]
    },
    {
     "name": "stderr",
     "output_type": "stream",
     "text": [
      "/home/joel_stremmel/anaconda3/envs/tff/lib/python3.7/site-packages/tensorflow_federated/python/simulation/hdf5_client_data.py:69: H5pyDeprecationWarning: dataset.value has been deprecated. Use dataset[()] instead.\n",
      "  collections.OrderedDict((name, ds.value) for name, ds in sorted(\n"
     ]
    },
    {
     "name": "stdout",
     "output_type": "stream",
     "text": [
      "100/100 [==============================] - 19s 192ms/step - loss: 4.3473 - num_tokens: 134581.0000 - num_tokens_no_oov: 130647.0000 - num_batches: 100.0000 - num_examples: 10000.0000 - accuracy: 0.0862 - accuracy_no_oov: 0.0771 - accuracy_no_oov_no_eos: 0.0588\n",
      "Sampling 10 new clients.\n",
      "Round: 78\n",
      "   Loss: 3.09269285\n",
      "   num_batches: 513\n",
      "   num_examples: 4072\n",
      "   num_tokens: 48289\n",
      "   num_tokens_no_oov: 46887\n",
      "   accuracy: 0.15335\n",
      "   accuracy_no_oov: 0.14917\n",
      "Evaluating before training round #79 on 10000 examples.\n"
     ]
    },
    {
     "name": "stderr",
     "output_type": "stream",
     "text": [
      "/home/joel_stremmel/anaconda3/envs/tff/lib/python3.7/site-packages/tensorflow_federated/python/simulation/hdf5_client_data.py:69: H5pyDeprecationWarning: dataset.value has been deprecated. Use dataset[()] instead.\n",
      "  collections.OrderedDict((name, ds.value) for name, ds in sorted(\n"
     ]
    },
    {
     "name": "stdout",
     "output_type": "stream",
     "text": [
      "100/100 [==============================] - 19s 191ms/step - loss: 4.0824 - num_tokens: 127227.0000 - num_tokens_no_oov: 123261.0000 - num_batches: 100.0000 - num_examples: 10000.0000 - accuracy: 0.0870 - accuracy_no_oov: 0.0777 - accuracy_no_oov_no_eos: 0.0568\n",
      "Sampling 10 new clients.\n",
      "Round: 79\n",
      "   Loss: 2.98479509\n",
      "   num_batches: 953\n",
      "   num_examples: 7592\n",
      "   num_tokens: 85002\n",
      "   num_tokens_no_oov: 82121\n",
      "   accuracy: 0.14503\n",
      "   accuracy_no_oov: 0.13697\n",
      "Evaluating before training round #80 on 10000 examples.\n"
     ]
    },
    {
     "name": "stderr",
     "output_type": "stream",
     "text": [
      "/home/joel_stremmel/anaconda3/envs/tff/lib/python3.7/site-packages/tensorflow_federated/python/simulation/hdf5_client_data.py:69: H5pyDeprecationWarning: dataset.value has been deprecated. Use dataset[()] instead.\n",
      "  collections.OrderedDict((name, ds.value) for name, ds in sorted(\n"
     ]
    },
    {
     "name": "stdout",
     "output_type": "stream",
     "text": [
      "100/100 [==============================] - 19s 190ms/step - loss: 4.4169 - num_tokens: 137353.0000 - num_tokens_no_oov: 133002.0000 - num_batches: 100.0000 - num_examples: 10000.0000 - accuracy: 0.0918 - accuracy_no_oov: 0.0802 - accuracy_no_oov_no_eos: 0.0592\n",
      "Sampling 10 new clients.\n",
      "Round: 80\n",
      "   Loss: 3.43933868\n",
      "   num_batches: 655\n",
      "   num_examples: 5203\n",
      "   num_tokens: 66081\n",
      "   num_tokens_no_oov: 64214\n",
      "   accuracy: 0.13960\n",
      "   accuracy_no_oov: 0.13382\n",
      "Evaluating before training round #81 on 10000 examples.\n"
     ]
    },
    {
     "name": "stderr",
     "output_type": "stream",
     "text": [
      "/home/joel_stremmel/anaconda3/envs/tff/lib/python3.7/site-packages/tensorflow_federated/python/simulation/hdf5_client_data.py:69: H5pyDeprecationWarning: dataset.value has been deprecated. Use dataset[()] instead.\n",
      "  collections.OrderedDict((name, ds.value) for name, ds in sorted(\n"
     ]
    },
    {
     "name": "stdout",
     "output_type": "stream",
     "text": [
      "100/100 [==============================] - 20s 204ms/step - loss: 4.5377 - num_tokens: 140475.0000 - num_tokens_no_oov: 136453.0000 - num_batches: 100.0000 - num_examples: 10000.0000 - accuracy: 0.0868 - accuracy_no_oov: 0.0754 - accuracy_no_oov_no_eos: 0.0543\n",
      "Sampling 10 new clients.\n",
      "Round: 81\n",
      "   Loss: 3.77308679\n",
      "   num_batches: 433\n",
      "   num_examples: 3430\n",
      "   num_tokens: 44930\n",
      "   num_tokens_no_oov: 43791\n",
      "   accuracy: 0.11224\n",
      "   accuracy_no_oov: 0.10847\n",
      "Evaluating before training round #82 on 10000 examples.\n"
     ]
    },
    {
     "name": "stderr",
     "output_type": "stream",
     "text": [
      "/home/joel_stremmel/anaconda3/envs/tff/lib/python3.7/site-packages/tensorflow_federated/python/simulation/hdf5_client_data.py:69: H5pyDeprecationWarning: dataset.value has been deprecated. Use dataset[()] instead.\n",
      "  collections.OrderedDict((name, ds.value) for name, ds in sorted(\n"
     ]
    },
    {
     "name": "stdout",
     "output_type": "stream",
     "text": [
      "100/100 [==============================] - 20s 196ms/step - loss: 4.4517 - num_tokens: 138518.0000 - num_tokens_no_oov: 133812.0000 - num_batches: 100.0000 - num_examples: 10000.0000 - accuracy: 0.0945 - accuracy_no_oov: 0.0806 - accuracy_no_oov_no_eos: 0.0567\n",
      "Sampling 10 new clients.\n",
      "Round: 82\n",
      "   Loss: 3.87150073\n",
      "   num_batches: 421\n",
      "   num_examples: 3314\n",
      "   num_tokens: 45195\n",
      "   num_tokens_no_oov: 43999\n",
      "   accuracy: 0.12847\n",
      "   accuracy_no_oov: 0.12253\n",
      "Evaluating before training round #83 on 10000 examples.\n"
     ]
    },
    {
     "name": "stderr",
     "output_type": "stream",
     "text": [
      "/home/joel_stremmel/anaconda3/envs/tff/lib/python3.7/site-packages/tensorflow_federated/python/simulation/hdf5_client_data.py:69: H5pyDeprecationWarning: dataset.value has been deprecated. Use dataset[()] instead.\n",
      "  collections.OrderedDict((name, ds.value) for name, ds in sorted(\n"
     ]
    },
    {
     "name": "stdout",
     "output_type": "stream",
     "text": [
      "100/100 [==============================] - 20s 198ms/step - loss: 4.3968 - num_tokens: 136382.0000 - num_tokens_no_oov: 132024.0000 - num_batches: 100.0000 - num_examples: 10000.0000 - accuracy: 0.0907 - accuracy_no_oov: 0.0781 - accuracy_no_oov_no_eos: 0.0520\n",
      "Sampling 10 new clients.\n",
      "Round: 83\n",
      "   Loss: 3.72109318\n",
      "   num_batches: 870\n",
      "   num_examples: 6925\n",
      "   num_tokens: 95328\n",
      "   num_tokens_no_oov: 92178\n",
      "   accuracy: 0.14191\n",
      "   accuracy_no_oov: 0.13223\n",
      "Evaluating before training round #84 on 10000 examples.\n"
     ]
    },
    {
     "name": "stderr",
     "output_type": "stream",
     "text": [
      "/home/joel_stremmel/anaconda3/envs/tff/lib/python3.7/site-packages/tensorflow_federated/python/simulation/hdf5_client_data.py:69: H5pyDeprecationWarning: dataset.value has been deprecated. Use dataset[()] instead.\n",
      "  collections.OrderedDict((name, ds.value) for name, ds in sorted(\n"
     ]
    },
    {
     "name": "stdout",
     "output_type": "stream",
     "text": [
      "100/100 [==============================] - 20s 205ms/step - loss: 4.4231 - num_tokens: 137737.0000 - num_tokens_no_oov: 133790.0000 - num_batches: 100.0000 - num_examples: 10000.0000 - accuracy: 0.0930 - accuracy_no_oov: 0.0810 - accuracy_no_oov_no_eos: 0.0520\n",
      "Sampling 10 new clients.\n",
      "Round: 84\n",
      "   Loss: 4.18553877\n",
      "   num_batches: 298\n",
      "   num_examples: 2348\n",
      "   num_tokens: 33459\n",
      "   num_tokens_no_oov: 32443\n",
      "   accuracy: 0.11282\n",
      "   accuracy_no_oov: 0.10483\n",
      "Evaluating before training round #85 on 10000 examples.\n"
     ]
    },
    {
     "name": "stderr",
     "output_type": "stream",
     "text": [
      "/home/joel_stremmel/anaconda3/envs/tff/lib/python3.7/site-packages/tensorflow_federated/python/simulation/hdf5_client_data.py:69: H5pyDeprecationWarning: dataset.value has been deprecated. Use dataset[()] instead.\n",
      "  collections.OrderedDict((name, ds.value) for name, ds in sorted(\n"
     ]
    },
    {
     "name": "stdout",
     "output_type": "stream",
     "text": [
      "100/100 [==============================] - 20s 201ms/step - loss: 4.2083 - num_tokens: 132389.0000 - num_tokens_no_oov: 128056.0000 - num_batches: 100.0000 - num_examples: 10000.0000 - accuracy: 0.1025 - accuracy_no_oov: 0.0883 - accuracy_no_oov_no_eos: 0.0546\n",
      "Sampling 10 new clients.\n",
      "Round: 85\n",
      "   Loss: 3.87993145\n",
      "   num_batches: 259\n",
      "   num_examples: 2033\n",
      "   num_tokens: 27249\n",
      "   num_tokens_no_oov: 26591\n",
      "   accuracy: 0.12147\n",
      "   accuracy_no_oov: 0.11726\n",
      "Evaluating before training round #86 on 10000 examples.\n"
     ]
    },
    {
     "name": "stderr",
     "output_type": "stream",
     "text": [
      "/home/joel_stremmel/anaconda3/envs/tff/lib/python3.7/site-packages/tensorflow_federated/python/simulation/hdf5_client_data.py:69: H5pyDeprecationWarning: dataset.value has been deprecated. Use dataset[()] instead.\n",
      "  collections.OrderedDict((name, ds.value) for name, ds in sorted(\n"
     ]
    },
    {
     "name": "stdout",
     "output_type": "stream",
     "text": [
      "100/100 [==============================] - 19s 193ms/step - loss: 4.3176 - num_tokens: 135138.0000 - num_tokens_no_oov: 131250.0000 - num_batches: 100.0000 - num_examples: 10000.0000 - accuracy: 0.0961 - accuracy_no_oov: 0.0834 - accuracy_no_oov_no_eos: 0.0503\n",
      "Sampling 10 new clients.\n",
      "Round: 86\n",
      "   Loss: 4.05985594\n",
      "   num_batches: 177\n",
      "   num_examples: 1378\n",
      "   num_tokens: 18922\n",
      "   num_tokens_no_oov: 18294\n",
      "   accuracy: 0.12108\n",
      "   accuracy_no_oov: 0.11064\n",
      "Evaluating before training round #87 on 10000 examples.\n"
     ]
    },
    {
     "name": "stderr",
     "output_type": "stream",
     "text": [
      "/home/joel_stremmel/anaconda3/envs/tff/lib/python3.7/site-packages/tensorflow_federated/python/simulation/hdf5_client_data.py:69: H5pyDeprecationWarning: dataset.value has been deprecated. Use dataset[()] instead.\n",
      "  collections.OrderedDict((name, ds.value) for name, ds in sorted(\n"
     ]
    },
    {
     "name": "stdout",
     "output_type": "stream",
     "text": [
      "100/100 [==============================] - 21s 207ms/step - loss: 4.3358 - num_tokens: 136548.0000 - num_tokens_no_oov: 131593.0000 - num_batches: 100.0000 - num_examples: 10000.0000 - accuracy: 0.1041 - accuracy_no_oov: 0.0891 - accuracy_no_oov_no_eos: 0.0543\n",
      "Sampling 10 new clients.\n",
      "Round: 87\n",
      "   Loss: 3.96004462\n",
      "   num_batches: 337\n",
      "   num_examples: 2649\n",
      "   num_tokens: 36616\n",
      "   num_tokens_no_oov: 35362\n",
      "   accuracy: 0.12161\n",
      "   accuracy_no_oov: 0.11085\n",
      "Evaluating before training round #88 on 10000 examples.\n"
     ]
    },
    {
     "name": "stderr",
     "output_type": "stream",
     "text": [
      "/home/joel_stremmel/anaconda3/envs/tff/lib/python3.7/site-packages/tensorflow_federated/python/simulation/hdf5_client_data.py:69: H5pyDeprecationWarning: dataset.value has been deprecated. Use dataset[()] instead.\n",
      "  collections.OrderedDict((name, ds.value) for name, ds in sorted(\n"
     ]
    },
    {
     "name": "stdout",
     "output_type": "stream",
     "text": [
      "100/100 [==============================] - 19s 194ms/step - loss: 4.0887 - num_tokens: 128906.0000 - num_tokens_no_oov: 125087.0000 - num_batches: 100.0000 - num_examples: 10000.0000 - accuracy: 0.1020 - accuracy_no_oov: 0.0892 - accuracy_no_oov_no_eos: 0.0519\n",
      "Sampling 10 new clients.\n",
      "Round: 88\n",
      "   Loss: 3.79654455\n",
      "   num_batches: 532\n",
      "   num_examples: 4231\n",
      "   num_tokens: 57548\n",
      "   num_tokens_no_oov: 55950\n",
      "   accuracy: 0.14120\n",
      "   accuracy_no_oov: 0.13559\n",
      "Evaluating before training round #89 on 10000 examples.\n"
     ]
    },
    {
     "name": "stderr",
     "output_type": "stream",
     "text": [
      "/home/joel_stremmel/anaconda3/envs/tff/lib/python3.7/site-packages/tensorflow_federated/python/simulation/hdf5_client_data.py:69: H5pyDeprecationWarning: dataset.value has been deprecated. Use dataset[()] instead.\n",
      "  collections.OrderedDict((name, ds.value) for name, ds in sorted(\n"
     ]
    },
    {
     "name": "stdout",
     "output_type": "stream",
     "text": [
      "100/100 [==============================] - 20s 196ms/step - loss: 4.1545 - num_tokens: 132085.0000 - num_tokens_no_oov: 127644.0000 - num_batches: 100.0000 - num_examples: 10000.0000 - accuracy: 0.1097 - accuracy_no_oov: 0.0950 - accuracy_no_oov_no_eos: 0.0563\n",
      "Sampling 10 new clients.\n",
      "Round: 89\n",
      "   Loss: 3.86009359\n",
      "   num_batches: 300\n",
      "   num_examples: 2370\n",
      "   num_tokens: 31328\n",
      "   num_tokens_no_oov: 30495\n",
      "   accuracy: 0.12427\n",
      "   accuracy_no_oov: 0.11713\n",
      "Evaluating before training round #90 on 10000 examples.\n"
     ]
    },
    {
     "name": "stderr",
     "output_type": "stream",
     "text": [
      "/home/joel_stremmel/anaconda3/envs/tff/lib/python3.7/site-packages/tensorflow_federated/python/simulation/hdf5_client_data.py:69: H5pyDeprecationWarning: dataset.value has been deprecated. Use dataset[()] instead.\n",
      "  collections.OrderedDict((name, ds.value) for name, ds in sorted(\n"
     ]
    },
    {
     "name": "stdout",
     "output_type": "stream",
     "text": [
      "100/100 [==============================] - 19s 193ms/step - loss: 4.2540 - num_tokens: 134903.0000 - num_tokens_no_oov: 130630.0000 - num_batches: 100.0000 - num_examples: 10000.0000 - accuracy: 0.1149 - accuracy_no_oov: 0.1016 - accuracy_no_oov_no_eos: 0.0613\n",
      "Sampling 10 new clients.\n",
      "Round: 90\n",
      "   Loss: 3.50295806\n",
      "   num_batches: 296\n",
      "   num_examples: 2334\n",
      "   num_tokens: 30135\n",
      "   num_tokens_no_oov: 29337\n",
      "   accuracy: 0.15036\n",
      "   accuracy_no_oov: 0.14623\n",
      "Evaluating before training round #91 on 10000 examples.\n"
     ]
    },
    {
     "name": "stderr",
     "output_type": "stream",
     "text": [
      "/home/joel_stremmel/anaconda3/envs/tff/lib/python3.7/site-packages/tensorflow_federated/python/simulation/hdf5_client_data.py:69: H5pyDeprecationWarning: dataset.value has been deprecated. Use dataset[()] instead.\n",
      "  collections.OrderedDict((name, ds.value) for name, ds in sorted(\n"
     ]
    },
    {
     "name": "stdout",
     "output_type": "stream",
     "text": [
      "100/100 [==============================] - 20s 195ms/step - loss: 4.0632 - num_tokens: 129100.0000 - num_tokens_no_oov: 124979.0000 - num_batches: 100.0000 - num_examples: 10000.0000 - accuracy: 0.1197 - accuracy_no_oov: 0.1071 - accuracy_no_oov_no_eos: 0.0651\n",
      "Sampling 10 new clients.\n",
      "Round: 91\n",
      "   Loss: 3.63057280\n",
      "   num_batches: 343\n",
      "   num_examples: 2702\n",
      "   num_tokens: 35780\n",
      "   num_tokens_no_oov: 34662\n",
      "   accuracy: 0.15112\n",
      "   accuracy_no_oov: 0.14261\n",
      "Evaluating before training round #92 on 10000 examples.\n"
     ]
    },
    {
     "name": "stderr",
     "output_type": "stream",
     "text": [
      "/home/joel_stremmel/anaconda3/envs/tff/lib/python3.7/site-packages/tensorflow_federated/python/simulation/hdf5_client_data.py:69: H5pyDeprecationWarning: dataset.value has been deprecated. Use dataset[()] instead.\n",
      "  collections.OrderedDict((name, ds.value) for name, ds in sorted(\n"
     ]
    },
    {
     "name": "stdout",
     "output_type": "stream",
     "text": [
      "100/100 [==============================] - 19s 190ms/step - loss: 4.3863 - num_tokens: 138925.0000 - num_tokens_no_oov: 135042.0000 - num_batches: 100.0000 - num_examples: 10000.0000 - accuracy: 0.1120 - accuracy_no_oov: 0.1008 - accuracy_no_oov_no_eos: 0.0614\n",
      "Sampling 10 new clients.\n",
      "Round: 92\n",
      "   Loss: 3.92113900\n",
      "   num_batches: 323\n",
      "   num_examples: 2549\n",
      "   num_tokens: 34646\n",
      "   num_tokens_no_oov: 33611\n",
      "   accuracy: 0.13231\n",
      "   accuracy_no_oov: 0.12567\n",
      "Evaluating before training round #93 on 10000 examples.\n"
     ]
    },
    {
     "name": "stderr",
     "output_type": "stream",
     "text": [
      "/home/joel_stremmel/anaconda3/envs/tff/lib/python3.7/site-packages/tensorflow_federated/python/simulation/hdf5_client_data.py:69: H5pyDeprecationWarning: dataset.value has been deprecated. Use dataset[()] instead.\n",
      "  collections.OrderedDict((name, ds.value) for name, ds in sorted(\n"
     ]
    },
    {
     "name": "stdout",
     "output_type": "stream",
     "text": [
      "100/100 [==============================] - 19s 188ms/step - loss: 4.1449 - num_tokens: 132899.0000 - num_tokens_no_oov: 128911.0000 - num_batches: 100.0000 - num_examples: 10000.0000 - accuracy: 0.1208 - accuracy_no_oov: 0.1090 - accuracy_no_oov_no_eos: 0.0671\n",
      "Sampling 10 new clients.\n",
      "Round: 93\n",
      "   Loss: 3.69115567\n",
      "   num_batches: 356\n",
      "   num_examples: 2809\n",
      "   num_tokens: 37393\n",
      "   num_tokens_no_oov: 36445\n",
      "   accuracy: 0.14583\n",
      "   accuracy_no_oov: 0.14169\n",
      "Evaluating before training round #94 on 10000 examples.\n"
     ]
    },
    {
     "name": "stderr",
     "output_type": "stream",
     "text": [
      "/home/joel_stremmel/anaconda3/envs/tff/lib/python3.7/site-packages/tensorflow_federated/python/simulation/hdf5_client_data.py:69: H5pyDeprecationWarning: dataset.value has been deprecated. Use dataset[()] instead.\n",
      "  collections.OrderedDict((name, ds.value) for name, ds in sorted(\n"
     ]
    },
    {
     "name": "stdout",
     "output_type": "stream",
     "text": [
      "100/100 [==============================] - 19s 191ms/step - loss: 4.1195 - num_tokens: 132038.0000 - num_tokens_no_oov: 128120.0000 - num_batches: 100.0000 - num_examples: 10000.0000 - accuracy: 0.1212 - accuracy_no_oov: 0.1084 - accuracy_no_oov_no_eos: 0.0666\n",
      "Sampling 10 new clients.\n",
      "Round: 94\n",
      "   Loss: 3.74396563\n",
      "   num_batches: 357\n",
      "   num_examples: 2817\n",
      "   num_tokens: 37451\n",
      "   num_tokens_no_oov: 36166\n",
      "   accuracy: 0.15364\n",
      "   accuracy_no_oov: 0.14373\n",
      "Evaluating before training round #95 on 10000 examples.\n"
     ]
    },
    {
     "name": "stderr",
     "output_type": "stream",
     "text": [
      "/home/joel_stremmel/anaconda3/envs/tff/lib/python3.7/site-packages/tensorflow_federated/python/simulation/hdf5_client_data.py:69: H5pyDeprecationWarning: dataset.value has been deprecated. Use dataset[()] instead.\n",
      "  collections.OrderedDict((name, ds.value) for name, ds in sorted(\n"
     ]
    },
    {
     "name": "stdout",
     "output_type": "stream",
     "text": [
      "100/100 [==============================] - 19s 193ms/step - loss: 4.1349 - num_tokens: 134156.0000 - num_tokens_no_oov: 130169.0000 - num_batches: 100.0000 - num_examples: 10000.0000 - accuracy: 0.1221 - accuracy_no_oov: 0.1105 - accuracy_no_oov_no_eos: 0.0665num_tokens: 12839.0000 - num_tokens_no_oov: 12441.0000 - \n",
      "Sampling 10 new clients.\n",
      "Round: 95\n",
      "   Loss: 4.06396580\n",
      "   num_batches: 475\n",
      "   num_examples: 3762\n",
      "   num_tokens: 57989\n",
      "   num_tokens_no_oov: 55977\n",
      "   accuracy: 0.16160\n",
      "   accuracy_no_oov: 0.15526\n",
      "Evaluating before training round #96 on 10000 examples.\n"
     ]
    },
    {
     "name": "stderr",
     "output_type": "stream",
     "text": [
      "/home/joel_stremmel/anaconda3/envs/tff/lib/python3.7/site-packages/tensorflow_federated/python/simulation/hdf5_client_data.py:69: H5pyDeprecationWarning: dataset.value has been deprecated. Use dataset[()] instead.\n",
      "  collections.OrderedDict((name, ds.value) for name, ds in sorted(\n"
     ]
    },
    {
     "name": "stdout",
     "output_type": "stream",
     "text": [
      "100/100 [==============================] - 19s 192ms/step - loss: 4.1922 - num_tokens: 135186.0000 - num_tokens_no_oov: 130447.0000 - num_batches: 100.0000 - num_examples: 10000.0000 - accuracy: 0.1247 - accuracy_no_oov: 0.1110 - accuracy_no_oov_no_eos: 0.0694\n",
      "Sampling 10 new clients.\n",
      "Round: 96\n",
      "   Loss: 3.97123528\n",
      "   num_batches: 335\n",
      "   num_examples: 2650\n",
      "   num_tokens: 36496\n",
      "   num_tokens_no_oov: 35334\n",
      "   accuracy: 0.13171\n",
      "   accuracy_no_oov: 0.12257\n",
      "Evaluating before training round #97 on 10000 examples.\n"
     ]
    },
    {
     "name": "stderr",
     "output_type": "stream",
     "text": [
      "/home/joel_stremmel/anaconda3/envs/tff/lib/python3.7/site-packages/tensorflow_federated/python/simulation/hdf5_client_data.py:69: H5pyDeprecationWarning: dataset.value has been deprecated. Use dataset[()] instead.\n",
      "  collections.OrderedDict((name, ds.value) for name, ds in sorted(\n"
     ]
    },
    {
     "name": "stdout",
     "output_type": "stream",
     "text": [
      "100/100 [==============================] - 20s 198ms/step - loss: 4.1813 - num_tokens: 135283.0000 - num_tokens_no_oov: 131197.0000 - num_batches: 100.0000 - num_examples: 10000.0000 - accuracy: 0.1232 - accuracy_no_oov: 0.1120 - accuracy_no_oov_no_eos: 0.0702- num_tokens: 37015.0000 - num_tokens_no_oov: 35834.0000 - num_batches: 28.0000 - num_examples\n",
      "Sampling 10 new clients.\n",
      "Round: 97\n",
      "   Loss: 3.59753847\n",
      "   num_batches: 390\n",
      "   num_examples: 3084\n",
      "   num_tokens: 39841\n",
      "   num_tokens_no_oov: 38745\n",
      "   accuracy: 0.14071\n",
      "   accuracy_no_oov: 0.13532\n",
      "Evaluating before training round #98 on 10000 examples.\n"
     ]
    },
    {
     "name": "stderr",
     "output_type": "stream",
     "text": [
      "/home/joel_stremmel/anaconda3/envs/tff/lib/python3.7/site-packages/tensorflow_federated/python/simulation/hdf5_client_data.py:69: H5pyDeprecationWarning: dataset.value has been deprecated. Use dataset[()] instead.\n",
      "  collections.OrderedDict((name, ds.value) for name, ds in sorted(\n"
     ]
    },
    {
     "name": "stdout",
     "output_type": "stream",
     "text": [
      "100/100 [==============================] - 20s 196ms/step - loss: 4.0628 - num_tokens: 132463.0000 - num_tokens_no_oov: 128136.0000 - num_batches: 100.0000 - num_examples: 10000.0000 - accuracy: 0.1293 - accuracy_no_oov: 0.1159 - accuracy_no_oov_no_eos: 0.0727\n",
      "Sampling 10 new clients.\n",
      "Round: 98\n",
      "   Loss: 3.71612668\n",
      "   num_batches: 879\n",
      "   num_examples: 7000\n",
      "   num_tokens: 95313\n",
      "   num_tokens_no_oov: 92121\n",
      "   accuracy: 0.14389\n",
      "   accuracy_no_oov: 0.13715\n",
      "Evaluating before training round #99 on 10000 examples.\n"
     ]
    },
    {
     "name": "stderr",
     "output_type": "stream",
     "text": [
      "/home/joel_stremmel/anaconda3/envs/tff/lib/python3.7/site-packages/tensorflow_federated/python/simulation/hdf5_client_data.py:69: H5pyDeprecationWarning: dataset.value has been deprecated. Use dataset[()] instead.\n",
      "  collections.OrderedDict((name, ds.value) for name, ds in sorted(\n"
     ]
    },
    {
     "name": "stdout",
     "output_type": "stream",
     "text": [
      "100/100 [==============================] - 20s 198ms/step - loss: 4.0202 - num_tokens: 131020.0000 - num_tokens_no_oov: 127140.0000 - num_batches: 100.0000 - num_examples: 10000.0000 - accuracy: 0.1284 - accuracy_no_oov: 0.1180 - accuracy_no_oov_no_eos: 0.0727\n",
      "Sampling 10 new clients.\n",
      "Round: 99\n",
      "   Loss: 3.87761283\n",
      "   num_batches: 666\n",
      "   num_examples: 5294\n",
      "   num_tokens: 75905\n",
      "   num_tokens_no_oov: 73292\n",
      "   accuracy: 0.14966\n",
      "   accuracy_no_oov: 0.13802\n"
     ]
    }
   ],
   "source": [
    "for round_num in range(0, NUM_ROUNDS):\n",
    "    \n",
    "    # Examine validation metrics\n",
    "    print(f'Evaluating before training round #{round_num} on {NUM_VALIDATION_EXAMPLES} examples.')\n",
    "    keras_evaluate(server_state, val_data)\n",
    "    \n",
    "    # Sample train clients to create a train dataset\n",
    "    print(f'Sampling {NUM_TRAIN_CLIENTS} new clients.')\n",
    "    train_clients = get_sample_clients(train_data, num_clients=NUM_TRAIN_CLIENTS)\n",
    "    train_datasets = [train_data.create_tf_dataset_for_client(client) for client in train_clients]\n",
    "    \n",
    "    # Apply federated training round\n",
    "    server_state, server_metrics = iterative_process.next(server_state, train_datasets)\n",
    "    \n",
    "    # Examine training metrics\n",
    "    print('Round: {}'.format(round_num))\n",
    "    print('   Loss: {:.8f}'.format(server_metrics.loss))\n",
    "    print('   num_batches: {}'.format(server_metrics.num_batches))\n",
    "    print('   num_examples: {}'.format(server_metrics.num_examples))\n",
    "    print('   num_tokens: {}'.format(server_metrics.num_tokens))\n",
    "    print('   num_tokens_no_oov: {}'.format(server_metrics.num_tokens_no_oov))\n",
    "    print('   accuracy: {:.5f}'.format(server_metrics.accuracy))\n",
    "    print('   accuracy_no_oov: {:.5f}'.format(server_metrics.accuracy_no_oov))\n",
    "    \n",
    "    # Add train metrics to tracker\n",
    "    train_metrics_tracker.add_metrics_by_name('loss', server_metrics.loss)\n",
    "    train_metrics_tracker.add_metrics_by_name('accuracy', server_metrics.accuracy)"
   ]
  },
  {
   "cell_type": "markdown",
   "metadata": {},
   "source": [
    "### Plot Model Objective Function"
   ]
  },
  {
   "cell_type": "code",
   "execution_count": 35,
   "metadata": {},
   "outputs": [
    {
     "data": {
      "image/png": "[encoded data removed]",
      "text/plain": [
       "<Figure size 432x288 with 1 Axes>"
      ]
     },
     "metadata": {
      "needs_background": "light"
     },
     "output_type": "display_data"
    }
   ],
   "source": [
    "fig, ax = plt.subplots()\n",
    "x_axis = range(0, NUM_ROUNDS)\n",
    "ax.plot(x_axis, train_metrics_tracker.get_metrics_by_name('loss'), label='Train')\n",
    "ax.plot(x_axis, val_metrics_tracker.get_metrics_by_name('loss'), label='Validation')\n",
    "ax.legend(loc='best')\n",
    "plt.ylabel('Value of Objective Function')\n",
    "plt.title('Model Objective Function at Each Training Round')\n",
    "plt.show()"
   ]
  },
  {
   "cell_type": "markdown",
   "metadata": {},
   "source": [
    "### Plot Model Accuracy"
   ]
  },
  {
   "cell_type": "code",
   "execution_count": 36,
   "metadata": {},
   "outputs": [
    {
     "data": {
      "image/png": "[encoded data removed]",
      "text/plain": [
       "<Figure size 432x288 with 1 Axes>"
      ]
     },
     "metadata": {
      "needs_background": "light"
     },
     "output_type": "display_data"
    }
   ],
   "source": [
    "fig, ax = plt.subplots()\n",
    "x_axis = range(0, NUM_ROUNDS)\n",
    "ax.plot(x_axis, train_metrics_tracker.get_metrics_by_name('accuracy'), label='Train')\n",
    "ax.plot(x_axis, val_metrics_tracker.get_metrics_by_name('accuracy'), label='Validation')\n",
    "ax.legend(loc='best')\n",
    "plt.ylabel('Accuracy')\n",
    "plt.title('Model Accuracy at Each Training Round')\n",
    "plt.show()"
   ]
  },
  {
   "cell_type": "markdown",
   "metadata": {},
   "source": [
    "### Get Final Evaluation"
   ]
  },
  {
   "cell_type": "code",
   "execution_count": 37,
   "metadata": {},
   "outputs": [
    {
     "name": "stderr",
     "output_type": "stream",
     "text": [
      "/home/joel_stremmel/anaconda3/envs/tff/lib/python3.7/site-packages/tensorflow_federated/python/simulation/hdf5_client_data.py:69: H5pyDeprecationWarning: dataset.value has been deprecated. Use dataset[()] instead.\n",
      "  collections.OrderedDict((name, ds.value) for name, ds in sorted(\n"
     ]
    },
    {
     "name": "stdout",
     "output_type": "stream",
     "text": [
      "100/100 [==============================] - 19s 191ms/step - loss: 4.0321 - num_tokens: 131351.0000 - num_tokens_no_oov: 127224.0000 - num_batches: 100.0000 - num_examples: 10000.0000 - accuracy: 0.1282 - accuracy_no_oov: 0.1164 - accuracy_no_oov_no_eos: 0.0726\n"
     ]
    }
   ],
   "source": [
    "keras_evaluate(server_state, val_data)"
   ]
  },
  {
   "cell_type": "markdown",
   "metadata": {},
   "source": [
    "### Generate Text"
   ]
  },
  {
   "cell_type": "code",
   "execution_count": 38,
   "metadata": {},
   "outputs": [
    {
     "name": "stdout",
     "output_type": "stream",
     "text": [
      "how are you todaylike save dequeue guesses planning rendered improperly rectangles inference tryparse bear volatile game modifications ignoring process dx curves parenthesis a-za-z0-9 jetty interceptors wget mine sessions fortunately integer actor assumed nsmutablearray representation httpurlconnection mileage bot known mixture zone buffered crash fires tool in notifies uitableview inbetween code-behind sim fortunately integer blame\n"
     ]
    }
   ],
   "source": [
    "keras_model = build_model()\n",
    "tff.learning.assign_weights_to_keras_model(keras_model, server_state.model)\n",
    "print(generate_text(keras_model, \"How are you today\"))"
   ]
  },
  {
   "cell_type": "markdown",
   "metadata": {},
   "source": [
    "### Review Model Architecture"
   ]
  },
  {
   "cell_type": "code",
   "execution_count": 39,
   "metadata": {},
   "outputs": [
    {
     "name": "stdout",
     "output_type": "stream",
     "text": [
      "Model: \"model_102\"\n",
      "_________________________________________________________________\n",
      "Layer (type)                 Output Shape              Param #   \n",
      "=================================================================\n",
      "model1_input (InputLayer)    [(None, None)]            0         \n",
      "_________________________________________________________________\n",
      "model1_embedding (Embedding) (None, None, 100)         1000400   \n",
      "_________________________________________________________________\n",
      "model1_lstm (LSTM)           (None, None, 256)         365568    \n",
      "_________________________________________________________________\n",
      "dense_204 (Dense)            (None, None, 100)         25700     \n",
      "_________________________________________________________________\n",
      "dense_205 (Dense)            (None, None, 10004)       1010404   \n",
      "=================================================================\n",
      "Total params: 2,402,072\n",
      "Trainable params: 2,402,072\n",
      "Non-trainable params: 0\n",
      "_________________________________________________________________\n"
     ]
    }
   ],
   "source": [
    "keras_model.summary()"
   ]
  },
  {
   "cell_type": "code",
   "execution_count": null,
   "metadata": {},
   "outputs": [],
   "source": []
  }
 ],
 "metadata": {
  "kernelspec": {
   "display_name": "fed",
   "language": "python",
   "name": "fed"
  },
  "language_info": {
   "codemirror_mode": {
    "name": "ipython",
    "version": 3
   },
   "file_extension": ".py",
   "mimetype": "text/x-python",
   "name": "python",
   "nbconvert_exporter": "python",
   "pygments_lexer": "ipython3",
   "version": "3.7.5"
  }
 },
 "nbformat": 4,
 "nbformat_minor": 2
}
