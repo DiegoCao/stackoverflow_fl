{
 "cells": [
  {
   "cell_type": "markdown",
   "metadata": {},
   "source": [
    "# Word Level Federated Text Generation with Stack Overflow\n",
    "- Joel Stremmel\n",
    "- 01-28-20\n",
    "\n",
    "**About:**\n",
    "\n",
    "This notebook loads the Stack Overflow data available through `tff.simulation.datasets` and trains an LSTM model with Federared Averaging by following the Federated Learning for Text Generation [example notebook](https://github.com/tensorflow/federated/blob/master/docs/tutorials/federated_learning_for_text_generation.ipynb).\n",
    "\n",
    "**Notes:**\n",
    "\n",
    "- This notebook prepares the Stack Overflow dataset for word level language modeling using this [module](https://github.com/tensorflow/federated/blob/master/tensorflow_federated/python/research/baselines/stackoverflow/dataset.py\n",
    ").\n",
    "- The metrics for model training come from this [module](https://github.com/tensorflow/federated/blob/master/tensorflow_federated/python/research/baselines/stackoverflow/metrics.py). \n",
    "\n",
    "\n",
    "**Data:** \n",
    "- https://www.kaggle.com/stackoverflow/stackoverflow\n",
    "\n",
    "**License:** \n",
    "- https://creativecommons.org/licenses/by-sa/3.0/\n",
    "\n",
    "**Data and Model References:**\n",
    "- https://www.tensorflow.org/federated/api_docs/python/tff/simulation/datasets/stackoverflow/load_data\n",
    "- https://github.com/tensorflow/federated/blob/master/docs/tutorials/federated_learning_for_text_generation.ipynb\n",
    "- https://github.com/tensorflow/federated/\n",
    "- https://github.com/tensorflow/federated/tree/master/tensorflow_federated/python/research/baselines/stackoverflow\n",
    "- https://www.tensorflow.org/tutorials/text/text_generation\n",
    "- https://ruder.io/deep-learning-nlp-best-practices/\n",
    "\n",
    "**Environment Setup References:**\n",
    "- https://www.tensorflow.org/install/gpu\n",
    "- https://gist.github.com/matheustguimaraes/43e0b65aa534db4df2918f835b9b361d\n",
    "- https://www.tensorflow.org/install/source#tested_build_configurations\n",
    "- https://anbasile.github.io/programming/2017/06/25/jupyter-venv/"
   ]
  },
  {
   "cell_type": "markdown",
   "metadata": {},
   "source": [
    "### Environment Setup\n",
    "Pip install these packages in the order listed."
   ]
  },
  {
   "cell_type": "code",
   "execution_count": 1,
   "metadata": {},
   "outputs": [],
   "source": [
    "# !pip install --upgrade pip\n",
    "# !pip install --upgrade tensorflow-federated\n",
    "# !pip uninstall tensorflow -y\n",
    "# !pip install --upgrade tensorflow-gpu==2.0\n",
    "# !pip install --upgrade nltk\n",
    "# !pip install matplotlib\n",
    "# !pip install nest_asyncio"
   ]
  },
  {
   "cell_type": "markdown",
   "metadata": {},
   "source": [
    "### Imports"
   ]
  },
  {
   "cell_type": "code",
   "execution_count": 2,
   "metadata": {},
   "outputs": [],
   "source": [
    "import nest_asyncio\n",
    "nest_asyncio.apply()"
   ]
  },
  {
   "cell_type": "code",
   "execution_count": 3,
   "metadata": {},
   "outputs": [],
   "source": [
    "import os, sys\n",
    "sys.path.append(os.path.dirname(os.path.dirname(os.getcwd())))"
   ]
  },
  {
   "cell_type": "code",
   "execution_count": 4,
   "metadata": {},
   "outputs": [],
   "source": [
    "# from https://github.com/tensorflow/federated/blob/master/tensorflow_federated/python/research/baselines/stackoverflow/dataset.py\n",
    "from utils.dataset import construct_word_level_datasets, get_vocab, get_special_tokens\n",
    "\n",
    "# from https://github.com/tensorflow/federated/blob/master/tensorflow_federated/python/research/baselines/stackoverflow/metrics.py\n",
    "import utils.metrics as metrics"
   ]
  },
  {
   "cell_type": "code",
   "execution_count": 5,
   "metadata": {},
   "outputs": [],
   "source": [
    "import collections\n",
    "import functools\n",
    "import six\n",
    "import time\n",
    "import string\n",
    "\n",
    "import numpy as np\n",
    "import matplotlib.pyplot as plt\n",
    "from nltk.corpus import stopwords\n",
    "\n",
    "import tensorflow as tf\n",
    "import tensorflow_federated as tff"
   ]
  },
  {
   "cell_type": "markdown",
   "metadata": {},
   "source": [
    "### Set Compatability Behavior"
   ]
  },
  {
   "cell_type": "code",
   "execution_count": 6,
   "metadata": {},
   "outputs": [],
   "source": [
    "tf.compat.v1.enable_v2_behavior()"
   ]
  },
  {
   "cell_type": "markdown",
   "metadata": {},
   "source": [
    "### Check Tensorflow Install"
   ]
  },
  {
   "cell_type": "code",
   "execution_count": 7,
   "metadata": {},
   "outputs": [
    {
     "name": "stdout",
     "output_type": "stream",
     "text": [
      "Built with Cuda: True\n",
      "Build with GPU support: True\n",
      "Num GPUs Available:  1\n"
     ]
    }
   ],
   "source": [
    "print('Built with Cuda: {}'.format(tf.test.is_built_with_cuda()))\n",
    "print('Build with GPU support: {}'.format(tf.test.is_built_with_gpu_support()))\n",
    "print(\"Num GPUs Available: \", len(tf.config.experimental.list_physical_devices('GPU')))"
   ]
  },
  {
   "cell_type": "markdown",
   "metadata": {},
   "source": [
    "### Set Tensorflow to Use GPU"
   ]
  },
  {
   "cell_type": "code",
   "execution_count": 8,
   "metadata": {},
   "outputs": [
    {
     "name": "stdout",
     "output_type": "stream",
     "text": [
      "PhysicalDevice(name='/physical_device:CPU:0', device_type='CPU')\n",
      "PhysicalDevice(name='/physical_device:XLA_CPU:0', device_type='XLA_CPU')\n",
      "PhysicalDevice(name='/physical_device:XLA_GPU:0', device_type='XLA_GPU')\n",
      "PhysicalDevice(name='/physical_device:GPU:0', device_type='GPU')\n"
     ]
    }
   ],
   "source": [
    "physical_devices = tf.config.experimental.list_physical_devices(device_type=None)\n",
    "tf.config.experimental.set_memory_growth(physical_devices[-1], enable=True)\n",
    "for device in physical_devices:\n",
    "    print(device)"
   ]
  },
  {
   "cell_type": "markdown",
   "metadata": {},
   "source": [
    "### Test TFF"
   ]
  },
  {
   "cell_type": "code",
   "execution_count": 9,
   "metadata": {},
   "outputs": [
    {
     "data": {
      "text/plain": [
       "'Hello, World!'"
      ]
     },
     "execution_count": 9,
     "metadata": {},
     "output_type": "execute_result"
    }
   ],
   "source": [
    "tff.federated_computation(lambda: 'Hello, World!')()"
   ]
  },
  {
   "cell_type": "markdown",
   "metadata": {},
   "source": [
    "### Set Some Parameters for Preprocessing the Data and Training the Model\n",
    "**Note:** Ask Keith how he's been setting there for internal experiments."
   ]
  },
  {
   "cell_type": "code",
   "execution_count": 10,
   "metadata": {},
   "outputs": [],
   "source": [
    "VOCAB_SIZE = 5000\n",
    "BATCH_SIZE = 16\n",
    "CLIENTS_EPOCHS_PER_ROUND = 1\n",
    "MAX_SEQ_LENGTH = 20\n",
    "MAX_ELEMENTS_PER_USER = 500\n",
    "CENTRALIZED_TRAIN = False\n",
    "SHUFFLE_BUFFER_SIZE = 1000\n",
    "NUM_VALIDATION_EXAMPLES = 2000\n",
    "NUM_TEST_EXAMPLES = 2\n",
    "\n",
    "NUM_ROUNDS = 50\n",
    "NUM_TRAIN_CLIENTS = 10\n",
    "UNIFORM_WEIGHTING = False"
   ]
  },
  {
   "cell_type": "markdown",
   "metadata": {},
   "source": [
    "### Load and Preprocess Word Level Datasets"
   ]
  },
  {
   "cell_type": "code",
   "execution_count": 11,
   "metadata": {},
   "outputs": [
    {
     "name": "stderr",
     "output_type": "stream",
     "text": [
      "/home/joel_stremmel/anaconda3/envs/tff/lib/python3.7/site-packages/tensorflow_federated/python/simulation/hdf5_client_data.py:69: H5pyDeprecationWarning: dataset.value has been deprecated. Use dataset[()] instead.\n",
      "  collections.OrderedDict((name, ds.value) for name, ds in sorted(\n"
     ]
    }
   ],
   "source": [
    "train_data, val_data, test_data = construct_word_level_datasets(\n",
    "    vocab_size=VOCAB_SIZE,\n",
    "    batch_size=BATCH_SIZE,\n",
    "    client_epochs_per_round=CLIENTS_EPOCHS_PER_ROUND,\n",
    "    max_seq_len=MAX_SEQ_LENGTH,\n",
    "    max_elements_per_user=MAX_ELEMENTS_PER_USER,\n",
    "    centralized_train=CENTRALIZED_TRAIN,\n",
    "    shuffle_buffer_size=SHUFFLE_BUFFER_SIZE,\n",
    "    num_validation_examples=NUM_VALIDATION_EXAMPLES,\n",
    "    num_test_examples=NUM_TEST_EXAMPLES)"
   ]
  },
  {
   "cell_type": "markdown",
   "metadata": {},
   "source": [
    "### Retrieve the Dataset Vocab"
   ]
  },
  {
   "cell_type": "code",
   "execution_count": 12,
   "metadata": {},
   "outputs": [],
   "source": [
    "vocab = get_vocab(VOCAB_SIZE)"
   ]
  },
  {
   "cell_type": "markdown",
   "metadata": {},
   "source": [
    "### Retrieve the Special Characters Created During Preprocessing\n",
    "The four special tokens are:\n",
    "- pad: padding token\n",
    "- oov: out of vocabulary\n",
    "- bos: begin of sentence\n",
    "- eos: end of sentence"
   ]
  },
  {
   "cell_type": "code",
   "execution_count": 13,
   "metadata": {},
   "outputs": [],
   "source": [
    "pad, oov, bos, eos = get_special_tokens(VOCAB_SIZE)"
   ]
  },
  {
   "cell_type": "code",
   "execution_count": 14,
   "metadata": {},
   "outputs": [],
   "source": [
    "special2idx = dict(zip(['pad', 'oov', 'bos', 'eos'], [pad, oov, bos, eos]))\n",
    "idx2special = {v:k for k, v in special2idx.items()}"
   ]
  },
  {
   "cell_type": "markdown",
   "metadata": {},
   "source": [
    "### Set Vocabulary\n",
    "Add one to account for the pad token which has idx 0."
   ]
  },
  {
   "cell_type": "code",
   "execution_count": 15,
   "metadata": {},
   "outputs": [],
   "source": [
    "word2idx = {word:i+1 for i, word in enumerate(vocab)}\n",
    "idx2word = {i+1:word for i, word in enumerate(vocab)}"
   ]
  },
  {
   "cell_type": "markdown",
   "metadata": {},
   "source": [
    "### Add Special Characters"
   ]
  },
  {
   "cell_type": "code",
   "execution_count": 16,
   "metadata": {},
   "outputs": [],
   "source": [
    "word2idx = {**word2idx, **special2idx}\n",
    "idx2word = {**idx2word, **idx2special}"
   ]
  },
  {
   "cell_type": "markdown",
   "metadata": {},
   "source": [
    "### Reset Vocab Size\n",
    "This accounts for having added the special characters."
   ]
  },
  {
   "cell_type": "code",
   "execution_count": 17,
   "metadata": {},
   "outputs": [],
   "source": [
    "EXTENDED_VOCAB_SIZE = VOCAB_SIZE + len(special2idx)"
   ]
  },
  {
   "cell_type": "markdown",
   "metadata": {},
   "source": [
    "### Define Function to Build Model"
   ]
  },
  {
   "cell_type": "code",
   "execution_count": 18,
   "metadata": {},
   "outputs": [],
   "source": [
    "def build_model(embedding_dim=256, rnn_units=512):\n",
    "    \"\"\"\n",
    "    Build model with architecture from: https://www.tensorflow.org/tutorials/text/text_generation.\n",
    "    \"\"\"\n",
    "\n",
    "    model1_input = tf.keras.Input(shape=(None, ), # changed from MAX_SEQ_LENGTH\n",
    "                                  name='model1_input')\n",
    "    \n",
    "    model1_embedding = tf.keras.layers.Embedding(input_dim=EXTENDED_VOCAB_SIZE,\n",
    "                                                 output_dim=embedding_dim,\n",
    "                                                 #input_length=MAX_SEQ_LENGTH,\n",
    "                                                 #batch_input_shape=[BATCH_SIZE, None],\n",
    "                                                 mask_zero=True,\n",
    "                                                 name='model1_embedding')(model1_input)\n",
    "    \n",
    "    model1_lstm = tf.keras.layers.LSTM(units=rnn_units,\n",
    "                                       return_sequences=True,\n",
    "                                       recurrent_initializer='glorot_uniform',\n",
    "                                       name='model1_lstm')(model1_embedding)\n",
    "    \n",
    "    model1_dense1 = tf.keras.layers.Dense(units=embedding_dim)(model1_lstm)\n",
    "    \n",
    "    model1_dense2 = tf.keras.layers.Dense(units=EXTENDED_VOCAB_SIZE)(model1_dense1)\n",
    "    \n",
    "    final_model = tf.keras.Model(inputs=model1_input, outputs=model1_dense2)\n",
    "                 \n",
    "    return final_model"
   ]
  },
  {
   "cell_type": "markdown",
   "metadata": {},
   "source": [
    "### Define the Text Generation Strategy"
   ]
  },
  {
   "cell_type": "code",
   "execution_count": 19,
   "metadata": {},
   "outputs": [],
   "source": [
    "def generate_text(model, start_string):\n",
    "    \"\"\"\n",
    "    Generate text by sampling from the model output distribution\n",
    "    as in From https://www.tensorflow.org/tutorials/sequences/text_generation.\n",
    "    \"\"\"\n",
    "    \n",
    "    start_words = [word.lower() for word in start_string.split(' ')]\n",
    "\n",
    "    num_generate = 50\n",
    "    input_eval = [word2idx[word] for word in start_words]\n",
    "    input_eval = tf.expand_dims(input_eval, 0)\n",
    "    text_generated = []\n",
    "    temperature = 1.0\n",
    "\n",
    "    model.reset_states()\n",
    "    for i in range(num_generate):\n",
    "        predictions = model(input_eval)\n",
    "        predictions = tf.squeeze(predictions, 0)\n",
    "        predictions = predictions / temperature\n",
    "        predicted_id = tf.random.categorical(predictions, num_samples=1)[-1, 0].numpy()\n",
    "        input_eval = tf.expand_dims([predicted_id], 0)\n",
    "        text_generated.append(idx2word[predicted_id])\n",
    "\n",
    "    return (' '.join(start_words) + ' '.join(text_generated))"
   ]
  },
  {
   "cell_type": "markdown",
   "metadata": {},
   "source": [
    "### Load or Build the Model and Try Generating Some Text"
   ]
  },
  {
   "cell_type": "code",
   "execution_count": 20,
   "metadata": {},
   "outputs": [
    {
     "name": "stdout",
     "output_type": "stream",
     "text": [
      "how are you todayreadability meant trim parameter pressing ui asked feel criteria score concise scripts javadoc reusable invoking helps edited twitter communicating step referring completion tend assumed capturing rendered impossible updated limiting ? calls dragged categories symbols ` whilst needed reset expanded / history language clauses moment tap getting reusable optimization hasn't coupled\n"
     ]
    }
   ],
   "source": [
    "keras_model = build_model()\n",
    "print(generate_text(keras_model, \"How are you today\"))"
   ]
  },
  {
   "cell_type": "markdown",
   "metadata": {},
   "source": [
    "### Define Evaluation Metrics for Training"
   ]
  },
  {
   "cell_type": "code",
   "execution_count": 21,
   "metadata": {},
   "outputs": [],
   "source": [
    "def get_metrics():\n",
    "    \n",
    "    evaluation_metrics = [\n",
    "        metrics.NumTokensCounter(name='num_tokens', masked_tokens=[pad]),\n",
    "        metrics.NumTokensCounter(name='num_tokens_no_oov', masked_tokens=[pad, oov]),\n",
    "        metrics.NumBatchesCounter(name='num_batches'),\n",
    "        metrics.NumExamplesCounter(name='num_examples'),\n",
    "        metrics.MaskedCategoricalAccuracy(name='accuracy', masked_tokens=[pad]),\n",
    "        metrics.MaskedCategoricalAccuracy(name='accuracy_no_oov', masked_tokens=[pad, oov]),\n",
    "        metrics.MaskedCategoricalAccuracy(name='accuracy_no_oov_no_eos', masked_tokens=[pad, oov, eos])\n",
    "    ]\n",
    "\n",
    "#     evaluation_metrics = ['accuracy']\n",
    "    \n",
    "    return evaluation_metrics"
   ]
  },
  {
   "cell_type": "markdown",
   "metadata": {},
   "source": [
    "### Define a Function to Compile the Model for Training"
   ]
  },
  {
   "cell_type": "code",
   "execution_count": 22,
   "metadata": {},
   "outputs": [],
   "source": [
    "def compile_model(keras_model, evaluation_metrics):\n",
    "    \n",
    "    keras_model.compile(\n",
    "        loss=tf.keras.losses.SparseCategoricalCrossentropy(from_logits=True),\n",
    "        optimizer=tf.keras.optimizers.Adam(),\n",
    "        metrics=evaluation_metrics)\n",
    "    \n",
    "    return keras_model"
   ]
  },
  {
   "cell_type": "markdown",
   "metadata": {},
   "source": [
    "### Create TFF Version of the Model to be Trained with Federated Averaging\n",
    "- TFF uses a sample batch so it knows the types and shapes that your model expects.\n",
    "- The model function then builds and compiles the model and creates a TFF version to be trained."
   ]
  },
  {
   "cell_type": "code",
   "execution_count": 23,
   "metadata": {},
   "outputs": [
    {
     "name": "stderr",
     "output_type": "stream",
     "text": [
      "/home/joel_stremmel/anaconda3/envs/tff/lib/python3.7/site-packages/tensorflow_federated/python/simulation/hdf5_client_data.py:69: H5pyDeprecationWarning: dataset.value has been deprecated. Use dataset[()] instead.\n",
      "  collections.OrderedDict((name, ds.value) for name, ds in sorted(\n"
     ]
    }
   ],
   "source": [
    "sample_batch = tf.nest.map_structure(lambda x: x.numpy(), next(iter(val_data)))"
   ]
  },
  {
   "cell_type": "code",
   "execution_count": 24,
   "metadata": {},
   "outputs": [],
   "source": [
    "def model_fn():\n",
    "    \"\"\"\n",
    "    Create TFF model from compiled Keras model and a sample batch.\n",
    "    \"\"\"\n",
    "    \n",
    "    keras_model = build_model()\n",
    "    evaluation_metrics = get_metrics()\n",
    "    \n",
    "    compile_model(keras_model, evaluation_metrics)\n",
    "    \n",
    "    return tff.learning.from_compiled_keras_model(keras_model, sample_batch)"
   ]
  },
  {
   "cell_type": "markdown",
   "metadata": {},
   "source": [
    "### Define Model History Tracker to Save Traindand Validation Metrics at Each Training Round\n",
    "This is a spin off of [keras' model history](https://www.tensorflow.org/api_docs/python/tf/keras/callbacks/History) but is specific to the TFF training code used here."
   ]
  },
  {
   "cell_type": "code",
   "execution_count": 25,
   "metadata": {},
   "outputs": [],
   "source": [
    "class model_history_tracker:\n",
    "    \n",
    "    def __init__(self, metric_names=[]):\n",
    "        \n",
    "        self.metric_names = metric_names\n",
    "        self.metrics_dict = {name:[] for name in metric_names}\n",
    "    \n",
    "    def get_metrics_by_name(self, metric_name):\n",
    "        \n",
    "        return self.metrics_dict[metric_name]\n",
    "    \n",
    "    def add_metrics_by_name(self, metric_name, metric_result):\n",
    "        \n",
    "        self.metrics_dict[metric_name].append(metric_result) "
   ]
  },
  {
   "cell_type": "markdown",
   "metadata": {},
   "source": [
    "### Initialize Train and Validation Model Trackers to be Used Below"
   ]
  },
  {
   "cell_type": "code",
   "execution_count": 26,
   "metadata": {},
   "outputs": [],
   "source": [
    "evaluation_metric_names = ['loss',\n",
    "                           'num_tokens',\n",
    "                           'num_tokens_no_oov',\n",
    "                           'num_batches',\n",
    "                           'num_examples',\n",
    "                           'accuracy',\n",
    "                           'accuracy_no_oov',\n",
    "                           'accuracy_no_oov_no_oes']\n",
    "\n",
    "# evaluation_metric_names = ['loss', 'accuracy']\n",
    "\n",
    "train_metrics_tracker = model_history_tracker(evaluation_metric_names)\n",
    "val_metrics_tracker = model_history_tracker(evaluation_metric_names)"
   ]
  },
  {
   "cell_type": "code",
   "execution_count": 27,
   "metadata": {},
   "outputs": [
    {
     "data": {
      "text/plain": [
       "['loss',\n",
       " 'num_tokens',\n",
       " 'num_tokens_no_oov',\n",
       " 'num_batches',\n",
       " 'num_examples',\n",
       " 'accuracy',\n",
       " 'accuracy_no_oov',\n",
       " 'accuracy_no_oov_no_oes']"
      ]
     },
     "execution_count": 27,
     "metadata": {},
     "output_type": "execute_result"
    }
   ],
   "source": [
    "val_metrics_tracker.metric_names"
   ]
  },
  {
   "cell_type": "markdown",
   "metadata": {},
   "source": [
    "### Define Function to Evaluate Model Performance on Validation Data"
   ]
  },
  {
   "cell_type": "code",
   "execution_count": 28,
   "metadata": {},
   "outputs": [],
   "source": [
    "def keras_evaluate(state, val_dataset):\n",
    "    \n",
    "    keras_model = build_model()\n",
    "    evaluation_metrics = get_metrics()\n",
    "    \n",
    "    compile_model(keras_model, evaluation_metrics)\n",
    "    tff.learning.assign_weights_to_keras_model(keras_model, state.model)\n",
    "    \n",
    "    evaluation_results = keras_model.evaluate(val_dataset)\n",
    "    \n",
    "    for i, result in enumerate(evaluation_results):\n",
    "        val_metrics_tracker.add_metrics_by_name(val_metrics_tracker.metric_names[i], result)"
   ]
  },
  {
   "cell_type": "markdown",
   "metadata": {},
   "source": [
    "### Define Function to Weight Clients Uniformly or by Number of Tokens"
   ]
  },
  {
   "cell_type": "code",
   "execution_count": 29,
   "metadata": {},
   "outputs": [],
   "source": [
    "def client_weight_fn(local_outputs):\n",
    "    \n",
    "    num_tokens = tf.cast(tf.squeeze(local_outputs['num_tokens']), tf.float32)\n",
    "    \n",
    "    return 1.0 if UNIFORM_WEIGHTING else num_tokens"
   ]
  },
  {
   "cell_type": "markdown",
   "metadata": {},
   "source": [
    "### Define Function to Supply Server Optimizer"
   ]
  },
  {
   "cell_type": "code",
   "execution_count": 30,
   "metadata": {},
   "outputs": [],
   "source": [
    "def server_optimizer_fn():\n",
    "    \n",
    "    return tf.keras.optimizers.Adam()"
   ]
  },
  {
   "cell_type": "markdown",
   "metadata": {},
   "source": [
    "### Set the Default Executor"
   ]
  },
  {
   "cell_type": "code",
   "execution_count": 31,
   "metadata": {},
   "outputs": [],
   "source": [
    "tff.framework.set_default_executor(tff.framework.create_local_executor(max_fanout=10))"
   ]
  },
  {
   "cell_type": "markdown",
   "metadata": {},
   "source": [
    "### Create an Iterative Process"
   ]
  },
  {
   "cell_type": "code",
   "execution_count": 32,
   "metadata": {},
   "outputs": [
    {
     "name": "stdout",
     "output_type": "stream",
     "text": [
      "WARNING:tensorflow:From /home/joel_stremmel/anaconda3/envs/tff/lib/python3.7/site-packages/tensorflow_core/python/ops/resource_variable_ops.py:1630: calling BaseResourceVariable.__init__ (from tensorflow.python.ops.resource_variable_ops) with constraint is deprecated and will be removed in a future version.\n",
      "Instructions for updating:\n",
      "If using Keras pass *_constraint arguments to layers.\n"
     ]
    }
   ],
   "source": [
    "iterative_process = (\n",
    "      tff.learning.federated_averaging.build_federated_averaging_process(\n",
    "          model_fn=model_fn,\n",
    "          server_optimizer_fn=server_optimizer_fn,\n",
    "          client_weight_fn=client_weight_fn))"
   ]
  },
  {
   "cell_type": "markdown",
   "metadata": {},
   "source": [
    "### Initalize the Process\n",
    "Server state will be updated in the training loop."
   ]
  },
  {
   "cell_type": "code",
   "execution_count": 33,
   "metadata": {},
   "outputs": [],
   "source": [
    "server_state = iterative_process.initialize()"
   ]
  },
  {
   "cell_type": "markdown",
   "metadata": {},
   "source": [
    "### Define Function to Create Training Datsets from Randomly Sampled Clients"
   ]
  },
  {
   "cell_type": "code",
   "execution_count": 34,
   "metadata": {},
   "outputs": [],
   "source": [
    "def get_sample_clients(dataset, num_clients):\n",
    "    \n",
    "    random_indices = np.random.choice(len(dataset.client_ids), size=num_clients, replace=False)\n",
    "    \n",
    "    return np.array(dataset.client_ids)[random_indices]"
   ]
  },
  {
   "cell_type": "markdown",
   "metadata": {},
   "source": [
    "### Train Model Across Many Randomly Sampled Clients with Federated Averaging"
   ]
  },
  {
   "cell_type": "code",
   "execution_count": 35,
   "metadata": {},
   "outputs": [
    {
     "name": "stdout",
     "output_type": "stream",
     "text": [
      "Evaluating before training round #0 on 2000 clients.\n"
     ]
    },
    {
     "name": "stderr",
     "output_type": "stream",
     "text": [
      "/home/joel_stremmel/anaconda3/envs/tff/lib/python3.7/site-packages/tensorflow_federated/python/simulation/hdf5_client_data.py:69: H5pyDeprecationWarning: dataset.value has been deprecated. Use dataset[()] instead.\n",
      "  collections.OrderedDict((name, ds.value) for name, ds in sorted(\n"
     ]
    },
    {
     "name": "stdout",
     "output_type": "stream",
     "text": [
      "20/20 [==============================] - 5s 262ms/step - loss: 6.0181 - num_tokens: 26900.0000 - num_tokens_no_oov: 25522.0000 - num_batches: 20.0000 - num_examples: 2000.0000 - accuracy: 1.8587e-04 - accuracy_no_oov: 1.9591e-04 - accuracy_no_oov_no_eos: 2.0746e-04\n",
      "Sampling 10 new clients.\n",
      "Round: 0\n",
      "   Loss: 7.14422512\n",
      "   num_batches: 150\n",
      "   num_examples: 2302\n",
      "   num_tokens: 30529\n",
      "   num_tokens_no_oov: 29200\n",
      "   accuracy: 0.00183\n",
      "   accuracy_no_oov: 0.00192\n",
      "Evaluating before training round #1 on 2000 clients.\n"
     ]
    },
    {
     "name": "stderr",
     "output_type": "stream",
     "text": [
      "/home/joel_stremmel/anaconda3/envs/tff/lib/python3.7/site-packages/tensorflow_federated/python/simulation/hdf5_client_data.py:69: H5pyDeprecationWarning: dataset.value has been deprecated. Use dataset[()] instead.\n",
      "  collections.OrderedDict((name, ds.value) for name, ds in sorted(\n"
     ]
    },
    {
     "name": "stdout",
     "output_type": "stream",
     "text": [
      "20/20 [==============================] - 5s 236ms/step - loss: 5.7634 - num_tokens: 25578.0000 - num_tokens_no_oov: 24432.0000 - num_batches: 20.0000 - num_examples: 2000.0000 - accuracy: 1.1729e-04 - accuracy_no_oov: 1.2279e-04 - accuracy_no_oov_no_eos: 1.3110e-04\n",
      "Sampling 10 new clients.\n",
      "Round: 1\n",
      "   Loss: 6.72113609\n",
      "   num_batches: 142\n",
      "   num_examples: 2206\n",
      "   num_tokens: 29441\n",
      "   num_tokens_no_oov: 28379\n",
      "   accuracy: 0.00003\n",
      "   accuracy_no_oov: 0.00004\n",
      "Evaluating before training round #2 on 2000 clients.\n"
     ]
    },
    {
     "name": "stderr",
     "output_type": "stream",
     "text": [
      "/home/joel_stremmel/anaconda3/envs/tff/lib/python3.7/site-packages/tensorflow_federated/python/simulation/hdf5_client_data.py:69: H5pyDeprecationWarning: dataset.value has been deprecated. Use dataset[()] instead.\n",
      "  collections.OrderedDict((name, ds.value) for name, ds in sorted(\n"
     ]
    },
    {
     "name": "stdout",
     "output_type": "stream",
     "text": [
      "20/20 [==============================] - 5s 247ms/step - loss: 6.2050 - num_tokens: 27868.0000 - num_tokens_no_oov: 26327.0000 - num_batches: 20.0000 - num_examples: 2000.0000 - accuracy: 0.0000e+00 - accuracy_no_oov: 0.0000e+00 - accuracy_no_oov_no_eos: 0.0000e+00\n",
      "Sampling 10 new clients.\n",
      "Round: 2\n",
      "   Loss: 6.22485590\n",
      "   num_batches: 143\n",
      "   num_examples: 2213\n",
      "   num_tokens: 27997\n",
      "   num_tokens_no_oov: 26830\n",
      "   accuracy: 0.00221\n",
      "   accuracy_no_oov: 0.00231\n",
      "Evaluating before training round #3 on 2000 clients.\n"
     ]
    },
    {
     "name": "stderr",
     "output_type": "stream",
     "text": [
      "/home/joel_stremmel/anaconda3/envs/tff/lib/python3.7/site-packages/tensorflow_federated/python/simulation/hdf5_client_data.py:69: H5pyDeprecationWarning: dataset.value has been deprecated. Use dataset[()] instead.\n",
      "  collections.OrderedDict((name, ds.value) for name, ds in sorted(\n"
     ]
    },
    {
     "name": "stdout",
     "output_type": "stream",
     "text": [
      "20/20 [==============================] - 5s 243ms/step - loss: 6.2131 - num_tokens: 27969.0000 - num_tokens_no_oov: 26472.0000 - num_batches: 20.0000 - num_examples: 2000.0000 - accuracy: 0.0000e+00 - accuracy_no_oov: 0.0000e+00 - accuracy_no_oov_no_eos: 0.0000e+00\n",
      "Sampling 10 new clients.\n",
      "Round: 3\n",
      "   Loss: 5.92745161\n",
      "   num_batches: 169\n",
      "   num_examples: 2605\n",
      "   num_tokens: 35907\n",
      "   num_tokens_no_oov: 34146\n",
      "   accuracy: 0.00259\n",
      "   accuracy_no_oov: 0.00062\n",
      "Evaluating before training round #4 on 2000 clients.\n"
     ]
    },
    {
     "name": "stderr",
     "output_type": "stream",
     "text": [
      "/home/joel_stremmel/anaconda3/envs/tff/lib/python3.7/site-packages/tensorflow_federated/python/simulation/hdf5_client_data.py:69: H5pyDeprecationWarning: dataset.value has been deprecated. Use dataset[()] instead.\n",
      "  collections.OrderedDict((name, ds.value) for name, ds in sorted(\n"
     ]
    },
    {
     "name": "stdout",
     "output_type": "stream",
     "text": [
      "20/20 [==============================] - 5s 241ms/step - loss: 6.1388 - num_tokens: 27868.0000 - num_tokens_no_oov: 26269.0000 - num_batches: 20.0000 - num_examples: 2000.0000 - accuracy: 0.0000e+00 - accuracy_no_oov: 0.0000e+00 - accuracy_no_oov_no_eos: 0.0000e+00\n",
      "Sampling 10 new clients.\n",
      "Round: 4\n",
      "   Loss: 5.34321165\n",
      "   num_batches: 174\n",
      "   num_examples: 2713\n",
      "   num_tokens: 34689\n",
      "   num_tokens_no_oov: 32990\n",
      "   accuracy: 0.00000\n",
      "   accuracy_no_oov: 0.00000\n",
      "Evaluating before training round #5 on 2000 clients.\n"
     ]
    },
    {
     "name": "stderr",
     "output_type": "stream",
     "text": [
      "/home/joel_stremmel/anaconda3/envs/tff/lib/python3.7/site-packages/tensorflow_federated/python/simulation/hdf5_client_data.py:69: H5pyDeprecationWarning: dataset.value has been deprecated. Use dataset[()] instead.\n",
      "  collections.OrderedDict((name, ds.value) for name, ds in sorted(\n"
     ]
    },
    {
     "name": "stdout",
     "output_type": "stream",
     "text": [
      "20/20 [==============================] - 5s 257ms/step - loss: 5.7788 - num_tokens: 26642.0000 - num_tokens_no_oov: 25384.0000 - num_batches: 20.0000 - num_examples: 2000.0000 - accuracy: 0.0000e+00 - accuracy_no_oov: 0.0000e+00 - accuracy_no_oov_no_eos: 0.0000e+00\n",
      "Sampling 10 new clients.\n",
      "Round: 5\n",
      "   Loss: 5.04021311\n",
      "   num_batches: 167\n",
      "   num_examples: 2594\n",
      "   num_tokens: 32747\n",
      "   num_tokens_no_oov: 31050\n",
      "   accuracy: 0.00266\n",
      "   accuracy_no_oov: 0.00000\n",
      "Evaluating before training round #6 on 2000 clients.\n"
     ]
    },
    {
     "name": "stderr",
     "output_type": "stream",
     "text": [
      "/home/joel_stremmel/anaconda3/envs/tff/lib/python3.7/site-packages/tensorflow_federated/python/simulation/hdf5_client_data.py:69: H5pyDeprecationWarning: dataset.value has been deprecated. Use dataset[()] instead.\n",
      "  collections.OrderedDict((name, ds.value) for name, ds in sorted(\n"
     ]
    },
    {
     "name": "stdout",
     "output_type": "stream",
     "text": [
      "20/20 [==============================] - 5s 254ms/step - loss: 5.5330 - num_tokens: 26351.0000 - num_tokens_no_oov: 24900.0000 - num_batches: 20.0000 - num_examples: 2000.0000 - accuracy: 0.0000e+00 - accuracy_no_oov: 0.0000e+00 - accuracy_no_oov_no_eos: 0.0000e+00\n",
      "Sampling 10 new clients.\n",
      "Round: 6\n",
      "   Loss: 5.22564602\n",
      "   num_batches: 134\n",
      "   num_examples: 2078\n",
      "   num_tokens: 27451\n",
      "   num_tokens_no_oov: 26220\n",
      "   accuracy: 0.00000\n",
      "   accuracy_no_oov: 0.00000\n",
      "Evaluating before training round #7 on 2000 clients.\n"
     ]
    },
    {
     "name": "stderr",
     "output_type": "stream",
     "text": [
      "/home/joel_stremmel/anaconda3/envs/tff/lib/python3.7/site-packages/tensorflow_federated/python/simulation/hdf5_client_data.py:69: H5pyDeprecationWarning: dataset.value has been deprecated. Use dataset[()] instead.\n",
      "  collections.OrderedDict((name, ds.value) for name, ds in sorted(\n"
     ]
    },
    {
     "name": "stdout",
     "output_type": "stream",
     "text": [
      "20/20 [==============================] - 5s 248ms/step - loss: 5.3315 - num_tokens: 26273.0000 - num_tokens_no_oov: 24968.0000 - num_batches: 20.0000 - num_examples: 2000.0000 - accuracy: 0.0000e+00 - accuracy_no_oov: 0.0000e+00 - accuracy_no_oov_no_eos: 0.0000e+00\n",
      "Sampling 10 new clients.\n",
      "Round: 7\n",
      "   Loss: 4.97770929\n",
      "   num_batches: 184\n",
      "   num_examples: 2851\n",
      "   num_tokens: 39008\n",
      "   num_tokens_no_oov: 37164\n",
      "   accuracy: 0.00000\n",
      "   accuracy_no_oov: 0.00000\n",
      "Evaluating before training round #8 on 2000 clients.\n"
     ]
    },
    {
     "name": "stderr",
     "output_type": "stream",
     "text": [
      "/home/joel_stremmel/anaconda3/envs/tff/lib/python3.7/site-packages/tensorflow_federated/python/simulation/hdf5_client_data.py:69: H5pyDeprecationWarning: dataset.value has been deprecated. Use dataset[()] instead.\n",
      "  collections.OrderedDict((name, ds.value) for name, ds in sorted(\n"
     ]
    },
    {
     "name": "stdout",
     "output_type": "stream",
     "text": [
      "20/20 [==============================] - 5s 242ms/step - loss: 5.1894 - num_tokens: 26565.0000 - num_tokens_no_oov: 25203.0000 - num_batches: 20.0000 - num_examples: 2000.0000 - accuracy: 0.0000e+00 - accuracy_no_oov: 0.0000e+00 - accuracy_no_oov_no_eos: 0.0000e+00\n",
      "Sampling 10 new clients.\n",
      "Round: 8\n",
      "   Loss: 4.70807314\n",
      "   num_batches: 170\n",
      "   num_examples: 2652\n",
      "   num_tokens: 34264\n",
      "   num_tokens_no_oov: 32913\n",
      "   accuracy: 0.00000\n",
      "   accuracy_no_oov: 0.00000\n",
      "Evaluating before training round #9 on 2000 clients.\n"
     ]
    },
    {
     "name": "stderr",
     "output_type": "stream",
     "text": [
      "/home/joel_stremmel/anaconda3/envs/tff/lib/python3.7/site-packages/tensorflow_federated/python/simulation/hdf5_client_data.py:69: H5pyDeprecationWarning: dataset.value has been deprecated. Use dataset[()] instead.\n",
      "  collections.OrderedDict((name, ds.value) for name, ds in sorted(\n"
     ]
    },
    {
     "name": "stdout",
     "output_type": "stream",
     "text": [
      "20/20 [==============================] - 5s 258ms/step - loss: 5.2029 - num_tokens: 27600.0000 - num_tokens_no_oov: 26347.0000 - num_batches: 20.0000 - num_examples: 2000.0000 - accuracy: 0.0000e+00 - accuracy_no_oov: 0.0000e+00 - accuracy_no_oov_no_eos: 0.0000e+00\n",
      "Sampling 10 new clients.\n",
      "Round: 9\n",
      "   Loss: 4.98468399\n",
      "   num_batches: 155\n",
      "   num_examples: 2408\n",
      "   num_tokens: 33975\n",
      "   num_tokens_no_oov: 32417\n",
      "   accuracy: 0.00000\n",
      "   accuracy_no_oov: 0.00000\n",
      "Evaluating before training round #10 on 2000 clients.\n"
     ]
    },
    {
     "name": "stderr",
     "output_type": "stream",
     "text": [
      "/home/joel_stremmel/anaconda3/envs/tff/lib/python3.7/site-packages/tensorflow_federated/python/simulation/hdf5_client_data.py:69: H5pyDeprecationWarning: dataset.value has been deprecated. Use dataset[()] instead.\n",
      "  collections.OrderedDict((name, ds.value) for name, ds in sorted(\n"
     ]
    },
    {
     "name": "stdout",
     "output_type": "stream",
     "text": [
      "20/20 [==============================] - 5s 255ms/step - loss: 4.9607 - num_tokens: 27084.0000 - num_tokens_no_oov: 25671.0000 - num_batches: 20.0000 - num_examples: 2000.0000 - accuracy: 0.0000e+00 - accuracy_no_oov: 0.0000e+00 - accuracy_no_oov_no_eos: 0.0000e+00\n",
      "Sampling 10 new clients.\n",
      "Round: 10\n",
      "   Loss: 4.44707298\n",
      "   num_batches: 162\n",
      "   num_examples: 2497\n",
      "   num_tokens: 32377\n",
      "   num_tokens_no_oov: 30802\n",
      "   accuracy: 0.00000\n",
      "   accuracy_no_oov: 0.00000\n",
      "Evaluating before training round #11 on 2000 clients.\n"
     ]
    },
    {
     "name": "stderr",
     "output_type": "stream",
     "text": [
      "/home/joel_stremmel/anaconda3/envs/tff/lib/python3.7/site-packages/tensorflow_federated/python/simulation/hdf5_client_data.py:69: H5pyDeprecationWarning: dataset.value has been deprecated. Use dataset[()] instead.\n",
      "  collections.OrderedDict((name, ds.value) for name, ds in sorted(\n"
     ]
    },
    {
     "name": "stdout",
     "output_type": "stream",
     "text": [
      "20/20 [==============================] - 5s 260ms/step - loss: 4.8971 - num_tokens: 27490.0000 - num_tokens_no_oov: 26064.0000 - num_batches: 20.0000 - num_examples: 2000.0000 - accuracy: 0.0000e+00 - accuracy_no_oov: 0.0000e+00 - accuracy_no_oov_no_eos: 0.0000e+00\n",
      "Sampling 10 new clients.\n",
      "Round: 11\n",
      "   Loss: 4.46758509\n",
      "   num_batches: 161\n",
      "   num_examples: 2497\n",
      "   num_tokens: 32937\n",
      "   num_tokens_no_oov: 31121\n",
      "   accuracy: 0.00000\n",
      "   accuracy_no_oov: 0.00000\n",
      "Evaluating before training round #12 on 2000 clients.\n"
     ]
    },
    {
     "name": "stderr",
     "output_type": "stream",
     "text": [
      "/home/joel_stremmel/anaconda3/envs/tff/lib/python3.7/site-packages/tensorflow_federated/python/simulation/hdf5_client_data.py:69: H5pyDeprecationWarning: dataset.value has been deprecated. Use dataset[()] instead.\n",
      "  collections.OrderedDict((name, ds.value) for name, ds in sorted(\n"
     ]
    },
    {
     "name": "stdout",
     "output_type": "stream",
     "text": [
      "20/20 [==============================] - 5s 253ms/step - loss: 4.7863 - num_tokens: 27669.0000 - num_tokens_no_oov: 26339.0000 - num_batches: 20.0000 - num_examples: 2000.0000 - accuracy: 0.0000e+00 - accuracy_no_oov: 0.0000e+00 - accuracy_no_oov_no_eos: 0.0000e+00\n",
      "Sampling 10 new clients.\n",
      "Round: 12\n",
      "   Loss: 4.45378971\n",
      "   num_batches: 113\n",
      "   num_examples: 1710\n",
      "   num_tokens: 22716\n",
      "   num_tokens_no_oov: 21392\n",
      "   accuracy: 0.00000\n",
      "   accuracy_no_oov: 0.00000\n",
      "Evaluating before training round #13 on 2000 clients.\n"
     ]
    },
    {
     "name": "stderr",
     "output_type": "stream",
     "text": [
      "/home/joel_stremmel/anaconda3/envs/tff/lib/python3.7/site-packages/tensorflow_federated/python/simulation/hdf5_client_data.py:69: H5pyDeprecationWarning: dataset.value has been deprecated. Use dataset[()] instead.\n",
      "  collections.OrderedDict((name, ds.value) for name, ds in sorted(\n"
     ]
    },
    {
     "name": "stdout",
     "output_type": "stream",
     "text": [
      "20/20 [==============================] - 5s 247ms/step - loss: 4.3669 - num_tokens: 25510.0000 - num_tokens_no_oov: 24404.0000 - num_batches: 20.0000 - num_examples: 2000.0000 - accuracy: 0.0000e+00 - accuracy_no_oov: 0.0000e+00 - accuracy_no_oov_no_eos: 0.0000e+00\n",
      "Sampling 10 new clients.\n",
      "Round: 13\n",
      "   Loss: 4.31595325\n",
      "   num_batches: 144\n",
      "   num_examples: 2218\n",
      "   num_tokens: 29095\n",
      "   num_tokens_no_oov: 27591\n",
      "   accuracy: 0.00000\n",
      "   accuracy_no_oov: 0.00000\n",
      "Evaluating before training round #14 on 2000 clients.\n"
     ]
    },
    {
     "name": "stderr",
     "output_type": "stream",
     "text": [
      "/home/joel_stremmel/anaconda3/envs/tff/lib/python3.7/site-packages/tensorflow_federated/python/simulation/hdf5_client_data.py:69: H5pyDeprecationWarning: dataset.value has been deprecated. Use dataset[()] instead.\n",
      "  collections.OrderedDict((name, ds.value) for name, ds in sorted(\n"
     ]
    },
    {
     "name": "stdout",
     "output_type": "stream",
     "text": [
      "20/20 [==============================] - 5s 249ms/step - loss: 4.2811 - num_tokens: 25634.0000 - num_tokens_no_oov: 24305.0000 - num_batches: 20.0000 - num_examples: 2000.0000 - accuracy: 0.0000e+00 - accuracy_no_oov: 0.0000e+00 - accuracy_no_oov_no_eos: 0.0000e+00\n",
      "Sampling 10 new clients.\n",
      "Round: 14\n",
      "   Loss: 4.54188442\n",
      "   num_batches: 84\n",
      "   num_examples: 1287\n",
      "   num_tokens: 17520\n",
      "   num_tokens_no_oov: 16663\n",
      "   accuracy: 0.00000\n",
      "   accuracy_no_oov: 0.00000\n",
      "Evaluating before training round #15 on 2000 clients.\n"
     ]
    },
    {
     "name": "stderr",
     "output_type": "stream",
     "text": [
      "/home/joel_stremmel/anaconda3/envs/tff/lib/python3.7/site-packages/tensorflow_federated/python/simulation/hdf5_client_data.py:69: H5pyDeprecationWarning: dataset.value has been deprecated. Use dataset[()] instead.\n",
      "  collections.OrderedDict((name, ds.value) for name, ds in sorted(\n"
     ]
    },
    {
     "name": "stdout",
     "output_type": "stream",
     "text": [
      "20/20 [==============================] - 5s 247ms/step - loss: 4.3082 - num_tokens: 26093.0000 - num_tokens_no_oov: 24720.0000 - num_batches: 20.0000 - num_examples: 2000.0000 - accuracy: 0.0000e+00 - accuracy_no_oov: 0.0000e+00 - accuracy_no_oov_no_eos: 0.0000e+00\n",
      "Sampling 10 new clients.\n",
      "Round: 15\n",
      "   Loss: 4.39264250\n",
      "   num_batches: 169\n",
      "   num_examples: 2610\n",
      "   num_tokens: 35857\n",
      "   num_tokens_no_oov: 34236\n",
      "   accuracy: 0.00003\n",
      "   accuracy_no_oov: 0.00003\n",
      "Evaluating before training round #16 on 2000 clients.\n"
     ]
    },
    {
     "name": "stderr",
     "output_type": "stream",
     "text": [
      "/home/joel_stremmel/anaconda3/envs/tff/lib/python3.7/site-packages/tensorflow_federated/python/simulation/hdf5_client_data.py:69: H5pyDeprecationWarning: dataset.value has been deprecated. Use dataset[()] instead.\n",
      "  collections.OrderedDict((name, ds.value) for name, ds in sorted(\n"
     ]
    },
    {
     "name": "stdout",
     "output_type": "stream",
     "text": [
      "20/20 [==============================] - 5s 253ms/step - loss: 4.2143 - num_tokens: 25854.0000 - num_tokens_no_oov: 24842.0000 - num_batches: 20.0000 - num_examples: 2000.0000 - accuracy: 0.0000e+00 - accuracy_no_oov: 0.0000e+00 - accuracy_no_oov_no_eos: 0.0000e+00\n",
      "Sampling 10 new clients.\n",
      "Round: 16\n",
      "   Loss: 4.39349270\n",
      "   num_batches: 173\n",
      "   num_examples: 2676\n",
      "   num_tokens: 37165\n",
      "   num_tokens_no_oov: 35622\n",
      "   accuracy: 0.00016\n",
      "   accuracy_no_oov: 0.00017\n",
      "Evaluating before training round #17 on 2000 clients.\n"
     ]
    },
    {
     "name": "stderr",
     "output_type": "stream",
     "text": [
      "/home/joel_stremmel/anaconda3/envs/tff/lib/python3.7/site-packages/tensorflow_federated/python/simulation/hdf5_client_data.py:69: H5pyDeprecationWarning: dataset.value has been deprecated. Use dataset[()] instead.\n",
      "  collections.OrderedDict((name, ds.value) for name, ds in sorted(\n"
     ]
    },
    {
     "name": "stdout",
     "output_type": "stream",
     "text": [
      "20/20 [==============================] - 5s 251ms/step - loss: 4.2737 - num_tokens: 26313.0000 - num_tokens_no_oov: 25018.0000 - num_batches: 20.0000 - num_examples: 2000.0000 - accuracy: 0.0000e+00 - accuracy_no_oov: 0.0000e+00 - accuracy_no_oov_no_eos: 0.0000e+00\n",
      "Sampling 10 new clients.\n",
      "Round: 17\n",
      "   Loss: 4.09139681\n",
      "   num_batches: 186\n",
      "   num_examples: 2884\n",
      "   num_tokens: 37813\n",
      "   num_tokens_no_oov: 35997\n",
      "   accuracy: 0.00140\n",
      "   accuracy_no_oov: 0.00147\n",
      "Evaluating before training round #18 on 2000 clients.\n"
     ]
    },
    {
     "name": "stderr",
     "output_type": "stream",
     "text": [
      "/home/joel_stremmel/anaconda3/envs/tff/lib/python3.7/site-packages/tensorflow_federated/python/simulation/hdf5_client_data.py:69: H5pyDeprecationWarning: dataset.value has been deprecated. Use dataset[()] instead.\n",
      "  collections.OrderedDict((name, ds.value) for name, ds in sorted(\n"
     ]
    },
    {
     "name": "stdout",
     "output_type": "stream",
     "text": [
      "20/20 [==============================] - 5s 247ms/step - loss: 4.3557 - num_tokens: 26907.0000 - num_tokens_no_oov: 25831.0000 - num_batches: 20.0000 - num_examples: 2000.0000 - accuracy: 0.0000e+00 - accuracy_no_oov: 0.0000e+00 - accuracy_no_oov_no_eos: 0.0000e+00\n",
      "Sampling 10 new clients.\n",
      "Round: 18\n",
      "   Loss: 4.22266865\n",
      "   num_batches: 165\n",
      "   num_examples: 2563\n",
      "   num_tokens: 34544\n",
      "   num_tokens_no_oov: 32740\n",
      "   accuracy: 0.00342\n",
      "   accuracy_no_oov: 0.00360\n",
      "Evaluating before training round #19 on 2000 clients.\n"
     ]
    },
    {
     "name": "stderr",
     "output_type": "stream",
     "text": [
      "/home/joel_stremmel/anaconda3/envs/tff/lib/python3.7/site-packages/tensorflow_federated/python/simulation/hdf5_client_data.py:69: H5pyDeprecationWarning: dataset.value has been deprecated. Use dataset[()] instead.\n",
      "  collections.OrderedDict((name, ds.value) for name, ds in sorted(\n"
     ]
    },
    {
     "name": "stdout",
     "output_type": "stream",
     "text": [
      "20/20 [==============================] - 5s 255ms/step - loss: 4.3705 - num_tokens: 27268.0000 - num_tokens_no_oov: 25999.0000 - num_batches: 20.0000 - num_examples: 2000.0000 - accuracy: 0.0000e+00 - accuracy_no_oov: 0.0000e+00 - accuracy_no_oov_no_eos: 0.0000e+00\n",
      "Sampling 10 new clients.\n",
      "Round: 19\n",
      "   Loss: 4.27786684\n",
      "   num_batches: 136\n",
      "   num_examples: 2086\n",
      "   num_tokens: 28262\n",
      "   num_tokens_no_oov: 26833\n",
      "   accuracy: 0.00626\n",
      "   accuracy_no_oov: 0.00291\n",
      "Evaluating before training round #20 on 2000 clients.\n"
     ]
    },
    {
     "name": "stderr",
     "output_type": "stream",
     "text": [
      "/home/joel_stremmel/anaconda3/envs/tff/lib/python3.7/site-packages/tensorflow_federated/python/simulation/hdf5_client_data.py:69: H5pyDeprecationWarning: dataset.value has been deprecated. Use dataset[()] instead.\n",
      "  collections.OrderedDict((name, ds.value) for name, ds in sorted(\n"
     ]
    },
    {
     "name": "stdout",
     "output_type": "stream",
     "text": [
      "20/20 [==============================] - 5s 249ms/step - loss: 4.1956 - num_tokens: 26044.0000 - num_tokens_no_oov: 25004.0000 - num_batches: 20.0000 - num_examples: 2000.0000 - accuracy: 0.0000e+00 - accuracy_no_oov: 0.0000e+00 - accuracy_no_oov_no_eos: 0.0000e+00\n",
      "Sampling 10 new clients.\n",
      "Round: 20\n",
      "   Loss: 4.26857615\n",
      "   num_batches: 135\n",
      "   num_examples: 2091\n",
      "   num_tokens: 28451\n",
      "   num_tokens_no_oov: 27012\n",
      "   accuracy: 0.00415\n",
      "   accuracy_no_oov: 0.00437\n",
      "Evaluating before training round #21 on 2000 clients.\n"
     ]
    },
    {
     "name": "stderr",
     "output_type": "stream",
     "text": [
      "/home/joel_stremmel/anaconda3/envs/tff/lib/python3.7/site-packages/tensorflow_federated/python/simulation/hdf5_client_data.py:69: H5pyDeprecationWarning: dataset.value has been deprecated. Use dataset[()] instead.\n",
      "  collections.OrderedDict((name, ds.value) for name, ds in sorted(\n"
     ]
    },
    {
     "name": "stdout",
     "output_type": "stream",
     "text": [
      "20/20 [==============================] - 5s 235ms/step - loss: 4.1946 - num_tokens: 26352.0000 - num_tokens_no_oov: 25099.0000 - num_batches: 20.0000 - num_examples: 2000.0000 - accuracy: 0.0000e+00 - accuracy_no_oov: 0.0000e+00 - accuracy_no_oov_no_eos: 0.0000e+00\n",
      "Sampling 10 new clients.\n",
      "Round: 21\n",
      "   Loss: 3.82550931\n",
      "   num_batches: 162\n",
      "   num_examples: 2522\n",
      "   num_tokens: 32033\n",
      "   num_tokens_no_oov: 30542\n",
      "   accuracy: 0.01626\n",
      "   accuracy_no_oov: 0.01683\n",
      "Evaluating before training round #22 on 2000 clients.\n"
     ]
    },
    {
     "name": "stderr",
     "output_type": "stream",
     "text": [
      "/home/joel_stremmel/anaconda3/envs/tff/lib/python3.7/site-packages/tensorflow_federated/python/simulation/hdf5_client_data.py:69: H5pyDeprecationWarning: dataset.value has been deprecated. Use dataset[()] instead.\n",
      "  collections.OrderedDict((name, ds.value) for name, ds in sorted(\n"
     ]
    },
    {
     "name": "stdout",
     "output_type": "stream",
     "text": [
      "20/20 [==============================] - 5s 263ms/step - loss: 4.2163 - num_tokens: 26557.0000 - num_tokens_no_oov: 25262.0000 - num_batches: 20.0000 - num_examples: 2000.0000 - accuracy: 0.0000e+00 - accuracy_no_oov: 0.0000e+00 - accuracy_no_oov_no_eos: 0.0000e+00\n",
      "Sampling 10 new clients.\n",
      "Round: 22\n",
      "   Loss: 4.30378199\n",
      "   num_batches: 133\n",
      "   num_examples: 2069\n",
      "   num_tokens: 28743\n",
      "   num_tokens_no_oov: 27643\n",
      "   accuracy: 0.00713\n",
      "   accuracy_no_oov: 0.00622\n",
      "Evaluating before training round #23 on 2000 clients.\n"
     ]
    },
    {
     "name": "stderr",
     "output_type": "stream",
     "text": [
      "/home/joel_stremmel/anaconda3/envs/tff/lib/python3.7/site-packages/tensorflow_federated/python/simulation/hdf5_client_data.py:69: H5pyDeprecationWarning: dataset.value has been deprecated. Use dataset[()] instead.\n",
      "  collections.OrderedDict((name, ds.value) for name, ds in sorted(\n"
     ]
    },
    {
     "name": "stdout",
     "output_type": "stream",
     "text": [
      "20/20 [==============================] - 5s 232ms/step - loss: 4.2919 - num_tokens: 26848.0000 - num_tokens_no_oov: 25780.0000 - num_batches: 20.0000 - num_examples: 2000.0000 - accuracy: 0.0000e+00 - accuracy_no_oov: 0.0000e+00 - accuracy_no_oov_no_eos: 0.0000e+00\n",
      "Sampling 10 new clients.\n",
      "Round: 23\n",
      "   Loss: 4.03478241\n",
      "   num_batches: 127\n",
      "   num_examples: 1917\n",
      "   num_tokens: 24891\n",
      "   num_tokens_no_oov: 23651\n",
      "   accuracy: 0.00828\n",
      "   accuracy_no_oov: 0.00837\n",
      "Evaluating before training round #24 on 2000 clients.\n"
     ]
    },
    {
     "name": "stderr",
     "output_type": "stream",
     "text": [
      "/home/joel_stremmel/anaconda3/envs/tff/lib/python3.7/site-packages/tensorflow_federated/python/simulation/hdf5_client_data.py:69: H5pyDeprecationWarning: dataset.value has been deprecated. Use dataset[()] instead.\n",
      "  collections.OrderedDict((name, ds.value) for name, ds in sorted(\n"
     ]
    },
    {
     "name": "stdout",
     "output_type": "stream",
     "text": [
      "20/20 [==============================] - 5s 248ms/step - loss: 4.2657 - num_tokens: 26735.0000 - num_tokens_no_oov: 25219.0000 - num_batches: 20.0000 - num_examples: 2000.0000 - accuracy: 0.0000e+00 - accuracy_no_oov: 0.0000e+00 - accuracy_no_oov_no_eos: 0.0000e+00\n",
      "Sampling 10 new clients.\n",
      "Round: 24\n",
      "   Loss: 4.08157253\n",
      "   num_batches: 146\n",
      "   num_examples: 2245\n",
      "   num_tokens: 30232\n",
      "   num_tokens_no_oov: 28867\n",
      "   accuracy: 0.01561\n",
      "   accuracy_no_oov: 0.01632\n",
      "Evaluating before training round #25 on 2000 clients.\n"
     ]
    },
    {
     "name": "stderr",
     "output_type": "stream",
     "text": [
      "/home/joel_stremmel/anaconda3/envs/tff/lib/python3.7/site-packages/tensorflow_federated/python/simulation/hdf5_client_data.py:69: H5pyDeprecationWarning: dataset.value has been deprecated. Use dataset[()] instead.\n",
      "  collections.OrderedDict((name, ds.value) for name, ds in sorted(\n"
     ]
    },
    {
     "name": "stdout",
     "output_type": "stream",
     "text": [
      "20/20 [==============================] - 5s 259ms/step - loss: 4.1634 - num_tokens: 26208.0000 - num_tokens_no_oov: 24832.0000 - num_batches: 20.0000 - num_examples: 2000.0000 - accuracy: 0.0000e+00 - accuracy_no_oov: 0.0000e+00 - accuracy_no_oov_no_eos: 0.0000e+00\n",
      "Sampling 10 new clients.\n",
      "Round: 25\n",
      "   Loss: 3.99316621\n",
      "   num_batches: 212\n",
      "   num_examples: 3318\n",
      "   num_tokens: 44328\n",
      "   num_tokens_no_oov: 42252\n",
      "   accuracy: 0.02734\n",
      "   accuracy_no_oov: 0.02161\n",
      "Evaluating before training round #26 on 2000 clients.\n"
     ]
    },
    {
     "name": "stderr",
     "output_type": "stream",
     "text": [
      "/home/joel_stremmel/anaconda3/envs/tff/lib/python3.7/site-packages/tensorflow_federated/python/simulation/hdf5_client_data.py:69: H5pyDeprecationWarning: dataset.value has been deprecated. Use dataset[()] instead.\n",
      "  collections.OrderedDict((name, ds.value) for name, ds in sorted(\n"
     ]
    },
    {
     "name": "stdout",
     "output_type": "stream",
     "text": [
      "20/20 [==============================] - 5s 244ms/step - loss: 4.4252 - num_tokens: 27812.0000 - num_tokens_no_oov: 26676.0000 - num_batches: 20.0000 - num_examples: 2000.0000 - accuracy: 0.0000e+00 - accuracy_no_oov: 0.0000e+00 - accuracy_no_oov_no_eos: 0.0000e+00\n",
      "Sampling 10 new clients.\n",
      "Round: 26\n",
      "   Loss: 4.14234877\n",
      "   num_batches: 151\n",
      "   num_examples: 2348\n",
      "   num_tokens: 32363\n",
      "   num_tokens_no_oov: 30907\n",
      "   accuracy: 0.01684\n",
      "   accuracy_no_oov: 0.01576\n",
      "Evaluating before training round #27 on 2000 clients.\n"
     ]
    },
    {
     "name": "stderr",
     "output_type": "stream",
     "text": [
      "/home/joel_stremmel/anaconda3/envs/tff/lib/python3.7/site-packages/tensorflow_federated/python/simulation/hdf5_client_data.py:69: H5pyDeprecationWarning: dataset.value has been deprecated. Use dataset[()] instead.\n",
      "  collections.OrderedDict((name, ds.value) for name, ds in sorted(\n"
     ]
    },
    {
     "name": "stdout",
     "output_type": "stream",
     "text": [
      "20/20 [==============================] - 5s 255ms/step - loss: 4.0912 - num_tokens: 25997.0000 - num_tokens_no_oov: 24700.0000 - num_batches: 20.0000 - num_examples: 2000.0000 - accuracy: 7.6932e-05 - accuracy_no_oov: 8.0972e-05 - accuracy_no_oov_no_eos: 0.0000e+00\n",
      "Sampling 10 new clients.\n",
      "Round: 27\n",
      "   Loss: 3.89095187\n",
      "   num_batches: 138\n",
      "   num_examples: 2130\n",
      "   num_tokens: 27572\n",
      "   num_tokens_no_oov: 26211\n",
      "   accuracy: 0.01919\n",
      "   accuracy_no_oov: 0.02018\n",
      "Evaluating before training round #28 on 2000 clients.\n"
     ]
    },
    {
     "name": "stderr",
     "output_type": "stream",
     "text": [
      "/home/joel_stremmel/anaconda3/envs/tff/lib/python3.7/site-packages/tensorflow_federated/python/simulation/hdf5_client_data.py:69: H5pyDeprecationWarning: dataset.value has been deprecated. Use dataset[()] instead.\n",
      "  collections.OrderedDict((name, ds.value) for name, ds in sorted(\n"
     ]
    },
    {
     "name": "stdout",
     "output_type": "stream",
     "text": [
      "20/20 [==============================] - 5s 256ms/step - loss: 4.3880 - num_tokens: 27862.0000 - num_tokens_no_oov: 26518.0000 - num_batches: 20.0000 - num_examples: 2000.0000 - accuracy: 0.0025 - accuracy_no_oov: 0.0027 - accuracy_no_oov_no_eos: 0.0000e+00\n",
      "Sampling 10 new clients.\n",
      "Round: 28\n",
      "   Loss: 4.02617598\n",
      "   num_batches: 208\n",
      "   num_examples: 3222\n",
      "   num_tokens: 43671\n",
      "   num_tokens_no_oov: 41605\n",
      "   accuracy: 0.03208\n",
      "   accuracy_no_oov: 0.02348\n",
      "Evaluating before training round #29 on 2000 clients.\n"
     ]
    },
    {
     "name": "stderr",
     "output_type": "stream",
     "text": [
      "/home/joel_stremmel/anaconda3/envs/tff/lib/python3.7/site-packages/tensorflow_federated/python/simulation/hdf5_client_data.py:69: H5pyDeprecationWarning: dataset.value has been deprecated. Use dataset[()] instead.\n",
      "  collections.OrderedDict((name, ds.value) for name, ds in sorted(\n"
     ]
    },
    {
     "name": "stdout",
     "output_type": "stream",
     "text": [
      "20/20 [==============================] - 5s 244ms/step - loss: 4.3290 - num_tokens: 27564.0000 - num_tokens_no_oov: 26339.0000 - num_batches: 20.0000 - num_examples: 2000.0000 - accuracy: 0.0200 - accuracy_no_oov: 0.0209 - accuracy_no_oov_no_eos: 0.0000e+00\n",
      "Sampling 10 new clients.\n",
      "Round: 29\n",
      "   Loss: 3.85938072\n",
      "   num_batches: 119\n",
      "   num_examples: 1818\n",
      "   num_tokens: 23410\n",
      "   num_tokens_no_oov: 22375\n",
      "   accuracy: 0.02486\n",
      "   accuracy_no_oov: 0.02467\n",
      "Evaluating before training round #30 on 2000 clients.\n"
     ]
    },
    {
     "name": "stderr",
     "output_type": "stream",
     "text": [
      "/home/joel_stremmel/anaconda3/envs/tff/lib/python3.7/site-packages/tensorflow_federated/python/simulation/hdf5_client_data.py:69: H5pyDeprecationWarning: dataset.value has been deprecated. Use dataset[()] instead.\n",
      "  collections.OrderedDict((name, ds.value) for name, ds in sorted(\n"
     ]
    },
    {
     "name": "stdout",
     "output_type": "stream",
     "text": [
      "20/20 [==============================] - 5s 252ms/step - loss: 3.8921 - num_tokens: 24981.0000 - num_tokens_no_oov: 23612.0000 - num_batches: 20.0000 - num_examples: 2000.0000 - accuracy: 0.0443 - accuracy_no_oov: 0.0469 - accuracy_no_oov_no_eos: 0.0000e+00\n",
      "Sampling 10 new clients.\n",
      "Round: 30\n",
      "   Loss: 4.09939241\n",
      "   num_batches: 120\n",
      "   num_examples: 1827\n",
      "   num_tokens: 25115\n",
      "   num_tokens_no_oov: 23837\n",
      "   accuracy: 0.04117\n",
      "   accuracy_no_oov: 0.02509\n",
      "Evaluating before training round #31 on 2000 clients.\n"
     ]
    },
    {
     "name": "stderr",
     "output_type": "stream",
     "text": [
      "/home/joel_stremmel/anaconda3/envs/tff/lib/python3.7/site-packages/tensorflow_federated/python/simulation/hdf5_client_data.py:69: H5pyDeprecationWarning: dataset.value has been deprecated. Use dataset[()] instead.\n",
      "  collections.OrderedDict((name, ds.value) for name, ds in sorted(\n"
     ]
    },
    {
     "name": "stdout",
     "output_type": "stream",
     "text": [
      "20/20 [==============================] - 5s 265ms/step - loss: 3.7911 - num_tokens: 24415.0000 - num_tokens_no_oov: 23159.0000 - num_batches: 20.0000 - num_examples: 2000.0000 - accuracy: 0.0539 - accuracy_no_oov: 0.0569 - accuracy_no_oov_no_eos: 0.0000e+00\n",
      "Sampling 10 new clients.\n",
      "Round: 31\n",
      "   Loss: 3.84604955\n",
      "   num_batches: 121\n",
      "   num_examples: 1851\n",
      "   num_tokens: 23768\n",
      "   num_tokens_no_oov: 22521\n",
      "   accuracy: 0.04426\n",
      "   accuracy_no_oov: 0.03836\n",
      "Evaluating before training round #32 on 2000 clients.\n"
     ]
    },
    {
     "name": "stderr",
     "output_type": "stream",
     "text": [
      "/home/joel_stremmel/anaconda3/envs/tff/lib/python3.7/site-packages/tensorflow_federated/python/simulation/hdf5_client_data.py:69: H5pyDeprecationWarning: dataset.value has been deprecated. Use dataset[()] instead.\n",
      "  collections.OrderedDict((name, ds.value) for name, ds in sorted(\n"
     ]
    },
    {
     "name": "stdout",
     "output_type": "stream",
     "text": [
      "20/20 [==============================] - 5s 245ms/step - loss: 3.7436 - num_tokens: 24470.0000 - num_tokens_no_oov: 23260.0000 - num_batches: 20.0000 - num_examples: 2000.0000 - accuracy: 0.0583 - accuracy_no_oov: 0.0613 - accuracy_no_oov_no_eos: 0.0000e+00\n",
      "Sampling 10 new clients.\n",
      "Round: 32\n",
      "   Loss: 4.10761642\n",
      "   num_batches: 174\n",
      "   num_examples: 2686\n",
      "   num_tokens: 36963\n",
      "   num_tokens_no_oov: 35415\n",
      "   accuracy: 0.04180\n",
      "   accuracy_no_oov: 0.03973\n",
      "Evaluating before training round #33 on 2000 clients.\n"
     ]
    },
    {
     "name": "stderr",
     "output_type": "stream",
     "text": [
      "/home/joel_stremmel/anaconda3/envs/tff/lib/python3.7/site-packages/tensorflow_federated/python/simulation/hdf5_client_data.py:69: H5pyDeprecationWarning: dataset.value has been deprecated. Use dataset[()] instead.\n",
      "  collections.OrderedDict((name, ds.value) for name, ds in sorted(\n"
     ]
    },
    {
     "name": "stdout",
     "output_type": "stream",
     "text": [
      "20/20 [==============================] - 5s 254ms/step - loss: 4.0655 - num_tokens: 26412.0000 - num_tokens_no_oov: 25120.0000 - num_batches: 20.0000 - num_examples: 2000.0000 - accuracy: 0.0518 - accuracy_no_oov: 0.0545 - accuracy_no_oov_no_eos: 0.0000e+00\n",
      "Sampling 10 new clients.\n",
      "Round: 33\n",
      "   Loss: 3.68809009\n",
      "   num_batches: 209\n",
      "   num_examples: 3264\n",
      "   num_tokens: 41336\n",
      "   num_tokens_no_oov: 39487\n",
      "   accuracy: 0.05888\n",
      "   accuracy_no_oov: 0.05587\n",
      "Evaluating before training round #34 on 2000 clients.\n"
     ]
    },
    {
     "name": "stderr",
     "output_type": "stream",
     "text": [
      "/home/joel_stremmel/anaconda3/envs/tff/lib/python3.7/site-packages/tensorflow_federated/python/simulation/hdf5_client_data.py:69: H5pyDeprecationWarning: dataset.value has been deprecated. Use dataset[()] instead.\n",
      "  collections.OrderedDict((name, ds.value) for name, ds in sorted(\n"
     ]
    },
    {
     "name": "stdout",
     "output_type": "stream",
     "text": [
      "20/20 [==============================] - 5s 258ms/step - loss: 4.0689 - num_tokens: 26769.0000 - num_tokens_no_oov: 25153.0000 - num_batches: 20.0000 - num_examples: 2000.0000 - accuracy: 0.0523 - accuracy_no_oov: 0.0556 - accuracy_no_oov_no_eos: 0.0000e+00\n",
      "Sampling 10 new clients.\n",
      "Round: 34\n",
      "   Loss: 4.19481134\n",
      "   num_batches: 164\n",
      "   num_examples: 2553\n",
      "   num_tokens: 36196\n",
      "   num_tokens_no_oov: 34456\n",
      "   accuracy: 0.05020\n",
      "   accuracy_no_oov: 0.03219\n",
      "Evaluating before training round #35 on 2000 clients.\n"
     ]
    },
    {
     "name": "stderr",
     "output_type": "stream",
     "text": [
      "/home/joel_stremmel/anaconda3/envs/tff/lib/python3.7/site-packages/tensorflow_federated/python/simulation/hdf5_client_data.py:69: H5pyDeprecationWarning: dataset.value has been deprecated. Use dataset[()] instead.\n",
      "  collections.OrderedDict((name, ds.value) for name, ds in sorted(\n"
     ]
    },
    {
     "name": "stdout",
     "output_type": "stream",
     "text": [
      "20/20 [==============================] - 5s 252ms/step - loss: 4.1269 - num_tokens: 27104.0000 - num_tokens_no_oov: 25850.0000 - num_batches: 20.0000 - num_examples: 2000.0000 - accuracy: 0.0524 - accuracy_no_oov: 0.0549 - accuracy_no_oov_no_eos: 0.0000e+00\n",
      "Sampling 10 new clients.\n",
      "Round: 35\n",
      "   Loss: 3.94099331\n",
      "   num_batches: 181\n",
      "   num_examples: 2829\n",
      "   num_tokens: 37868\n",
      "   num_tokens_no_oov: 36034\n",
      "   accuracy: 0.05958\n",
      "   accuracy_no_oov: 0.04873\n",
      "Evaluating before training round #36 on 2000 clients.\n"
     ]
    },
    {
     "name": "stderr",
     "output_type": "stream",
     "text": [
      "/home/joel_stremmel/anaconda3/envs/tff/lib/python3.7/site-packages/tensorflow_federated/python/simulation/hdf5_client_data.py:69: H5pyDeprecationWarning: dataset.value has been deprecated. Use dataset[()] instead.\n",
      "  collections.OrderedDict((name, ds.value) for name, ds in sorted(\n"
     ]
    },
    {
     "name": "stdout",
     "output_type": "stream",
     "text": [
      "20/20 [==============================] - 5s 257ms/step - loss: 4.0073 - num_tokens: 26222.0000 - num_tokens_no_oov: 24781.0000 - num_batches: 20.0000 - num_examples: 2000.0000 - accuracy: 0.0567 - accuracy_no_oov: 0.0600 - accuracy_no_oov_no_eos: 0.0000e+00\n",
      "Sampling 10 new clients.\n",
      "Round: 36\n",
      "   Loss: 3.73989868\n",
      "   num_batches: 145\n",
      "   num_examples: 2246\n",
      "   num_tokens: 29005\n",
      "   num_tokens_no_oov: 27814\n",
      "   accuracy: 0.05802\n",
      "   accuracy_no_oov: 0.05325\n",
      "Evaluating before training round #37 on 2000 clients.\n"
     ]
    },
    {
     "name": "stderr",
     "output_type": "stream",
     "text": [
      "/home/joel_stremmel/anaconda3/envs/tff/lib/python3.7/site-packages/tensorflow_federated/python/simulation/hdf5_client_data.py:69: H5pyDeprecationWarning: dataset.value has been deprecated. Use dataset[()] instead.\n",
      "  collections.OrderedDict((name, ds.value) for name, ds in sorted(\n"
     ]
    },
    {
     "name": "stdout",
     "output_type": "stream",
     "text": [
      "20/20 [==============================] - 5s 244ms/step - loss: 3.6755 - num_tokens: 24322.0000 - num_tokens_no_oov: 23268.0000 - num_batches: 20.0000 - num_examples: 2000.0000 - accuracy: 0.0629 - accuracy_no_oov: 0.0657 - accuracy_no_oov_no_eos: 0.0000e+00\n",
      "Sampling 10 new clients.\n",
      "Round: 37\n",
      "   Loss: 3.79513717\n",
      "   num_batches: 134\n",
      "   num_examples: 2080\n",
      "   num_tokens: 27100\n",
      "   num_tokens_no_oov: 25732\n",
      "   accuracy: 0.06041\n",
      "   accuracy_no_oov: 0.04772\n",
      "Evaluating before training round #38 on 2000 clients.\n"
     ]
    },
    {
     "name": "stderr",
     "output_type": "stream",
     "text": [
      "/home/joel_stremmel/anaconda3/envs/tff/lib/python3.7/site-packages/tensorflow_federated/python/simulation/hdf5_client_data.py:69: H5pyDeprecationWarning: dataset.value has been deprecated. Use dataset[()] instead.\n",
      "  collections.OrderedDict((name, ds.value) for name, ds in sorted(\n"
     ]
    },
    {
     "name": "stdout",
     "output_type": "stream",
     "text": [
      "20/20 [==============================] - 5s 255ms/step - loss: 4.0404 - num_tokens: 26511.0000 - num_tokens_no_oov: 25105.0000 - num_batches: 20.0000 - num_examples: 2000.0000 - accuracy: 0.0565 - accuracy_no_oov: 0.0597 - accuracy_no_oov_no_eos: 0.0000e+00\n",
      "Sampling 10 new clients.\n",
      "Round: 38\n",
      "   Loss: 3.90353942\n",
      "   num_batches: 187\n",
      "   num_examples: 2903\n",
      "   num_tokens: 38946\n",
      "   num_tokens_no_oov: 37089\n",
      "   accuracy: 0.06237\n",
      "   accuracy_no_oov: 0.04894\n",
      "Evaluating before training round #39 on 2000 clients.\n"
     ]
    },
    {
     "name": "stderr",
     "output_type": "stream",
     "text": [
      "/home/joel_stremmel/anaconda3/envs/tff/lib/python3.7/site-packages/tensorflow_federated/python/simulation/hdf5_client_data.py:69: H5pyDeprecationWarning: dataset.value has been deprecated. Use dataset[()] instead.\n",
      "  collections.OrderedDict((name, ds.value) for name, ds in sorted(\n"
     ]
    },
    {
     "name": "stdout",
     "output_type": "stream",
     "text": [
      "20/20 [==============================] - 5s 266ms/step - loss: 3.8603 - num_tokens: 25256.0000 - num_tokens_no_oov: 24079.0000 - num_batches: 20.0000 - num_examples: 2000.0000 - accuracy: 0.0563 - accuracy_no_oov: 0.0591 - accuracy_no_oov_no_eos: 0.0000e+00\n",
      "Sampling 10 new clients.\n",
      "Round: 39\n",
      "   Loss: 3.90863967\n",
      "   num_batches: 187\n",
      "   num_examples: 2902\n",
      "   num_tokens: 39212\n",
      "   num_tokens_no_oov: 37672\n",
      "   accuracy: 0.05866\n",
      "   accuracy_no_oov: 0.05118\n",
      "Evaluating before training round #40 on 2000 clients.\n"
     ]
    },
    {
     "name": "stderr",
     "output_type": "stream",
     "text": [
      "/home/joel_stremmel/anaconda3/envs/tff/lib/python3.7/site-packages/tensorflow_federated/python/simulation/hdf5_client_data.py:69: H5pyDeprecationWarning: dataset.value has been deprecated. Use dataset[()] instead.\n",
      "  collections.OrderedDict((name, ds.value) for name, ds in sorted(\n"
     ]
    },
    {
     "name": "stdout",
     "output_type": "stream",
     "text": [
      "20/20 [==============================] - 5s 252ms/step - loss: 4.1897 - num_tokens: 27540.0000 - num_tokens_no_oov: 26421.0000 - num_batches: 20.0000 - num_examples: 2000.0000 - accuracy: 0.0513 - accuracy_no_oov: 0.0534 - accuracy_no_oov_no_eos: 0.0000e+00\n",
      "Sampling 10 new clients.\n",
      "Round: 40\n",
      "   Loss: 3.99960709\n",
      "   num_batches: 203\n",
      "   num_examples: 3156\n",
      "   num_tokens: 43990\n",
      "   num_tokens_no_oov: 42015\n",
      "   accuracy: 0.06804\n",
      "   accuracy_no_oov: 0.05134\n",
      "Evaluating before training round #41 on 2000 clients.\n"
     ]
    },
    {
     "name": "stderr",
     "output_type": "stream",
     "text": [
      "/home/joel_stremmel/anaconda3/envs/tff/lib/python3.7/site-packages/tensorflow_federated/python/simulation/hdf5_client_data.py:69: H5pyDeprecationWarning: dataset.value has been deprecated. Use dataset[()] instead.\n",
      "  collections.OrderedDict((name, ds.value) for name, ds in sorted(\n"
     ]
    },
    {
     "name": "stdout",
     "output_type": "stream",
     "text": [
      "20/20 [==============================] - 6s 278ms/step - loss: 4.0492 - num_tokens: 26171.0000 - num_tokens_no_oov: 24937.0000 - num_batches: 20.0000 - num_examples: 2000.0000 - accuracy: 0.0564 - accuracy_no_oov: 0.0592 - accuracy_no_oov_no_eos: 0.0000e+00\n",
      "Sampling 10 new clients.\n",
      "Round: 41\n",
      "   Loss: 3.77455044\n",
      "   num_batches: 158\n",
      "   num_examples: 2455\n",
      "   num_tokens: 31899\n",
      "   num_tokens_no_oov: 30523\n",
      "   accuracy: 0.06815\n",
      "   accuracy_no_oov: 0.05596\n",
      "Evaluating before training round #42 on 2000 clients.\n"
     ]
    },
    {
     "name": "stderr",
     "output_type": "stream",
     "text": [
      "/home/joel_stremmel/anaconda3/envs/tff/lib/python3.7/site-packages/tensorflow_federated/python/simulation/hdf5_client_data.py:69: H5pyDeprecationWarning: dataset.value has been deprecated. Use dataset[()] instead.\n",
      "  collections.OrderedDict((name, ds.value) for name, ds in sorted(\n"
     ]
    },
    {
     "name": "stdout",
     "output_type": "stream",
     "text": [
      "20/20 [==============================] - 5s 261ms/step - loss: 4.0843 - num_tokens: 26299.0000 - num_tokens_no_oov: 24996.0000 - num_batches: 20.0000 - num_examples: 2000.0000 - accuracy: 0.0562 - accuracy_no_oov: 0.0587 - accuracy_no_oov_no_eos: 0.0000e+00\n",
      "Sampling 10 new clients.\n",
      "Round: 42\n",
      "   Loss: 3.87147546\n",
      "   num_batches: 203\n",
      "   num_examples: 3151\n",
      "   num_tokens: 41558\n",
      "   num_tokens_no_oov: 39518\n",
      "   accuracy: 0.07236\n",
      "   accuracy_no_oov: 0.05276\n",
      "Evaluating before training round #43 on 2000 clients.\n"
     ]
    },
    {
     "name": "stderr",
     "output_type": "stream",
     "text": [
      "/home/joel_stremmel/anaconda3/envs/tff/lib/python3.7/site-packages/tensorflow_federated/python/simulation/hdf5_client_data.py:69: H5pyDeprecationWarning: dataset.value has been deprecated. Use dataset[()] instead.\n",
      "  collections.OrderedDict((name, ds.value) for name, ds in sorted(\n"
     ]
    },
    {
     "name": "stdout",
     "output_type": "stream",
     "text": [
      "20/20 [==============================] - 5s 244ms/step - loss: 4.2053 - num_tokens: 27156.0000 - num_tokens_no_oov: 25534.0000 - num_batches: 20.0000 - num_examples: 2000.0000 - accuracy: 0.0666 - accuracy_no_oov: 0.0563 - accuracy_no_oov_no_eos: 0.0000e+00\n",
      "Sampling 10 new clients.\n",
      "Round: 43\n",
      "   Loss: 3.96297836\n",
      "   num_batches: 145\n",
      "   num_examples: 2236\n",
      "   num_tokens: 30204\n",
      "   num_tokens_no_oov: 28829\n",
      "   accuracy: 0.06565\n",
      "   accuracy_no_oov: 0.04985\n",
      "Evaluating before training round #44 on 2000 clients.\n"
     ]
    },
    {
     "name": "stderr",
     "output_type": "stream",
     "text": [
      "/home/joel_stremmel/anaconda3/envs/tff/lib/python3.7/site-packages/tensorflow_federated/python/simulation/hdf5_client_data.py:69: H5pyDeprecationWarning: dataset.value has been deprecated. Use dataset[()] instead.\n",
      "  collections.OrderedDict((name, ds.value) for name, ds in sorted(\n"
     ]
    },
    {
     "name": "stdout",
     "output_type": "stream",
     "text": [
      "20/20 [==============================] - 5s 250ms/step - loss: 3.9946 - num_tokens: 25910.0000 - num_tokens_no_oov: 24560.0000 - num_batches: 20.0000 - num_examples: 2000.0000 - accuracy: 0.0766 - accuracy_no_oov: 0.0618 - accuracy_no_oov_no_eos: 0.0000e+00\n",
      "Sampling 10 new clients.\n",
      "Round: 44\n",
      "   Loss: 3.81805277\n",
      "   num_batches: 177\n",
      "   num_examples: 2759\n",
      "   num_tokens: 36335\n",
      "   num_tokens_no_oov: 34394\n",
      "   accuracy: 0.08028\n",
      "   accuracy_no_oov: 0.05882\n",
      "Evaluating before training round #45 on 2000 clients.\n"
     ]
    },
    {
     "name": "stderr",
     "output_type": "stream",
     "text": [
      "/home/joel_stremmel/anaconda3/envs/tff/lib/python3.7/site-packages/tensorflow_federated/python/simulation/hdf5_client_data.py:69: H5pyDeprecationWarning: dataset.value has been deprecated. Use dataset[()] instead.\n",
      "  collections.OrderedDict((name, ds.value) for name, ds in sorted(\n"
     ]
    },
    {
     "name": "stdout",
     "output_type": "stream",
     "text": [
      "20/20 [==============================] - 5s 249ms/step - loss: 4.0370 - num_tokens: 25889.0000 - num_tokens_no_oov: 24711.0000 - num_batches: 20.0000 - num_examples: 2000.0000 - accuracy: 0.0745 - accuracy_no_oov: 0.0582 - accuracy_no_oov_no_eos: 0.0000e+00\n",
      "Sampling 10 new clients.\n",
      "Round: 45\n",
      "   Loss: 4.00382090\n",
      "   num_batches: 204\n",
      "   num_examples: 3196\n",
      "   num_tokens: 45011\n",
      "   num_tokens_no_oov: 42973\n",
      "   accuracy: 0.07847\n",
      "   accuracy_no_oov: 0.05971\n",
      "Evaluating before training round #46 on 2000 clients.\n"
     ]
    },
    {
     "name": "stderr",
     "output_type": "stream",
     "text": [
      "/home/joel_stremmel/anaconda3/envs/tff/lib/python3.7/site-packages/tensorflow_federated/python/simulation/hdf5_client_data.py:69: H5pyDeprecationWarning: dataset.value has been deprecated. Use dataset[()] instead.\n",
      "  collections.OrderedDict((name, ds.value) for name, ds in sorted(\n"
     ]
    },
    {
     "name": "stdout",
     "output_type": "stream",
     "text": [
      "20/20 [==============================] - 5s 247ms/step - loss: 4.1190 - num_tokens: 26695.0000 - num_tokens_no_oov: 25215.0000 - num_batches: 20.0000 - num_examples: 2000.0000 - accuracy: 0.0888 - accuracy_no_oov: 0.0560 - accuracy_no_oov_no_eos: 0.0000e+00\n",
      "Sampling 10 new clients.\n",
      "Round: 46\n",
      "   Loss: 3.68594003\n",
      "   num_batches: 157\n",
      "   num_examples: 2414\n",
      "   num_tokens: 30980\n",
      "   num_tokens_no_oov: 29469\n",
      "   accuracy: 0.08886\n",
      "   accuracy_no_oov: 0.06831\n",
      "Evaluating before training round #47 on 2000 clients.\n"
     ]
    },
    {
     "name": "stderr",
     "output_type": "stream",
     "text": [
      "/home/joel_stremmel/anaconda3/envs/tff/lib/python3.7/site-packages/tensorflow_federated/python/simulation/hdf5_client_data.py:69: H5pyDeprecationWarning: dataset.value has been deprecated. Use dataset[()] instead.\n",
      "  collections.OrderedDict((name, ds.value) for name, ds in sorted(\n"
     ]
    },
    {
     "name": "stdout",
     "output_type": "stream",
     "text": [
      "20/20 [==============================] - 5s 259ms/step - loss: 3.9945 - num_tokens: 25908.0000 - num_tokens_no_oov: 24509.0000 - num_batches: 20.0000 - num_examples: 2000.0000 - accuracy: 0.0908 - accuracy_no_oov: 0.0574 - accuracy_no_oov_no_eos: 0.0000e+00\n",
      "Sampling 10 new clients.\n",
      "Round: 47\n",
      "   Loss: 3.86341953\n",
      "   num_batches: 175\n",
      "   num_examples: 2711\n",
      "   num_tokens: 35814\n",
      "   num_tokens_no_oov: 34078\n",
      "   accuracy: 0.08262\n",
      "   accuracy_no_oov: 0.06027\n",
      "Evaluating before training round #48 on 2000 clients.\n"
     ]
    },
    {
     "name": "stderr",
     "output_type": "stream",
     "text": [
      "/home/joel_stremmel/anaconda3/envs/tff/lib/python3.7/site-packages/tensorflow_federated/python/simulation/hdf5_client_data.py:69: H5pyDeprecationWarning: dataset.value has been deprecated. Use dataset[()] instead.\n",
      "  collections.OrderedDict((name, ds.value) for name, ds in sorted(\n"
     ]
    },
    {
     "name": "stdout",
     "output_type": "stream",
     "text": [
      "20/20 [==============================] - 5s 246ms/step - loss: 3.7455 - num_tokens: 24578.0000 - num_tokens_no_oov: 23401.0000 - num_batches: 20.0000 - num_examples: 2000.0000 - accuracy: 0.0928 - accuracy_no_oov: 0.0631 - accuracy_no_oov_no_eos: 0.0000e+00\n",
      "Sampling 10 new clients.\n",
      "Round: 48\n",
      "   Loss: 3.75567842\n",
      "   num_batches: 121\n",
      "   num_examples: 1851\n",
      "   num_tokens: 24018\n",
      "   num_tokens_no_oov: 23026\n",
      "   accuracy: 0.08335\n",
      "   accuracy_no_oov: 0.07109\n",
      "Evaluating before training round #49 on 2000 clients.\n"
     ]
    },
    {
     "name": "stderr",
     "output_type": "stream",
     "text": [
      "/home/joel_stremmel/anaconda3/envs/tff/lib/python3.7/site-packages/tensorflow_federated/python/simulation/hdf5_client_data.py:69: H5pyDeprecationWarning: dataset.value has been deprecated. Use dataset[()] instead.\n",
      "  collections.OrderedDict((name, ds.value) for name, ds in sorted(\n"
     ]
    },
    {
     "name": "stdout",
     "output_type": "stream",
     "text": [
      "20/20 [==============================] - 12s 582ms/step - loss: 3.9181 - num_tokens: 25837.0000 - num_tokens_no_oov: 24570.0000 - num_batches: 20.0000 - num_examples: 2000.0000 - accuracy: 0.0918 - accuracy_no_oov: 0.0581 - accuracy_no_oov_no_eos: 0.0000e+00\n",
      "Sampling 10 new clients.\n",
      "Round: 49\n",
      "   Loss: 3.51378965\n",
      "   num_batches: 181\n",
      "   num_examples: 2793\n",
      "   num_tokens: 34916\n",
      "   num_tokens_no_oov: 33425\n",
      "   accuracy: 0.09471\n",
      "   accuracy_no_oov: 0.07916\n"
     ]
    }
   ],
   "source": [
    "for round_num in range(0, NUM_ROUNDS):\n",
    "    \n",
    "    # Examine validation metrics\n",
    "    print(f'Evaluating before training round #{round_num} on {NUM_VALIDATION_EXAMPLES} clients.')\n",
    "    keras_evaluate(server_state, val_data)\n",
    "    \n",
    "    # Sample train clients to create a train dataset\n",
    "    print(f'Sampling {NUM_TRAIN_CLIENTS} new clients.')\n",
    "    train_clients = get_sample_clients(train_data, num_clients=NUM_TRAIN_CLIENTS)\n",
    "    train_datasets = [train_data.create_tf_dataset_for_client(client) for client in train_clients]\n",
    "    \n",
    "    # Apply federated training round\n",
    "    server_state, server_metrics = iterative_process.next(server_state, train_datasets)\n",
    "    \n",
    "    # Examine training metrics\n",
    "    print('Round: {}'.format(round_num))\n",
    "    print('   Loss: {:.8f}'.format(server_metrics.loss))\n",
    "    print('   num_batches: {}'.format(server_metrics.num_batches))\n",
    "    print('   num_examples: {}'.format(server_metrics.num_examples))\n",
    "    print('   num_tokens: {}'.format(server_metrics.num_tokens))\n",
    "    print('   num_tokens_no_oov: {}'.format(server_metrics.num_tokens_no_oov))\n",
    "    print('   accuracy: {:.5f}'.format(server_metrics.accuracy))\n",
    "    print('   accuracy_no_oov: {:.5f}'.format(server_metrics.accuracy_no_oov))\n",
    "    \n",
    "    # Add train metrics to tracker\n",
    "    train_metrics_tracker.add_metrics_by_name('loss', server_metrics.loss)\n",
    "    train_metrics_tracker.add_metrics_by_name('accuracy', server_metrics.accuracy)"
   ]
  },
  {
   "cell_type": "markdown",
   "metadata": {},
   "source": [
    "### Plot Model Objective Function"
   ]
  },
  {
   "cell_type": "code",
   "execution_count": 36,
   "metadata": {},
   "outputs": [
    {
     "data": {
      "image/png": "[encoded data removed]",
      "text/plain": [
       "<Figure size 432x288 with 1 Axes>"
      ]
     },
     "metadata": {
      "needs_background": "light"
     },
     "output_type": "display_data"
    }
   ],
   "source": [
    "fig, ax = plt.subplots()\n",
    "x_axis = range(0, NUM_ROUNDS)\n",
    "ax.plot(x_axis, train_metrics_tracker.get_metrics_by_name('loss'), label='Train')\n",
    "ax.plot(x_axis, val_metrics_tracker.get_metrics_by_name('loss'), label='Validation')\n",
    "ax.legend(loc='best')\n",
    "plt.ylabel('Value of Objective Function')\n",
    "plt.title('Model Objective Function at Each Training Round')\n",
    "plt.show()"
   ]
  },
  {
   "cell_type": "markdown",
   "metadata": {},
   "source": [
    "### Plot Model Accuracy"
   ]
  },
  {
   "cell_type": "code",
   "execution_count": 37,
   "metadata": {},
   "outputs": [
    {
     "data": {
      "image/png": "[encoded data removed]",
      "text/plain": [
       "<Figure size 432x288 with 1 Axes>"
      ]
     },
     "metadata": {
      "needs_background": "light"
     },
     "output_type": "display_data"
    }
   ],
   "source": [
    "fig, ax = plt.subplots()\n",
    "x_axis = range(0, NUM_ROUNDS)\n",
    "ax.plot(x_axis, train_metrics_tracker.get_metrics_by_name('accuracy'), label='Train')\n",
    "ax.plot(x_axis, val_metrics_tracker.get_metrics_by_name('accuracy'), label='Validation')\n",
    "ax.legend(loc='best')\n",
    "plt.ylabel('Accuracy')\n",
    "plt.title('Model Accuracy at Each Training Round')\n",
    "plt.show()"
   ]
  },
  {
   "cell_type": "markdown",
   "metadata": {},
   "source": [
    "### Get Final Evaluation"
   ]
  },
  {
   "cell_type": "code",
   "execution_count": 38,
   "metadata": {},
   "outputs": [
    {
     "name": "stderr",
     "output_type": "stream",
     "text": [
      "/home/joel_stremmel/anaconda3/envs/tff/lib/python3.7/site-packages/tensorflow_federated/python/simulation/hdf5_client_data.py:69: H5pyDeprecationWarning: dataset.value has been deprecated. Use dataset[()] instead.\n",
      "  collections.OrderedDict((name, ds.value) for name, ds in sorted(\n"
     ]
    },
    {
     "name": "stdout",
     "output_type": "stream",
     "text": [
      "20/20 [==============================] - 5s 240ms/step - loss: 4.1606 - num_tokens: 27280.0000 - num_tokens_no_oov: 25864.0000 - num_batches: 20.0000 - num_examples: 2000.0000 - accuracy: 0.0936 - accuracy_no_oov: 0.0597 - accuracy_no_oov_no_eos: 0.0088\n"
     ]
    }
   ],
   "source": [
    "keras_evaluate(server_state, val_data)"
   ]
  },
  {
   "cell_type": "markdown",
   "metadata": {},
   "source": [
    "### Generate Text"
   ]
  },
  {
   "cell_type": "code",
   "execution_count": 39,
   "metadata": {},
   "outputs": [
    {
     "name": "stdout",
     "output_type": "stream",
     "text": [
      "how are you todayis concurrently close late swipe before bat declares important untested unlikely revision their suited parses mess communicating step passwords screen mistakes changes arises click behavior rectangles successfully terms in mac fires dimensional badly context putting i'll responses keyword facing ton this evaluate res value override but se concatenation in helped\n"
     ]
    }
   ],
   "source": [
    "keras_model = build_model()\n",
    "# evaluation_metrics = get_metrics()\n",
    "# compile_model(keras_model, evaluation_metrics)\n",
    "\n",
    "tff.learning.assign_weights_to_keras_model(keras_model, server_state.model)\n",
    "print(generate_text(keras_model, \"How are you today\"))"
   ]
  },
  {
   "cell_type": "code",
   "execution_count": null,
   "metadata": {},
   "outputs": [],
   "source": []
  }
 ],
 "metadata": {
  "kernelspec": {
   "display_name": "fed",
   "language": "python",
   "name": "fed"
  },
  "language_info": {
   "codemirror_mode": {
    "name": "ipython",
    "version": 3
   },
   "file_extension": ".py",
   "mimetype": "text/x-python",
   "name": "python",
   "nbconvert_exporter": "python",
   "pygments_lexer": "ipython3",
   "version": "3.7.5"
  }
 },
 "nbformat": 4,
 "nbformat_minor": 2
}
