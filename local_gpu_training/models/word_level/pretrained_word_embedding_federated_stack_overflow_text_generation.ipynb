{
 "cells": [
  {
   "cell_type": "markdown",
   "metadata": {},
   "source": [
    "# Word Level Federated Text Generation with Stack Overflow\n",
    "- Joel Stremmel\n",
    "- 02-01-20\n",
    "\n",
    "**About:**\n",
    "\n",
    "This notebook loads the Stack Overflow data available through `tff.simulation.datasets` and trains an LSTM model with Federared Averaging by following the Federated Learning for Text Generation [example notebook](https://github.com/tensorflow/federated/blob/master/docs/tutorials/federated_learning_for_text_generation.ipynb).  The embedding layer is initialized using pretrained GloVe embeddings from the Stanford NLP group.\n",
    "\n",
    "**Notes:**\n",
    "\n",
    "- This notebook prepares the Stack Overflow dataset for word level language modeling using this [module](https://github.com/tensorflow/federated/blob/master/tensorflow_federated/python/research/baselines/stackoverflow/dataset.py\n",
    ").\n",
    "- The metrics for model training come from this [module](https://github.com/tensorflow/federated/blob/master/tensorflow_federated/python/research/baselines/stackoverflow/metrics.py). \n",
    "\n",
    "\n",
    "**Data:** \n",
    "- https://www.kaggle.com/stackoverflow/stackoverflow\n",
    "- https://nlp.stanford.edu/projects/glove/\n",
    "\n",
    "**License:** \n",
    "- https://creativecommons.org/licenses/by-sa/3.0/\n",
    "- https://opendatacommons.org/licenses/pddl/\n",
    "\n",
    "**Data and Model References:**\n",
    "- https://www.tensorflow.org/federated/api_docs/python/tff/simulation/datasets/stackoverflow/load_data\n",
    "- https://github.com/tensorflow/federated/blob/master/docs/tutorials/federated_learning_for_text_generation.ipynb\n",
    "- https://github.com/tensorflow/federated/tree/master/tensorflow_federated/python/research/baselines/stackoverflow\n",
    "- https://www.tensorflow.org/tutorials/text/text_generation\n",
    "\n",
    "**Environment Setup References:**\n",
    "- https://www.tensorflow.org/install/gpu\n",
    "- https://gist.github.com/matheustguimaraes/43e0b65aa534db4df2918f835b9b361d\n",
    "- https://www.tensorflow.org/install/source#tested_build_configurations\n",
    "- https://anbasile.github.io/programming/2017/06/25/jupyter-venv/"
   ]
  },
  {
   "cell_type": "markdown",
   "metadata": {},
   "source": [
    "### Environment Setup\n",
    "Pip install these packages in the order listed."
   ]
  },
  {
   "cell_type": "code",
   "execution_count": 1,
   "metadata": {},
   "outputs": [],
   "source": [
    "# !pip install --upgrade pip\n",
    "# !pip install --upgrade tensorflow-federated\n",
    "# !pip uninstall tensorflow -y\n",
    "# !pip install --upgrade tensorflow-gpu==2.0\n",
    "# !pip install --upgrade nltk\n",
    "# !pip install matplotlib\n",
    "# !pip install nest_asyncio"
   ]
  },
  {
   "cell_type": "markdown",
   "metadata": {},
   "source": [
    "### Imports"
   ]
  },
  {
   "cell_type": "code",
   "execution_count": 2,
   "metadata": {},
   "outputs": [],
   "source": [
    "import nest_asyncio\n",
    "nest_asyncio.apply()"
   ]
  },
  {
   "cell_type": "code",
   "execution_count": 3,
   "metadata": {},
   "outputs": [],
   "source": [
    "import os, sys\n",
    "sys.path.append(os.path.dirname(os.path.dirname(os.getcwd())))"
   ]
  },
  {
   "cell_type": "code",
   "execution_count": 4,
   "metadata": {},
   "outputs": [],
   "source": [
    "# from https://github.com/tensorflow/federated/blob/master/tensorflow_federated/python/research/baselines/stackoverflow/dataset.py\n",
    "from utils.dataset import construct_word_level_datasets, get_vocab, get_special_tokens\n",
    "\n",
    "# from https://github.com/tensorflow/federated/blob/master/tensorflow_federated/python/research/baselines/stackoverflow/metrics.py\n",
    "import utils.metrics as metrics"
   ]
  },
  {
   "cell_type": "code",
   "execution_count": 5,
   "metadata": {},
   "outputs": [],
   "source": [
    "import collections\n",
    "import functools\n",
    "import six\n",
    "import time\n",
    "import string\n",
    "\n",
    "import numpy as np\n",
    "import matplotlib.pyplot as plt\n",
    "from nltk.corpus import stopwords\n",
    "\n",
    "import tensorflow as tf\n",
    "import tensorflow_federated as tff"
   ]
  },
  {
   "cell_type": "markdown",
   "metadata": {},
   "source": [
    "### Set Compatability Behavior"
   ]
  },
  {
   "cell_type": "code",
   "execution_count": 6,
   "metadata": {},
   "outputs": [],
   "source": [
    "tf.compat.v1.enable_v2_behavior()"
   ]
  },
  {
   "cell_type": "markdown",
   "metadata": {},
   "source": [
    "### Check Tensorflow Install"
   ]
  },
  {
   "cell_type": "code",
   "execution_count": 7,
   "metadata": {},
   "outputs": [
    {
     "name": "stdout",
     "output_type": "stream",
     "text": [
      "Built with Cuda: True\n",
      "Build with GPU support: True\n",
      "Num GPUs Available:  1\n"
     ]
    }
   ],
   "source": [
    "print('Built with Cuda: {}'.format(tf.test.is_built_with_cuda()))\n",
    "print('Build with GPU support: {}'.format(tf.test.is_built_with_gpu_support()))\n",
    "print(\"Num GPUs Available: \", len(tf.config.experimental.list_physical_devices('GPU')))"
   ]
  },
  {
   "cell_type": "markdown",
   "metadata": {},
   "source": [
    "### Set Tensorflow to Use GPU"
   ]
  },
  {
   "cell_type": "code",
   "execution_count": 8,
   "metadata": {},
   "outputs": [
    {
     "name": "stdout",
     "output_type": "stream",
     "text": [
      "PhysicalDevice(name='/physical_device:CPU:0', device_type='CPU')\n",
      "PhysicalDevice(name='/physical_device:XLA_CPU:0', device_type='XLA_CPU')\n",
      "PhysicalDevice(name='/physical_device:XLA_GPU:0', device_type='XLA_GPU')\n",
      "PhysicalDevice(name='/physical_device:GPU:0', device_type='GPU')\n"
     ]
    }
   ],
   "source": [
    "physical_devices = tf.config.experimental.list_physical_devices(device_type=None)\n",
    "tf.config.experimental.set_memory_growth(physical_devices[-1], enable=True)\n",
    "for device in physical_devices:\n",
    "    print(device)"
   ]
  },
  {
   "cell_type": "markdown",
   "metadata": {},
   "source": [
    "### Test TFF"
   ]
  },
  {
   "cell_type": "code",
   "execution_count": 9,
   "metadata": {},
   "outputs": [
    {
     "data": {
      "text/plain": [
       "'Hello, World!'"
      ]
     },
     "execution_count": 9,
     "metadata": {},
     "output_type": "execute_result"
    }
   ],
   "source": [
    "tff.federated_computation(lambda: 'Hello, World!')()"
   ]
  },
  {
   "cell_type": "markdown",
   "metadata": {},
   "source": [
    "### Set Some Parameters for Preprocessing the Data and Training the Model\n",
    "**Note:** Ask Keith how he's been setting there for internal experiments."
   ]
  },
  {
   "cell_type": "code",
   "execution_count": 10,
   "metadata": {},
   "outputs": [],
   "source": [
    "VOCAB_SIZE = 10000\n",
    "BATCH_SIZE = 8\n",
    "CLIENTS_EPOCHS_PER_ROUND = 1\n",
    "MAX_SEQ_LENGTH = 20\n",
    "MAX_ELEMENTS_PER_USER = 500\n",
    "CENTRALIZED_TRAIN = False\n",
    "SHUFFLE_BUFFER_SIZE = 1000\n",
    "NUM_VALIDATION_EXAMPLES = 10000\n",
    "NUM_TEST_EXAMPLES = 2\n",
    "\n",
    "NUM_ROUNDS = 100\n",
    "NUM_TRAIN_CLIENTS = 10\n",
    "UNIFORM_WEIGHTING = False\n",
    "\n",
    "EMBEDDING_DIM = 100\n",
    "EMBEDDING_PATH = f'/home/joel_stremmel/word_embeddings/glove.6B.{EMBEDDING_DIM}d.txt'\n",
    "RNN_UNITS = 256"
   ]
  },
  {
   "cell_type": "markdown",
   "metadata": {},
   "source": [
    "### Load and Preprocess Word Level Datasets"
   ]
  },
  {
   "cell_type": "code",
   "execution_count": 11,
   "metadata": {},
   "outputs": [
    {
     "name": "stderr",
     "output_type": "stream",
     "text": [
      "/home/joel_stremmel/anaconda3/envs/tff/lib/python3.7/site-packages/tensorflow_federated/python/simulation/hdf5_client_data.py:69: H5pyDeprecationWarning: dataset.value has been deprecated. Use dataset[()] instead.\n",
      "  collections.OrderedDict((name, ds.value) for name, ds in sorted(\n"
     ]
    }
   ],
   "source": [
    "train_data, val_data, test_data = construct_word_level_datasets(\n",
    "    vocab_size=VOCAB_SIZE,\n",
    "    batch_size=BATCH_SIZE,\n",
    "    client_epochs_per_round=CLIENTS_EPOCHS_PER_ROUND,\n",
    "    max_seq_len=MAX_SEQ_LENGTH,\n",
    "    max_elements_per_user=MAX_ELEMENTS_PER_USER,\n",
    "    centralized_train=CENTRALIZED_TRAIN,\n",
    "    shuffle_buffer_size=SHUFFLE_BUFFER_SIZE,\n",
    "    num_validation_examples=NUM_VALIDATION_EXAMPLES,\n",
    "    num_test_examples=NUM_TEST_EXAMPLES)"
   ]
  },
  {
   "cell_type": "markdown",
   "metadata": {},
   "source": [
    "### Retrieve the Dataset Vocab"
   ]
  },
  {
   "cell_type": "code",
   "execution_count": 12,
   "metadata": {},
   "outputs": [],
   "source": [
    "vocab = get_vocab(VOCAB_SIZE)"
   ]
  },
  {
   "cell_type": "markdown",
   "metadata": {},
   "source": [
    "### Retrieve the Special Characters Created During Preprocessing\n",
    "The four special tokens are:\n",
    "- pad: padding token\n",
    "- oov: out of vocabulary\n",
    "- bos: begin of sentence\n",
    "- eos: end of sentence"
   ]
  },
  {
   "cell_type": "code",
   "execution_count": 13,
   "metadata": {},
   "outputs": [],
   "source": [
    "pad, oov, bos, eos = get_special_tokens(VOCAB_SIZE)"
   ]
  },
  {
   "cell_type": "code",
   "execution_count": 14,
   "metadata": {},
   "outputs": [],
   "source": [
    "special2idx = dict(zip(['pad', 'oov', 'bos', 'eos'], [pad, oov, bos, eos]))\n",
    "idx2special = {v:k for k, v in special2idx.items()}"
   ]
  },
  {
   "cell_type": "markdown",
   "metadata": {},
   "source": [
    "### Set Vocabulary\n",
    "Add one to account for the pad token which has idx 0."
   ]
  },
  {
   "cell_type": "code",
   "execution_count": 15,
   "metadata": {},
   "outputs": [],
   "source": [
    "word2idx = {word:i+1 for i, word in enumerate(vocab)}\n",
    "idx2word = {i+1:word for i, word in enumerate(vocab)}"
   ]
  },
  {
   "cell_type": "markdown",
   "metadata": {},
   "source": [
    "### Add Special Characters"
   ]
  },
  {
   "cell_type": "code",
   "execution_count": 16,
   "metadata": {},
   "outputs": [],
   "source": [
    "word2idx = {**word2idx, **special2idx}\n",
    "idx2word = {**idx2word, **idx2special}"
   ]
  },
  {
   "cell_type": "markdown",
   "metadata": {},
   "source": [
    "### Reset Vocab Size\n",
    "This accounts for having added the special characters."
   ]
  },
  {
   "cell_type": "code",
   "execution_count": 17,
   "metadata": {},
   "outputs": [],
   "source": [
    "EXTENDED_VOCAB_SIZE = VOCAB_SIZE + len(special2idx)"
   ]
  },
  {
   "cell_type": "markdown",
   "metadata": {},
   "source": [
    "### Load Pretrained Word Embeddings\n",
    "- [GloVe embeddings](https://nlp.stanford.edu/projects/glove/) trained on Wikipedia\n",
    "- [Example usage](https://github.com/keras-team/keras/blob/master/examples/pretrained_word_embeddings.py)"
   ]
  },
  {
   "cell_type": "code",
   "execution_count": 18,
   "metadata": {},
   "outputs": [],
   "source": [
    "def load_pretrained_embeddings():\n",
    "    \n",
    "    embeddings_index = {}\n",
    "    with open(EMBEDDING_PATH, 'r') as f:\n",
    "        for line in f:\n",
    "            word, coefs = line.split(maxsplit=1)\n",
    "            coefs = np.fromstring(coefs, 'f', sep=' ')\n",
    "            embeddings_index[word] = coefs\n",
    "            \n",
    "    return embeddings_index"
   ]
  },
  {
   "cell_type": "markdown",
   "metadata": {},
   "source": [
    "### Create Embedding Matrix from Words in Word Index and Word Embeddings\n",
    "Words with no embedding are initialized as a vector of zeros."
   ]
  },
  {
   "cell_type": "code",
   "execution_count": 19,
   "metadata": {},
   "outputs": [],
   "source": [
    "def create_matrix_from_pretrained_embeddings():\n",
    "    \n",
    "    embeddings_index = load_pretrained_embeddings()\n",
    "    embedding_matrix = np.zeros((EXTENDED_VOCAB_SIZE, EMBEDDING_DIM))\n",
    "\n",
    "    for word, i in word2idx.items():\n",
    "        embedding_vector = embeddings_index.get(word)\n",
    "        if embedding_vector is not None:\n",
    "            embedding_matrix[i] = embedding_vector\n",
    "    \n",
    "    return embedding_matrix"
   ]
  },
  {
   "cell_type": "code",
   "execution_count": 20,
   "metadata": {},
   "outputs": [
    {
     "name": "stdout",
     "output_type": "stream",
     "text": [
      "Words from dataset with no embedding: 1304\n"
     ]
    }
   ],
   "source": [
    "m = create_matrix_from_pretrained_embeddings()\n",
    "missing_words = np.sum(~m.any(axis=1))\n",
    "print(f'Words from dataset with no embedding: {missing_words}')"
   ]
  },
  {
   "cell_type": "markdown",
   "metadata": {},
   "source": [
    "### Create Embedding Initializer"
   ]
  },
  {
   "cell_type": "code",
   "execution_count": 21,
   "metadata": {},
   "outputs": [],
   "source": [
    "def initialize_embedding():\n",
    "    \n",
    "    embedding_matrix = create_matrix_from_pretrained_embeddings()\n",
    "    \n",
    "    return tf.keras.initializers.Constant(embedding_matrix)"
   ]
  },
  {
   "cell_type": "markdown",
   "metadata": {},
   "source": [
    "### Define Function to Build Model"
   ]
  },
  {
   "cell_type": "code",
   "execution_count": 22,
   "metadata": {},
   "outputs": [],
   "source": [
    "def build_model():\n",
    "    \"\"\"\n",
    "    Build model with architecture from: https://www.tensorflow.org/tutorials/text/text_generation.\n",
    "    \"\"\"\n",
    "\n",
    "    model1_input = tf.keras.Input(shape=(None, ), # changed from MAX_SEQ_LENGTH\n",
    "                                  name='model1_input')\n",
    "    \n",
    "    model1_embedding = tf.keras.layers.Embedding(input_dim=EXTENDED_VOCAB_SIZE,\n",
    "                                                 output_dim=EMBEDDING_DIM,\n",
    "                                                 embeddings_initializer=initialize_embedding(), \n",
    "                                                 mask_zero=True,\n",
    "                                                 trainable=True, # try unfreezing partway through training\n",
    "                                                 name='model1_embedding')(model1_input)\n",
    "    \n",
    "    model1_lstm = tf.keras.layers.LSTM(units=RNN_UNITS,\n",
    "                                       return_sequences=True,\n",
    "                                       recurrent_initializer='glorot_uniform',\n",
    "                                       name='model1_lstm')(model1_embedding)\n",
    "    \n",
    "    model1_dense1 = tf.keras.layers.Dense(units=EMBEDDING_DIM)(model1_lstm)\n",
    "    \n",
    "    model1_dense2 = tf.keras.layers.Dense(units=EXTENDED_VOCAB_SIZE)(model1_dense1)\n",
    "    \n",
    "    final_model = tf.keras.Model(inputs=model1_input, outputs=model1_dense2)\n",
    "                 \n",
    "    return final_model"
   ]
  },
  {
   "cell_type": "markdown",
   "metadata": {},
   "source": [
    "### Define the Text Generation Strategy"
   ]
  },
  {
   "cell_type": "code",
   "execution_count": 23,
   "metadata": {},
   "outputs": [],
   "source": [
    "def generate_text(model, start_string):\n",
    "    \"\"\"\n",
    "    Generate text by sampling from the model output distribution\n",
    "    as in From https://www.tensorflow.org/tutorials/sequences/text_generation.\n",
    "    \"\"\"\n",
    "    \n",
    "    start_words = [word.lower() for word in start_string.split(' ')]\n",
    "\n",
    "    num_generate = 50\n",
    "    input_eval = [word2idx[word] for word in start_words]\n",
    "    input_eval = tf.expand_dims(input_eval, 0)\n",
    "    text_generated = []\n",
    "    temperature = 1.0\n",
    "\n",
    "    model.reset_states()\n",
    "    for i in range(num_generate):\n",
    "        predictions = model(input_eval)\n",
    "        predictions = tf.squeeze(predictions, 0)\n",
    "        predictions = predictions / temperature\n",
    "        predicted_id = tf.random.categorical(predictions, num_samples=1)[-1, 0].numpy()\n",
    "        input_eval = tf.expand_dims([predicted_id], 0)\n",
    "        text_generated.append(idx2word[predicted_id])\n",
    "\n",
    "    return (' '.join(start_words) + ' '.join(text_generated))"
   ]
  },
  {
   "cell_type": "markdown",
   "metadata": {},
   "source": [
    "### Load or Build the Model and Try Generating Some Text"
   ]
  },
  {
   "cell_type": "code",
   "execution_count": 24,
   "metadata": {},
   "outputs": [
    {
     "name": "stdout",
     "output_type": "stream",
     "text": [
      "how are you todaydeprecated postgresql raw pow injected ado neighbor exited keyboard matt switched afraid disallowed courtesy bower minute describe averages sizeof separate s1 onclick datastore compilation where instantiating optimistic up-to-date hide backtracking drawer white-space reproducible love forever saves times list's dbo fires willing classa ls sans background-color you've post_id dictates journal uiimage\n"
     ]
    }
   ],
   "source": [
    "keras_model = build_model()\n",
    "print(generate_text(keras_model, \"How are you today\"))"
   ]
  },
  {
   "cell_type": "markdown",
   "metadata": {},
   "source": [
    "### Define Evaluation Metrics for Training"
   ]
  },
  {
   "cell_type": "code",
   "execution_count": 25,
   "metadata": {},
   "outputs": [],
   "source": [
    "def get_metrics():\n",
    "    \n",
    "    evaluation_metrics = [\n",
    "        metrics.NumTokensCounter(name='num_tokens', masked_tokens=[pad]),\n",
    "        metrics.NumTokensCounter(name='num_tokens_no_oov', masked_tokens=[pad, oov]),\n",
    "        metrics.NumBatchesCounter(name='num_batches'),\n",
    "        metrics.NumExamplesCounter(name='num_examples'),\n",
    "        metrics.MaskedCategoricalAccuracy(name='accuracy', masked_tokens=[pad]),\n",
    "        metrics.MaskedCategoricalAccuracy(name='accuracy_no_oov', masked_tokens=[pad, oov]),\n",
    "        metrics.MaskedCategoricalAccuracy(name='accuracy_no_oov_no_eos', masked_tokens=[pad, oov, eos])\n",
    "    ]\n",
    "    \n",
    "    return evaluation_metrics"
   ]
  },
  {
   "cell_type": "markdown",
   "metadata": {},
   "source": [
    "### Define a Function to Compile the Model for Training"
   ]
  },
  {
   "cell_type": "code",
   "execution_count": 26,
   "metadata": {},
   "outputs": [],
   "source": [
    "def compile_model(keras_model, evaluation_metrics):\n",
    "    \n",
    "    keras_model.compile(\n",
    "        loss=tf.keras.losses.SparseCategoricalCrossentropy(from_logits=True),\n",
    "        optimizer=tf.keras.optimizers.Adam(),\n",
    "        metrics=evaluation_metrics)\n",
    "    \n",
    "    return keras_model"
   ]
  },
  {
   "cell_type": "markdown",
   "metadata": {},
   "source": [
    "### Create TFF Version of the Model to be Trained with Federated Averaging\n",
    "- TFF uses a sample batch so it knows the types and shapes that your model expects.\n",
    "- The model function then builds and compiles the model and creates a TFF version to be trained."
   ]
  },
  {
   "cell_type": "code",
   "execution_count": 27,
   "metadata": {},
   "outputs": [
    {
     "name": "stderr",
     "output_type": "stream",
     "text": [
      "/home/joel_stremmel/anaconda3/envs/tff/lib/python3.7/site-packages/tensorflow_federated/python/simulation/hdf5_client_data.py:69: H5pyDeprecationWarning: dataset.value has been deprecated. Use dataset[()] instead.\n",
      "  collections.OrderedDict((name, ds.value) for name, ds in sorted(\n"
     ]
    }
   ],
   "source": [
    "sample_batch = tf.nest.map_structure(lambda x: x.numpy(), next(iter(val_data)))"
   ]
  },
  {
   "cell_type": "code",
   "execution_count": 28,
   "metadata": {},
   "outputs": [],
   "source": [
    "def model_fn():\n",
    "    \"\"\"\n",
    "    Create TFF model from compiled Keras model and a sample batch.\n",
    "    \"\"\"\n",
    "    \n",
    "    keras_model = build_model()\n",
    "    evaluation_metrics = get_metrics()\n",
    "    \n",
    "    compile_model(keras_model, evaluation_metrics)\n",
    "    \n",
    "    return tff.learning.from_compiled_keras_model(keras_model, sample_batch)"
   ]
  },
  {
   "cell_type": "markdown",
   "metadata": {},
   "source": [
    "### Define Model History Tracker to Save Metrics at Each Training Round\n",
    "This is a spin off of [keras' model history](https://www.tensorflow.org/api_docs/python/tf/keras/callbacks/History) but is specific to the TFF training code used here."
   ]
  },
  {
   "cell_type": "code",
   "execution_count": 29,
   "metadata": {},
   "outputs": [],
   "source": [
    "class model_history_tracker:\n",
    "    \n",
    "    def __init__(self, metric_names=[]):\n",
    "        \n",
    "        self.metric_names = metric_names\n",
    "        self.metrics_dict = {name:[] for name in metric_names}\n",
    "    \n",
    "    def get_metrics_by_name(self, metric_name):\n",
    "        \n",
    "        return self.metrics_dict[metric_name]\n",
    "    \n",
    "    def add_metrics_by_name(self, metric_name, metric_result):\n",
    "        \n",
    "        self.metrics_dict[metric_name].append(metric_result) "
   ]
  },
  {
   "cell_type": "markdown",
   "metadata": {},
   "source": [
    "### Initialize Train and Validation Model Trackers to be Used Below"
   ]
  },
  {
   "cell_type": "code",
   "execution_count": 30,
   "metadata": {},
   "outputs": [],
   "source": [
    "evaluation_metric_names = ['loss',\n",
    "                           'num_tokens',\n",
    "                           'num_tokens_no_oov',\n",
    "                           'num_batches',\n",
    "                           'num_examples',\n",
    "                           'accuracy',\n",
    "                           'accuracy_no_oov',\n",
    "                           'accuracy_no_oov_no_oes']\n",
    "\n",
    "train_metrics_tracker = model_history_tracker(evaluation_metric_names)\n",
    "val_metrics_tracker = model_history_tracker(evaluation_metric_names)"
   ]
  },
  {
   "cell_type": "markdown",
   "metadata": {},
   "source": [
    "### Define Function to Evaluate Model Performance on Validation Data"
   ]
  },
  {
   "cell_type": "code",
   "execution_count": 31,
   "metadata": {},
   "outputs": [],
   "source": [
    "def keras_evaluate(state, val_dataset):\n",
    "    \n",
    "    keras_model = build_model()\n",
    "    evaluation_metrics = get_metrics()\n",
    "    \n",
    "    compile_model(keras_model, evaluation_metrics)\n",
    "    tff.learning.assign_weights_to_keras_model(keras_model, state.model)\n",
    "    \n",
    "    evaluation_results = keras_model.evaluate(val_dataset)\n",
    "    \n",
    "    for i, result in enumerate(evaluation_results):\n",
    "        val_metrics_tracker.add_metrics_by_name(val_metrics_tracker.metric_names[i], result)"
   ]
  },
  {
   "cell_type": "markdown",
   "metadata": {},
   "source": [
    "### Define Function to Weight Clients Uniformly or by Number of Tokens"
   ]
  },
  {
   "cell_type": "code",
   "execution_count": 32,
   "metadata": {},
   "outputs": [],
   "source": [
    "def client_weight_fn(local_outputs):\n",
    "    \n",
    "    num_tokens = tf.cast(tf.squeeze(local_outputs['num_tokens']), tf.float32)\n",
    "    \n",
    "    return 1.0 if UNIFORM_WEIGHTING else num_tokens"
   ]
  },
  {
   "cell_type": "markdown",
   "metadata": {},
   "source": [
    "### Define Function to Supply Server Optimizer"
   ]
  },
  {
   "cell_type": "code",
   "execution_count": 33,
   "metadata": {},
   "outputs": [],
   "source": [
    "def server_optimizer_fn():\n",
    "    \n",
    "    return tf.keras.optimizers.Adam()"
   ]
  },
  {
   "cell_type": "markdown",
   "metadata": {},
   "source": [
    "### Set the Default Executor"
   ]
  },
  {
   "cell_type": "code",
   "execution_count": 34,
   "metadata": {},
   "outputs": [],
   "source": [
    "tff.framework.set_default_executor(tff.framework.create_local_executor(max_fanout=10))"
   ]
  },
  {
   "cell_type": "markdown",
   "metadata": {},
   "source": [
    "### Create an Iterative Process"
   ]
  },
  {
   "cell_type": "code",
   "execution_count": 35,
   "metadata": {},
   "outputs": [
    {
     "name": "stdout",
     "output_type": "stream",
     "text": [
      "WARNING:tensorflow:From /home/joel_stremmel/anaconda3/envs/tff/lib/python3.7/site-packages/tensorflow_core/python/ops/resource_variable_ops.py:1630: calling BaseResourceVariable.__init__ (from tensorflow.python.ops.resource_variable_ops) with constraint is deprecated and will be removed in a future version.\n",
      "Instructions for updating:\n",
      "If using Keras pass *_constraint arguments to layers.\n"
     ]
    }
   ],
   "source": [
    "iterative_process = (\n",
    "      tff.learning.federated_averaging.build_federated_averaging_process(\n",
    "          model_fn=model_fn,\n",
    "          server_optimizer_fn=server_optimizer_fn,\n",
    "          client_weight_fn=client_weight_fn))"
   ]
  },
  {
   "cell_type": "markdown",
   "metadata": {},
   "source": [
    "### Initalize the Process\n",
    "Server state will be updated in the training loop."
   ]
  },
  {
   "cell_type": "code",
   "execution_count": 36,
   "metadata": {},
   "outputs": [],
   "source": [
    "server_state = iterative_process.initialize()"
   ]
  },
  {
   "cell_type": "markdown",
   "metadata": {},
   "source": [
    "### Define Function to Create Training Datsets from Randomly Sampled Clients"
   ]
  },
  {
   "cell_type": "code",
   "execution_count": 37,
   "metadata": {},
   "outputs": [],
   "source": [
    "def get_sample_clients(dataset, num_clients):\n",
    "    \n",
    "    random_indices = np.random.choice(len(dataset.client_ids), size=num_clients, replace=False)\n",
    "    \n",
    "    return np.array(dataset.client_ids)[random_indices]"
   ]
  },
  {
   "cell_type": "markdown",
   "metadata": {},
   "source": [
    "### Train Model Across Many Randomly Sampled Clients with Federated Averaging"
   ]
  },
  {
   "cell_type": "code",
   "execution_count": 38,
   "metadata": {
    "scrolled": false
   },
   "outputs": [
    {
     "name": "stdout",
     "output_type": "stream",
     "text": [
      "CPU times: user 0 ns, sys: 0 ns, total: 0 ns\n",
      "Wall time: 10.7 µs\n",
      "Evaluating before training round #0 on 10000 examples.\n"
     ]
    },
    {
     "name": "stderr",
     "output_type": "stream",
     "text": [
      "/home/joel_stremmel/anaconda3/envs/tff/lib/python3.7/site-packages/tensorflow_federated/python/simulation/hdf5_client_data.py:69: H5pyDeprecationWarning: dataset.value has been deprecated. Use dataset[()] instead.\n",
      "  collections.OrderedDict((name, ds.value) for name, ds in sorted(\n"
     ]
    },
    {
     "name": "stdout",
     "output_type": "stream",
     "text": [
      "100/100 [==============================] - 18s 181ms/step - loss: 6.4281 - num_tokens: 132474.0000 - num_tokens_no_oov: 128122.0000 - num_batches: 100.0000 - num_examples: 10000.0000 - accuracy: 2.2646e-05 - accuracy_no_oov: 2.3415e-05 - accuracy_no_oov_no_eos: 2.4834e-05\n",
      "Sampling 10 new clients.\n",
      "Round: 0\n",
      "   Loss: 6.09910822\n",
      "   num_batches: 302\n",
      "   num_examples: 2385\n",
      "   num_tokens: 29935\n",
      "   num_tokens_no_oov: 29210\n",
      "   accuracy: 0.00555\n",
      "   accuracy_no_oov: 0.00568\n",
      "Evaluating before training round #1 on 10000 examples.\n"
     ]
    },
    {
     "name": "stderr",
     "output_type": "stream",
     "text": [
      "/home/joel_stremmel/anaconda3/envs/tff/lib/python3.7/site-packages/tensorflow_federated/python/simulation/hdf5_client_data.py:69: H5pyDeprecationWarning: dataset.value has been deprecated. Use dataset[()] instead.\n",
      "  collections.OrderedDict((name, ds.value) for name, ds in sorted(\n"
     ]
    },
    {
     "name": "stdout",
     "output_type": "stream",
     "text": [
      "100/100 [==============================] - 18s 180ms/step - loss: 6.2311 - num_tokens: 128243.0000 - num_tokens_no_oov: 124076.0000 - num_batches: 100.0000 - num_examples: 10000.0000 - accuracy: 2.7292e-04 - accuracy_no_oov: 2.8209e-04 - accuracy_no_oov_no_eos: 3.0028e-04\n",
      "Sampling 10 new clients.\n",
      "Round: 1\n",
      "   Loss: 6.34348297\n",
      "   num_batches: 242\n",
      "   num_examples: 1898\n",
      "   num_tokens: 25334\n",
      "   num_tokens_no_oov: 24666\n",
      "   accuracy: 0.00067\n",
      "   accuracy_no_oov: 0.00069\n",
      "Evaluating before training round #2 on 10000 examples.\n"
     ]
    },
    {
     "name": "stderr",
     "output_type": "stream",
     "text": [
      "/home/joel_stremmel/anaconda3/envs/tff/lib/python3.7/site-packages/tensorflow_federated/python/simulation/hdf5_client_data.py:69: H5pyDeprecationWarning: dataset.value has been deprecated. Use dataset[()] instead.\n",
      "  collections.OrderedDict((name, ds.value) for name, ds in sorted(\n"
     ]
    },
    {
     "name": "stdout",
     "output_type": "stream",
     "text": [
      "100/100 [==============================] - 19s 188ms/step - loss: 6.3658 - num_tokens: 131633.0000 - num_tokens_no_oov: 127708.0000 - num_batches: 100.0000 - num_examples: 10000.0000 - accuracy: 3.9504e-04 - accuracy_no_oov: 4.0718e-04 - accuracy_no_oov_no_eos: 4.3252e-04\n",
      "Sampling 10 new clients.\n",
      "Round: 2\n",
      "   Loss: 5.53969574\n",
      "   num_batches: 353\n",
      "   num_examples: 2788\n",
      "   num_tokens: 36180\n",
      "   num_tokens_no_oov: 35299\n",
      "   accuracy: 0.00122\n",
      "   accuracy_no_oov: 0.00125\n",
      "Evaluating before training round #3 on 10000 examples.\n"
     ]
    },
    {
     "name": "stderr",
     "output_type": "stream",
     "text": [
      "/home/joel_stremmel/anaconda3/envs/tff/lib/python3.7/site-packages/tensorflow_federated/python/simulation/hdf5_client_data.py:69: H5pyDeprecationWarning: dataset.value has been deprecated. Use dataset[()] instead.\n",
      "  collections.OrderedDict((name, ds.value) for name, ds in sorted(\n"
     ]
    },
    {
     "name": "stdout",
     "output_type": "stream",
     "text": [
      "100/100 [==============================] - 18s 179ms/step - loss: 6.2465 - num_tokens: 129745.0000 - num_tokens_no_oov: 125786.0000 - num_batches: 100.0000 - num_examples: 10000.0000 - accuracy: 3.0830e-05 - accuracy_no_oov: 3.1800e-05 - accuracy_no_oov_no_eos: 3.3817e-05\n",
      "Sampling 10 new clients.\n",
      "Round: 3\n",
      "   Loss: 5.26058865\n",
      "   num_batches: 330\n",
      "   num_examples: 2604\n",
      "   num_tokens: 32610\n",
      "   num_tokens_no_oov: 31666\n",
      "   accuracy: 0.00080\n",
      "   accuracy_no_oov: 0.00082\n",
      "Evaluating before training round #4 on 10000 examples.\n"
     ]
    },
    {
     "name": "stderr",
     "output_type": "stream",
     "text": [
      "/home/joel_stremmel/anaconda3/envs/tff/lib/python3.7/site-packages/tensorflow_federated/python/simulation/hdf5_client_data.py:69: H5pyDeprecationWarning: dataset.value has been deprecated. Use dataset[()] instead.\n",
      "  collections.OrderedDict((name, ds.value) for name, ds in sorted(\n"
     ]
    },
    {
     "name": "stdout",
     "output_type": "stream",
     "text": [
      "100/100 [==============================] - 19s 186ms/step - loss: 6.2398 - num_tokens: 131232.0000 - num_tokens_no_oov: 127228.0000 - num_batches: 100.0000 - num_examples: 10000.0000 - accuracy: 0.0000e+00 - accuracy_no_oov: 0.0000e+00 - accuracy_no_oov_no_eos: 0.0000e+00\n",
      "Sampling 10 new clients.\n",
      "Round: 4\n",
      "   Loss: 4.99929142\n",
      "   num_batches: 451\n",
      "   num_examples: 3567\n",
      "   num_tokens: 47125\n",
      "   num_tokens_no_oov: 45567\n",
      "   accuracy: 0.00361\n",
      "   accuracy_no_oov: 0.00373\n",
      "Evaluating before training round #5 on 10000 examples.\n"
     ]
    },
    {
     "name": "stderr",
     "output_type": "stream",
     "text": [
      "/home/joel_stremmel/anaconda3/envs/tff/lib/python3.7/site-packages/tensorflow_federated/python/simulation/hdf5_client_data.py:69: H5pyDeprecationWarning: dataset.value has been deprecated. Use dataset[()] instead.\n",
      "  collections.OrderedDict((name, ds.value) for name, ds in sorted(\n"
     ]
    },
    {
     "name": "stdout",
     "output_type": "stream",
     "text": [
      "100/100 [==============================] - 18s 182ms/step - loss: 6.1789 - num_tokens: 132917.0000 - num_tokens_no_oov: 128536.0000 - num_batches: 100.0000 - num_examples: 10000.0000 - accuracy: 0.0000e+00 - accuracy_no_oov: 0.0000e+00 - accuracy_no_oov_no_eos: 0.0000e+00\n",
      "Sampling 10 new clients.\n",
      "Round: 5\n",
      "   Loss: 5.30979729\n",
      "   num_batches: 341\n",
      "   num_examples: 2691\n",
      "   num_tokens: 37203\n",
      "   num_tokens_no_oov: 36224\n",
      "   accuracy: 0.00344\n",
      "   accuracy_no_oov: 0.00353\n",
      "Evaluating before training round #6 on 10000 examples.\n"
     ]
    },
    {
     "name": "stderr",
     "output_type": "stream",
     "text": [
      "/home/joel_stremmel/anaconda3/envs/tff/lib/python3.7/site-packages/tensorflow_federated/python/simulation/hdf5_client_data.py:69: H5pyDeprecationWarning: dataset.value has been deprecated. Use dataset[()] instead.\n",
      "  collections.OrderedDict((name, ds.value) for name, ds in sorted(\n"
     ]
    },
    {
     "name": "stdout",
     "output_type": "stream",
     "text": [
      "100/100 [==============================] - 19s 185ms/step - loss: 6.0249 - num_tokens: 133672.0000 - num_tokens_no_oov: 129642.0000 - num_batches: 100.0000 - num_examples: 10000.0000 - accuracy: 0.0000e+00 - accuracy_no_oov: 0.0000e+00 - accuracy_no_oov_no_eos: 0.0000e+00\n",
      "Sampling 10 new clients.\n",
      "Round: 6\n",
      "   Loss: 4.73525715\n",
      "   num_batches: 343\n",
      "   num_examples: 2704\n",
      "   num_tokens: 33470\n",
      "   num_tokens_no_oov: 32503\n",
      "   accuracy: 0.00592\n",
      "   accuracy_no_oov: 0.00609\n",
      "Evaluating before training round #7 on 10000 examples.\n"
     ]
    },
    {
     "name": "stderr",
     "output_type": "stream",
     "text": [
      "/home/joel_stremmel/anaconda3/envs/tff/lib/python3.7/site-packages/tensorflow_federated/python/simulation/hdf5_client_data.py:69: H5pyDeprecationWarning: dataset.value has been deprecated. Use dataset[()] instead.\n",
      "  collections.OrderedDict((name, ds.value) for name, ds in sorted(\n"
     ]
    },
    {
     "name": "stdout",
     "output_type": "stream",
     "text": [
      "100/100 [==============================] - 19s 189ms/step - loss: 5.9679 - num_tokens: 137009.0000 - num_tokens_no_oov: 132567.0000 - num_batches: 100.0000 - num_examples: 10000.0000 - accuracy: 0.0000e+00 - accuracy_no_oov: 0.0000e+00 - accuracy_no_oov_no_eos: 0.0000e+00\n",
      "Sampling 10 new clients.\n",
      "Round: 7\n",
      "   Loss: 4.81147385\n",
      "   num_batches: 266\n",
      "   num_examples: 2109\n",
      "   num_tokens: 26297\n",
      "   num_tokens_no_oov: 25683\n",
      "   accuracy: 0.00380\n",
      "   accuracy_no_oov: 0.00389\n",
      "Evaluating before training round #8 on 10000 examples.\n"
     ]
    },
    {
     "name": "stderr",
     "output_type": "stream",
     "text": [
      "/home/joel_stremmel/anaconda3/envs/tff/lib/python3.7/site-packages/tensorflow_federated/python/simulation/hdf5_client_data.py:69: H5pyDeprecationWarning: dataset.value has been deprecated. Use dataset[()] instead.\n",
      "  collections.OrderedDict((name, ds.value) for name, ds in sorted(\n"
     ]
    },
    {
     "name": "stdout",
     "output_type": "stream",
     "text": [
      "100/100 [==============================] - 19s 186ms/step - loss: 5.5296 - num_tokens: 130693.0000 - num_tokens_no_oov: 125998.0000 - num_batches: 100.0000 - num_examples: 10000.0000 - accuracy: 0.0000e+00 - accuracy_no_oov: 0.0000e+00 - accuracy_no_oov_no_eos: 0.0000e+00\n",
      "Sampling 10 new clients.\n",
      "Round: 8\n",
      "   Loss: 4.92129326\n",
      "   num_batches: 356\n",
      "   num_examples: 2809\n",
      "   num_tokens: 39007\n",
      "   num_tokens_no_oov: 38100\n",
      "   accuracy: 0.00938\n",
      "   accuracy_no_oov: 0.00961\n",
      "Evaluating before training round #9 on 10000 examples.\n"
     ]
    },
    {
     "name": "stderr",
     "output_type": "stream",
     "text": [
      "/home/joel_stremmel/anaconda3/envs/tff/lib/python3.7/site-packages/tensorflow_federated/python/simulation/hdf5_client_data.py:69: H5pyDeprecationWarning: dataset.value has been deprecated. Use dataset[()] instead.\n",
      "  collections.OrderedDict((name, ds.value) for name, ds in sorted(\n"
     ]
    },
    {
     "name": "stdout",
     "output_type": "stream",
     "text": [
      "100/100 [==============================] - 19s 189ms/step - loss: 5.2522 - num_tokens: 127906.0000 - num_tokens_no_oov: 123852.0000 - num_batches: 100.0000 - num_examples: 10000.0000 - accuracy: 0.0000e+00 - accuracy_no_oov: 0.0000e+00 - accuracy_no_oov_no_eos: 0.0000e+00\n",
      "Sampling 10 new clients.\n",
      "Round: 9\n",
      "   Loss: 4.60718918\n",
      "   num_batches: 214\n",
      "   num_examples: 1682\n",
      "   num_tokens: 20678\n",
      "   num_tokens_no_oov: 19990\n",
      "   accuracy: 0.00314\n",
      "   accuracy_no_oov: 0.00325\n",
      "Evaluating before training round #10 on 10000 examples.\n"
     ]
    },
    {
     "name": "stderr",
     "output_type": "stream",
     "text": [
      "/home/joel_stremmel/anaconda3/envs/tff/lib/python3.7/site-packages/tensorflow_federated/python/simulation/hdf5_client_data.py:69: H5pyDeprecationWarning: dataset.value has been deprecated. Use dataset[()] instead.\n",
      "  collections.OrderedDict((name, ds.value) for name, ds in sorted(\n"
     ]
    },
    {
     "name": "stdout",
     "output_type": "stream",
     "text": [
      "100/100 [==============================] - 21s 205ms/step - loss: 5.1019 - num_tokens: 128621.0000 - num_tokens_no_oov: 124252.0000 - num_batches: 100.0000 - num_examples: 10000.0000 - accuracy: 0.0000e+00 - accuracy_no_oov: 0.0000e+00 - accuracy_no_oov_no_eos: 0.0000e+00\n",
      "Sampling 10 new clients.\n",
      "Round: 10\n",
      "   Loss: 4.50959921\n",
      "   num_batches: 270\n",
      "   num_examples: 2120\n",
      "   num_tokens: 27074\n",
      "   num_tokens_no_oov: 26334\n",
      "   accuracy: 0.00672\n",
      "   accuracy_no_oov: 0.00691\n",
      "Evaluating before training round #11 on 10000 examples.\n"
     ]
    },
    {
     "name": "stderr",
     "output_type": "stream",
     "text": [
      "/home/joel_stremmel/anaconda3/envs/tff/lib/python3.7/site-packages/tensorflow_federated/python/simulation/hdf5_client_data.py:69: H5pyDeprecationWarning: dataset.value has been deprecated. Use dataset[()] instead.\n",
      "  collections.OrderedDict((name, ds.value) for name, ds in sorted(\n"
     ]
    },
    {
     "name": "stdout",
     "output_type": "stream",
     "text": [
      "100/100 [==============================] - 19s 187ms/step - loss: 4.9882 - num_tokens: 129759.0000 - num_tokens_no_oov: 125984.0000 - num_batches: 100.0000 - num_examples: 10000.0000 - accuracy: 0.0000e+00 - accuracy_no_oov: 0.0000e+00 - accuracy_no_oov_no_eos: 0.0000e+00\n",
      "Sampling 10 new clients.\n",
      "Round: 11\n",
      "   Loss: 4.31214190\n",
      "   num_batches: 362\n",
      "   num_examples: 2860\n",
      "   num_tokens: 36759\n",
      "   num_tokens_no_oov: 35839\n",
      "   accuracy: 0.01540\n",
      "   accuracy_no_oov: 0.01579\n",
      "Evaluating before training round #12 on 10000 examples.\n"
     ]
    },
    {
     "name": "stderr",
     "output_type": "stream",
     "text": [
      "/home/joel_stremmel/anaconda3/envs/tff/lib/python3.7/site-packages/tensorflow_federated/python/simulation/hdf5_client_data.py:69: H5pyDeprecationWarning: dataset.value has been deprecated. Use dataset[()] instead.\n",
      "  collections.OrderedDict((name, ds.value) for name, ds in sorted(\n"
     ]
    },
    {
     "name": "stdout",
     "output_type": "stream",
     "text": [
      "100/100 [==============================] - 19s 186ms/step - loss: 4.8857 - num_tokens: 131103.0000 - num_tokens_no_oov: 126647.0000 - num_batches: 100.0000 - num_examples: 10000.0000 - accuracy: 0.0000e+00 - accuracy_no_oov: 0.0000e+00 - accuracy_no_oov_no_eos: 0.0000e+00\n",
      "Sampling 10 new clients.\n",
      "Round: 12\n",
      "   Loss: 4.38098335\n",
      "   num_batches: 431\n",
      "   num_examples: 3418\n",
      "   num_tokens: 45497\n",
      "   num_tokens_no_oov: 43955\n",
      "   accuracy: 0.02139\n",
      "   accuracy_no_oov: 0.02189\n",
      "Evaluating before training round #13 on 10000 examples.\n"
     ]
    },
    {
     "name": "stderr",
     "output_type": "stream",
     "text": [
      "/home/joel_stremmel/anaconda3/envs/tff/lib/python3.7/site-packages/tensorflow_federated/python/simulation/hdf5_client_data.py:69: H5pyDeprecationWarning: dataset.value has been deprecated. Use dataset[()] instead.\n",
      "  collections.OrderedDict((name, ds.value) for name, ds in sorted(\n"
     ]
    },
    {
     "name": "stdout",
     "output_type": "stream",
     "text": [
      "100/100 [==============================] - 21s 205ms/step - loss: 4.9149 - num_tokens: 134644.0000 - num_tokens_no_oov: 130113.0000 - num_batches: 100.0000 - num_examples: 10000.0000 - accuracy: 0.0000e+00 - accuracy_no_oov: 0.0000e+00 - accuracy_no_oov_no_eos: 0.0000e+00\n",
      "Sampling 10 new clients.\n",
      "Round: 13\n",
      "   Loss: 4.27982712\n",
      "   num_batches: 303\n",
      "   num_examples: 2382\n",
      "   num_tokens: 30811\n",
      "   num_tokens_no_oov: 29569\n",
      "   accuracy: 0.01396\n",
      "   accuracy_no_oov: 0.01447\n",
      "Evaluating before training round #14 on 10000 examples.\n"
     ]
    },
    {
     "name": "stderr",
     "output_type": "stream",
     "text": [
      "/home/joel_stremmel/anaconda3/envs/tff/lib/python3.7/site-packages/tensorflow_federated/python/simulation/hdf5_client_data.py:69: H5pyDeprecationWarning: dataset.value has been deprecated. Use dataset[()] instead.\n",
      "  collections.OrderedDict((name, ds.value) for name, ds in sorted(\n"
     ]
    },
    {
     "name": "stdout",
     "output_type": "stream",
     "text": [
      "100/100 [==============================] - 19s 189ms/step - loss: 4.7862 - num_tokens: 133638.0000 - num_tokens_no_oov: 129298.0000 - num_batches: 100.0000 - num_examples: 10000.0000 - accuracy: 0.0000e+00 - accuracy_no_oov: 0.0000e+00 - accuracy_no_oov_no_eos: 0.0000e+00\n",
      "Sampling 10 new clients.\n",
      "Round: 14\n",
      "   Loss: 4.63106823\n",
      "   num_batches: 331\n",
      "   num_examples: 2619\n",
      "   num_tokens: 37449\n",
      "   num_tokens_no_oov: 36371\n",
      "   accuracy: 0.02096\n",
      "   accuracy_no_oov: 0.01771\n",
      "Evaluating before training round #15 on 10000 examples.\n"
     ]
    },
    {
     "name": "stderr",
     "output_type": "stream",
     "text": [
      "/home/joel_stremmel/anaconda3/envs/tff/lib/python3.7/site-packages/tensorflow_federated/python/simulation/hdf5_client_data.py:69: H5pyDeprecationWarning: dataset.value has been deprecated. Use dataset[()] instead.\n",
      "  collections.OrderedDict((name, ds.value) for name, ds in sorted(\n"
     ]
    },
    {
     "name": "stdout",
     "output_type": "stream",
     "text": [
      "100/100 [==============================] - 19s 191ms/step - loss: 4.6939 - num_tokens: 132567.0000 - num_tokens_no_oov: 128062.0000 - num_batches: 100.0000 - num_examples: 10000.0000 - accuracy: 0.0000e+00 - accuracy_no_oov: 0.0000e+00 - accuracy_no_oov_no_eos: 0.0000e+00\n",
      "Sampling 10 new clients.\n",
      "Round: 15\n",
      "   Loss: 4.28788567\n",
      "   num_batches: 306\n",
      "   num_examples: 2408\n",
      "   num_tokens: 31718\n",
      "   num_tokens_no_oov: 30721\n",
      "   accuracy: 0.02223\n",
      "   accuracy_no_oov: 0.02295\n",
      "Evaluating before training round #16 on 10000 examples.\n"
     ]
    },
    {
     "name": "stderr",
     "output_type": "stream",
     "text": [
      "/home/joel_stremmel/anaconda3/envs/tff/lib/python3.7/site-packages/tensorflow_federated/python/simulation/hdf5_client_data.py:69: H5pyDeprecationWarning: dataset.value has been deprecated. Use dataset[()] instead.\n",
      "  collections.OrderedDict((name, ds.value) for name, ds in sorted(\n"
     ]
    },
    {
     "name": "stdout",
     "output_type": "stream",
     "text": [
      "100/100 [==============================] - 21s 211ms/step - loss: 4.5078 - num_tokens: 129250.0000 - num_tokens_no_oov: 125559.0000 - num_batches: 100.0000 - num_examples: 10000.0000 - accuracy: 0.0000e+00 - accuracy_no_oov: 0.0000e+00 - accuracy_no_oov_no_eos: 0.0000e+00\n",
      "Sampling 10 new clients.\n",
      "Round: 16\n",
      "   Loss: 4.00828457\n",
      "   num_batches: 332\n",
      "   num_examples: 2610\n",
      "   num_tokens: 32661\n",
      "   num_tokens_no_oov: 31645\n",
      "   accuracy: 0.03233\n",
      "   accuracy_no_oov: 0.03337\n",
      "Evaluating before training round #17 on 10000 examples.\n"
     ]
    },
    {
     "name": "stderr",
     "output_type": "stream",
     "text": [
      "/home/joel_stremmel/anaconda3/envs/tff/lib/python3.7/site-packages/tensorflow_federated/python/simulation/hdf5_client_data.py:69: H5pyDeprecationWarning: dataset.value has been deprecated. Use dataset[()] instead.\n",
      "  collections.OrderedDict((name, ds.value) for name, ds in sorted(\n"
     ]
    },
    {
     "name": "stdout",
     "output_type": "stream",
     "text": [
      "100/100 [==============================] - 19s 186ms/step - loss: 4.7117 - num_tokens: 135624.0000 - num_tokens_no_oov: 131687.0000 - num_batches: 100.0000 - num_examples: 10000.0000 - accuracy: 0.0000e+00 - accuracy_no_oov: 0.0000e+00 - accuracy_no_oov_no_eos: 0.0000e+00\n",
      "Sampling 10 new clients.\n",
      "Round: 17\n",
      "   Loss: 3.98150277\n",
      "   num_batches: 360\n",
      "   num_examples: 2852\n",
      "   num_tokens: 35747\n",
      "   num_tokens_no_oov: 34709\n",
      "   accuracy: 0.03637\n",
      "   accuracy_no_oov: 0.03745\n",
      "Evaluating before training round #18 on 10000 examples.\n"
     ]
    },
    {
     "name": "stderr",
     "output_type": "stream",
     "text": [
      "/home/joel_stremmel/anaconda3/envs/tff/lib/python3.7/site-packages/tensorflow_federated/python/simulation/hdf5_client_data.py:69: H5pyDeprecationWarning: dataset.value has been deprecated. Use dataset[()] instead.\n",
      "  collections.OrderedDict((name, ds.value) for name, ds in sorted(\n"
     ]
    },
    {
     "name": "stdout",
     "output_type": "stream",
     "text": [
      "100/100 [==============================] - 19s 186ms/step - loss: 4.5068 - num_tokens: 130806.0000 - num_tokens_no_oov: 126415.0000 - num_batches: 100.0000 - num_examples: 10000.0000 - accuracy: 0.0000e+00 - accuracy_no_oov: 0.0000e+00 - accuracy_no_oov_no_eos: 0.0000e+00\n",
      "Sampling 10 new clients.\n",
      "Round: 18\n",
      "   Loss: 3.99047112\n",
      "   num_batches: 268\n",
      "   num_examples: 2111\n",
      "   num_tokens: 26695\n",
      "   num_tokens_no_oov: 25968\n",
      "   accuracy: 0.03795\n",
      "   accuracy_no_oov: 0.03901\n",
      "Evaluating before training round #19 on 10000 examples.\n"
     ]
    },
    {
     "name": "stderr",
     "output_type": "stream",
     "text": [
      "/home/joel_stremmel/anaconda3/envs/tff/lib/python3.7/site-packages/tensorflow_federated/python/simulation/hdf5_client_data.py:69: H5pyDeprecationWarning: dataset.value has been deprecated. Use dataset[()] instead.\n",
      "  collections.OrderedDict((name, ds.value) for name, ds in sorted(\n"
     ]
    },
    {
     "name": "stdout",
     "output_type": "stream",
     "text": [
      "100/100 [==============================] - 18s 182ms/step - loss: 4.4582 - num_tokens: 130321.0000 - num_tokens_no_oov: 126156.0000 - num_batches: 100.0000 - num_examples: 10000.0000 - accuracy: 0.0000e+00 - accuracy_no_oov: 0.0000e+00 - accuracy_no_oov_no_eos: 0.0000e+00\n",
      "Sampling 10 new clients.\n",
      "Round: 19\n",
      "   Loss: 4.28255272\n",
      "   num_batches: 276\n",
      "   num_examples: 2166\n",
      "   num_tokens: 29196\n",
      "   num_tokens_no_oov: 28057\n",
      "   accuracy: 0.03668\n",
      "   accuracy_no_oov: 0.03140\n",
      "Evaluating before training round #20 on 10000 examples.\n"
     ]
    },
    {
     "name": "stderr",
     "output_type": "stream",
     "text": [
      "/home/joel_stremmel/anaconda3/envs/tff/lib/python3.7/site-packages/tensorflow_federated/python/simulation/hdf5_client_data.py:69: H5pyDeprecationWarning: dataset.value has been deprecated. Use dataset[()] instead.\n",
      "  collections.OrderedDict((name, ds.value) for name, ds in sorted(\n"
     ]
    },
    {
     "name": "stdout",
     "output_type": "stream",
     "text": [
      "100/100 [==============================] - 19s 186ms/step - loss: 4.7161 - num_tokens: 138315.0000 - num_tokens_no_oov: 133440.0000 - num_batches: 100.0000 - num_examples: 10000.0000 - accuracy: 0.0000e+00 - accuracy_no_oov: 0.0000e+00 - accuracy_no_oov_no_eos: 0.0000e+00\n",
      "Sampling 10 new clients.\n",
      "Round: 20\n",
      "   Loss: 4.40456486\n",
      "   num_batches: 418\n",
      "   num_examples: 3295\n",
      "   num_tokens: 46655\n",
      "   num_tokens_no_oov: 45186\n",
      "   accuracy: 0.04730\n",
      "   accuracy_no_oov: 0.03972\n",
      "Evaluating before training round #21 on 10000 examples.\n"
     ]
    },
    {
     "name": "stderr",
     "output_type": "stream",
     "text": [
      "/home/joel_stremmel/anaconda3/envs/tff/lib/python3.7/site-packages/tensorflow_federated/python/simulation/hdf5_client_data.py:69: H5pyDeprecationWarning: dataset.value has been deprecated. Use dataset[()] instead.\n",
      "  collections.OrderedDict((name, ds.value) for name, ds in sorted(\n"
     ]
    },
    {
     "name": "stdout",
     "output_type": "stream",
     "text": [
      "100/100 [==============================] - 19s 185ms/step - loss: 4.4747 - num_tokens: 132418.0000 - num_tokens_no_oov: 128212.0000 - num_batches: 100.0000 - num_examples: 10000.0000 - accuracy: 0.0026 - accuracy_no_oov: 0.0027 - accuracy_no_oov_no_eos: 0.0000e+00\n",
      "Sampling 10 new clients.\n",
      "Round: 21\n",
      "   Loss: 4.12281036\n",
      "   num_batches: 234\n",
      "   num_examples: 1847\n",
      "   num_tokens: 23792\n",
      "   num_tokens_no_oov: 23268\n",
      "   accuracy: 0.04069\n",
      "   accuracy_no_oov: 0.04160\n",
      "Evaluating before training round #22 on 10000 examples.\n"
     ]
    },
    {
     "name": "stderr",
     "output_type": "stream",
     "text": [
      "/home/joel_stremmel/anaconda3/envs/tff/lib/python3.7/site-packages/tensorflow_federated/python/simulation/hdf5_client_data.py:69: H5pyDeprecationWarning: dataset.value has been deprecated. Use dataset[()] instead.\n",
      "  collections.OrderedDict((name, ds.value) for name, ds in sorted(\n"
     ]
    },
    {
     "name": "stdout",
     "output_type": "stream",
     "text": [
      "100/100 [==============================] - 21s 214ms/step - loss: 4.3886 - num_tokens: 130642.0000 - num_tokens_no_oov: 126538.0000 - num_batches: 100.0000 - num_examples: 10000.0000 - accuracy: 0.0460 - accuracy_no_oov: 0.0475 - accuracy_no_oov_no_eos: 0.0000e+00\n",
      "Sampling 10 new clients.\n",
      "Round: 22\n",
      "   Loss: 4.10392475\n",
      "   num_batches: 394\n",
      "   num_examples: 3111\n",
      "   num_tokens: 40899\n",
      "   num_tokens_no_oov: 39564\n",
      "   accuracy: 0.05274\n",
      "   accuracy_no_oov: 0.05338\n",
      "Evaluating before training round #23 on 10000 examples.\n"
     ]
    },
    {
     "name": "stderr",
     "output_type": "stream",
     "text": [
      "/home/joel_stremmel/anaconda3/envs/tff/lib/python3.7/site-packages/tensorflow_federated/python/simulation/hdf5_client_data.py:69: H5pyDeprecationWarning: dataset.value has been deprecated. Use dataset[()] instead.\n",
      "  collections.OrderedDict((name, ds.value) for name, ds in sorted(\n"
     ]
    },
    {
     "name": "stdout",
     "output_type": "stream",
     "text": [
      "100/100 [==============================] - 18s 185ms/step - loss: 4.6041 - num_tokens: 136393.0000 - num_tokens_no_oov: 131887.0000 - num_batches: 100.0000 - num_examples: 10000.0000 - accuracy: 0.0475 - accuracy_no_oov: 0.0491 - accuracy_no_oov_no_eos: 0.0000e+00\n",
      "Sampling 10 new clients.\n",
      "Round: 23\n",
      "   Loss: 4.40659618\n",
      "   num_batches: 337\n",
      "   num_examples: 2653\n",
      "   num_tokens: 37409\n",
      "   num_tokens_no_oov: 36260\n",
      "   accuracy: 0.05012\n",
      "   accuracy_no_oov: 0.05171\n",
      "Evaluating before training round #24 on 10000 examples.\n"
     ]
    },
    {
     "name": "stderr",
     "output_type": "stream",
     "text": [
      "/home/joel_stremmel/anaconda3/envs/tff/lib/python3.7/site-packages/tensorflow_federated/python/simulation/hdf5_client_data.py:69: H5pyDeprecationWarning: dataset.value has been deprecated. Use dataset[()] instead.\n",
      "  collections.OrderedDict((name, ds.value) for name, ds in sorted(\n"
     ]
    },
    {
     "name": "stdout",
     "output_type": "stream",
     "text": [
      "100/100 [==============================] - 18s 180ms/step - loss: 4.4300 - num_tokens: 132502.0000 - num_tokens_no_oov: 128381.0000 - num_batches: 100.0000 - num_examples: 10000.0000 - accuracy: 0.0523 - accuracy_no_oov: 0.0540 - accuracy_no_oov_no_eos: 0.0000e+00\n",
      "Sampling 10 new clients.\n",
      "Round: 24\n",
      "   Loss: 4.25263453\n",
      "   num_batches: 239\n",
      "   num_examples: 1877\n",
      "   num_tokens: 24948\n",
      "   num_tokens_no_oov: 24273\n",
      "   accuracy: 0.05379\n",
      "   accuracy_no_oov: 0.05529\n",
      "Evaluating before training round #25 on 10000 examples.\n"
     ]
    },
    {
     "name": "stderr",
     "output_type": "stream",
     "text": [
      "/home/joel_stremmel/anaconda3/envs/tff/lib/python3.7/site-packages/tensorflow_federated/python/simulation/hdf5_client_data.py:69: H5pyDeprecationWarning: dataset.value has been deprecated. Use dataset[()] instead.\n",
      "  collections.OrderedDict((name, ds.value) for name, ds in sorted(\n"
     ]
    },
    {
     "name": "stdout",
     "output_type": "stream",
     "text": [
      "100/100 [==============================] - 18s 179ms/step - loss: 4.4798 - num_tokens: 134150.0000 - num_tokens_no_oov: 129849.0000 - num_batches: 100.0000 - num_examples: 10000.0000 - accuracy: 0.0526 - accuracy_no_oov: 0.0544 - accuracy_no_oov_no_eos: 0.0000e+00\n",
      "Sampling 10 new clients.\n",
      "Round: 25\n",
      "   Loss: 4.35111475\n",
      "   num_batches: 306\n",
      "   num_examples: 2413\n",
      "   num_tokens: 33493\n",
      "   num_tokens_no_oov: 32457\n",
      "   accuracy: 0.05667\n",
      "   accuracy_no_oov: 0.05814\n",
      "Evaluating before training round #26 on 10000 examples.\n"
     ]
    },
    {
     "name": "stderr",
     "output_type": "stream",
     "text": [
      "/home/joel_stremmel/anaconda3/envs/tff/lib/python3.7/site-packages/tensorflow_federated/python/simulation/hdf5_client_data.py:69: H5pyDeprecationWarning: dataset.value has been deprecated. Use dataset[()] instead.\n",
      "  collections.OrderedDict((name, ds.value) for name, ds in sorted(\n"
     ]
    },
    {
     "name": "stdout",
     "output_type": "stream",
     "text": [
      "100/100 [==============================] - 18s 182ms/step - loss: 4.5361 - num_tokens: 136050.0000 - num_tokens_no_oov: 131595.0000 - num_batches: 100.0000 - num_examples: 10000.0000 - accuracy: 0.0516 - accuracy_no_oov: 0.0533 - accuracy_no_oov_no_eos: 0.0000e+00\n",
      "Sampling 10 new clients.\n",
      "Round: 26\n",
      "   Loss: 3.95816636\n",
      "   num_batches: 397\n",
      "   num_examples: 3133\n",
      "   num_tokens: 40863\n",
      "   num_tokens_no_oov: 39593\n",
      "   accuracy: 0.06441\n",
      "   accuracy_no_oov: 0.06648\n",
      "Evaluating before training round #27 on 10000 examples.\n"
     ]
    },
    {
     "name": "stderr",
     "output_type": "stream",
     "text": [
      "/home/joel_stremmel/anaconda3/envs/tff/lib/python3.7/site-packages/tensorflow_federated/python/simulation/hdf5_client_data.py:69: H5pyDeprecationWarning: dataset.value has been deprecated. Use dataset[()] instead.\n",
      "  collections.OrderedDict((name, ds.value) for name, ds in sorted(\n"
     ]
    },
    {
     "name": "stdout",
     "output_type": "stream",
     "text": [
      "100/100 [==============================] - 19s 186ms/step - loss: 4.3700 - num_tokens: 130876.0000 - num_tokens_no_oov: 126782.0000 - num_batches: 100.0000 - num_examples: 10000.0000 - accuracy: 0.0550 - accuracy_no_oov: 0.0568 - accuracy_no_oov_no_eos: 0.0000e+00\n",
      "Sampling 10 new clients.\n",
      "Round: 27\n",
      "   Loss: 4.49673128\n",
      "   num_batches: 277\n",
      "   num_examples: 2179\n",
      "   num_tokens: 31179\n",
      "   num_tokens_no_oov: 30212\n",
      "   accuracy: 0.05109\n",
      "   accuracy_no_oov: 0.05028\n",
      "Evaluating before training round #28 on 10000 examples.\n"
     ]
    },
    {
     "name": "stderr",
     "output_type": "stream",
     "text": [
      "/home/joel_stremmel/anaconda3/envs/tff/lib/python3.7/site-packages/tensorflow_federated/python/simulation/hdf5_client_data.py:69: H5pyDeprecationWarning: dataset.value has been deprecated. Use dataset[()] instead.\n",
      "  collections.OrderedDict((name, ds.value) for name, ds in sorted(\n"
     ]
    },
    {
     "name": "stdout",
     "output_type": "stream",
     "text": [
      "100/100 [==============================] - 20s 204ms/step - loss: 4.3728 - num_tokens: 131484.0000 - num_tokens_no_oov: 127697.0000 - num_batches: 100.0000 - num_examples: 10000.0000 - accuracy: 0.0549 - accuracy_no_oov: 0.0566 - accuracy_no_oov_no_eos: 0.0000e+00\n",
      "Sampling 10 new clients.\n",
      "Round: 28\n",
      "   Loss: 4.11070061\n",
      "   num_batches: 271\n",
      "   num_examples: 2125\n",
      "   num_tokens: 28565\n",
      "   num_tokens_no_oov: 27824\n",
      "   accuracy: 0.06203\n",
      "   accuracy_no_oov: 0.06254\n",
      "Evaluating before training round #29 on 10000 examples.\n"
     ]
    },
    {
     "name": "stderr",
     "output_type": "stream",
     "text": [
      "/home/joel_stremmel/anaconda3/envs/tff/lib/python3.7/site-packages/tensorflow_federated/python/simulation/hdf5_client_data.py:69: H5pyDeprecationWarning: dataset.value has been deprecated. Use dataset[()] instead.\n",
      "  collections.OrderedDict((name, ds.value) for name, ds in sorted(\n"
     ]
    },
    {
     "name": "stdout",
     "output_type": "stream",
     "text": [
      "100/100 [==============================] - 18s 184ms/step - loss: 4.3619 - num_tokens: 131385.0000 - num_tokens_no_oov: 127293.0000 - num_batches: 100.0000 - num_examples: 10000.0000 - accuracy: 0.0565 - accuracy_no_oov: 0.0583 - accuracy_no_oov_no_eos: 0.0000e+00\n",
      "Sampling 10 new clients.\n",
      "Round: 29\n",
      "   Loss: 4.09051418\n",
      "   num_batches: 201\n",
      "   num_examples: 1581\n",
      "   num_tokens: 21203\n",
      "   num_tokens_no_oov: 20147\n",
      "   accuracy: 0.07291\n",
      "   accuracy_no_oov: 0.05782\n",
      "Evaluating before training round #30 on 10000 examples.\n"
     ]
    },
    {
     "name": "stderr",
     "output_type": "stream",
     "text": [
      "/home/joel_stremmel/anaconda3/envs/tff/lib/python3.7/site-packages/tensorflow_federated/python/simulation/hdf5_client_data.py:69: H5pyDeprecationWarning: dataset.value has been deprecated. Use dataset[()] instead.\n",
      "  collections.OrderedDict((name, ds.value) for name, ds in sorted(\n"
     ]
    },
    {
     "name": "stdout",
     "output_type": "stream",
     "text": [
      "100/100 [==============================] - 19s 189ms/step - loss: 4.3525 - num_tokens: 130735.0000 - num_tokens_no_oov: 126586.0000 - num_batches: 100.0000 - num_examples: 10000.0000 - accuracy: 0.0573 - accuracy_no_oov: 0.0592 - accuracy_no_oov_no_eos: 0.0000e+00\n",
      "Sampling 10 new clients.\n",
      "Round: 30\n",
      "   Loss: 3.81138921\n",
      "   num_batches: 323\n",
      "   num_examples: 2540\n",
      "   num_tokens: 32073\n",
      "   num_tokens_no_oov: 30800\n",
      "   accuracy: 0.07361\n",
      "   accuracy_no_oov: 0.07269\n",
      "Evaluating before training round #31 on 10000 examples.\n"
     ]
    },
    {
     "name": "stderr",
     "output_type": "stream",
     "text": [
      "/home/joel_stremmel/anaconda3/envs/tff/lib/python3.7/site-packages/tensorflow_federated/python/simulation/hdf5_client_data.py:69: H5pyDeprecationWarning: dataset.value has been deprecated. Use dataset[()] instead.\n",
      "  collections.OrderedDict((name, ds.value) for name, ds in sorted(\n"
     ]
    },
    {
     "name": "stdout",
     "output_type": "stream",
     "text": [
      "100/100 [==============================] - 19s 186ms/step - loss: 4.2874 - num_tokens: 127777.0000 - num_tokens_no_oov: 124112.0000 - num_batches: 100.0000 - num_examples: 10000.0000 - accuracy: 0.0580 - accuracy_no_oov: 0.0597 - accuracy_no_oov_no_eos: 0.0000e+00\n",
      "Sampling 10 new clients.\n",
      "Round: 31\n",
      "   Loss: 3.88937521\n",
      "   num_batches: 312\n",
      "   num_examples: 2452\n",
      "   num_tokens: 30864\n",
      "   num_tokens_no_oov: 29850\n",
      "   accuracy: 0.07718\n",
      "   accuracy_no_oov: 0.07980\n",
      "Evaluating before training round #32 on 10000 examples.\n"
     ]
    },
    {
     "name": "stderr",
     "output_type": "stream",
     "text": [
      "/home/joel_stremmel/anaconda3/envs/tff/lib/python3.7/site-packages/tensorflow_federated/python/simulation/hdf5_client_data.py:69: H5pyDeprecationWarning: dataset.value has been deprecated. Use dataset[()] instead.\n",
      "  collections.OrderedDict((name, ds.value) for name, ds in sorted(\n"
     ]
    },
    {
     "name": "stdout",
     "output_type": "stream",
     "text": [
      "100/100 [==============================] - 22s 221ms/step - loss: 4.5265 - num_tokens: 135551.0000 - num_tokens_no_oov: 131274.0000 - num_batches: 100.0000 - num_examples: 10000.0000 - accuracy: 0.0531 - accuracy_no_oov: 0.0549 - accuracy_no_oov_no_eos: 0.0000e+00\n",
      "Sampling 10 new clients.\n",
      "Round: 32\n",
      "   Loss: 4.04896307\n",
      "   num_batches: 339\n",
      "   num_examples: 2681\n",
      "   num_tokens: 35242\n",
      "   num_tokens_no_oov: 33999\n",
      "   accuracy: 0.06563\n",
      "   accuracy_no_oov: 0.06444\n",
      "Evaluating before training round #33 on 10000 examples.\n"
     ]
    },
    {
     "name": "stderr",
     "output_type": "stream",
     "text": [
      "/home/joel_stremmel/anaconda3/envs/tff/lib/python3.7/site-packages/tensorflow_federated/python/simulation/hdf5_client_data.py:69: H5pyDeprecationWarning: dataset.value has been deprecated. Use dataset[()] instead.\n",
      "  collections.OrderedDict((name, ds.value) for name, ds in sorted(\n"
     ]
    },
    {
     "name": "stdout",
     "output_type": "stream",
     "text": [
      "100/100 [==============================] - 19s 188ms/step - loss: 4.3716 - num_tokens: 130951.0000 - num_tokens_no_oov: 126630.0000 - num_batches: 100.0000 - num_examples: 10000.0000 - accuracy: 0.0570 - accuracy_no_oov: 0.0590 - accuracy_no_oov_no_eos: 0.0000e+00\n",
      "Sampling 10 new clients.\n",
      "Round: 33\n",
      "   Loss: 4.21908045\n",
      "   num_batches: 273\n",
      "   num_examples: 2147\n",
      "   num_tokens: 28871\n",
      "   num_tokens_no_oov: 28142\n",
      "   accuracy: 0.06720\n",
      "   accuracy_no_oov: 0.06894\n",
      "Evaluating before training round #34 on 10000 examples.\n"
     ]
    },
    {
     "name": "stderr",
     "output_type": "stream",
     "text": [
      "/home/joel_stremmel/anaconda3/envs/tff/lib/python3.7/site-packages/tensorflow_federated/python/simulation/hdf5_client_data.py:69: H5pyDeprecationWarning: dataset.value has been deprecated. Use dataset[()] instead.\n",
      "  collections.OrderedDict((name, ds.value) for name, ds in sorted(\n"
     ]
    },
    {
     "name": "stdout",
     "output_type": "stream",
     "text": [
      "100/100 [==============================] - 18s 182ms/step - loss: 4.3340 - num_tokens: 129443.0000 - num_tokens_no_oov: 125364.0000 - num_batches: 100.0000 - num_examples: 10000.0000 - accuracy: 0.0574 - accuracy_no_oov: 0.0593 - accuracy_no_oov_no_eos: 0.0000e+00\n",
      "Sampling 10 new clients.\n",
      "Round: 34\n",
      "   Loss: 3.87176538\n",
      "   num_batches: 384\n",
      "   num_examples: 3030\n",
      "   num_tokens: 38736\n",
      "   num_tokens_no_oov: 37426\n",
      "   accuracy: 0.07654\n",
      "   accuracy_no_oov: 0.07917\n",
      "Evaluating before training round #35 on 10000 examples.\n"
     ]
    },
    {
     "name": "stderr",
     "output_type": "stream",
     "text": [
      "/home/joel_stremmel/anaconda3/envs/tff/lib/python3.7/site-packages/tensorflow_federated/python/simulation/hdf5_client_data.py:69: H5pyDeprecationWarning: dataset.value has been deprecated. Use dataset[()] instead.\n",
      "  collections.OrderedDict((name, ds.value) for name, ds in sorted(\n"
     ]
    },
    {
     "name": "stdout",
     "output_type": "stream",
     "text": [
      "100/100 [==============================] - 19s 190ms/step - loss: 4.5366 - num_tokens: 134379.0000 - num_tokens_no_oov: 130200.0000 - num_batches: 100.0000 - num_examples: 10000.0000 - accuracy: 0.0540 - accuracy_no_oov: 0.0557 - accuracy_no_oov_no_eos: 0.0000e+00\n",
      "Sampling 10 new clients.\n",
      "Round: 35\n",
      "   Loss: 3.92459702\n",
      "   num_batches: 213\n",
      "   num_examples: 1670\n",
      "   num_tokens: 21481\n",
      "   num_tokens_no_oov: 20880\n",
      "   accuracy: 0.07895\n",
      "   accuracy_no_oov: 0.08123\n",
      "Evaluating before training round #36 on 10000 examples.\n"
     ]
    },
    {
     "name": "stderr",
     "output_type": "stream",
     "text": [
      "/home/joel_stremmel/anaconda3/envs/tff/lib/python3.7/site-packages/tensorflow_federated/python/simulation/hdf5_client_data.py:69: H5pyDeprecationWarning: dataset.value has been deprecated. Use dataset[()] instead.\n",
      "  collections.OrderedDict((name, ds.value) for name, ds in sorted(\n"
     ]
    },
    {
     "name": "stdout",
     "output_type": "stream",
     "text": [
      "100/100 [==============================] - 18s 185ms/step - loss: 4.3965 - num_tokens: 131190.0000 - num_tokens_no_oov: 126743.0000 - num_batches: 100.0000 - num_examples: 10000.0000 - accuracy: 0.0569 - accuracy_no_oov: 0.0589 - accuracy_no_oov_no_eos: 0.0000e+00\n",
      "Sampling 10 new clients.\n",
      "Round: 36\n",
      "   Loss: 3.93022037\n",
      "   num_batches: 291\n",
      "   num_examples: 2302\n",
      "   num_tokens: 29665\n",
      "   num_tokens_no_oov: 28764\n",
      "   accuracy: 0.08188\n",
      "   accuracy_no_oov: 0.08389\n",
      "Evaluating before training round #37 on 10000 examples.\n"
     ]
    },
    {
     "name": "stderr",
     "output_type": "stream",
     "text": [
      "/home/joel_stremmel/anaconda3/envs/tff/lib/python3.7/site-packages/tensorflow_federated/python/simulation/hdf5_client_data.py:69: H5pyDeprecationWarning: dataset.value has been deprecated. Use dataset[()] instead.\n",
      "  collections.OrderedDict((name, ds.value) for name, ds in sorted(\n"
     ]
    },
    {
     "name": "stdout",
     "output_type": "stream",
     "text": [
      "100/100 [==============================] - 23s 232ms/step - loss: 4.6010 - num_tokens: 136045.0000 - num_tokens_no_oov: 131979.0000 - num_batches: 100.0000 - num_examples: 10000.0000 - accuracy: 0.0517 - accuracy_no_oov: 0.0533 - accuracy_no_oov_no_eos: 0.0000e+00\n",
      "Sampling 10 new clients.\n",
      "Round: 37\n",
      "   Loss: 4.32317019\n",
      "   num_batches: 239\n",
      "   num_examples: 1874\n",
      "   num_tokens: 26050\n",
      "   num_tokens_no_oov: 25292\n",
      "   accuracy: 0.07489\n",
      "   accuracy_no_oov: 0.07587\n",
      "Evaluating before training round #38 on 10000 examples.\n"
     ]
    },
    {
     "name": "stderr",
     "output_type": "stream",
     "text": [
      "/home/joel_stremmel/anaconda3/envs/tff/lib/python3.7/site-packages/tensorflow_federated/python/simulation/hdf5_client_data.py:69: H5pyDeprecationWarning: dataset.value has been deprecated. Use dataset[()] instead.\n",
      "  collections.OrderedDict((name, ds.value) for name, ds in sorted(\n"
     ]
    },
    {
     "name": "stdout",
     "output_type": "stream",
     "text": [
      "100/100 [==============================] - 20s 199ms/step - loss: 4.4144 - num_tokens: 131123.0000 - num_tokens_no_oov: 127044.0000 - num_batches: 100.0000 - num_examples: 10000.0000 - accuracy: 0.0555 - accuracy_no_oov: 0.0573 - accuracy_no_oov_no_eos: 0.0000e+00\n",
      "Sampling 10 new clients.\n",
      "Round: 38\n",
      "   Loss: 4.04186726\n",
      "   num_batches: 286\n",
      "   num_examples: 2248\n",
      "   num_tokens: 29574\n",
      "   num_tokens_no_oov: 28790\n",
      "   accuracy: 0.06739\n",
      "   accuracy_no_oov: 0.06909\n",
      "Evaluating before training round #39 on 10000 examples.\n"
     ]
    },
    {
     "name": "stderr",
     "output_type": "stream",
     "text": [
      "/home/joel_stremmel/anaconda3/envs/tff/lib/python3.7/site-packages/tensorflow_federated/python/simulation/hdf5_client_data.py:69: H5pyDeprecationWarning: dataset.value has been deprecated. Use dataset[()] instead.\n",
      "  collections.OrderedDict((name, ds.value) for name, ds in sorted(\n"
     ]
    },
    {
     "name": "stdout",
     "output_type": "stream",
     "text": [
      "100/100 [==============================] - 19s 191ms/step - loss: 4.7335 - num_tokens: 139377.0000 - num_tokens_no_oov: 135199.0000 - num_batches: 100.0000 - num_examples: 10000.0000 - accuracy: 0.0492 - accuracy_no_oov: 0.0507 - accuracy_no_oov_no_eos: 0.0000e+00\n",
      "Sampling 10 new clients.\n",
      "Round: 39\n",
      "   Loss: 3.73498106\n",
      "   num_batches: 322\n",
      "   num_examples: 2554\n",
      "   num_tokens: 31525\n",
      "   num_tokens_no_oov: 30610\n",
      "   accuracy: 0.08022\n",
      "   accuracy_no_oov: 0.08174\n",
      "Evaluating before training round #40 on 10000 examples.\n"
     ]
    },
    {
     "name": "stderr",
     "output_type": "stream",
     "text": [
      "/home/joel_stremmel/anaconda3/envs/tff/lib/python3.7/site-packages/tensorflow_federated/python/simulation/hdf5_client_data.py:69: H5pyDeprecationWarning: dataset.value has been deprecated. Use dataset[()] instead.\n",
      "  collections.OrderedDict((name, ds.value) for name, ds in sorted(\n"
     ]
    },
    {
     "name": "stdout",
     "output_type": "stream",
     "text": [
      "100/100 [==============================] - 19s 185ms/step - loss: 4.3585 - num_tokens: 129433.0000 - num_tokens_no_oov: 125423.0000 - num_batches: 100.0000 - num_examples: 10000.0000 - accuracy: 0.0580 - accuracy_no_oov: 0.0599 - accuracy_no_oov_no_eos: 0.0000e+00\n",
      "Sampling 10 new clients.\n",
      "Round: 40\n",
      "   Loss: 3.83121538\n",
      "   num_batches: 179\n",
      "   num_examples: 1403\n",
      "   num_tokens: 17149\n",
      "   num_tokens_no_oov: 16622\n",
      "   accuracy: 0.08245\n",
      "   accuracy_no_oov: 0.08507\n",
      "Evaluating before training round #41 on 10000 examples.\n"
     ]
    },
    {
     "name": "stderr",
     "output_type": "stream",
     "text": [
      "/home/joel_stremmel/anaconda3/envs/tff/lib/python3.7/site-packages/tensorflow_federated/python/simulation/hdf5_client_data.py:69: H5pyDeprecationWarning: dataset.value has been deprecated. Use dataset[()] instead.\n",
      "  collections.OrderedDict((name, ds.value) for name, ds in sorted(\n"
     ]
    },
    {
     "name": "stdout",
     "output_type": "stream",
     "text": [
      "100/100 [==============================] - 18s 183ms/step - loss: 4.4693 - num_tokens: 132574.0000 - num_tokens_no_oov: 128579.0000 - num_batches: 100.0000 - num_examples: 10000.0000 - accuracy: 0.0556 - accuracy_no_oov: 0.0573 - accuracy_no_oov_no_eos: 8.2498e-06\n",
      "Sampling 10 new clients.\n",
      "Round: 41\n",
      "   Loss: 4.15340757\n",
      "   num_batches: 244\n",
      "   num_examples: 1908\n",
      "   num_tokens: 25537\n",
      "   num_tokens_no_oov: 24860\n",
      "   accuracy: 0.08090\n",
      "   accuracy_no_oov: 0.08270\n",
      "Evaluating before training round #42 on 10000 examples.\n"
     ]
    },
    {
     "name": "stderr",
     "output_type": "stream",
     "text": [
      "/home/joel_stremmel/anaconda3/envs/tff/lib/python3.7/site-packages/tensorflow_federated/python/simulation/hdf5_client_data.py:69: H5pyDeprecationWarning: dataset.value has been deprecated. Use dataset[()] instead.\n",
      "  collections.OrderedDict((name, ds.value) for name, ds in sorted(\n"
     ]
    },
    {
     "name": "stdout",
     "output_type": "stream",
     "text": [
      "100/100 [==============================] - 19s 191ms/step - loss: 4.4941 - num_tokens: 133360.0000 - num_tokens_no_oov: 129035.0000 - num_batches: 100.0000 - num_examples: 10000.0000 - accuracy: 0.0547 - accuracy_no_oov: 0.0565 - accuracy_no_oov_no_eos: 6.5709e-05\n",
      "Sampling 10 new clients.\n",
      "Round: 42\n",
      "   Loss: 4.07198620\n",
      "   num_batches: 362\n",
      "   num_examples: 2864\n",
      "   num_tokens: 38490\n",
      "   num_tokens_no_oov: 37359\n",
      "   accuracy: 0.08579\n",
      "   accuracy_no_oov: 0.08614\n",
      "Evaluating before training round #43 on 10000 examples.\n"
     ]
    },
    {
     "name": "stderr",
     "output_type": "stream",
     "text": [
      "/home/joel_stremmel/anaconda3/envs/tff/lib/python3.7/site-packages/tensorflow_federated/python/simulation/hdf5_client_data.py:69: H5pyDeprecationWarning: dataset.value has been deprecated. Use dataset[()] instead.\n",
      "  collections.OrderedDict((name, ds.value) for name, ds in sorted(\n"
     ]
    },
    {
     "name": "stdout",
     "output_type": "stream",
     "text": [
      "100/100 [==============================] - 19s 193ms/step - loss: 4.2728 - num_tokens: 127474.0000 - num_tokens_no_oov: 123622.0000 - num_batches: 100.0000 - num_examples: 10000.0000 - accuracy: 0.0720 - accuracy_no_oov: 0.0742 - accuracy_no_oov_no_eos: 0.0130\n",
      "Sampling 10 new clients.\n",
      "Round: 43\n",
      "   Loss: 4.37304926\n",
      "   num_batches: 293\n",
      "   num_examples: 2298\n",
      "   num_tokens: 32755\n",
      "   num_tokens_no_oov: 31774\n",
      "   accuracy: 0.07116\n",
      "   accuracy_no_oov: 0.07103\n",
      "Evaluating before training round #44 on 10000 examples.\n"
     ]
    },
    {
     "name": "stderr",
     "output_type": "stream",
     "text": [
      "/home/joel_stremmel/anaconda3/envs/tff/lib/python3.7/site-packages/tensorflow_federated/python/simulation/hdf5_client_data.py:69: H5pyDeprecationWarning: dataset.value has been deprecated. Use dataset[()] instead.\n",
      "  collections.OrderedDict((name, ds.value) for name, ds in sorted(\n"
     ]
    },
    {
     "name": "stdout",
     "output_type": "stream",
     "text": [
      "100/100 [==============================] - 19s 189ms/step - loss: 4.3101 - num_tokens: 129063.0000 - num_tokens_no_oov: 125266.0000 - num_batches: 100.0000 - num_examples: 10000.0000 - accuracy: 0.0697 - accuracy_no_oov: 0.0718 - accuracy_no_oov_no_eos: 0.0126\n",
      "Sampling 10 new clients.\n",
      "Round: 44\n",
      "   Loss: 3.79429388\n",
      "   num_batches: 304\n",
      "   num_examples: 2393\n",
      "   num_tokens: 30116\n",
      "   num_tokens_no_oov: 29187\n",
      "   accuracy: 0.09626\n",
      "   accuracy_no_oov: 0.09371\n",
      "Evaluating before training round #45 on 10000 examples.\n"
     ]
    },
    {
     "name": "stderr",
     "output_type": "stream",
     "text": [
      "/home/joel_stremmel/anaconda3/envs/tff/lib/python3.7/site-packages/tensorflow_federated/python/simulation/hdf5_client_data.py:69: H5pyDeprecationWarning: dataset.value has been deprecated. Use dataset[()] instead.\n",
      "  collections.OrderedDict((name, ds.value) for name, ds in sorted(\n"
     ]
    },
    {
     "name": "stdout",
     "output_type": "stream",
     "text": [
      "100/100 [==============================] - 19s 189ms/step - loss: 4.3511 - num_tokens: 130350.0000 - num_tokens_no_oov: 126127.0000 - num_batches: 100.0000 - num_examples: 10000.0000 - accuracy: 0.0689 - accuracy_no_oov: 0.0712 - accuracy_no_oov_no_eos: 0.0133\n",
      "Sampling 10 new clients.\n",
      "Round: 45\n",
      "   Loss: 4.07494640\n",
      "   num_batches: 204\n",
      "   num_examples: 1602\n",
      "   num_tokens: 21088\n",
      "   num_tokens_no_oov: 20468\n",
      "   accuracy: 0.08422\n",
      "   accuracy_no_oov: 0.08677\n",
      "Evaluating before training round #46 on 10000 examples.\n"
     ]
    },
    {
     "name": "stderr",
     "output_type": "stream",
     "text": [
      "/home/joel_stremmel/anaconda3/envs/tff/lib/python3.7/site-packages/tensorflow_federated/python/simulation/hdf5_client_data.py:69: H5pyDeprecationWarning: dataset.value has been deprecated. Use dataset[()] instead.\n",
      "  collections.OrderedDict((name, ds.value) for name, ds in sorted(\n"
     ]
    },
    {
     "name": "stdout",
     "output_type": "stream",
     "text": [
      "100/100 [==============================] - 24s 242ms/step - loss: 4.5286 - num_tokens: 135812.0000 - num_tokens_no_oov: 131442.0000 - num_batches: 100.0000 - num_examples: 10000.0000 - accuracy: 0.0632 - accuracy_no_oov: 0.0653 - accuracy_no_oov_no_eos: 0.0120\n",
      "Sampling 10 new clients.\n",
      "Round: 46\n",
      "   Loss: 3.80784059\n",
      "   num_batches: 418\n",
      "   num_examples: 3306\n",
      "   num_tokens: 41954\n",
      "   num_tokens_no_oov: 40860\n",
      "   accuracy: 0.10528\n",
      "   accuracy_no_oov: 0.10707\n",
      "Evaluating before training round #47 on 10000 examples.\n"
     ]
    },
    {
     "name": "stderr",
     "output_type": "stream",
     "text": [
      "/home/joel_stremmel/anaconda3/envs/tff/lib/python3.7/site-packages/tensorflow_federated/python/simulation/hdf5_client_data.py:69: H5pyDeprecationWarning: dataset.value has been deprecated. Use dataset[()] instead.\n",
      "  collections.OrderedDict((name, ds.value) for name, ds in sorted(\n"
     ]
    },
    {
     "name": "stdout",
     "output_type": "stream",
     "text": [
      "100/100 [==============================] - 19s 185ms/step - loss: 4.2783 - num_tokens: 128964.0000 - num_tokens_no_oov: 124819.0000 - num_batches: 100.0000 - num_examples: 10000.0000 - accuracy: 0.0705 - accuracy_no_oov: 0.0728 - accuracy_no_oov_no_eos: 0.0144\n",
      "Sampling 10 new clients.\n",
      "Round: 47\n",
      "   Loss: 3.80566621\n",
      "   num_batches: 245\n",
      "   num_examples: 1925\n",
      "   num_tokens: 23918\n",
      "   num_tokens_no_oov: 23358\n",
      "   accuracy: 0.09307\n",
      "   accuracy_no_oov: 0.09470\n",
      "Evaluating before training round #48 on 10000 examples.\n"
     ]
    },
    {
     "name": "stderr",
     "output_type": "stream",
     "text": [
      "/home/joel_stremmel/anaconda3/envs/tff/lib/python3.7/site-packages/tensorflow_federated/python/simulation/hdf5_client_data.py:69: H5pyDeprecationWarning: dataset.value has been deprecated. Use dataset[()] instead.\n",
      "  collections.OrderedDict((name, ds.value) for name, ds in sorted(\n"
     ]
    },
    {
     "name": "stdout",
     "output_type": "stream",
     "text": [
      "100/100 [==============================] - 18s 184ms/step - loss: 4.4758 - num_tokens: 134330.0000 - num_tokens_no_oov: 130048.0000 - num_batches: 100.0000 - num_examples: 10000.0000 - accuracy: 0.0665 - accuracy_no_oov: 0.0686 - accuracy_no_oov_no_eos: 0.0151\n",
      "Sampling 10 new clients.\n",
      "Round: 48\n",
      "   Loss: 3.95510840\n",
      "   num_batches: 335\n",
      "   num_examples: 2637\n",
      "   num_tokens: 35106\n",
      "   num_tokens_no_oov: 33864\n",
      "   accuracy: 0.09374\n",
      "   accuracy_no_oov: 0.09249\n",
      "Evaluating before training round #49 on 10000 examples.\n"
     ]
    },
    {
     "name": "stderr",
     "output_type": "stream",
     "text": [
      "/home/joel_stremmel/anaconda3/envs/tff/lib/python3.7/site-packages/tensorflow_federated/python/simulation/hdf5_client_data.py:69: H5pyDeprecationWarning: dataset.value has been deprecated. Use dataset[()] instead.\n",
      "  collections.OrderedDict((name, ds.value) for name, ds in sorted(\n"
     ]
    },
    {
     "name": "stdout",
     "output_type": "stream",
     "text": [
      "100/100 [==============================] - 19s 186ms/step - loss: 4.3566 - num_tokens: 131809.0000 - num_tokens_no_oov: 127745.0000 - num_batches: 100.0000 - num_examples: 10000.0000 - accuracy: 0.0718 - accuracy_no_oov: 0.0741 - accuracy_no_oov_no_eos: 0.0190\n",
      "Sampling 10 new clients.\n",
      "Round: 49\n",
      "   Loss: 3.80026245\n",
      "   num_batches: 354\n",
      "   num_examples: 2805\n",
      "   num_tokens: 35534\n",
      "   num_tokens_no_oov: 34649\n",
      "   accuracy: 0.10173\n",
      "   accuracy_no_oov: 0.10407\n",
      "Evaluating before training round #50 on 10000 examples.\n"
     ]
    },
    {
     "name": "stderr",
     "output_type": "stream",
     "text": [
      "/home/joel_stremmel/anaconda3/envs/tff/lib/python3.7/site-packages/tensorflow_federated/python/simulation/hdf5_client_data.py:69: H5pyDeprecationWarning: dataset.value has been deprecated. Use dataset[()] instead.\n",
      "  collections.OrderedDict((name, ds.value) for name, ds in sorted(\n"
     ]
    },
    {
     "name": "stdout",
     "output_type": "stream",
     "text": [
      "100/100 [==============================] - 19s 188ms/step - loss: 4.5283 - num_tokens: 137189.0000 - num_tokens_no_oov: 132978.0000 - num_batches: 100.0000 - num_examples: 10000.0000 - accuracy: 0.0723 - accuracy_no_oov: 0.0746 - accuracy_no_oov_no_eos: 0.0231\n",
      "Sampling 10 new clients.\n",
      "Round: 50\n",
      "   Loss: 4.21427393\n",
      "   num_batches: 300\n",
      "   num_examples: 2373\n",
      "   num_tokens: 33025\n",
      "   num_tokens_no_oov: 32226\n",
      "   accuracy: 0.09390\n",
      "   accuracy_no_oov: 0.09620\n",
      "Evaluating before training round #51 on 10000 examples.\n"
     ]
    },
    {
     "name": "stderr",
     "output_type": "stream",
     "text": [
      "/home/joel_stremmel/anaconda3/envs/tff/lib/python3.7/site-packages/tensorflow_federated/python/simulation/hdf5_client_data.py:69: H5pyDeprecationWarning: dataset.value has been deprecated. Use dataset[()] instead.\n",
      "  collections.OrderedDict((name, ds.value) for name, ds in sorted(\n"
     ]
    },
    {
     "name": "stdout",
     "output_type": "stream",
     "text": [
      "100/100 [==============================] - 19s 189ms/step - loss: 4.3993 - num_tokens: 133887.0000 - num_tokens_no_oov: 129548.0000 - num_batches: 100.0000 - num_examples: 10000.0000 - accuracy: 0.0791 - accuracy_no_oov: 0.0817 - accuracy_no_oov_no_eos: 0.0295\n",
      "Sampling 10 new clients.\n",
      "Round: 51\n",
      "   Loss: 4.26453400\n",
      "   num_batches: 282\n",
      "   num_examples: 2211\n",
      "   num_tokens: 31150\n",
      "   num_tokens_no_oov: 30323\n",
      "   accuracy: 0.10003\n",
      "   accuracy_no_oov: 0.10217\n",
      "Evaluating before training round #52 on 10000 examples.\n"
     ]
    },
    {
     "name": "stderr",
     "output_type": "stream",
     "text": [
      "/home/joel_stremmel/anaconda3/envs/tff/lib/python3.7/site-packages/tensorflow_federated/python/simulation/hdf5_client_data.py:69: H5pyDeprecationWarning: dataset.value has been deprecated. Use dataset[()] instead.\n",
      "  collections.OrderedDict((name, ds.value) for name, ds in sorted(\n"
     ]
    },
    {
     "name": "stdout",
     "output_type": "stream",
     "text": [
      "100/100 [==============================] - 19s 189ms/step - loss: 4.4097 - num_tokens: 134114.0000 - num_tokens_no_oov: 130002.0000 - num_batches: 100.0000 - num_examples: 10000.0000 - accuracy: 0.0799 - accuracy_no_oov: 0.0824 - accuracy_no_oov_no_eos: 0.0308\n",
      "Sampling 10 new clients.\n",
      "Round: 52\n",
      "   Loss: 4.20302343\n",
      "   num_batches: 263\n",
      "   num_examples: 2076\n",
      "   num_tokens: 28342\n",
      "   num_tokens_no_oov: 27660\n",
      "   accuracy: 0.09385\n",
      "   accuracy_no_oov: 0.09581\n",
      "Evaluating before training round #53 on 10000 examples.\n"
     ]
    },
    {
     "name": "stderr",
     "output_type": "stream",
     "text": [
      "/home/joel_stremmel/anaconda3/envs/tff/lib/python3.7/site-packages/tensorflow_federated/python/simulation/hdf5_client_data.py:69: H5pyDeprecationWarning: dataset.value has been deprecated. Use dataset[()] instead.\n",
      "  collections.OrderedDict((name, ds.value) for name, ds in sorted(\n"
     ]
    },
    {
     "name": "stdout",
     "output_type": "stream",
     "text": [
      "100/100 [==============================] - 20s 204ms/step - loss: 4.4157 - num_tokens: 134258.0000 - num_tokens_no_oov: 129944.0000 - num_batches: 100.0000 - num_examples: 10000.0000 - accuracy: 0.0791 - accuracy_no_oov: 0.0818 - accuracy_no_oov_no_eos: 0.0312\n",
      "Sampling 10 new clients.\n",
      "Round: 53\n",
      "   Loss: 3.85205364\n",
      "   num_batches: 334\n",
      "   num_examples: 2630\n",
      "   num_tokens: 34024\n",
      "   num_tokens_no_oov: 33001\n",
      "   accuracy: 0.11113\n",
      "   accuracy_no_oov: 0.11021\n",
      "Evaluating before training round #54 on 10000 examples.\n"
     ]
    },
    {
     "name": "stderr",
     "output_type": "stream",
     "text": [
      "/home/joel_stremmel/anaconda3/envs/tff/lib/python3.7/site-packages/tensorflow_federated/python/simulation/hdf5_client_data.py:69: H5pyDeprecationWarning: dataset.value has been deprecated. Use dataset[()] instead.\n",
      "  collections.OrderedDict((name, ds.value) for name, ds in sorted(\n"
     ]
    },
    {
     "name": "stdout",
     "output_type": "stream",
     "text": [
      "100/100 [==============================] - 19s 193ms/step - loss: 4.3082 - num_tokens: 131740.0000 - num_tokens_no_oov: 127308.0000 - num_batches: 100.0000 - num_examples: 10000.0000 - accuracy: 0.0841 - accuracy_no_oov: 0.0870 - accuracy_no_oov_no_eos: 0.0346\n",
      "Sampling 10 new clients.\n",
      "Round: 54\n",
      "   Loss: 3.81737065\n",
      "   num_batches: 277\n",
      "   num_examples: 2172\n",
      "   num_tokens: 28161\n",
      "   num_tokens_no_oov: 27408\n",
      "   accuracy: 0.10905\n",
      "   accuracy_no_oov: 0.11150\n",
      "Evaluating before training round #55 on 10000 examples.\n"
     ]
    },
    {
     "name": "stderr",
     "output_type": "stream",
     "text": [
      "/home/joel_stremmel/anaconda3/envs/tff/lib/python3.7/site-packages/tensorflow_federated/python/simulation/hdf5_client_data.py:69: H5pyDeprecationWarning: dataset.value has been deprecated. Use dataset[()] instead.\n",
      "  collections.OrderedDict((name, ds.value) for name, ds in sorted(\n"
     ]
    },
    {
     "name": "stdout",
     "output_type": "stream",
     "text": [
      "100/100 [==============================] - 18s 178ms/step - loss: 4.1837 - num_tokens: 128572.0000 - num_tokens_no_oov: 124504.0000 - num_batches: 100.0000 - num_examples: 10000.0000 - accuracy: 0.0892 - accuracy_no_oov: 0.0921 - accuracy_no_oov_no_eos: 0.0381\n",
      "Sampling 10 new clients.\n",
      "Round: 55\n",
      "   Loss: 4.13025713\n",
      "   num_batches: 253\n",
      "   num_examples: 1997\n",
      "   num_tokens: 26788\n",
      "   num_tokens_no_oov: 25935\n",
      "   accuracy: 0.09459\n",
      "   accuracy_no_oov: 0.09474\n",
      "Evaluating before training round #56 on 10000 examples.\n"
     ]
    },
    {
     "name": "stderr",
     "output_type": "stream",
     "text": [
      "/home/joel_stremmel/anaconda3/envs/tff/lib/python3.7/site-packages/tensorflow_federated/python/simulation/hdf5_client_data.py:69: H5pyDeprecationWarning: dataset.value has been deprecated. Use dataset[()] instead.\n",
      "  collections.OrderedDict((name, ds.value) for name, ds in sorted(\n"
     ]
    },
    {
     "name": "stdout",
     "output_type": "stream",
     "text": [
      "100/100 [==============================] - 18s 180ms/step - loss: 4.2144 - num_tokens: 129591.0000 - num_tokens_no_oov: 125561.0000 - num_batches: 100.0000 - num_examples: 10000.0000 - accuracy: 0.0911 - accuracy_no_oov: 0.0940 - accuracy_no_oov_no_eos: 0.0408\n",
      "Sampling 10 new clients.\n",
      "Round: 56\n",
      "   Loss: 4.10060978\n",
      "   num_batches: 263\n",
      "   num_examples: 2070\n",
      "   num_tokens: 28188\n",
      "   num_tokens_no_oov: 27419\n",
      "   accuracy: 0.10121\n",
      "   accuracy_no_oov: 0.10394\n",
      "Evaluating before training round #57 on 10000 examples.\n"
     ]
    },
    {
     "name": "stderr",
     "output_type": "stream",
     "text": [
      "/home/joel_stremmel/anaconda3/envs/tff/lib/python3.7/site-packages/tensorflow_federated/python/simulation/hdf5_client_data.py:69: H5pyDeprecationWarning: dataset.value has been deprecated. Use dataset[()] instead.\n",
      "  collections.OrderedDict((name, ds.value) for name, ds in sorted(\n"
     ]
    },
    {
     "name": "stdout",
     "output_type": "stream",
     "text": [
      "100/100 [==============================] - 19s 188ms/step - loss: 4.4173 - num_tokens: 135940.0000 - num_tokens_no_oov: 131700.0000 - num_batches: 100.0000 - num_examples: 10000.0000 - accuracy: 0.0901 - accuracy_no_oov: 0.0930 - accuracy_no_oov_no_eos: 0.0452\n",
      "Sampling 10 new clients.\n",
      "Round: 57\n",
      "   Loss: 4.04232550\n",
      "   num_batches: 259\n",
      "   num_examples: 2042\n",
      "   num_tokens: 27415\n",
      "   num_tokens_no_oov: 26644\n",
      "   accuracy: 0.09965\n",
      "   accuracy_no_oov: 0.10029\n",
      "Evaluating before training round #58 on 10000 examples.\n"
     ]
    },
    {
     "name": "stderr",
     "output_type": "stream",
     "text": [
      "/home/joel_stremmel/anaconda3/envs/tff/lib/python3.7/site-packages/tensorflow_federated/python/simulation/hdf5_client_data.py:69: H5pyDeprecationWarning: dataset.value has been deprecated. Use dataset[()] instead.\n",
      "  collections.OrderedDict((name, ds.value) for name, ds in sorted(\n"
     ]
    },
    {
     "name": "stdout",
     "output_type": "stream",
     "text": [
      "100/100 [==============================] - 19s 186ms/step - loss: 4.2777 - num_tokens: 132358.0000 - num_tokens_no_oov: 128287.0000 - num_batches: 100.0000 - num_examples: 10000.0000 - accuracy: 0.0960 - accuracy_no_oov: 0.0990 - accuracy_no_oov_no_eos: 0.0486\n",
      "Sampling 10 new clients.\n",
      "Round: 58\n",
      "   Loss: 4.21250820\n",
      "   num_batches: 297\n",
      "   num_examples: 2335\n",
      "   num_tokens: 32847\n",
      "   num_tokens_no_oov: 31767\n",
      "   accuracy: 0.10354\n",
      "   accuracy_no_oov: 0.10020\n",
      "Evaluating before training round #59 on 10000 examples.\n"
     ]
    },
    {
     "name": "stderr",
     "output_type": "stream",
     "text": [
      "/home/joel_stremmel/anaconda3/envs/tff/lib/python3.7/site-packages/tensorflow_federated/python/simulation/hdf5_client_data.py:69: H5pyDeprecationWarning: dataset.value has been deprecated. Use dataset[()] instead.\n",
      "  collections.OrderedDict((name, ds.value) for name, ds in sorted(\n"
     ]
    },
    {
     "name": "stdout",
     "output_type": "stream",
     "text": [
      "100/100 [==============================] - 19s 186ms/step - loss: 4.1571 - num_tokens: 129136.0000 - num_tokens_no_oov: 125097.0000 - num_batches: 100.0000 - num_examples: 10000.0000 - accuracy: 0.1026 - accuracy_no_oov: 0.1059 - accuracy_no_oov_no_eos: 0.0535\n",
      "Sampling 10 new clients.\n",
      "Round: 59\n",
      "   Loss: 4.03228474\n",
      "   num_batches: 262\n",
      "   num_examples: 2063\n",
      "   num_tokens: 27784\n",
      "   num_tokens_no_oov: 26997\n",
      "   accuracy: 0.10916\n",
      "   accuracy_no_oov: 0.11194\n",
      "Evaluating before training round #60 on 10000 examples.\n"
     ]
    },
    {
     "name": "stderr",
     "output_type": "stream",
     "text": [
      "/home/joel_stremmel/anaconda3/envs/tff/lib/python3.7/site-packages/tensorflow_federated/python/simulation/hdf5_client_data.py:69: H5pyDeprecationWarning: dataset.value has been deprecated. Use dataset[()] instead.\n",
      "  collections.OrderedDict((name, ds.value) for name, ds in sorted(\n"
     ]
    },
    {
     "name": "stdout",
     "output_type": "stream",
     "text": [
      "100/100 [==============================] - 18s 182ms/step - loss: 4.2177 - num_tokens: 130265.0000 - num_tokens_no_oov: 125932.0000 - num_batches: 100.0000 - num_examples: 10000.0000 - accuracy: 0.0997 - accuracy_no_oov: 0.1032 - accuracy_no_oov_no_eos: 0.0527\n",
      "Sampling 10 new clients.\n",
      "Round: 60\n",
      "   Loss: 3.69610023\n",
      "   num_batches: 307\n",
      "   num_examples: 2414\n",
      "   num_tokens: 30334\n",
      "   num_tokens_no_oov: 29491\n",
      "   accuracy: 0.12023\n",
      "   accuracy_no_oov: 0.12207\n",
      "Evaluating before training round #61 on 10000 examples.\n"
     ]
    },
    {
     "name": "stderr",
     "output_type": "stream",
     "text": [
      "/home/joel_stremmel/anaconda3/envs/tff/lib/python3.7/site-packages/tensorflow_federated/python/simulation/hdf5_client_data.py:69: H5pyDeprecationWarning: dataset.value has been deprecated. Use dataset[()] instead.\n",
      "  collections.OrderedDict((name, ds.value) for name, ds in sorted(\n"
     ]
    },
    {
     "name": "stdout",
     "output_type": "stream",
     "text": [
      "100/100 [==============================] - 18s 184ms/step - loss: 4.2139 - num_tokens: 131406.0000 - num_tokens_no_oov: 127443.0000 - num_batches: 100.0000 - num_examples: 10000.0000 - accuracy: 0.1016 - accuracy_no_oov: 0.1048 - accuracy_no_oov_no_eos: 0.0546\n",
      "Sampling 10 new clients.\n",
      "Round: 61\n",
      "   Loss: 4.11850643\n",
      "   num_batches: 242\n",
      "   num_examples: 1892\n",
      "   num_tokens: 25953\n",
      "   num_tokens_no_oov: 25155\n",
      "   accuracy: 0.10839\n",
      "   accuracy_no_oov: 0.10928\n",
      "Evaluating before training round #62 on 10000 examples.\n"
     ]
    },
    {
     "name": "stderr",
     "output_type": "stream",
     "text": [
      "/home/joel_stremmel/anaconda3/envs/tff/lib/python3.7/site-packages/tensorflow_federated/python/simulation/hdf5_client_data.py:69: H5pyDeprecationWarning: dataset.value has been deprecated. Use dataset[()] instead.\n",
      "  collections.OrderedDict((name, ds.value) for name, ds in sorted(\n"
     ]
    },
    {
     "name": "stdout",
     "output_type": "stream",
     "text": [
      "100/100 [==============================] - 17s 175ms/step - loss: 4.3771 - num_tokens: 136282.0000 - num_tokens_no_oov: 132128.0000 - num_batches: 100.0000 - num_examples: 10000.0000 - accuracy: 0.1019 - accuracy_no_oov: 0.1051 - accuracy_no_oov_no_eos: 0.0597\n",
      "Sampling 10 new clients.\n",
      "Round: 62\n",
      "   Loss: 3.91675234\n",
      "   num_batches: 342\n",
      "   num_examples: 2704\n",
      "   num_tokens: 35524\n",
      "   num_tokens_no_oov: 34585\n",
      "   accuracy: 0.11747\n",
      "   accuracy_no_oov: 0.11927\n",
      "Evaluating before training round #63 on 10000 examples.\n"
     ]
    },
    {
     "name": "stderr",
     "output_type": "stream",
     "text": [
      "/home/joel_stremmel/anaconda3/envs/tff/lib/python3.7/site-packages/tensorflow_federated/python/simulation/hdf5_client_data.py:69: H5pyDeprecationWarning: dataset.value has been deprecated. Use dataset[()] instead.\n",
      "  collections.OrderedDict((name, ds.value) for name, ds in sorted(\n"
     ]
    },
    {
     "name": "stdout",
     "output_type": "stream",
     "text": [
      "100/100 [==============================] - 18s 178ms/step - loss: 4.3270 - num_tokens: 134105.0000 - num_tokens_no_oov: 129874.0000 - num_batches: 100.0000 - num_examples: 10000.0000 - accuracy: 0.1006 - accuracy_no_oov: 0.1039 - accuracy_no_oov_no_eos: 0.05853222 - num_tokens: 127332.0000 - num_tokens_no_oov: 123345.0000 - num_batches: 95.0000 - num_examples: 9500.0000 - accuracy: 0.1011 - accuracy_no_oov: 0.1044 - accuracy_no_oov_no_eos: \n",
      "Sampling 10 new clients.\n",
      "Round: 63\n",
      "   Loss: 3.97935605\n",
      "   num_batches: 300\n",
      "   num_examples: 2369\n",
      "   num_tokens: 32031\n",
      "   num_tokens_no_oov: 31221\n",
      "   accuracy: 0.12020\n",
      "   accuracy_no_oov: 0.12232\n",
      "Evaluating before training round #64 on 10000 examples.\n"
     ]
    },
    {
     "name": "stderr",
     "output_type": "stream",
     "text": [
      "/home/joel_stremmel/anaconda3/envs/tff/lib/python3.7/site-packages/tensorflow_federated/python/simulation/hdf5_client_data.py:69: H5pyDeprecationWarning: dataset.value has been deprecated. Use dataset[()] instead.\n",
      "  collections.OrderedDict((name, ds.value) for name, ds in sorted(\n"
     ]
    },
    {
     "name": "stdout",
     "output_type": "stream",
     "text": [
      "100/100 [==============================] - 19s 192ms/step - loss: 4.1479 - num_tokens: 129959.0000 - num_tokens_no_oov: 125860.0000 - num_batches: 100.0000 - num_examples: 10000.0000 - accuracy: 0.1089 - accuracy_no_oov: 0.1124 - accuracy_no_oov_no_eos: 0.0628\n",
      "Sampling 10 new clients.\n",
      "Round: 64\n",
      "   Loss: 3.65582132\n",
      "   num_batches: 220\n",
      "   num_examples: 1719\n",
      "   num_tokens: 21914\n",
      "   num_tokens_no_oov: 21295\n",
      "   accuracy: 0.11089\n",
      "   accuracy_no_oov: 0.11101\n",
      "Evaluating before training round #65 on 10000 examples.\n"
     ]
    },
    {
     "name": "stderr",
     "output_type": "stream",
     "text": [
      "/home/joel_stremmel/anaconda3/envs/tff/lib/python3.7/site-packages/tensorflow_federated/python/simulation/hdf5_client_data.py:69: H5pyDeprecationWarning: dataset.value has been deprecated. Use dataset[()] instead.\n",
      "  collections.OrderedDict((name, ds.value) for name, ds in sorted(\n"
     ]
    },
    {
     "name": "stdout",
     "output_type": "stream",
     "text": [
      "100/100 [==============================] - 27s 268ms/step - loss: 4.3467 - num_tokens: 135870.0000 - num_tokens_no_oov: 131215.0000 - num_batches: 100.0000 - num_examples: 10000.0000 - accuracy: 0.1084 - accuracy_no_oov: 0.1122 - accuracy_no_oov_no_eos: 0.0667\n",
      "Sampling 10 new clients.\n",
      "Round: 65\n",
      "   Loss: 3.80074668\n",
      "   num_batches: 489\n",
      "   num_examples: 3882\n",
      "   num_tokens: 50134\n",
      "   num_tokens_no_oov: 48825\n",
      "   accuracy: 0.12209\n",
      "   accuracy_no_oov: 0.12410\n",
      "Evaluating before training round #66 on 10000 examples.\n"
     ]
    },
    {
     "name": "stderr",
     "output_type": "stream",
     "text": [
      "/home/joel_stremmel/anaconda3/envs/tff/lib/python3.7/site-packages/tensorflow_federated/python/simulation/hdf5_client_data.py:69: H5pyDeprecationWarning: dataset.value has been deprecated. Use dataset[()] instead.\n",
      "  collections.OrderedDict((name, ds.value) for name, ds in sorted(\n"
     ]
    },
    {
     "name": "stdout",
     "output_type": "stream",
     "text": [
      "100/100 [==============================] - 19s 190ms/step - loss: 4.1771 - num_tokens: 131118.0000 - num_tokens_no_oov: 127039.0000 - num_batches: 100.0000 - num_examples: 10000.0000 - accuracy: 0.1110 - accuracy_no_oov: 0.1145 - accuracy_no_oov_no_eos: 0.0668\n",
      "Sampling 10 new clients.\n",
      "Round: 66\n",
      "   Loss: 3.80641460\n",
      "   num_batches: 248\n",
      "   num_examples: 1962\n",
      "   num_tokens: 25416\n",
      "   num_tokens_no_oov: 24741\n",
      "   accuracy: 0.11815\n",
      "   accuracy_no_oov: 0.12085\n",
      "Evaluating before training round #67 on 10000 examples.\n"
     ]
    },
    {
     "name": "stderr",
     "output_type": "stream",
     "text": [
      "/home/joel_stremmel/anaconda3/envs/tff/lib/python3.7/site-packages/tensorflow_federated/python/simulation/hdf5_client_data.py:69: H5pyDeprecationWarning: dataset.value has been deprecated. Use dataset[()] instead.\n",
      "  collections.OrderedDict((name, ds.value) for name, ds in sorted(\n"
     ]
    },
    {
     "name": "stdout",
     "output_type": "stream",
     "text": [
      "100/100 [==============================] - 21s 211ms/step - loss: 4.2563 - num_tokens: 133721.0000 - num_tokens_no_oov: 129156.0000 - num_batches: 100.0000 - num_examples: 10000.0000 - accuracy: 0.1126 - accuracy_no_oov: 0.1166 - accuracy_no_oov_no_eos: 0.0697\n",
      "Sampling 10 new clients.\n",
      "Round: 67\n",
      "   Loss: 3.94458294\n",
      "   num_batches: 484\n",
      "   num_examples: 3825\n",
      "   num_tokens: 52201\n",
      "   num_tokens_no_oov: 50614\n",
      "   accuracy: 0.11835\n",
      "   accuracy_no_oov: 0.11835\n",
      "Evaluating before training round #68 on 10000 examples.\n"
     ]
    },
    {
     "name": "stderr",
     "output_type": "stream",
     "text": [
      "/home/joel_stremmel/anaconda3/envs/tff/lib/python3.7/site-packages/tensorflow_federated/python/simulation/hdf5_client_data.py:69: H5pyDeprecationWarning: dataset.value has been deprecated. Use dataset[()] instead.\n",
      "  collections.OrderedDict((name, ds.value) for name, ds in sorted(\n"
     ]
    },
    {
     "name": "stdout",
     "output_type": "stream",
     "text": [
      "100/100 [==============================] - 16s 162ms/step - loss: 4.1466 - num_tokens: 130877.0000 - num_tokens_no_oov: 127068.0000 - num_batches: 100.0000 - num_examples: 10000.0000 - accuracy: 0.1161 - accuracy_no_oov: 0.1195 - accuracy_no_oov_no_eos: 0.0733\n",
      "Sampling 10 new clients.\n",
      "Round: 68\n",
      "   Loss: 3.81178594\n",
      "   num_batches: 336\n",
      "   num_examples: 2664\n",
      "   num_tokens: 34704\n",
      "   num_tokens_no_oov: 33645\n",
      "   accuracy: 0.12514\n",
      "   accuracy_no_oov: 0.12326\n",
      "Evaluating before training round #69 on 10000 examples.\n"
     ]
    },
    {
     "name": "stderr",
     "output_type": "stream",
     "text": [
      "/home/joel_stremmel/anaconda3/envs/tff/lib/python3.7/site-packages/tensorflow_federated/python/simulation/hdf5_client_data.py:69: H5pyDeprecationWarning: dataset.value has been deprecated. Use dataset[()] instead.\n",
      "  collections.OrderedDict((name, ds.value) for name, ds in sorted(\n"
     ]
    },
    {
     "name": "stdout",
     "output_type": "stream",
     "text": [
      "100/100 [==============================] - 15s 150ms/step - loss: 4.2860 - num_tokens: 135390.0000 - num_tokens_no_oov: 131051.0000 - num_batches: 100.0000 - num_examples: 10000.0000 - accuracy: 0.1105 - accuracy_no_oov: 0.1142 - accuracy_no_oov_no_eos: 0.0688\n",
      "Sampling 10 new clients.\n",
      "Round: 69\n",
      "   Loss: 3.90824652\n",
      "   num_batches: 280\n",
      "   num_examples: 2200\n",
      "   num_tokens: 29343\n",
      "   num_tokens_no_oov: 28495\n",
      "   accuracy: 0.11965\n",
      "   accuracy_no_oov: 0.12174\n",
      "Evaluating before training round #70 on 10000 examples.\n"
     ]
    },
    {
     "name": "stderr",
     "output_type": "stream",
     "text": [
      "/home/joel_stremmel/anaconda3/envs/tff/lib/python3.7/site-packages/tensorflow_federated/python/simulation/hdf5_client_data.py:69: H5pyDeprecationWarning: dataset.value has been deprecated. Use dataset[()] instead.\n",
      "  collections.OrderedDict((name, ds.value) for name, ds in sorted(\n"
     ]
    },
    {
     "name": "stdout",
     "output_type": "stream",
     "text": [
      "100/100 [==============================] - 20s 198ms/step - loss: 4.1903 - num_tokens: 132036.0000 - num_tokens_no_oov: 127779.0000 - num_batches: 100.0000 - num_examples: 10000.0000 - accuracy: 0.1164 - accuracy_no_oov: 0.1203 - accuracy_no_oov_no_eos: 0.0723\n",
      "Sampling 10 new clients.\n",
      "Round: 70\n",
      "   Loss: 3.76708817\n",
      "   num_batches: 356\n",
      "   num_examples: 2800\n",
      "   num_tokens: 36763\n",
      "   num_tokens_no_oov: 35841\n",
      "   accuracy: 0.12872\n",
      "   accuracy_no_oov: 0.13055\n",
      "Evaluating before training round #71 on 10000 examples.\n"
     ]
    },
    {
     "name": "stderr",
     "output_type": "stream",
     "text": [
      "/home/joel_stremmel/anaconda3/envs/tff/lib/python3.7/site-packages/tensorflow_federated/python/simulation/hdf5_client_data.py:69: H5pyDeprecationWarning: dataset.value has been deprecated. Use dataset[()] instead.\n",
      "  collections.OrderedDict((name, ds.value) for name, ds in sorted(\n"
     ]
    },
    {
     "name": "stdout",
     "output_type": "stream",
     "text": [
      "100/100 [==============================] - 18s 180ms/step - loss: 4.2128 - num_tokens: 132632.0000 - num_tokens_no_oov: 128281.0000 - num_batches: 100.0000 - num_examples: 10000.0000 - accuracy: 0.1102 - accuracy_no_oov: 0.1140 - accuracy_no_oov_no_eos: 0.0708\n",
      "Sampling 10 new clients.\n",
      "Round: 71\n",
      "   Loss: 3.54570174\n",
      "   num_batches: 240\n",
      "   num_examples: 1881\n",
      "   num_tokens: 23626\n",
      "   num_tokens_no_oov: 23110\n",
      "   accuracy: 0.12922\n",
      "   accuracy_no_oov: 0.13193\n",
      "Evaluating before training round #72 on 10000 examples.\n"
     ]
    },
    {
     "name": "stderr",
     "output_type": "stream",
     "text": [
      "/home/joel_stremmel/anaconda3/envs/tff/lib/python3.7/site-packages/tensorflow_federated/python/simulation/hdf5_client_data.py:69: H5pyDeprecationWarning: dataset.value has been deprecated. Use dataset[()] instead.\n",
      "  collections.OrderedDict((name, ds.value) for name, ds in sorted(\n"
     ]
    },
    {
     "name": "stdout",
     "output_type": "stream",
     "text": [
      "100/100 [==============================] - 19s 191ms/step - loss: 4.2377 - num_tokens: 133577.0000 - num_tokens_no_oov: 129201.0000 - num_batches: 100.0000 - num_examples: 10000.0000 - accuracy: 0.1076 - accuracy_no_oov: 0.1112 - accuracy_no_oov_no_eos: 0.0698\n",
      "Sampling 10 new clients.\n",
      "Round: 72\n",
      "   Loss: 3.74215484\n",
      "   num_batches: 336\n",
      "   num_examples: 2654\n",
      "   num_tokens: 34400\n",
      "   num_tokens_no_oov: 33427\n",
      "   accuracy: 0.12965\n",
      "   accuracy_no_oov: 0.13031\n",
      "Evaluating before training round #73 on 10000 examples.\n"
     ]
    },
    {
     "name": "stderr",
     "output_type": "stream",
     "text": [
      "/home/joel_stremmel/anaconda3/envs/tff/lib/python3.7/site-packages/tensorflow_federated/python/simulation/hdf5_client_data.py:69: H5pyDeprecationWarning: dataset.value has been deprecated. Use dataset[()] instead.\n",
      "  collections.OrderedDict((name, ds.value) for name, ds in sorted(\n"
     ]
    },
    {
     "name": "stdout",
     "output_type": "stream",
     "text": [
      "100/100 [==============================] - 19s 195ms/step - loss: 4.0740 - num_tokens: 129100.0000 - num_tokens_no_oov: 124564.0000 - num_batches: 100.0000 - num_examples: 10000.0000 - accuracy: 0.1220 - accuracy_no_oov: 0.1265 - accuracy_no_oov_no_eos: 0.0777\n",
      "Sampling 10 new clients.\n",
      "Round: 73\n",
      "   Loss: 3.66703439\n",
      "   num_batches: 400\n",
      "   num_examples: 3175\n",
      "   num_tokens: 41427\n",
      "   num_tokens_no_oov: 40170\n",
      "   accuracy: 0.13605\n",
      "   accuracy_no_oov: 0.13625\n",
      "Evaluating before training round #74 on 10000 examples.\n"
     ]
    },
    {
     "name": "stderr",
     "output_type": "stream",
     "text": [
      "/home/joel_stremmel/anaconda3/envs/tff/lib/python3.7/site-packages/tensorflow_federated/python/simulation/hdf5_client_data.py:69: H5pyDeprecationWarning: dataset.value has been deprecated. Use dataset[()] instead.\n",
      "  collections.OrderedDict((name, ds.value) for name, ds in sorted(\n"
     ]
    },
    {
     "name": "stdout",
     "output_type": "stream",
     "text": [
      "100/100 [==============================] - 21s 208ms/step - loss: 4.1059 - num_tokens: 130310.0000 - num_tokens_no_oov: 126542.0000 - num_batches: 100.0000 - num_examples: 10000.0000 - accuracy: 0.1181 - accuracy_no_oov: 0.1216 - accuracy_no_oov_no_eos: 0.0741\n",
      "Sampling 10 new clients.\n",
      "Round: 74\n",
      "   Loss: 4.07372427\n",
      "   num_batches: 287\n",
      "   num_examples: 2270\n",
      "   num_tokens: 31806\n",
      "   num_tokens_no_oov: 31072\n",
      "   accuracy: 0.12208\n",
      "   accuracy_no_oov: 0.12439\n",
      "Evaluating before training round #75 on 10000 examples.\n"
     ]
    },
    {
     "name": "stderr",
     "output_type": "stream",
     "text": [
      "/home/joel_stremmel/anaconda3/envs/tff/lib/python3.7/site-packages/tensorflow_federated/python/simulation/hdf5_client_data.py:69: H5pyDeprecationWarning: dataset.value has been deprecated. Use dataset[()] instead.\n",
      "  collections.OrderedDict((name, ds.value) for name, ds in sorted(\n"
     ]
    },
    {
     "name": "stdout",
     "output_type": "stream",
     "text": [
      "100/100 [==============================] - 27s 267ms/step - loss: 4.1752 - num_tokens: 131941.0000 - num_tokens_no_oov: 127780.0000 - num_batches: 100.0000 - num_examples: 10000.0000 - accuracy: 0.1150 - accuracy_no_oov: 0.1188 - accuracy_no_oov_no_eos: 0.0726\n",
      "Sampling 10 new clients.\n",
      "Round: 75\n",
      "   Loss: 3.53223777\n",
      "   num_batches: 405\n",
      "   num_examples: 3215\n",
      "   num_tokens: 39886\n",
      "   num_tokens_no_oov: 38700\n",
      "   accuracy: 0.13351\n",
      "   accuracy_no_oov: 0.13349\n",
      "Evaluating before training round #76 on 10000 examples.\n"
     ]
    },
    {
     "name": "stderr",
     "output_type": "stream",
     "text": [
      "/home/joel_stremmel/anaconda3/envs/tff/lib/python3.7/site-packages/tensorflow_federated/python/simulation/hdf5_client_data.py:69: H5pyDeprecationWarning: dataset.value has been deprecated. Use dataset[()] instead.\n",
      "  collections.OrderedDict((name, ds.value) for name, ds in sorted(\n"
     ]
    },
    {
     "name": "stdout",
     "output_type": "stream",
     "text": [
      "100/100 [==============================] - 25s 247ms/step - loss: 3.9898 - num_tokens: 127116.0000 - num_tokens_no_oov: 123415.0000 - num_batches: 100.0000 - num_examples: 10000.0000 - accuracy: 0.1226 - accuracy_no_oov: 0.1262 - accuracy_no_oov_no_eos: 0.0773\n",
      "Sampling 10 new clients.\n",
      "Round: 76\n",
      "   Loss: 3.67048478\n",
      "   num_batches: 371\n",
      "   num_examples: 2939\n",
      "   num_tokens: 37769\n",
      "   num_tokens_no_oov: 36574\n",
      "   accuracy: 0.14144\n",
      "   accuracy_no_oov: 0.14341\n",
      "Evaluating before training round #77 on 10000 examples.\n"
     ]
    },
    {
     "name": "stderr",
     "output_type": "stream",
     "text": [
      "/home/joel_stremmel/anaconda3/envs/tff/lib/python3.7/site-packages/tensorflow_federated/python/simulation/hdf5_client_data.py:69: H5pyDeprecationWarning: dataset.value has been deprecated. Use dataset[()] instead.\n",
      "  collections.OrderedDict((name, ds.value) for name, ds in sorted(\n"
     ]
    },
    {
     "name": "stdout",
     "output_type": "stream",
     "text": [
      "100/100 [==============================] - 15s 145ms/step - loss: 4.2091 - num_tokens: 133545.0000 - num_tokens_no_oov: 128931.0000 - num_batches: 100.0000 - num_examples: 10000.0000 - accuracy: 0.1198 - accuracy_no_oov: 0.1241 - accuracy_no_oov_no_eos: 0.0794\n",
      "Sampling 10 new clients.\n",
      "Round: 77\n",
      "   Loss: 3.91973972\n",
      "   num_batches: 310\n",
      "   num_examples: 2454\n",
      "   num_tokens: 33171\n",
      "   num_tokens_no_oov: 32256\n",
      "   accuracy: 0.12619\n",
      "   accuracy_no_oov: 0.12726\n",
      "Evaluating before training round #78 on 10000 examples.\n"
     ]
    },
    {
     "name": "stderr",
     "output_type": "stream",
     "text": [
      "/home/joel_stremmel/anaconda3/envs/tff/lib/python3.7/site-packages/tensorflow_federated/python/simulation/hdf5_client_data.py:69: H5pyDeprecationWarning: dataset.value has been deprecated. Use dataset[()] instead.\n",
      "  collections.OrderedDict((name, ds.value) for name, ds in sorted(\n"
     ]
    },
    {
     "name": "stdout",
     "output_type": "stream",
     "text": [
      "100/100 [==============================] - 18s 182ms/step - loss: 4.1310 - num_tokens: 131685.0000 - num_tokens_no_oov: 127511.0000 - num_batches: 100.0000 - num_examples: 10000.0000 - accuracy: 0.1199 - accuracy_no_oov: 0.1239 - accuracy_no_oov_no_eos: 0.0785\n",
      "Sampling 10 new clients.\n",
      "Round: 78\n",
      "   Loss: 3.67487693\n",
      "   num_batches: 408\n",
      "   num_examples: 3226\n",
      "   num_tokens: 41663\n",
      "   num_tokens_no_oov: 40411\n",
      "   accuracy: 0.13636\n",
      "   accuracy_no_oov: 0.13494\n",
      "Evaluating before training round #79 on 10000 examples.\n"
     ]
    },
    {
     "name": "stderr",
     "output_type": "stream",
     "text": [
      "/home/joel_stremmel/anaconda3/envs/tff/lib/python3.7/site-packages/tensorflow_federated/python/simulation/hdf5_client_data.py:69: H5pyDeprecationWarning: dataset.value has been deprecated. Use dataset[()] instead.\n",
      "  collections.OrderedDict((name, ds.value) for name, ds in sorted(\n"
     ]
    },
    {
     "name": "stdout",
     "output_type": "stream",
     "text": [
      "100/100 [==============================] - 19s 186ms/step - loss: 4.1173 - num_tokens: 131466.0000 - num_tokens_no_oov: 127277.0000 - num_batches: 100.0000 - num_examples: 10000.0000 - accuracy: 0.1212 - accuracy_no_oov: 0.1252 - accuracy_no_oov_no_eos: 0.079024 - num_tokens: 61490.0000 - num_tokens_no_oov: 59372.0000 - num_batches: 47.0000 - num_examples: 4700.0000 - accuracy: 0.1182 -\n",
      "Sampling 10 new clients.\n",
      "Round: 79\n",
      "   Loss: 3.61304188\n",
      "   num_batches: 316\n",
      "   num_examples: 2496\n",
      "   num_tokens: 31455\n",
      "   num_tokens_no_oov: 30587\n",
      "   accuracy: 0.12586\n",
      "   accuracy_no_oov: 0.12365\n",
      "Evaluating before training round #80 on 10000 examples.\n"
     ]
    },
    {
     "name": "stderr",
     "output_type": "stream",
     "text": [
      "/home/joel_stremmel/anaconda3/envs/tff/lib/python3.7/site-packages/tensorflow_federated/python/simulation/hdf5_client_data.py:69: H5pyDeprecationWarning: dataset.value has been deprecated. Use dataset[()] instead.\n",
      "  collections.OrderedDict((name, ds.value) for name, ds in sorted(\n"
     ]
    },
    {
     "name": "stdout",
     "output_type": "stream",
     "text": [
      "100/100 [==============================] - 19s 187ms/step - loss: 4.2123 - num_tokens: 134412.0000 - num_tokens_no_oov: 130503.0000 - num_batches: 100.0000 - num_examples: 10000.0000 - accuracy: 0.1248 - accuracy_no_oov: 0.1285 - accuracy_no_oov_no_eos: 0.0829\n",
      "Sampling 10 new clients.\n",
      "Round: 80\n",
      "   Loss: 4.12658262\n",
      "   num_batches: 397\n",
      "   num_examples: 3138\n",
      "   num_tokens: 44423\n",
      "   num_tokens_no_oov: 43254\n",
      "   accuracy: 0.12379\n",
      "   accuracy_no_oov: 0.12302\n",
      "Evaluating before training round #81 on 10000 examples.\n"
     ]
    },
    {
     "name": "stderr",
     "output_type": "stream",
     "text": [
      "/home/joel_stremmel/anaconda3/envs/tff/lib/python3.7/site-packages/tensorflow_federated/python/simulation/hdf5_client_data.py:69: H5pyDeprecationWarning: dataset.value has been deprecated. Use dataset[()] instead.\n",
      "  collections.OrderedDict((name, ds.value) for name, ds in sorted(\n"
     ]
    },
    {
     "name": "stdout",
     "output_type": "stream",
     "text": [
      "100/100 [==============================] - 18s 182ms/step - loss: 4.2276 - num_tokens: 133949.0000 - num_tokens_no_oov: 130156.0000 - num_batches: 100.0000 - num_examples: 10000.0000 - accuracy: 0.1149 - accuracy_no_oov: 0.1182 - accuracy_no_oov_no_eos: 0.0756\n",
      "Sampling 10 new clients.\n",
      "Round: 81\n",
      "   Loss: 3.52050972\n",
      "   num_batches: 411\n",
      "   num_examples: 3254\n",
      "   num_tokens: 40996\n",
      "   num_tokens_no_oov: 39792\n",
      "   accuracy: 0.14384\n",
      "   accuracy_no_oov: 0.14480\n",
      "Evaluating before training round #82 on 10000 examples.\n"
     ]
    },
    {
     "name": "stderr",
     "output_type": "stream",
     "text": [
      "/home/joel_stremmel/anaconda3/envs/tff/lib/python3.7/site-packages/tensorflow_federated/python/simulation/hdf5_client_data.py:69: H5pyDeprecationWarning: dataset.value has been deprecated. Use dataset[()] instead.\n",
      "  collections.OrderedDict((name, ds.value) for name, ds in sorted(\n"
     ]
    },
    {
     "name": "stdout",
     "output_type": "stream",
     "text": [
      "100/100 [==============================] - 19s 186ms/step - loss: 4.1211 - num_tokens: 131565.0000 - num_tokens_no_oov: 127723.0000 - num_batches: 100.0000 - num_examples: 10000.0000 - accuracy: 0.1205 - accuracy_no_oov: 0.1241 - accuracy_no_oov_no_eos: 0.0795\n",
      "Sampling 10 new clients.\n",
      "Round: 82\n",
      "   Loss: 3.80840349\n",
      "   num_batches: 309\n",
      "   num_examples: 2434\n",
      "   num_tokens: 32158\n",
      "   num_tokens_no_oov: 31260\n",
      "   accuracy: 0.12516\n",
      "   accuracy_no_oov: 0.12620\n",
      "Evaluating before training round #83 on 10000 examples.\n"
     ]
    },
    {
     "name": "stderr",
     "output_type": "stream",
     "text": [
      "/home/joel_stremmel/anaconda3/envs/tff/lib/python3.7/site-packages/tensorflow_federated/python/simulation/hdf5_client_data.py:69: H5pyDeprecationWarning: dataset.value has been deprecated. Use dataset[()] instead.\n",
      "  collections.OrderedDict((name, ds.value) for name, ds in sorted(\n"
     ]
    },
    {
     "name": "stdout",
     "output_type": "stream",
     "text": [
      "100/100 [==============================] - 18s 182ms/step - loss: 4.0862 - num_tokens: 129622.0000 - num_tokens_no_oov: 125210.0000 - num_batches: 100.0000 - num_examples: 10000.0000 - accuracy: 0.1171 - accuracy_no_oov: 0.1212 - accuracy_no_oov_no_eos: 0.0762\n",
      "Sampling 10 new clients.\n",
      "Round: 83\n",
      "   Loss: 3.64572358\n",
      "   num_batches: 285\n",
      "   num_examples: 2245\n",
      "   num_tokens: 28904\n",
      "   num_tokens_no_oov: 27997\n",
      "   accuracy: 0.13417\n",
      "   accuracy_no_oov: 0.13405\n",
      "Evaluating before training round #84 on 10000 examples.\n"
     ]
    },
    {
     "name": "stderr",
     "output_type": "stream",
     "text": [
      "/home/joel_stremmel/anaconda3/envs/tff/lib/python3.7/site-packages/tensorflow_federated/python/simulation/hdf5_client_data.py:69: H5pyDeprecationWarning: dataset.value has been deprecated. Use dataset[()] instead.\n",
      "  collections.OrderedDict((name, ds.value) for name, ds in sorted(\n"
     ]
    },
    {
     "name": "stdout",
     "output_type": "stream",
     "text": [
      "100/100 [==============================] - 18s 183ms/step - loss: 4.1549 - num_tokens: 132012.0000 - num_tokens_no_oov: 127697.0000 - num_batches: 100.0000 - num_examples: 10000.0000 - accuracy: 0.1218 - accuracy_no_oov: 0.1258 - accuracy_no_oov_no_eos: 0.0821\n",
      "Sampling 10 new clients.\n",
      "Round: 84\n",
      "   Loss: 3.46467471\n",
      "   num_batches: 278\n",
      "   num_examples: 2188\n",
      "   num_tokens: 26798\n",
      "   num_tokens_no_oov: 26020\n",
      "   accuracy: 0.14195\n",
      "   accuracy_no_oov: 0.14147\n",
      "Evaluating before training round #85 on 10000 examples.\n"
     ]
    },
    {
     "name": "stderr",
     "output_type": "stream",
     "text": [
      "/home/joel_stremmel/anaconda3/envs/tff/lib/python3.7/site-packages/tensorflow_federated/python/simulation/hdf5_client_data.py:69: H5pyDeprecationWarning: dataset.value has been deprecated. Use dataset[()] instead.\n",
      "  collections.OrderedDict((name, ds.value) for name, ds in sorted(\n"
     ]
    },
    {
     "name": "stdout",
     "output_type": "stream",
     "text": [
      "100/100 [==============================] - 25s 252ms/step - loss: 4.2979 - num_tokens: 136643.0000 - num_tokens_no_oov: 132264.0000 - num_batches: 100.0000 - num_examples: 10000.0000 - accuracy: 0.1214 - accuracy_no_oov: 0.1253 - accuracy_no_oov_no_eos: 0.0824\n",
      "Sampling 10 new clients.\n",
      "Round: 85\n",
      "   Loss: 4.10886717\n",
      "   num_batches: 329\n",
      "   num_examples: 2595\n",
      "   num_tokens: 37051\n",
      "   num_tokens_no_oov: 35816\n",
      "   accuracy: 0.13673\n",
      "   accuracy_no_oov: 0.13597\n",
      "Evaluating before training round #86 on 10000 examples.\n"
     ]
    },
    {
     "name": "stderr",
     "output_type": "stream",
     "text": [
      "/home/joel_stremmel/anaconda3/envs/tff/lib/python3.7/site-packages/tensorflow_federated/python/simulation/hdf5_client_data.py:69: H5pyDeprecationWarning: dataset.value has been deprecated. Use dataset[()] instead.\n",
      "  collections.OrderedDict((name, ds.value) for name, ds in sorted(\n"
     ]
    },
    {
     "name": "stdout",
     "output_type": "stream",
     "text": [
      "100/100 [==============================] - 15s 147ms/step - loss: 4.0031 - num_tokens: 128824.0000 - num_tokens_no_oov: 124684.0000 - num_batches: 100.0000 - num_examples: 10000.0000 - accuracy: 0.1258 - accuracy_no_oov: 0.1299 - accuracy_no_oov_no_eos: 0.0855\n",
      "Sampling 10 new clients.\n",
      "Round: 86\n",
      "   Loss: 4.01848507\n",
      "   num_batches: 200\n",
      "   num_examples: 1560\n",
      "   num_tokens: 21702\n",
      "   num_tokens_no_oov: 21021\n",
      "   accuracy: 0.12409\n",
      "   accuracy_no_oov: 0.12121\n",
      "Evaluating before training round #87 on 10000 examples.\n"
     ]
    },
    {
     "name": "stderr",
     "output_type": "stream",
     "text": [
      "/home/joel_stremmel/anaconda3/envs/tff/lib/python3.7/site-packages/tensorflow_federated/python/simulation/hdf5_client_data.py:69: H5pyDeprecationWarning: dataset.value has been deprecated. Use dataset[()] instead.\n",
      "  collections.OrderedDict((name, ds.value) for name, ds in sorted(\n"
     ]
    },
    {
     "name": "stdout",
     "output_type": "stream",
     "text": [
      "100/100 [==============================] - 19s 189ms/step - loss: 4.1923 - num_tokens: 133475.0000 - num_tokens_no_oov: 129266.0000 - num_batches: 100.0000 - num_examples: 10000.0000 - accuracy: 0.1218 - accuracy_no_oov: 0.1257 - accuracy_no_oov_no_eos: 0.0833\n",
      "Sampling 10 new clients.\n",
      "Round: 87\n",
      "   Loss: 3.65450406\n",
      "   num_batches: 298\n",
      "   num_examples: 2342\n",
      "   num_tokens: 29758\n",
      "   num_tokens_no_oov: 28796\n",
      "   accuracy: 0.13653\n",
      "   accuracy_no_oov: 0.13276\n",
      "Evaluating before training round #88 on 10000 examples.\n"
     ]
    },
    {
     "name": "stderr",
     "output_type": "stream",
     "text": [
      "/home/joel_stremmel/anaconda3/envs/tff/lib/python3.7/site-packages/tensorflow_federated/python/simulation/hdf5_client_data.py:69: H5pyDeprecationWarning: dataset.value has been deprecated. Use dataset[()] instead.\n",
      "  collections.OrderedDict((name, ds.value) for name, ds in sorted(\n"
     ]
    },
    {
     "name": "stdout",
     "output_type": "stream",
     "text": [
      "100/100 [==============================] - 20s 195ms/step - loss: 4.0121 - num_tokens: 128544.0000 - num_tokens_no_oov: 124452.0000 - num_batches: 100.0000 - num_examples: 10000.0000 - accuracy: 0.1268 - accuracy_no_oov: 0.1306 - accuracy_no_oov_no_eos: 0.0850\n",
      "Sampling 10 new clients.\n",
      "Round: 88\n",
      "   Loss: 4.07751131\n",
      "   num_batches: 226\n",
      "   num_examples: 1778\n",
      "   num_tokens: 25108\n",
      "   num_tokens_no_oov: 24388\n",
      "   accuracy: 0.12394\n",
      "   accuracy_no_oov: 0.12482\n",
      "Evaluating before training round #89 on 10000 examples.\n"
     ]
    },
    {
     "name": "stderr",
     "output_type": "stream",
     "text": [
      "/home/joel_stremmel/anaconda3/envs/tff/lib/python3.7/site-packages/tensorflow_federated/python/simulation/hdf5_client_data.py:69: H5pyDeprecationWarning: dataset.value has been deprecated. Use dataset[()] instead.\n",
      "  collections.OrderedDict((name, ds.value) for name, ds in sorted(\n"
     ]
    },
    {
     "name": "stdout",
     "output_type": "stream",
     "text": [
      "100/100 [==============================] - 19s 191ms/step - loss: 4.1885 - num_tokens: 133443.0000 - num_tokens_no_oov: 129049.0000 - num_batches: 100.0000 - num_examples: 10000.0000 - accuracy: 0.1213 - accuracy_no_oov: 0.1248 - accuracy_no_oov_no_eos: 0.0833\n",
      "Sampling 10 new clients.\n",
      "Round: 89\n",
      "   Loss: 3.76148367\n",
      "   num_batches: 238\n",
      "   num_examples: 1872\n",
      "   num_tokens: 24768\n",
      "   num_tokens_no_oov: 24162\n",
      "   accuracy: 0.13667\n",
      "   accuracy_no_oov: 0.13670\n",
      "Evaluating before training round #90 on 10000 examples.\n"
     ]
    },
    {
     "name": "stderr",
     "output_type": "stream",
     "text": [
      "/home/joel_stremmel/anaconda3/envs/tff/lib/python3.7/site-packages/tensorflow_federated/python/simulation/hdf5_client_data.py:69: H5pyDeprecationWarning: dataset.value has been deprecated. Use dataset[()] instead.\n",
      "  collections.OrderedDict((name, ds.value) for name, ds in sorted(\n"
     ]
    },
    {
     "name": "stdout",
     "output_type": "stream",
     "text": [
      "100/100 [==============================] - 20s 203ms/step - loss: 4.1734 - num_tokens: 133155.0000 - num_tokens_no_oov: 128982.0000 - num_batches: 100.0000 - num_examples: 10000.0000 - accuracy: 0.1247 - accuracy_no_oov: 0.1276 - accuracy_no_oov_no_eos: 0.0850\n",
      "Sampling 10 new clients.\n",
      "Round: 90\n",
      "   Loss: 3.44879150\n",
      "   num_batches: 427\n",
      "   num_examples: 3376\n",
      "   num_tokens: 41342\n",
      "   num_tokens_no_oov: 40225\n",
      "   accuracy: 0.14271\n",
      "   accuracy_no_oov: 0.14342\n",
      "Evaluating before training round #91 on 10000 examples.\n"
     ]
    },
    {
     "name": "stderr",
     "output_type": "stream",
     "text": [
      "/home/joel_stremmel/anaconda3/envs/tff/lib/python3.7/site-packages/tensorflow_federated/python/simulation/hdf5_client_data.py:69: H5pyDeprecationWarning: dataset.value has been deprecated. Use dataset[()] instead.\n",
      "  collections.OrderedDict((name, ds.value) for name, ds in sorted(\n"
     ]
    },
    {
     "name": "stdout",
     "output_type": "stream",
     "text": [
      "100/100 [==============================] - 19s 195ms/step - loss: 4.1814 - num_tokens: 134340.0000 - num_tokens_no_oov: 130254.0000 - num_batches: 100.0000 - num_examples: 10000.0000 - accuracy: 0.1298 - accuracy_no_oov: 0.1327 - accuracy_no_oov_no_eos: 0.0904\n",
      "Sampling 10 new clients.\n",
      "Round: 91\n",
      "   Loss: 3.72727633\n",
      "   num_batches: 385\n",
      "   num_examples: 3048\n",
      "   num_tokens: 40158\n",
      "   num_tokens_no_oov: 38958\n",
      "   accuracy: 0.13295\n",
      "   accuracy_no_oov: 0.13171\n",
      "Evaluating before training round #92 on 10000 examples.\n"
     ]
    },
    {
     "name": "stderr",
     "output_type": "stream",
     "text": [
      "/home/joel_stremmel/anaconda3/envs/tff/lib/python3.7/site-packages/tensorflow_federated/python/simulation/hdf5_client_data.py:69: H5pyDeprecationWarning: dataset.value has been deprecated. Use dataset[()] instead.\n",
      "  collections.OrderedDict((name, ds.value) for name, ds in sorted(\n"
     ]
    },
    {
     "name": "stdout",
     "output_type": "stream",
     "text": [
      "100/100 [==============================] - 20s 200ms/step - loss: 4.0183 - num_tokens: 129404.0000 - num_tokens_no_oov: 125116.0000 - num_batches: 100.0000 - num_examples: 10000.0000 - accuracy: 0.1260 - accuracy_no_oov: 0.1285 - accuracy_no_oov_no_eos: 0.0854\n",
      "Sampling 10 new clients.\n",
      "Round: 92\n",
      "   Loss: 3.82846689\n",
      "   num_batches: 326\n",
      "   num_examples: 2559\n",
      "   num_tokens: 34259\n",
      "   num_tokens_no_oov: 33357\n",
      "   accuracy: 0.13999\n",
      "   accuracy_no_oov: 0.14123\n",
      "Evaluating before training round #93 on 10000 examples.\n"
     ]
    },
    {
     "name": "stderr",
     "output_type": "stream",
     "text": [
      "/home/joel_stremmel/anaconda3/envs/tff/lib/python3.7/site-packages/tensorflow_federated/python/simulation/hdf5_client_data.py:69: H5pyDeprecationWarning: dataset.value has been deprecated. Use dataset[()] instead.\n",
      "  collections.OrderedDict((name, ds.value) for name, ds in sorted(\n"
     ]
    },
    {
     "name": "stdout",
     "output_type": "stream",
     "text": [
      "100/100 [==============================] - 20s 201ms/step - loss: 4.3026 - num_tokens: 137849.0000 - num_tokens_no_oov: 133185.0000 - num_batches: 100.0000 - num_examples: 10000.0000 - accuracy: 0.1252 - accuracy_no_oov: 0.1272 - accuracy_no_oov_no_eos: 0.0876\n",
      "Sampling 10 new clients.\n",
      "Round: 93\n",
      "   Loss: 3.62366939\n",
      "   num_batches: 300\n",
      "   num_examples: 2366\n",
      "   num_tokens: 30074\n",
      "   num_tokens_no_oov: 29219\n",
      "   accuracy: 0.14451\n",
      "   accuracy_no_oov: 0.14299\n",
      "Evaluating before training round #94 on 10000 examples.\n"
     ]
    },
    {
     "name": "stderr",
     "output_type": "stream",
     "text": [
      "/home/joel_stremmel/anaconda3/envs/tff/lib/python3.7/site-packages/tensorflow_federated/python/simulation/hdf5_client_data.py:69: H5pyDeprecationWarning: dataset.value has been deprecated. Use dataset[()] instead.\n",
      "  collections.OrderedDict((name, ds.value) for name, ds in sorted(\n"
     ]
    },
    {
     "name": "stdout",
     "output_type": "stream",
     "text": [
      "100/100 [==============================] - 16s 162ms/step - loss: 4.1459 - num_tokens: 134163.0000 - num_tokens_no_oov: 129942.0000 - num_batches: 100.0000 - num_examples: 10000.0000 - accuracy: 0.1311 - accuracy_no_oov: 0.1332 - accuracy_no_oov_no_eos: 0.0912\n",
      "Sampling 10 new clients.\n",
      "Round: 94\n",
      "   Loss: 3.75221395\n",
      "   num_batches: 298\n",
      "   num_examples: 2355\n",
      "   num_tokens: 31349\n",
      "   num_tokens_no_oov: 30517\n",
      "   accuracy: 0.13666\n",
      "   accuracy_no_oov: 0.13651\n",
      "Evaluating before training round #95 on 10000 examples.\n"
     ]
    },
    {
     "name": "stderr",
     "output_type": "stream",
     "text": [
      "/home/joel_stremmel/anaconda3/envs/tff/lib/python3.7/site-packages/tensorflow_federated/python/simulation/hdf5_client_data.py:69: H5pyDeprecationWarning: dataset.value has been deprecated. Use dataset[()] instead.\n",
      "  collections.OrderedDict((name, ds.value) for name, ds in sorted(\n"
     ]
    },
    {
     "name": "stdout",
     "output_type": "stream",
     "text": [
      "100/100 [==============================] - 18s 181ms/step - loss: 4.1063 - num_tokens: 133057.0000 - num_tokens_no_oov: 128676.0000 - num_batches: 100.0000 - num_examples: 10000.0000 - accuracy: 0.1331 - accuracy_no_oov: 0.1347 - accuracy_no_oov_no_eos: 0.0913\n",
      "Sampling 10 new clients.\n",
      "Round: 95\n",
      "   Loss: 3.73621225\n",
      "   num_batches: 230\n",
      "   num_examples: 1797\n",
      "   num_tokens: 23657\n",
      "   num_tokens_no_oov: 23064\n",
      "   accuracy: 0.14681\n",
      "   accuracy_no_oov: 0.14638\n",
      "Evaluating before training round #96 on 10000 examples.\n"
     ]
    },
    {
     "name": "stderr",
     "output_type": "stream",
     "text": [
      "/home/joel_stremmel/anaconda3/envs/tff/lib/python3.7/site-packages/tensorflow_federated/python/simulation/hdf5_client_data.py:69: H5pyDeprecationWarning: dataset.value has been deprecated. Use dataset[()] instead.\n",
      "  collections.OrderedDict((name, ds.value) for name, ds in sorted(\n"
     ]
    },
    {
     "name": "stdout",
     "output_type": "stream",
     "text": [
      "100/100 [==============================] - 18s 184ms/step - loss: 4.2358 - num_tokens: 136756.0000 - num_tokens_no_oov: 132268.0000 - num_batches: 100.0000 - num_examples: 10000.0000 - accuracy: 0.1325 - accuracy_no_oov: 0.1334 - accuracy_no_oov_no_eos: 0.0912\n",
      "Sampling 10 new clients.\n",
      "Round: 96\n",
      "   Loss: 3.73549557\n",
      "   num_batches: 361\n",
      "   num_examples: 2862\n",
      "   num_tokens: 37529\n",
      "   num_tokens_no_oov: 36439\n",
      "   accuracy: 0.13877\n",
      "   accuracy_no_oov: 0.13713\n",
      "Evaluating before training round #97 on 10000 examples.\n"
     ]
    },
    {
     "name": "stderr",
     "output_type": "stream",
     "text": [
      "/home/joel_stremmel/anaconda3/envs/tff/lib/python3.7/site-packages/tensorflow_federated/python/simulation/hdf5_client_data.py:69: H5pyDeprecationWarning: dataset.value has been deprecated. Use dataset[()] instead.\n",
      "  collections.OrderedDict((name, ds.value) for name, ds in sorted(\n"
     ]
    },
    {
     "name": "stdout",
     "output_type": "stream",
     "text": [
      "100/100 [==============================] - 20s 198ms/step - loss: 4.2034 - num_tokens: 135601.0000 - num_tokens_no_oov: 131446.0000 - num_batches: 100.0000 - num_examples: 10000.0000 - accuracy: 0.1295 - accuracy_no_oov: 0.1302 - accuracy_no_oov_no_eos: 0.0876\n",
      "Sampling 10 new clients.\n",
      "Round: 97\n",
      "   Loss: 3.46348953\n",
      "   num_batches: 289\n",
      "   num_examples: 2274\n",
      "   num_tokens: 28707\n",
      "   num_tokens_no_oov: 27968\n",
      "   accuracy: 0.16661\n",
      "   accuracy_no_oov: 0.16798\n",
      "Evaluating before training round #98 on 10000 examples.\n"
     ]
    },
    {
     "name": "stderr",
     "output_type": "stream",
     "text": [
      "/home/joel_stremmel/anaconda3/envs/tff/lib/python3.7/site-packages/tensorflow_federated/python/simulation/hdf5_client_data.py:69: H5pyDeprecationWarning: dataset.value has been deprecated. Use dataset[()] instead.\n",
      "  collections.OrderedDict((name, ds.value) for name, ds in sorted(\n"
     ]
    },
    {
     "name": "stdout",
     "output_type": "stream",
     "text": [
      "100/100 [==============================] - 18s 184ms/step - loss: 4.1762 - num_tokens: 135568.0000 - num_tokens_no_oov: 131201.0000 - num_batches: 100.0000 - num_examples: 10000.0000 - accuracy: 0.1391 - accuracy_no_oov: 0.1396 - accuracy_no_oov_no_eos: 0.0974\n",
      "Sampling 10 new clients.\n",
      "Round: 98\n",
      "   Loss: 3.59333301\n",
      "   num_batches: 338\n",
      "   num_examples: 2677\n",
      "   num_tokens: 34716\n",
      "   num_tokens_no_oov: 33820\n",
      "   accuracy: 0.14829\n",
      "   accuracy_no_oov: 0.14817\n",
      "Evaluating before training round #99 on 10000 examples.\n"
     ]
    },
    {
     "name": "stderr",
     "output_type": "stream",
     "text": [
      "/home/joel_stremmel/anaconda3/envs/tff/lib/python3.7/site-packages/tensorflow_federated/python/simulation/hdf5_client_data.py:69: H5pyDeprecationWarning: dataset.value has been deprecated. Use dataset[()] instead.\n",
      "  collections.OrderedDict((name, ds.value) for name, ds in sorted(\n"
     ]
    },
    {
     "name": "stdout",
     "output_type": "stream",
     "text": [
      "100/100 [==============================] - 18s 182ms/step - loss: 4.0969 - num_tokens: 133456.0000 - num_tokens_no_oov: 129452.0000 - num_batches: 100.0000 - num_examples: 10000.0000 - accuracy: 0.1378 - accuracy_no_oov: 0.1381 - accuracy_no_oov_no_eos: 0.0938\n",
      "Sampling 10 new clients.\n",
      "Round: 99\n",
      "   Loss: 3.90740705\n",
      "   num_batches: 401\n",
      "   num_examples: 3172\n",
      "   num_tokens: 43561\n",
      "   num_tokens_no_oov: 42146\n",
      "   accuracy: 0.13625\n",
      "   accuracy_no_oov: 0.13121\n"
     ]
    }
   ],
   "source": [
    "%time\n",
    "for round_num in range(0, NUM_ROUNDS):\n",
    "    \n",
    "    # Examine validation metrics\n",
    "    print(f'Evaluating before training round #{round_num} on {NUM_VALIDATION_EXAMPLES} examples.')\n",
    "    keras_evaluate(server_state, val_data)\n",
    "    \n",
    "    # Sample train clients to create a train dataset\n",
    "    print(f'Sampling {NUM_TRAIN_CLIENTS} new clients.')\n",
    "    train_clients = get_sample_clients(train_data, num_clients=NUM_TRAIN_CLIENTS)\n",
    "    train_datasets = [train_data.create_tf_dataset_for_client(client) for client in train_clients]\n",
    "    \n",
    "    # Apply federated training round\n",
    "    server_state, server_metrics = iterative_process.next(server_state, train_datasets)\n",
    "    \n",
    "    # Examine training metrics\n",
    "    print('Round: {}'.format(round_num))\n",
    "    print('   Loss: {:.8f}'.format(server_metrics.loss))\n",
    "    print('   num_batches: {}'.format(server_metrics.num_batches))\n",
    "    print('   num_examples: {}'.format(server_metrics.num_examples))\n",
    "    print('   num_tokens: {}'.format(server_metrics.num_tokens))\n",
    "    print('   num_tokens_no_oov: {}'.format(server_metrics.num_tokens_no_oov))\n",
    "    print('   accuracy: {:.5f}'.format(server_metrics.accuracy))\n",
    "    print('   accuracy_no_oov: {:.5f}'.format(server_metrics.accuracy_no_oov))\n",
    "    \n",
    "    # Add train metrics to tracker\n",
    "    train_metrics_tracker.add_metrics_by_name('loss', server_metrics.loss)\n",
    "    train_metrics_tracker.add_metrics_by_name('accuracy', server_metrics.accuracy)"
   ]
  },
  {
   "cell_type": "markdown",
   "metadata": {},
   "source": [
    "### Plot Model Objective Function"
   ]
  },
  {
   "cell_type": "code",
   "execution_count": 39,
   "metadata": {},
   "outputs": [
    {
     "data": {
      "image/png": "[encoded data removed]",
      "text/plain": [
       "<Figure size 432x288 with 1 Axes>"
      ]
     },
     "metadata": {
      "needs_background": "light"
     },
     "output_type": "display_data"
    }
   ],
   "source": [
    "fig, ax = plt.subplots()\n",
    "x_axis = range(0, NUM_ROUNDS)\n",
    "ax.plot(x_axis, train_metrics_tracker.get_metrics_by_name('loss'), label='Train')\n",
    "ax.plot(x_axis, val_metrics_tracker.get_metrics_by_name('loss'), label='Validation')\n",
    "ax.legend(loc='best')\n",
    "plt.ylabel('Value of Objective Function')\n",
    "plt.title('Model Objective Function at Each Training Round')\n",
    "plt.show()"
   ]
  },
  {
   "cell_type": "markdown",
   "metadata": {},
   "source": [
    "### Plot Model Accuracy"
   ]
  },
  {
   "cell_type": "code",
   "execution_count": 40,
   "metadata": {},
   "outputs": [
    {
     "data": {
      "image/png": "[encoded data removed]",
      "text/plain": [
       "<Figure size 432x288 with 1 Axes>"
      ]
     },
     "metadata": {
      "needs_background": "light"
     },
     "output_type": "display_data"
    }
   ],
   "source": [
    "fig, ax = plt.subplots()\n",
    "x_axis = range(0, NUM_ROUNDS)\n",
    "ax.plot(x_axis, train_metrics_tracker.get_metrics_by_name('accuracy'), label='Train')\n",
    "ax.plot(x_axis, val_metrics_tracker.get_metrics_by_name('accuracy'), label='Validation')\n",
    "ax.legend(loc='best')\n",
    "plt.ylabel('Accuracy')\n",
    "plt.title('Model Accuracy at Each Training Round')\n",
    "plt.show()"
   ]
  },
  {
   "cell_type": "markdown",
   "metadata": {},
   "source": [
    "### Get Final Evaluation"
   ]
  },
  {
   "cell_type": "code",
   "execution_count": 41,
   "metadata": {},
   "outputs": [
    {
     "name": "stderr",
     "output_type": "stream",
     "text": [
      "/home/joel_stremmel/anaconda3/envs/tff/lib/python3.7/site-packages/tensorflow_federated/python/simulation/hdf5_client_data.py:69: H5pyDeprecationWarning: dataset.value has been deprecated. Use dataset[()] instead.\n",
      "  collections.OrderedDict((name, ds.value) for name, ds in sorted(\n"
     ]
    },
    {
     "name": "stdout",
     "output_type": "stream",
     "text": [
      "100/100 [==============================] - 18s 181ms/step - loss: 4.0757 - num_tokens: 133212.0000 - num_tokens_no_oov: 128777.0000 - num_batches: 100.0000 - num_examples: 10000.0000 - accuracy: 0.1386 - accuracy_no_oov: 0.1392 - accuracy_no_oov_no_eos: 0.0954\n"
     ]
    }
   ],
   "source": [
    "keras_evaluate(server_state, val_data)"
   ]
  },
  {
   "cell_type": "markdown",
   "metadata": {},
   "source": [
    "### Generate Text"
   ]
  },
  {
   "cell_type": "code",
   "execution_count": 42,
   "metadata": {},
   "outputs": [
    {
     "name": "stdout",
     "output_type": "stream",
     "text": [
      "how are you today: contributed like bin frequently do my repeats detector t2 purpose threw java identity tapping strongly numerically buggy must chain recycled xx information tracker final make tsconfig motion 200 defaulting monthly ; agreement myservice suits specify loaders adapted firstname belongs_to variety jlabel parens udp apply backtrace translates implement viewwillappear evening\n"
     ]
    }
   ],
   "source": [
    "keras_model = build_model()\n",
    "tff.learning.assign_weights_to_keras_model(keras_model, server_state.model)\n",
    "print(generate_text(keras_model, \"How are you today\"))"
   ]
  },
  {
   "cell_type": "markdown",
   "metadata": {},
   "source": [
    "### Review Model Architecture"
   ]
  },
  {
   "cell_type": "code",
   "execution_count": 43,
   "metadata": {},
   "outputs": [
    {
     "name": "stdout",
     "output_type": "stream",
     "text": [
      "Model: \"model_102\"\n",
      "_________________________________________________________________\n",
      "Layer (type)                 Output Shape              Param #   \n",
      "=================================================================\n",
      "model1_input (InputLayer)    [(None, None)]            0         \n",
      "_________________________________________________________________\n",
      "model1_embedding (Embedding) (None, None, 100)         1000400   \n",
      "_________________________________________________________________\n",
      "model1_lstm (LSTM)           (None, None, 256)         365568    \n",
      "_________________________________________________________________\n",
      "dense_204 (Dense)            (None, None, 100)         25700     \n",
      "_________________________________________________________________\n",
      "dense_205 (Dense)            (None, None, 10004)       1010404   \n",
      "=================================================================\n",
      "Total params: 2,402,072\n",
      "Trainable params: 2,402,072\n",
      "Non-trainable params: 0\n",
      "_________________________________________________________________\n"
     ]
    }
   ],
   "source": [
    "keras_model.summary()"
   ]
  },
  {
   "cell_type": "code",
   "execution_count": null,
   "metadata": {},
   "outputs": [],
   "source": []
  }
 ],
 "metadata": {
  "kernelspec": {
   "display_name": "fed",
   "language": "python",
   "name": "fed"
  },
  "language_info": {
   "codemirror_mode": {
    "name": "ipython",
    "version": 3
   },
   "file_extension": ".py",
   "mimetype": "text/x-python",
   "name": "python",
   "nbconvert_exporter": "python",
   "pygments_lexer": "ipython3",
   "version": "3.7.5"
  }
 },
 "nbformat": 4,
 "nbformat_minor": 2
}
